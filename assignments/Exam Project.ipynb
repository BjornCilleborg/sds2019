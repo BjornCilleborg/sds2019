{
 "cells": [
  {
   "cell_type": "markdown",
   "metadata": {},
   "source": [
    "# Notes\n",
    "\n",
    "**Focus on**:\n",
    "- Quality of data\n",
    "- Log your data and calls when using data scraping\n",
    "- Creativity\n",
    "- Visualization (explanatory figures), simple is better\n",
    "- Be critical of your data collection and generating process\n",
    "    - Bias\n",
    "    - Missing data\n",
    "    - Internal and external validity\n",
    "    - Data collection type (random, survey, big data, other)\n",
    "- Less focus on the analytical section and more on the collection and presentation\n",
    "\n",
    "### Reflect on the ethical aspect\n",
    "- Do yourespectprivacy? \n",
    "- Can single individualsbeidentified? \n",
    "- What are the potential consequences?\n",
    "- Are there ethical considerations?\n",
    "    - With respect to individuals? \n",
    "    - With respectto firmsor organizations?\n",
    "- Consider the GDPR:\n",
    "    - Is it anonymous? \n",
    "    - Personal data or statistics?\n",
    "    - Any change of re-identification?"
   ]
  },
  {
   "cell_type": "markdown",
   "metadata": {},
   "source": [
    "### Project ideas\n",
    "\n",
    "- Factor based investing (use google or yahoo finance API)\n",
    "- Trump tweet correlation with stock market\n",
    "- Don't use LinkedIn\n",
    "- \n"
   ]
  },
  {
   "cell_type": "markdown",
   "metadata": {},
   "source": [
    "### Logging\n",
    "\n",
    "- Log your calls, use it to determine success ratio\n",
    "    - Where did the call fail? Rewrite code.\n",
    "    - Don't be greedy. time.sleep(0.5) between each call.\n"
   ]
  },
  {
   "cell_type": "code",
   "execution_count": 5,
   "metadata": {},
   "outputs": [
    {
     "name": "stdout",
     "output_type": "stream",
     "text": [
      "Help on package twitter:\n",
      "\n",
      "NAME\n",
      "    twitter - A library that provides a Python interface to the Twitter API.\n",
      "\n",
      "PACKAGE CONTENTS\n",
      "    _file_cache\n",
      "    api\n",
      "    debug\n",
      "    error\n",
      "    models\n",
      "    parse_tweet\n",
      "    ratelimit\n",
      "    twitter_utils\n",
      "\n",
      "FUNCTIONS\n",
      "    md5 = openssl_md5(...)\n",
      "        Returns a md5 hash object; optionally initialized with a string\n",
      "\n",
      "DATA\n",
      "    __copyright__ = 'Copyright (c) 2007-2016 The Python-Twitter Developers...\n",
      "    __description__ = 'A Python wrapper around the Twitter API'\n",
      "    __download_url__ = 'https://pypi.python.org/pypi/python-twitter'\n",
      "    __email__ = 'python-twitter@googlegroups.com'\n",
      "    __license__ = 'Apache License 2.0'\n",
      "    __url__ = 'https://github.com/bear/python-twitter'\n",
      "    absolute_import = _Feature((2, 5, 0, 'alpha', 1), (3, 0, 0, 'alpha', 0...\n",
      "\n",
      "VERSION\n",
      "    3.5\n",
      "\n",
      "AUTHOR\n",
      "    The Python-Twitter Developers\n",
      "\n",
      "FILE\n",
      "    c:\\users\\bjorn\\anaconda3\\lib\\site-packages\\twitter\\__init__.py\n",
      "\n",
      "\n"
     ]
    }
   ],
   "source": [
    "import twitter\n",
    "help(twitter)"
   ]
  },
  {
   "cell_type": "code",
   "execution_count": null,
   "metadata": {},
   "outputs": [],
   "source": []
  }
 ],
 "metadata": {
  "kernelspec": {
   "display_name": "Python 3",
   "language": "python",
   "name": "python3"
  },
  "language_info": {
   "codemirror_mode": {
    "name": "ipython",
    "version": 3
   },
   "file_extension": ".py",
   "mimetype": "text/x-python",
   "name": "python",
   "nbconvert_exporter": "python",
   "pygments_lexer": "ipython3",
   "version": "3.7.3"
  }
 },
 "nbformat": 4,
 "nbformat_minor": 2
}
