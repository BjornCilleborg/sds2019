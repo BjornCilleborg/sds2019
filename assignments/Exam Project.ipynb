{
 "cells": [
  {
   "cell_type": "markdown",
   "metadata": {},
   "source": [
    "# Notes\n",
    "\n",
    "**Focus on**:\n",
    "- Quality of data\n",
    "- Log your data and calls\n",
    "- Creativity\n",
    "- Visualization (explanatory figures), simple is better\n",
    "- Be critical of your data collection and generating process\n",
    "    - Bias\n",
    "    - Missing data\n",
    "    - Internal and external validity\n",
    "    - Data collection type (random, survey, big data, other)\n",
    "- Less focus on the analytical section and more on the collection and presentation"
   ]
  },
  {
   "cell_type": "markdown",
   "metadata": {},
   "source": [
    "### Project ideas:\n",
    "\n",
    "- Factor based investing (use google or yahoo finance API)\n",
    "- Trump tweet correlation with stock market\n",
    "- Don't use LinkedIn\n",
    "- \n"
   ]
  },
  {
   "cell_type": "code",
   "execution_count": null,
   "metadata": {},
   "outputs": [],
   "source": []
  }
 ],
 "metadata": {
  "kernelspec": {
   "display_name": "Python 3",
   "language": "python",
   "name": "python3"
  },
  "language_info": {
   "codemirror_mode": {
    "name": "ipython",
    "version": 3
   },
   "file_extension": ".py",
   "mimetype": "text/x-python",
   "name": "python",
   "nbconvert_exporter": "python",
   "pygments_lexer": "ipython3",
   "version": "3.7.3"
  }
 },
 "nbformat": 4,
 "nbformat_minor": 2
}
