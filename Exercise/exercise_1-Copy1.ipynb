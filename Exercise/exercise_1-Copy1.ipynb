{
 "cells": [
  {
   "cell_type": "markdown",
   "metadata": {},
   "source": [
    "> **Note:** In most sessions you will be solving exercises posed in a Jupyter notebook that looks like this one. Because you are cloning a Github repository that only we can push to, you should **NEVER EDIT** any of the files you pull from Github. Instead, what you should do, is either make a new notebook and write your solutions in there, or **make a copy of this notebook and save it somewhere else** on your computer, not inside the `sds` folder that you cloned, so you can write your answers in there. If you edit the notebook you pulled from Github, those edits (possible your solutions to the exercises) may be overwritten and lost the next time you pull from Github. This is important, so don't hesitate to ask if it is unclear."
   ]
  },
  {
   "cell_type": "markdown",
   "metadata": {
    "ExecuteTime": {
     "end_time": "2017-08-23T15:30:03.634114Z",
     "start_time": "2017-08-23T15:30:03.629294Z"
    }
   },
   "source": [
    "# Exercise set 1: Introduction to Python\n",
    "\n",
    "*Morning, August 12, 2019*\n",
    "\n",
    "In this session you will be working with core Python. We will go over some of the basic operations and functions in Python. You will learn to set up a `for` loop and write your own function."
   ]
  },
  {
   "cell_type": "markdown",
   "metadata": {},
   "source": [
    "### Exercise Section 1.0.: Check modules are working\n",
    "\n",
    "Run the cell below to check you have all the relevant packages installed. You should get a scatter plot of `total_bill` and `tip` in the dataset `tips`."
   ]
  },
  {
   "cell_type": "code",
   "execution_count": 1,
   "metadata": {},
   "outputs": [
    {
     "data": {
      "text/plain": [
       "<Figure size 600x600 with 3 Axes>"
      ]
     },
     "metadata": {},
     "output_type": "display_data"
    }
   ],
   "source": [
    "# This part import the relevant packages \n",
    "import matplotlib.pyplot as plt\n",
    "import numpy as np\n",
    "import pandas as pd\n",
    "import requests\n",
    "import seaborn as sns\n",
    "\n",
    "# We load the dataset 'tips' from the seaborn package, and call the dataset tips\n",
    "tips = sns.load_dataset('tips')\n",
    "# We use seaborn to make a jointplot, with total_bill on the x-axis and tip on the y-axis, form the dataset tips.\n",
    "sns.jointplot(x='total_bill', y='tip', data=tips)\n",
    "\n",
    "# The plot is displayed\n",
    "plt.show()"
   ]
  },
  {
   "cell_type": "markdown",
   "metadata": {},
   "source": [
    "## Exercises"
   ]
  },
  {
   "cell_type": "markdown",
   "metadata": {},
   "source": [
    "### Exercise Section 1.1: Basic operations and functions\n",
    "We start with some simple procedures for core Python."
   ]
  },
  {
   "cell_type": "markdown",
   "metadata": {},
   "source": [
    "> **Ex. 1.1.1**: Division in Python has two ways of usage. What is the output of `5/2`?  What is the output of `5//2`? What is the fundamental data type for each of the two operations? Explain your results.\n",
    "\n",
    "> Note: Python 2 and 3 are different on what `/` does to integers! "
   ]
  },
  {
   "cell_type": "code",
   "execution_count": 2,
   "metadata": {},
   "outputs": [
    {
     "name": "stdout",
     "output_type": "stream",
     "text": [
      "Calculating 5 divided by 2 is 2.5 using division\n",
      "Calculating 5 divided by 2 is 2 using floor division.\n"
     ]
    }
   ],
   "source": [
    "# [Answer to Ex. 1.1.1]\n",
    "Answer_111 = 5 / 2 # / is the operator for division\n",
    "print('Calculating 5 divided by 2 is', Answer_111, 'using division')\n",
    "Answer_111 = 5 //2 # // is the operator for floor division, i.e. it always rounds down to the nearest integer\n",
    "print('Calculating 5 divided by 2 is', Answer_111, 'using floor division.')"
   ]
  },
  {
   "cell_type": "markdown",
   "metadata": {},
   "source": [
    "> **Ex. 1.1.2\n",
    "**: What happens if we use the modulus operator instead, i.e. `5%2`? What is the output of `5**2`? Explain your answers."
   ]
  },
  {
   "cell_type": "code",
   "execution_count": 3,
   "metadata": {},
   "outputs": [
    {
     "name": "stdout",
     "output_type": "stream",
     "text": [
      "Using the modulus operator it returns 1 as the remainder of the division.\n"
     ]
    }
   ],
   "source": [
    "# [Answer to Ex. 1.1.2]\n",
    "Answer_112 = 5 % 2 # % is the modulus operator and returns the remainder of the divison\n",
    "print('Using the modulus operator it returns', Answer_112, 'as the remainder of the division.')"
   ]
  },
  {
   "cell_type": "markdown",
   "metadata": {},
   "source": [
    "> **Ex. 1.1.3**: use expressions `<`, `>`, `==`, `!=` to compare 4 to 6 (e.g. run `4<6`)- what are the input data types? What are the output data types?"
   ]
  },
  {
   "cell_type": "code",
   "execution_count": 4,
   "metadata": {},
   "outputs": [
    {
     "name": "stdout",
     "output_type": "stream",
     "text": [
      "The expression 4 smaller than 6 is True\n",
      "The expression 4 greater than 6 is False\n",
      "The expression 4 equal to 6 is False\n",
      "The expression 4 not equal to 6 is True\n",
      "Printing the types of 4, 6 and answers, respectively: <class 'int'> <class 'int'> <class 'bool'>\n"
     ]
    }
   ],
   "source": [
    "# [Answer to Ex. 1.1.3]\n",
    "Answer_113 = 4 < 6\n",
    "print('The expression 4 smaller than 6 is', Answer_113)\n",
    "Answer_113 = 4 > 6\n",
    "print('The expression 4 greater than 6 is', Answer_113)\n",
    "Answer_113 = 4 == 6\n",
    "print('The expression 4 equal to 6 is', Answer_113)\n",
    "Answer_113 = 4 != 6\n",
    "print('The expression 4 not equal to 6 is', Answer_113)\n",
    "print('Printing the types of 4, 6 and answers, respectively:', type(4), type(6), type(Answer_113))"
   ]
  },
  {
   "cell_type": "markdown",
   "metadata": {},
   "source": [
    "> **Ex. 1.1.4**: Use the functions `abs`, `round` to return the absolute value of -3.14159265 with 3 decimals."
   ]
  },
  {
   "cell_type": "code",
   "execution_count": 5,
   "metadata": {},
   "outputs": [
    {
     "name": "stdout",
     "output_type": "stream",
     "text": [
      "The absolute value rounded to three decimals is 3.142\n"
     ]
    }
   ],
   "source": [
    "# [Answer to Ex. 1.1.4]\n",
    "Answer_114 = round(abs(-3.14159265), 3)\n",
    "print('The absolute value rounded to three decimals is', Answer_114)\n"
   ]
  },
  {
   "cell_type": "markdown",
   "metadata": {},
   "source": [
    "### Exercise Section 1.2: Logic and loops"
   ]
  },
  {
   "cell_type": "markdown",
   "metadata": {},
   "source": [
    "> **Ex. 1.2.1**: `if` & `else`     \n",
    "    Imagine that we have a car that can fit 5 passengers, and we want to know, if the car can fit more passengers.    \n",
    "        Using 'if' and 'else', make a piece of code that prints out \"The car is full\" if *passengers* is 5 or more, and \"The car is not full yet\" if *passengers* are less than 5.\n",
    "\n",
    "> *Note*: Multiple conditions can be inserted with **elif** statement(s):\n"
   ]
  },
  {
   "cell_type": "code",
   "execution_count": 6,
   "metadata": {},
   "outputs": [
    {
     "data": {
      "text/plain": [
       "5"
      ]
     },
     "execution_count": 6,
     "metadata": {},
     "output_type": "execute_result"
    }
   ],
   "source": [
    "''' Example of a function from class '''\n",
    "def squared_plus_1(x): # takes input x\n",
    "    x_sq = x**2 # squared\n",
    "    return x_sq + 1 # plus one for output\n",
    "\n",
    "squared_plus_1(2)"
   ]
  },
  {
   "cell_type": "code",
   "execution_count": 10,
   "metadata": {},
   "outputs": [
    {
     "name": "stdout",
     "output_type": "stream",
     "text": [
      "Input the number of passengers:7\n",
      "The car is full.\n"
     ]
    }
   ],
   "source": [
    "# [Answer to Ex. 1.2.1]\n",
    "passengers = input('Input the number of passengers:')\n",
    "passengers = int(passengers) # Convert input to integer\n",
    "\n",
    "# Structured code - check passenger size\n",
    "if passengers >= 5:\n",
    "    print('The car is full.')\n",
    "elif passengers < 5:\n",
    "    print('The car is not full yet.')\n"
   ]
  },
  {
   "cell_type": "markdown",
   "metadata": {},
   "source": [
    "> **Ex. 1.2.2**: compute and print each element in the range 1 to 5 cubic (i.e. lifted to power 3) using a `for` loop \n",
    "\n",
    "> *Hint*: Python's `range` may be useful"
   ]
  },
  {
   "cell_type": "code",
   "execution_count": 90,
   "metadata": {},
   "outputs": [
    {
     "name": "stdout",
     "output_type": "stream",
     "text": [
      "1 cubed is 1\n",
      "2 cubed is 8\n",
      "3 cubed is 27\n",
      "4 cubed is 64\n",
      "5 cubed is 125\n"
     ]
    }
   ],
   "source": [
    "# [Answer to Ex. 1.2.2]\n",
    "for i in range(1,6):\n",
    "    Answer_112 = i ** 3\n",
    "    print(i, 'cubed is', Answer_112)"
   ]
  },
  {
   "cell_type": "markdown",
   "metadata": {},
   "source": [
    "> **Ex. 1.2.3**: Now make a  `while` loops that prints the square (i.e. lifted to power 2) of all the values from 1 to 12.\n",
    "\n",
    "> *Hint*: Add 1 to your iterator variable at the end of each loop. (You can use the += operator this)"
   ]
  },
  {
   "cell_type": "code",
   "execution_count": 18,
   "metadata": {},
   "outputs": [
    {
     "name": "stdout",
     "output_type": "stream",
     "text": [
      "1 cubed is 1\n",
      "2 cubed is 8\n",
      "3 cubed is 27\n",
      "4 cubed is 64\n",
      "5 cubed is 125\n",
      "6 cubed is 216\n",
      "7 cubed is 343\n",
      "8 cubed is 512\n",
      "9 cubed is 729\n",
      "10 cubed is 1000\n",
      "11 cubed is 1331\n",
      "12 cubed is 1728\n"
     ]
    }
   ],
   "source": [
    "# [Answer to Ex. 1.2.3]\n",
    "i = 1\n",
    "while (i<13):\n",
    "    Answer_123 = i ** 3\n",
    "    print(i, 'cubed is', Answer_123)\n",
    "    i += 1\n"
   ]
  },
  {
   "cell_type": "markdown",
   "metadata": {},
   "source": [
    "### Exercise Section 1.3: Container and arrays"
   ]
  },
  {
   "cell_type": "markdown",
   "metadata": {},
   "source": [
    "> **Ex. 1.3.1**: make two lists, `A` and `B` with respectively integers 2,3,1 and 3,7,4. What is the index of 3 in list Β?"
   ]
  },
  {
   "cell_type": "code",
   "execution_count": 32,
   "metadata": {},
   "outputs": [
    {
     "name": "stdout",
     "output_type": "stream",
     "text": [
      "The index value of 3 is 0\n"
     ]
    }
   ],
   "source": [
    "# [Answer to Ex. 1.3.1]\n",
    "A = [2,3,1]\n",
    "B = [3,7,4]\n",
    "print('The index value of 3 is', B.index(3)) # Return index of the value '3' in list B\n",
    "\n",
    "\n"
   ]
  },
  {
   "cell_type": "markdown",
   "metadata": {},
   "source": [
    "> **Ex. 1.3.2**: make a list `C` which consist of first `A`, then `B`. How might we describe this list? Convert `C` into a `numpy array` named `C_a`. What are the dimensions `C` after being converted to an array.\n",
    "\n",
    "> *Hint 1*: you must import `numpy` before you make the array\n",
    "\n",
    "> *Hint 2*: numpy arrays have the attribute `shape`."
   ]
  },
  {
   "cell_type": "code",
   "execution_count": 43,
   "metadata": {},
   "outputs": [
    {
     "name": "stdout",
     "output_type": "stream",
     "text": [
      "[2, 3, 1, 3, 7, 4]\n",
      "[2 3 1 3 7 4] with the type <class 'numpy.ndarray'> and shape (6,) returned as a tuple.\n"
     ]
    }
   ],
   "source": [
    "# [Answer to Ex. 1.3.2]\n",
    "C = A + B\n",
    "print(C) # Printing the concatenated list\n",
    "\n",
    "C_a = np.array(C)\n",
    "print(C_a,'with the type', type(C_a), 'and shape', np.shape(C_a), 'returned as a tuple.') # Printing the array \n",
    "\n"
   ]
  },
  {
   "cell_type": "markdown",
   "metadata": {},
   "source": [
    "It is often useful to access lists through its indices. Let `L=[0,2,1,3]`. Slicing of a list works  by returning a subsequence: `B[2:]` returns `[1,3]` and `L[1:3]` returns `[2,1]`.\n",
    "\n",
    "\n",
    "> **Ex. 1.3.3**:       \n",
    "- Use `in` operator to check if which values are in `B`\n",
    "- Slice `B` to print only its second and third element"
   ]
  },
  {
   "cell_type": "code",
   "execution_count": 51,
   "metadata": {},
   "outputs": [
    {
     "name": "stdout",
     "output_type": "stream",
     "text": [
      "Checking if 7 is in the the list B returns: True\n",
      "Checking if 8 is in the the list B returns: False\n",
      "Slicing the list B for the first and second element returns [7, 4]\n"
     ]
    }
   ],
   "source": [
    "# [Answer to Ex. 1.3.3]\n",
    "print('Checking if 7 is in the the list B returns:', 7 in B)\n",
    "print('Checking if 8 is in the the list B returns:', 8 in B)\n",
    "\n",
    " # Print second and third element of list. Remember Python uses inclusive lower bound and exclusive upper bound. \n",
    "print('Slicing the list B for the first and second element returns', B[1:3])"
   ]
  },
  {
   "cell_type": "markdown",
   "metadata": {},
   "source": [
    "We can change the elements in a list. Substitution of an element in the list can be done by slicing.\n",
    "\n",
    "> **Ex. 1.3.4**:  replace middle element of `B` with 9"
   ]
  },
  {
   "cell_type": "code",
   "execution_count": 52,
   "metadata": {},
   "outputs": [
    {
     "name": "stdout",
     "output_type": "stream",
     "text": [
      "[3, 7, 4]\n",
      "[3, 9, 4]\n"
     ]
    }
   ],
   "source": [
    "# [Answer to Ex. 1.3.4]\n",
    "print(B)\n",
    "B[1] = 9 # replacing second element of list, remember Python is based on index 0.\n",
    "print(B)"
   ]
  },
  {
   "cell_type": "markdown",
   "metadata": {},
   "source": [
    "> **Ex. 1.3.5**: Use functions for containers: Use `max` to find the maximal value of B, and `sorted` to print the elements in B from low to high"
   ]
  },
  {
   "cell_type": "code",
   "execution_count": 55,
   "metadata": {},
   "outputs": [
    {
     "name": "stdout",
     "output_type": "stream",
     "text": [
      "Returning highest value of list: 9\n",
      "Printing the list from lowest to highest value [3, 4, 9]\n"
     ]
    }
   ],
   "source": [
    "# [Answer to Ex. 1.3.5]\n",
    "\n",
    "Answer_135 = max(B)\n",
    "print('Returning highest value of list:',Answer_135)\n",
    "Answer_135b = sorted(B)\n",
    "print('Printing the list from lowest to highest value', Answer_135b)"
   ]
  },
  {
   "cell_type": "markdown",
   "metadata": {},
   "source": [
    "> **Ex. 1.3.6**: try to add `B` to `A`. What is the new length of `A`? Are lists mutable? (e.i. can you change them?)\n",
    "\n",
    "> *Hint*: one way of doing this is with `append`. Adding elements to a list can be done as `L.append(O)` where `L` is our list and `O` is the object we add.\n",
    "\n",
    "> *Note*: More methods for lists can be seen [here](https://docs.python.org/3/tutorial/datastructures.html#more-on-lists), including removal of elements with **pop** and **remove**."
   ]
  },
  {
   "cell_type": "code",
   "execution_count": 56,
   "metadata": {},
   "outputs": [
    {
     "name": "stdout",
     "output_type": "stream",
     "text": [
      "[3, 9, 4]\n",
      "[2, 3, 1]\n",
      "6 [2, 3, 1, 3, 9, 4]\n"
     ]
    }
   ],
   "source": [
    "# [Answer to Ex. 1.3.6]\n",
    "print(B)\n",
    "print(A)\n",
    "A = A + B\n",
    "print(len(A), A)"
   ]
  },
  {
   "cell_type": "markdown",
   "metadata": {},
   "source": [
    "\n",
    "> **Ex. 1.3.7 - BONUS**: Convert `A`, `B` into sets named respectively `A_s`, `B_s`. Combine the set `A_s` and `B_s` into one set `C_s`. How many elements are there in `C_s`?\n",
    "\n",
    "> Note: read about the `set` container in Python [here](https://docs.python.org/3.6/tutorial/datastructures.html#sets)."
   ]
  },
  {
   "cell_type": "code",
   "execution_count": 60,
   "metadata": {},
   "outputs": [
    {
     "name": "stdout",
     "output_type": "stream",
     "text": [
      "A set combining A and B returns {1, 2, 3, 4, 9}\n"
     ]
    }
   ],
   "source": [
    "# [Answer to Ex. 1.3.7]\n",
    "A_s = set(A) # Convert list to set\n",
    "B_s = set(B) # Convert list to set\n",
    "C_s = A_s | B_s\n",
    "# Note that sets contains unique values in an ordered fashion. I.e. 3 occurs only once.\n",
    "print('A set combining A and B returns', C_s) "
   ]
  },
  {
   "cell_type": "markdown",
   "metadata": {},
   "source": [
    "### Exercise Section 1.4: Reusable code; functions and objects"
   ]
  },
  {
   "cell_type": "markdown",
   "metadata": {},
   "source": [
    "> **Ex. 1.4.1**: make a function named `my_subtract` that takes two arguments and subtracts the second argument from the first. Try altering the function where the second argument is equal to 3 as default; can you execute the function with only a single argument?"
   ]
  },
  {
   "cell_type": "code",
   "execution_count": 66,
   "metadata": {},
   "outputs": [
    {
     "name": "stdout",
     "output_type": "stream",
     "text": [
      "Subtracting 2 from 5 returns: 3\n",
      "Subtracting default value from 5 returns: 2\n"
     ]
    }
   ],
   "source": [
    "# [Answer to Ex. 1.4.1]\n",
    "def my_subtract(x,y=3):\n",
    "    return x - y \n",
    "\n",
    "print('Subtracting 2 from 5 returns:',my_subtract(5,2))\n",
    "print('Subtracting default value from 5 returns:', my_subtract(5))\n"
   ]
  },
  {
   "cell_type": "markdown",
   "metadata": {},
   "source": [
    "Numpy arrays is a class like lists, sets, dictonaries ect. Numpy arrays are both fast and easy to work with, when you are doing linear algebra. \n",
    "\n",
    "Like other classes Numpy arrays have certain functions, that are specific to Numpy arrays. These functions are called by first specifing the Numpy array, and then the a punctuation follow by the function (e.g. `myarray.sort()`) \n",
    "\n",
    "> **Ex. 1.4.2**: compute the sum over all elements in the matrix (i.e. 2d-array), `C_a`. Transpose the matrix `C_a`.\n",
    "\n",
    "> *Hint*: numpy has the function `sum` which may be of use"
   ]
  },
  {
   "cell_type": "code",
   "execution_count": 85,
   "metadata": {},
   "outputs": [
    {
     "name": "stdout",
     "output_type": "stream",
     "text": [
      "Recall the array [2 3 1 3 7 4]\n",
      "Compute the sum of the array elements: 20\n",
      "Tranposing the array [2 3 1 3 7 4]\n"
     ]
    }
   ],
   "source": [
    "# [Answer to Ex. 1.4.2]\n",
    "C_a = np.array(C)\n",
    "print('Recall the array', C_a)\n",
    "print('Compute the sum of the array elements:', np.sum(C_a))\n",
    "print('Tranposing the array', C_a.T)"
   ]
  },
  {
   "cell_type": "markdown",
   "metadata": {},
   "source": [
    "> **Ex. 1.4.3 - BONUS**: Make a class called employee, which take the arguments first_name, last_name and pay. Use it to make an object `employee_1`, and then print the first name, last name, and the pay of the employee. \n",
    "\n",
    "\n",
    "> *Hint:* Within the class you need first to define the \"\\_\\_init\\_\\_\" function, which take the argument *self*"
   ]
  },
  {
   "cell_type": "code",
   "execution_count": 100,
   "metadata": {},
   "outputs": [
    {
     "name": "stdout",
     "output_type": "stream",
     "text": [
      "The employee is named John Doe \n",
      "he receives a pay of $ 10000\n"
     ]
    }
   ],
   "source": [
    "# [Answer to Ex. 1.4.3]\n",
    "class employee:\n",
    "    def __init__(self,first_name, last_name, pay):\n",
    "        self.first_name = first_name\n",
    "        self.last_name = last_name\n",
    "        self.pay = pay\n",
    "        \n",
    "employee_1 = employee('John', 'Doe', 10000)\n",
    "\n",
    "print('The employee is named',employee_1.first_name, employee_1.last_name, '\\nhe receives a pay of $', employee_1.pay)\n",
    "        "
   ]
  }
 ],
 "metadata": {
  "kernelspec": {
   "display_name": "Python 3",
   "language": "python",
   "name": "python3"
  },
  "language_info": {
   "codemirror_mode": {
    "name": "ipython",
    "version": 3
   },
   "file_extension": ".py",
   "mimetype": "text/x-python",
   "name": "python",
   "nbconvert_exporter": "python",
   "pygments_lexer": "ipython3",
   "version": "3.7.3"
  },
  "nav_menu": {},
  "toc": {
   "navigate_menu": true,
   "number_sections": false,
   "sideBar": true,
   "threshold": 6,
   "toc_cell": false,
   "toc_section_display": "block",
   "toc_window_display": true
  }
 },
 "nbformat": 4,
 "nbformat_minor": 2
}
