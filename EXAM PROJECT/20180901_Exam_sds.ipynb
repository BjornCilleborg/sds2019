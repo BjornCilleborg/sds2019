{
 "cells": [
  {
   "cell_type": "markdown",
   "metadata": {},
   "source": [
    "----------------------------------------------------\n",
    "# Predicting stock market prices\n",
    "\n",
    "### Donald Trumps Tweets & Stock Market Prices\n",
    "\n",
    "This file contains all scraping, API and analysis for the whole project\n"
   ]
  },
  {
   "cell_type": "markdown",
   "metadata": {},
   "source": [
    "-------------------------------\n",
    "# 0. Package install"
   ]
  },
  {
   "cell_type": "code",
   "execution_count": 78,
   "metadata": {},
   "outputs": [],
   "source": [
    "#imports\n",
    "import numpy as np\n",
    "\n",
    "import pandas as pd\n",
    "from pandas import Series\n",
    "\n",
    "import seaborn as sns\n",
    "\n",
    "from datetime import datetime, timezone, timedelta\n",
    "\n",
    "from math import sqrt\n",
    "\n",
    "import statsmodels.api as sm\n",
    "\n",
    "import matplotlib.pyplot as plt\n",
    "%matplotlib inline\n",
    "from matplotlib import pyplot\n",
    "\n",
    "import requests\n",
    "\n",
    "import sklearn\n",
    "from sklearn import linear_model\n",
    "from sklearn.tree import DecisionTreeClassifier\n",
    "from sklearn.metrics import mean_squared_error as mse\n",
    "from sklearn.metrics import accuracy_score\n",
    "from sklearn.model_selection import learning_curve, validation_curve, TimeSeriesSplit\n",
    "from sklearn.linear_model import Lasso, LinearRegression, Ridge\n",
    "from sklearn.pipeline import make_pipeline\n",
    "from sklearn.preprocessing import PolynomialFeatures, StandardScaler\n",
    "from sklearn.cross_validation import train_test_split\n",
    "\n",
    "from vaderSentiment.vaderSentiment import SentimentIntensityAnalyzer\n",
    "\n",
    "pd.options.display.max_colwidth = 400 #So we get the whole length of the tweet\n",
    "\n",
    "#import sys\n",
    "#sys._enablelegacywindowsfsencoding()"
   ]
  },
  {
   "cell_type": "markdown",
   "metadata": {},
   "source": [
    "-----------------------------------\n",
    "\n",
    "# 1. Scraping of Donald Trumps Tweets\n",
    "\n",
    "We choose to use the archive:\n",
    "\n",
    "http://www.trumptwitterarchive.com/archive \n",
    "\n",
    "For the scraping we use a few functions for the date format, and one function for the scraping and formatting of dates, this function is called 'tweets_by_year'. \n",
    "\n",
    "-------------------------------------"
   ]
  },
  {
   "cell_type": "markdown",
   "metadata": {},
   "source": [
    "Functions for dateformat"
   ]
  },
  {
   "cell_type": "code",
   "execution_count": 3,
   "metadata": {},
   "outputs": [],
   "source": [
    "#_______________________________________\n",
    "def GiveDate(x): #YYYY MM DD HH:MM:SS\n",
    "    Date = x.split()\n",
    "    return \"{} {} {} {}\".format(Date[5], Date[1], Date[2], Date[3])\n",
    "\n",
    "#_______________________________________\n",
    "def GiveTime(x): #HH:MM:SS\n",
    "    Time = x.split()\n",
    "    return \"{}\".format(Time[3])\n",
    "\n",
    "#_______________________________________\n",
    "def GiveDay(x): #DD\n",
    "    Day = x.split()\n",
    "    return \"{}\".format(Day[0])"
   ]
  },
  {
   "cell_type": "markdown",
   "metadata": {},
   "source": [
    "## 1.1 Function for scraping of tweets"
   ]
  },
  {
   "cell_type": "code",
   "execution_count": 5,
   "metadata": {},
   "outputs": [],
   "source": [
    "#_______________________________________\n",
    "def tweets_by_year(x):\n",
    "    #from 2018 the response link has been changes, therefore there is two URL's\n",
    "    url = \"http://d5nxcu7vtzvay.cloudfront.net/data/realdonaldtrump/{year}.json\".format(year = x)\n",
    "    url_2018 = \"http://www.trumptwitterarchive.com/data/realdonaldtrump/{year}.json\".format(year = x)\n",
    "    \n",
    "    #_______________________________________\n",
    "    #This will choose which link to use \n",
    "    if x == 2018 :\n",
    "        response = requests.get(url_2018).json()\n",
    "    else :\n",
    "        response = requests.get(url).json()\n",
    "    \n",
    "    #_______________________________________\n",
    "    #Converts date before dataframe\n",
    "    for date in response:\n",
    "        date['day_date'] = GiveDate(date['created_at'])\n",
    "    \n",
    "     #Converts time before dataframe\n",
    "    for time in response:\n",
    "        time['time'] = GiveTime(time['created_at'])\n",
    "    \n",
    "    #Converts day before dataframe\n",
    "    for day in response:\n",
    "        day['day'] = GiveDay(day['created_at'])\n",
    "    \n",
    "    #_______________________________________\n",
    "    #Converts the response to a dataframe \n",
    "    tweets = pd.DataFrame(response)\n",
    "    \n",
    "    #_______________________________________\n",
    "    #Makes new date, and year column for later use \n",
    "    tweets['date'] = pd.to_datetime(tweets['day_date'])#.apply(lambda x:x.strftime('%Y%m%d'))\n",
    "    tweets['year'] = tweets.created_at.apply(lambda x: x[-4:])\n",
    "    \n",
    "    #_______________________________________\n",
    "    #Push day four hours\n",
    "    tweets['p_date'] = tweets['date'] + pd.Timedelta(hours=4) \n",
    "    #Gives the daynumber of the week 0-6\n",
    "    tweets['p_day'] = tweets['p_date'].dt.weekday\n",
    "    \n",
    "    #_______________________________________\n",
    "    #Indexes by the date\n",
    "    tweets.set_index('date')\n",
    "\n",
    "    return tweets"
   ]
  },
  {
   "cell_type": "markdown",
   "metadata": {},
   "source": [
    "-----------\n",
    "We are interested in the years after DT announced his candidacy, therefore we loop through the years we want to focus on, and create a dataframe for all the tweets from these years. This is done by having a list of years, and simply looping through, and for all years appending to one dataframe. "
   ]
  },
  {
   "cell_type": "code",
   "execution_count": 7,
   "metadata": {},
   "outputs": [],
   "source": [
    "#_______________________________________\n",
    "years = [2015, 2016, 2017, 2018] #The years of interest \n",
    "dfMaster = pd.DataFrame() #An empty dataframe for apending of the data\n",
    "\n",
    "#_______________________________________\n",
    "#Loops through the years to collect all the tweets \n",
    "for i in years:\n",
    "    df_tweet = pd.DataFrame()#makes a dataframe for each year\n",
    "    df_tweet = tweets_by_year(i) \n",
    "    dfMaster = dfMaster.append(df_tweet, ignore_index=False) #Appends the year, and runs through next year\n",
    "\n",
    "#_______________________________________    \n",
    "All_Tweets = dfMaster #Gives the dataframe a new name"
   ]
  },
  {
   "cell_type": "markdown",
   "metadata": {},
   "source": [
    "--------------\n",
    "For the weekends (Saturday and Sunday) we had to push the tweets for next monday, after a lot of different approaches, we decided to split the data into 3, where each dataset got pushed the the appropriate time "
   ]
  },
  {
   "cell_type": "code",
   "execution_count": 9,
   "metadata": {},
   "outputs": [
    {
     "name": "stderr",
     "output_type": "stream",
     "text": [
      "c:\\programdata\\miniconda3\\lib\\site-packages\\ipykernel_launcher.py:9: SettingWithCopyWarning: \n",
      "A value is trying to be set on a copy of a slice from a DataFrame.\n",
      "Try using .loc[row_indexer,col_indexer] = value instead\n",
      "\n",
      "See the caveats in the documentation: http://pandas.pydata.org/pandas-docs/stable/indexing.html#indexing-view-versus-copy\n",
      "  if __name__ == '__main__':\n",
      "c:\\programdata\\miniconda3\\lib\\site-packages\\ipykernel_launcher.py:10: SettingWithCopyWarning: \n",
      "A value is trying to be set on a copy of a slice from a DataFrame.\n",
      "Try using .loc[row_indexer,col_indexer] = value instead\n",
      "\n",
      "See the caveats in the documentation: http://pandas.pydata.org/pandas-docs/stable/indexing.html#indexing-view-versus-copy\n",
      "  # Remove the CWD from sys.path while we load stuff.\n",
      "c:\\programdata\\miniconda3\\lib\\site-packages\\ipykernel_launcher.py:11: SettingWithCopyWarning: \n",
      "A value is trying to be set on a copy of a slice from a DataFrame.\n",
      "Try using .loc[row_indexer,col_indexer] = value instead\n",
      "\n",
      "See the caveats in the documentation: http://pandas.pydata.org/pandas-docs/stable/indexing.html#indexing-view-versus-copy\n",
      "  # This is added back by InteractiveShellApp.init_path()\n"
     ]
    }
   ],
   "source": [
    "#_______________________________________\n",
    "#Divides the dataset in saturday, sunday and weekdays (to push the weekendtweets and append on monday)\n",
    "d_sat = All_Tweets.loc[All_Tweets['p_day']==5]\n",
    "d_sun = All_Tweets.loc[All_Tweets['p_day']==6]\n",
    "d_wee = All_Tweets.loc[All_Tweets['p_day'] < 5] \n",
    "\n",
    "#_______________________________________\n",
    "#Pushes the days till next monday\n",
    "d_sat['pp_date'] = d_sat['p_date'] + pd.Timedelta(hours=48)\n",
    "d_sun['pp_date'] = d_sun['p_date'] + pd.Timedelta(hours=24)\n",
    "d_wee['pp_date'] = d_wee['p_date'] + pd.Timedelta(hours=0)"
   ]
  },
  {
   "cell_type": "markdown",
   "metadata": {},
   "source": [
    "After pushing the weekends, we combined the dataframes for one"
   ]
  },
  {
   "cell_type": "code",
   "execution_count": 11,
   "metadata": {},
   "outputs": [],
   "source": [
    "#_______________________________________\n",
    "#Merges the 3 datasets, so we end up with one, only containing weekdays and dates for the tweets\n",
    "All_Tw_DT = pd.concat([pd.concat([d_sat, d_sun]), d_wee])"
   ]
  },
  {
   "cell_type": "markdown",
   "metadata": {},
   "source": [
    "Before any other work, we need to change the dateformat for when we have to combine with the indexes"
   ]
  },
  {
   "cell_type": "code",
   "execution_count": 13,
   "metadata": {},
   "outputs": [],
   "source": [
    "#_______________________________________\n",
    "#Changes the format of the date, so we can combine with other data later\n",
    "All_Tw_DT['pp_date'] = pd.to_datetime(All_Tw_DT['pp_date']).apply(lambda x:x.strftime('%Y-%m-%d'))"
   ]
  },
  {
   "cell_type": "markdown",
   "metadata": {},
   "source": [
    "------------------------------------\n",
    "\n",
    "## 1.2 Cleaning of data\n",
    "We decided to drop the retweets, date before the announcement, and response tweets\n"
   ]
  },
  {
   "cell_type": "code",
   "execution_count": 15,
   "metadata": {},
   "outputs": [],
   "source": [
    "#_______________________________________\n",
    "# Drop retweets\n",
    "All_Tweets_1 = All_Tw_DT[All_Tw_DT.is_retweet == False]\n",
    "\n",
    "#_______________________________________\n",
    "# Drop dates before announcement\n",
    "All_Tweets_2 = All_Tweets_1[All_Tweets_1.pp_date >= '2015-06-16']\n",
    "\n",
    "#_______________________________________\n",
    "#Drop response tweets \n",
    "All_Tweets_3 = All_Tweets_2[~All_Tweets_2.text.str.startswith('\"@')]\n",
    "\n",
    "#_______________________________________\n",
    "#Save for CSV\n",
    "#All_Tweets_3.to_csv('All_3.csv')"
   ]
  },
  {
   "cell_type": "markdown",
   "metadata": {},
   "source": [
    "--------------------\n",
    "## 1.3 Sentiment analysis\n",
    "\n",
    "For the sentiment analysis we used the Vader package"
   ]
  },
  {
   "cell_type": "code",
   "execution_count": 17,
   "metadata": {},
   "outputs": [],
   "source": [
    "#_______________________________________\n",
    "TW = All_Tweets_3.copy() #New dataframe\n",
    "\n",
    "#_______________________________________\n",
    "#Lists for the sentiment scores\n",
    "vs_compound = []\n",
    "vs_pos = []\n",
    "vs_neu = []\n",
    "vs_neg = []\n",
    "\n",
    "analyser = SentimentIntensityAnalyzer()\n",
    "\n",
    "#_______________________________________\n",
    "#Loop through the words in the tweets\n",
    "for i in TW['text'] :\n",
    "    vs_compound.append(analyser.polarity_scores(i)['compound'])\n",
    "    vs_pos.append(analyser.polarity_scores(i)['pos'])\n",
    "    vs_neu.append(analyser.polarity_scores(i)['neu'])\n",
    "    vs_neg.append(analyser.polarity_scores(i)['neg'])\n",
    "\n",
    "TW['sentiment'] = vs_compound\n",
    "TW['positive'] = vs_pos\n",
    "TW['neutral'] = vs_neu\n",
    "TW['negative'] = vs_neg"
   ]
  },
  {
   "cell_type": "markdown",
   "metadata": {},
   "source": [
    "Dropping the neutral tweets"
   ]
  },
  {
   "cell_type": "code",
   "execution_count": 19,
   "metadata": {},
   "outputs": [],
   "source": [
    "#_______________________________________\n",
    "t_t = TW[TW['sentiment'] != 0.000] #Drop neutral "
   ]
  },
  {
   "cell_type": "markdown",
   "metadata": {},
   "source": [
    "To get an impression of the average sentiment during a year"
   ]
  },
  {
   "cell_type": "code",
   "execution_count": 21,
   "metadata": {},
   "outputs": [
    {
     "name": "stdout",
     "output_type": "stream",
     "text": [
      "year\n",
      "2015    0.236441\n",
      "2016    0.190019\n",
      "2017    0.230733\n",
      "2018    0.221367\n",
      "Name: sentiment, dtype: float64\n"
     ]
    }
   ],
   "source": [
    "#_______________________________________\n",
    "sentiment_mean_by_year = t_t.groupby('year')['sentiment'].mean() #Average\n",
    "print(sentiment_mean_by_year)"
   ]
  },
  {
   "cell_type": "markdown",
   "metadata": {},
   "source": [
    "Descriptive statistics"
   ]
  },
  {
   "cell_type": "code",
   "execution_count": 23,
   "metadata": {},
   "outputs": [
    {
     "name": "stdout",
     "output_type": "stream",
     "text": [
      "0.9899\n",
      "-0.9864\n",
      "0.2153132317073171\n"
     ]
    }
   ],
   "source": [
    "#_______________________________________\n",
    "#Descriptive stats\n",
    "print(t_t['sentiment'].max())\n",
    "print(t_t['sentiment'].min())\n",
    "print(t_t['sentiment'].mean())"
   ]
  },
  {
   "cell_type": "markdown",
   "metadata": {},
   "source": [
    "--------------------\n",
    "## 1.4 Visualization"
   ]
  },
  {
   "cell_type": "code",
   "execution_count": 25,
   "metadata": {},
   "outputs": [
    {
     "name": "stderr",
     "output_type": "stream",
     "text": [
      "c:\\programdata\\miniconda3\\lib\\site-packages\\scipy\\stats\\stats.py:1713: FutureWarning: Using a non-tuple sequence for multidimensional indexing is deprecated; use `arr[tuple(seq)]` instead of `arr[seq]`. In the future this will be interpreted as an array index, `arr[np.array(seq)]`, which will result either in an error or a different result.\n",
      "  return np.add.reduce(sorted[indexer] * weights, axis=axis) / sumval\n"
     ]
    },
    {
     "data": {
      "image/png": "[encoded data removed]",
      "text/plain": [
       "<Figure size 432x288 with 1 Axes>"
      ]
     },
     "metadata": {},
     "output_type": "display_data"
    }
   ],
   "source": [
    "#_______________________________________\n",
    "sentiment_mean_by_day = t_t.groupby('pp_date')['sentiment'].mean()\n",
    "fig_1 = sns.distplot(sentiment_mean_by_day, hist=True, kde=True,\n",
    "             hist_kws={'edgecolor':'black'})\n",
    "\n",
    "\n",
    "#fig_1.set_title('Average sentiment per day')\n",
    "fig_1.set_xlabel('Sentiment score')\n",
    "fig_1.set_ylabel('Density')\n",
    "#fig_1.title.set_fontsize(14)\n",
    "fig_1.xaxis.label.set_fontsize(10)\n",
    "fig_1.yaxis.label.set_fontsize(10)\n",
    "Fig1 = fig_1.get_figure()\n",
    "Fig1.savefig('fig_2.png')"
   ]
  },
  {
   "cell_type": "markdown",
   "metadata": {},
   "source": [
    "-------------------\n",
    "## 1.5 Final dataframe for later use"
   ]
  },
  {
   "cell_type": "code",
   "execution_count": 27,
   "metadata": {},
   "outputs": [
    {
     "name": "stderr",
     "output_type": "stream",
     "text": [
      "c:\\programdata\\miniconda3\\lib\\site-packages\\IPython\\core\\interactiveshell.py:2961: FutureWarning: 'pp_date' is both an index level and a column label.\n",
      "Defaulting to column, but this will raise an ambiguity error in a future version\n",
      "  exec(code_obj, self.user_global_ns, self.user_ns)\n"
     ]
    }
   ],
   "source": [
    "#_______________________________________\n",
    "retweet_by_day = t_t.groupby('pp_date')['retweet_count'].sum() #Sums the retweets per day\n",
    "likes_by_day = t_t.groupby('pp_date')['favorite_count'].sum() #Sums the likes per day\n",
    "\n",
    "#_______________________________________\n",
    "rbd = retweet_by_day.to_frame()\n",
    "rbd['pp_date'] = rbd.index\n",
    "rbd.reset_index(drop=True)\n",
    "\n",
    "lbd = likes_by_day.to_frame()\n",
    "lbd['pp_date'] = lbd.index\n",
    "lbd.reset_index(drop=True)\n",
    "\n",
    "# Table with dates and the average sentiment\n",
    "smbd = sentiment_mean_by_day.to_frame()\n",
    "smbd['pp_date'] = smbd.index\n",
    "smbd.reset_index(drop=True)\n",
    "\n",
    "# Table with dates and the count of tweets per day  \n",
    "count = t_t.groupby('pp_date')['text'].count()\n",
    "count_t = count.to_frame()\n",
    "count_t['pp_date'] = count_t.index\n",
    "count_t.reset_index(drop=True)\n",
    "\n",
    "#_______________________________________\n",
    "# Merging of dates, sentiment per day, and count per day\n",
    "Total = pd.merge(pd.merge(pd.merge(smbd, count_t, on='pp_date'), rbd, on='pp_date'), lbd, on='pp_date' )\n",
    "Total.columns = ['avr_sentiment_per_day', 'date', 'count_per_day', 'retweet_per_day', 'likes_per_day']\n"
   ]
  },
  {
   "cell_type": "markdown",
   "metadata": {},
   "source": [
    "Saving as CSV file"
   ]
  },
  {
   "cell_type": "code",
   "execution_count": 29,
   "metadata": {},
   "outputs": [],
   "source": [
    "#_______________________________________\n",
    "Total.to_csv('tweet_sentiment_data.csv')"
   ]
  },
  {
   "cell_type": "markdown",
   "metadata": {},
   "source": [
    "-----------------------------------\n",
    "\n",
    "# 2. API for stock market price index\n",
    "\n",
    "First we need to define some functions we will use to clean and prep the data."
   ]
  },
  {
   "cell_type": "code",
   "execution_count": 31,
   "metadata": {},
   "outputs": [],
   "source": [
    "#_______________________________________\n",
    "def change_pct(data, n):\n",
    "    return data.pct_change(n)\n",
    "\n",
    "#_______________________________________\n",
    "def Change_to_bool(df):\n",
    "    change_bool = []\n",
    "\n",
    "    for x in df['change']:\n",
    "        if x > 0:\n",
    "            change_bool.append(1)\n",
    "        else:\n",
    "            change_bool.append(0)\n",
    "\n",
    "    df[\"change_bool\"] = change_bool"
   ]
  },
  {
   "cell_type": "markdown",
   "metadata": {},
   "source": [
    "## 2.1 Function\n",
    "Then we will create a function that gets the data from our API call, and uses the clean & prep functions. "
   ]
  },
  {
   "cell_type": "code",
   "execution_count": 33,
   "metadata": {},
   "outputs": [],
   "source": [
    "#_______________________________________\n",
    "def alphavantage_call(index, apikey, req_type =\"TIME_SERIES_DAILY_ADJUSTED\", size = \"full\", from_date = \"full\"):   \n",
    "    import pandas as pd \n",
    "    import datetime\n",
    "    \n",
    "    base = \"https://www.alphavantage.co/query?function={rtype}&symbol={sindex}&outputsize={osize}&apikey={KEY}&datatype=csv\".format(\n",
    "        rtype=req_type, #formating variables\n",
    "        sindex = index,\n",
    "        KEY = apikey,\n",
    "        osize=size)\n",
    "\n",
    "    df = pd.read_csv(base) #read the csv file\n",
    "    \n",
    "    df[\"Index\"] = index # create a column with the index name\n",
    "    \n",
    "    df[\"timestamp\"] = pd.to_datetime(df[\"timestamp\"])# change the time stamp\n",
    "    \n",
    "    df_2 = df.sort_values(by=[\"timestamp\"]) #sort values and store it in a new data_base\n",
    "    \n",
    "    df_2[\"change\"] = change_pct(df_2[\"close\"], 1) #calculate the difference in procentage\n",
    "    \n",
    "    Change_to_bool(df_2) #create a new column with a boolean value for when it goes up/down where 1= up and 0 = down\n",
    "\n",
    "    if from_date == \"full\":  #return the output based on the optional argument from_date\n",
    "        return df_2\n",
    "    else:\n",
    "        in_range_df = df_2[df_2[\"timestamp\"].isin(pd.date_range(from_date, datetime.datetime.today().strftime('%Y-%m-%d')))]\n",
    "        return in_range_df"
   ]
  },
  {
   "cell_type": "markdown",
   "metadata": {},
   "source": [
    "Parameters for the function"
   ]
  },
  {
   "cell_type": "code",
   "execution_count": 35,
   "metadata": {},
   "outputs": [],
   "source": [
    "#Params\n",
    "API_KEY = \"8BJZGWY3NP875LW7\"\n",
    "start_date = \"2015-06-16\""
   ]
  },
  {
   "cell_type": "markdown",
   "metadata": {},
   "source": [
    "Calling the function"
   ]
  },
  {
   "cell_type": "code",
   "execution_count": 37,
   "metadata": {},
   "outputs": [],
   "source": [
    "IXIC = alphavantage_call(apikey=API_KEY, index=\"IXIC\", from_date = start_date) #Nasdaq\n",
    "DJ = alphavantage_call(apikey=API_KEY, index=\"DJI\", from_date = start_date) #Dow Jones\n",
    "\n",
    "df_concat = pd.concat([IXIC, DJ], axis=1) #Merging the data"
   ]
  },
  {
   "cell_type": "code",
   "execution_count": 38,
   "metadata": {},
   "outputs": [],
   "source": [
    "df_ixic = df_concat.iloc[:,[0,5,6,10,11]]\n",
    "df_i = df_ixic.rename(columns = {'adjusted_close':'close_ixic', 'volume':'vol_ixic','change':'change_ixic','change_bool':'change_ixic_bool'})\n",
    "df_dj = df_concat.iloc[:,[17,18,22,23]]\n",
    "df_d = df_dj.rename(columns = {'adjusted_close':'close_dj', 'volume':'vol_dj','change':'change_dj','change_bool':'change_dj_bool'})\n",
    "df = pd.concat([df_i, df_d], axis=1)\n",
    "\n",
    "df.to_csv('stock.csv')"
   ]
  },
  {
   "cell_type": "markdown",
   "metadata": {},
   "source": [
    "------------------------\n",
    "## 2.2 Visualization of the data\n",
    "\n"
   ]
  },
  {
   "cell_type": "code",
   "execution_count": 40,
   "metadata": {},
   "outputs": [
    {
     "data": {
      "image/png": "[encoded data removed]",
      "text/plain": [
       "<Figure size 720x360 with 1 Axes>"
      ]
     },
     "metadata": {},
     "output_type": "display_data"
    },
    {
     "data": {
      "image/png": "[encoded data removed]",
      "text/plain": [
       "<Figure size 720x360 with 1 Axes>"
      ]
     },
     "metadata": {},
     "output_type": "display_data"
    }
   ],
   "source": [
    "IXIC.plot(x='timestamp', y = 'close', figsize=(10,5), label='Nasdaq Index');\n",
    "plt.axvline('2016-05-03', color='k');plt.axvline('2016-11-08', color='k');\n",
    "plt.xlabel('Date');plt.ylabel('Index'); \n",
    "plt.annotate('Nominee of the Republican Party', xy = ('2016-04-03',8000), rotation = 90);\n",
    "plt.annotate('Elected President', xy = ('2016-10-08',8000), rotation = 90)\n",
    "\n",
    "\n",
    "DJ.plot(x='timestamp', y = 'close', figsize=(10,5), label='Dow Jones');\n",
    "plt.axvline('2016-05-03', color='k');plt.axvline('2016-11-08', color='k');\n",
    "plt.xlabel('Date');plt.ylabel('Index'); \n",
    "plt.annotate('Nominee of the Republican Party', xy = ('2016-04-03', 26000), rotation = 90);\n",
    "#plt.annotate('Elected President', xy = ('2016-10-08', 26000), rotation = 90)\n",
    "\n"
   ]
  },
  {
   "cell_type": "markdown",
   "metadata": {},
   "source": [
    "-----------------------------------\n",
    "# 3. Combining the data"
   ]
  },
  {
   "cell_type": "code",
   "execution_count": 82,
   "metadata": {},
   "outputs": [
    {
     "data": {
      "text/plain": [
       "avr_sentiment_per_day    14\n",
       "date                      0\n",
       "count_per_day            14\n",
       "retweet_per_day          14\n",
       "likes_per_day            14\n",
       "close_ixic               28\n",
       "vol_ixic                 28\n",
       "change_ixic              28\n",
       "change_ixic_bool         28\n",
       "close_dj                 28\n",
       "vol_dj                   28\n",
       "change_dj                28\n",
       "change_dj_bool           28\n",
       "dtype: int64"
      ]
     },
     "execution_count": 82,
     "metadata": {},
     "output_type": "execute_result"
    }
   ],
   "source": [
    "# Reading of files\n",
    "stock = pd.read_csv('C:/Users/stock.csv', index_col=0)\n",
    "trump = pd.read_csv('C:/Users/tweet_sentiment_data.csv', index_col=0)\n",
    "stocks = stock.rename(index =str, columns = {'timestamp':'date'})\n",
    "\n",
    "#Merging it all\n",
    "s_t=pd.merge(trump, stocks, how='outer', on='date')\n",
    "s_t\n",
    "\n",
    "#Finding variables without observations\n",
    "s_t.isnull().sum()"
   ]
  },
  {
   "cell_type": "markdown",
   "metadata": {},
   "source": [
    "We decided to fill out the the N/A for tweets, with 0. Thoose days gets readed as days without any tweets. "
   ]
  },
  {
   "cell_type": "code",
   "execution_count": 83,
   "metadata": {},
   "outputs": [
    {
     "data": {
      "text/html": [
       "<div>\n",
       "<style scoped>\n",
       "    .dataframe tbody tr th:only-of-type {\n",
       "        vertical-align: middle;\n",
       "    }\n",
       "\n",
       "    .dataframe tbody tr th {\n",
       "        vertical-align: top;\n",
       "    }\n",
       "\n",
       "    .dataframe thead th {\n",
       "        text-align: right;\n",
       "    }\n",
       "</style>\n",
       "<table border=\"1\" class=\"dataframe\">\n",
       "  <thead>\n",
       "    <tr style=\"text-align: right;\">\n",
       "      <th></th>\n",
       "      <th>avr_sentiment_per_day</th>\n",
       "      <th>date</th>\n",
       "      <th>count_per_day</th>\n",
       "      <th>retweet_per_day</th>\n",
       "      <th>likes_per_day</th>\n",
       "      <th>close_ixic</th>\n",
       "      <th>vol_ixic</th>\n",
       "      <th>change_ixic</th>\n",
       "      <th>change_ixic_bool</th>\n",
       "      <th>close_dj</th>\n",
       "      <th>vol_dj</th>\n",
       "      <th>change_dj</th>\n",
       "      <th>change_dj_bool</th>\n",
       "      <th>dates</th>\n",
       "    </tr>\n",
       "  </thead>\n",
       "  <tbody>\n",
       "    <tr>\n",
       "      <th>0</th>\n",
       "      <td>0.467650</td>\n",
       "      <td>2015-06-16</td>\n",
       "      <td>8.0</td>\n",
       "      <td>18874.0</td>\n",
       "      <td>23453.0</td>\n",
       "      <td>5056.0</td>\n",
       "      <td>1.654820e+09</td>\n",
       "      <td>0.005169</td>\n",
       "      <td>1.0</td>\n",
       "      <td>17904.4805</td>\n",
       "      <td>77510000.0</td>\n",
       "      <td>0.006369</td>\n",
       "      <td>1.0</td>\n",
       "      <td>2015-06-16</td>\n",
       "    </tr>\n",
       "    <tr>\n",
       "      <th>1</th>\n",
       "      <td>0.491114</td>\n",
       "      <td>2015-06-17</td>\n",
       "      <td>7.0</td>\n",
       "      <td>1140.0</td>\n",
       "      <td>3378.0</td>\n",
       "      <td>5065.0</td>\n",
       "      <td>1.712820e+09</td>\n",
       "      <td>0.001780</td>\n",
       "      <td>1.0</td>\n",
       "      <td>17935.7402</td>\n",
       "      <td>92410000.0</td>\n",
       "      <td>0.001746</td>\n",
       "      <td>1.0</td>\n",
       "      <td>2015-06-17</td>\n",
       "    </tr>\n",
       "    <tr>\n",
       "      <th>2</th>\n",
       "      <td>0.323700</td>\n",
       "      <td>2015-06-18</td>\n",
       "      <td>5.0</td>\n",
       "      <td>823.0</td>\n",
       "      <td>2000.0</td>\n",
       "      <td>5133.0</td>\n",
       "      <td>1.877920e+09</td>\n",
       "      <td>0.013425</td>\n",
       "      <td>1.0</td>\n",
       "      <td>18115.8398</td>\n",
       "      <td>94460000.0</td>\n",
       "      <td>0.010041</td>\n",
       "      <td>1.0</td>\n",
       "      <td>2015-06-18</td>\n",
       "    </tr>\n",
       "    <tr>\n",
       "      <th>3</th>\n",
       "      <td>-0.105250</td>\n",
       "      <td>2015-06-19</td>\n",
       "      <td>10.0</td>\n",
       "      <td>2729.0</td>\n",
       "      <td>4464.0</td>\n",
       "      <td>5117.0</td>\n",
       "      <td>2.468310e+09</td>\n",
       "      <td>-0.003117</td>\n",
       "      <td>0.0</td>\n",
       "      <td>18015.9492</td>\n",
       "      <td>258300000.0</td>\n",
       "      <td>-0.005514</td>\n",
       "      <td>0.0</td>\n",
       "      <td>2015-06-19</td>\n",
       "    </tr>\n",
       "    <tr>\n",
       "      <th>4</th>\n",
       "      <td>0.191129</td>\n",
       "      <td>2015-06-22</td>\n",
       "      <td>28.0</td>\n",
       "      <td>10745.0</td>\n",
       "      <td>19072.0</td>\n",
       "      <td>5154.0</td>\n",
       "      <td>1.619970e+09</td>\n",
       "      <td>0.007231</td>\n",
       "      <td>1.0</td>\n",
       "      <td>18119.7793</td>\n",
       "      <td>77780000.0</td>\n",
       "      <td>0.005763</td>\n",
       "      <td>1.0</td>\n",
       "      <td>2015-06-22</td>\n",
       "    </tr>\n",
       "    <tr>\n",
       "      <th>5</th>\n",
       "      <td>0.164300</td>\n",
       "      <td>2015-06-23</td>\n",
       "      <td>4.0</td>\n",
       "      <td>462.0</td>\n",
       "      <td>999.0</td>\n",
       "      <td>5160.0</td>\n",
       "      <td>1.613540e+09</td>\n",
       "      <td>0.001164</td>\n",
       "      <td>1.0</td>\n",
       "      <td>18144.0703</td>\n",
       "      <td>75970000.0</td>\n",
       "      <td>0.001341</td>\n",
       "      <td>1.0</td>\n",
       "      <td>2015-06-23</td>\n",
       "    </tr>\n",
       "    <tr>\n",
       "      <th>6</th>\n",
       "      <td>0.161700</td>\n",
       "      <td>2015-06-24</td>\n",
       "      <td>4.0</td>\n",
       "      <td>748.0</td>\n",
       "      <td>2111.0</td>\n",
       "      <td>5122.0</td>\n",
       "      <td>1.628800e+09</td>\n",
       "      <td>-0.007364</td>\n",
       "      <td>0.0</td>\n",
       "      <td>17966.0703</td>\n",
       "      <td>104980000.0</td>\n",
       "      <td>-0.009810</td>\n",
       "      <td>0.0</td>\n",
       "      <td>2015-06-24</td>\n",
       "    </tr>\n",
       "    <tr>\n",
       "      <th>7</th>\n",
       "      <td>0.114313</td>\n",
       "      <td>2015-06-25</td>\n",
       "      <td>15.0</td>\n",
       "      <td>8331.0</td>\n",
       "      <td>14420.0</td>\n",
       "      <td>5112.0</td>\n",
       "      <td>1.614760e+09</td>\n",
       "      <td>-0.001952</td>\n",
       "      <td>0.0</td>\n",
       "      <td>17890.3594</td>\n",
       "      <td>78990000.0</td>\n",
       "      <td>-0.004214</td>\n",
       "      <td>0.0</td>\n",
       "      <td>2015-06-25</td>\n",
       "    </tr>\n",
       "    <tr>\n",
       "      <th>8</th>\n",
       "      <td>0.611300</td>\n",
       "      <td>2015-06-26</td>\n",
       "      <td>4.0</td>\n",
       "      <td>3082.0</td>\n",
       "      <td>4990.0</td>\n",
       "      <td>5081.0</td>\n",
       "      <td>3.843810e+09</td>\n",
       "      <td>-0.006064</td>\n",
       "      <td>0.0</td>\n",
       "      <td>17946.6797</td>\n",
       "      <td>158120000.0</td>\n",
       "      <td>0.003148</td>\n",
       "      <td>1.0</td>\n",
       "      <td>2015-06-26</td>\n",
       "    </tr>\n",
       "    <tr>\n",
       "      <th>9</th>\n",
       "      <td>-0.024307</td>\n",
       "      <td>2015-06-29</td>\n",
       "      <td>15.0</td>\n",
       "      <td>9354.0</td>\n",
       "      <td>15477.0</td>\n",
       "      <td>4958.0</td>\n",
       "      <td>2.025580e+09</td>\n",
       "      <td>-0.024208</td>\n",
       "      <td>0.0</td>\n",
       "      <td>17596.3496</td>\n",
       "      <td>116340000.0</td>\n",
       "      <td>-0.019521</td>\n",
       "      <td>0.0</td>\n",
       "      <td>2015-06-29</td>\n",
       "    </tr>\n",
       "    <tr>\n",
       "      <th>10</th>\n",
       "      <td>-0.333367</td>\n",
       "      <td>2015-06-30</td>\n",
       "      <td>3.0</td>\n",
       "      <td>6433.0</td>\n",
       "      <td>7819.0</td>\n",
       "      <td>4987.0</td>\n",
       "      <td>2.034430e+09</td>\n",
       "      <td>0.005849</td>\n",
       "      <td>1.0</td>\n",
       "      <td>17619.5098</td>\n",
       "      <td>126460000.0</td>\n",
       "      <td>0.001316</td>\n",
       "      <td>1.0</td>\n",
       "      <td>2015-06-30</td>\n",
       "    </tr>\n",
       "    <tr>\n",
       "      <th>11</th>\n",
       "      <td>-0.018150</td>\n",
       "      <td>2015-07-01</td>\n",
       "      <td>8.0</td>\n",
       "      <td>6267.0</td>\n",
       "      <td>9926.0</td>\n",
       "      <td>5013.0</td>\n",
       "      <td>1.814560e+09</td>\n",
       "      <td>0.005214</td>\n",
       "      <td>1.0</td>\n",
       "      <td>17757.9102</td>\n",
       "      <td>87010000.0</td>\n",
       "      <td>0.007855</td>\n",
       "      <td>1.0</td>\n",
       "      <td>2015-07-01</td>\n",
       "    </tr>\n",
       "    <tr>\n",
       "      <th>12</th>\n",
       "      <td>0.010106</td>\n",
       "      <td>2015-07-02</td>\n",
       "      <td>16.0</td>\n",
       "      <td>10708.0</td>\n",
       "      <td>16617.0</td>\n",
       "      <td>5009.0</td>\n",
       "      <td>1.490810e+09</td>\n",
       "      <td>-0.000798</td>\n",
       "      <td>0.0</td>\n",
       "      <td>17730.1094</td>\n",
       "      <td>83080000.0</td>\n",
       "      <td>-0.001566</td>\n",
       "      <td>0.0</td>\n",
       "      <td>2015-07-02</td>\n",
       "    </tr>\n",
       "    <tr>\n",
       "      <th>13</th>\n",
       "      <td>0.406150</td>\n",
       "      <td>2015-07-03</td>\n",
       "      <td>4.0</td>\n",
       "      <td>3477.0</td>\n",
       "      <td>6880.0</td>\n",
       "      <td>NaN</td>\n",
       "      <td>NaN</td>\n",
       "      <td>NaN</td>\n",
       "      <td>NaN</td>\n",
       "      <td>NaN</td>\n",
       "      <td>NaN</td>\n",
       "      <td>NaN</td>\n",
       "      <td>NaN</td>\n",
       "      <td>2015-07-03</td>\n",
       "    </tr>\n",
       "    <tr>\n",
       "      <th>14</th>\n",
       "      <td>0.030870</td>\n",
       "      <td>2015-07-06</td>\n",
       "      <td>20.0</td>\n",
       "      <td>22549.0</td>\n",
       "      <td>35156.0</td>\n",
       "      <td>4992.0</td>\n",
       "      <td>1.741500e+09</td>\n",
       "      <td>-0.003394</td>\n",
       "      <td>0.0</td>\n",
       "      <td>17683.5801</td>\n",
       "      <td>90130000.0</td>\n",
       "      <td>-0.002624</td>\n",
       "      <td>0.0</td>\n",
       "      <td>2015-07-06</td>\n",
       "    </tr>\n",
       "    <tr>\n",
       "      <th>15</th>\n",
       "      <td>0.405150</td>\n",
       "      <td>2015-07-07</td>\n",
       "      <td>2.0</td>\n",
       "      <td>1358.0</td>\n",
       "      <td>2636.0</td>\n",
       "      <td>4997.0</td>\n",
       "      <td>2.132080e+09</td>\n",
       "      <td>0.001002</td>\n",
       "      <td>1.0</td>\n",
       "      <td>17776.9102</td>\n",
       "      <td>105840000.0</td>\n",
       "      <td>0.005278</td>\n",
       "      <td>1.0</td>\n",
       "      <td>2015-07-07</td>\n",
       "    </tr>\n",
       "    <tr>\n",
       "      <th>16</th>\n",
       "      <td>0.419536</td>\n",
       "      <td>2015-07-08</td>\n",
       "      <td>11.0</td>\n",
       "      <td>5872.0</td>\n",
       "      <td>9852.0</td>\n",
       "      <td>4910.0</td>\n",
       "      <td>1.931520e+09</td>\n",
       "      <td>-0.017410</td>\n",
       "      <td>0.0</td>\n",
       "      <td>17515.4199</td>\n",
       "      <td>69830000.0</td>\n",
       "      <td>-0.014710</td>\n",
       "      <td>0.0</td>\n",
       "      <td>2015-07-08</td>\n",
       "    </tr>\n",
       "    <tr>\n",
       "      <th>17</th>\n",
       "      <td>-0.076831</td>\n",
       "      <td>2015-07-09</td>\n",
       "      <td>16.0</td>\n",
       "      <td>7399.0</td>\n",
       "      <td>11875.0</td>\n",
       "      <td>4922.0</td>\n",
       "      <td>1.861600e+09</td>\n",
       "      <td>0.002444</td>\n",
       "      <td>1.0</td>\n",
       "      <td>17548.6191</td>\n",
       "      <td>100520000.0</td>\n",
       "      <td>0.001895</td>\n",
       "      <td>1.0</td>\n",
       "      <td>2015-07-09</td>\n",
       "    </tr>\n",
       "    <tr>\n",
       "      <th>18</th>\n",
       "      <td>0.211875</td>\n",
       "      <td>2015-07-10</td>\n",
       "      <td>4.0</td>\n",
       "      <td>3252.0</td>\n",
       "      <td>5871.0</td>\n",
       "      <td>4998.0</td>\n",
       "      <td>1.590230e+09</td>\n",
       "      <td>0.015441</td>\n",
       "      <td>1.0</td>\n",
       "      <td>17760.4102</td>\n",
       "      <td>85800000.0</td>\n",
       "      <td>0.012069</td>\n",
       "      <td>1.0</td>\n",
       "      <td>2015-07-10</td>\n",
       "    </tr>\n",
       "    <tr>\n",
       "      <th>19</th>\n",
       "      <td>0.182774</td>\n",
       "      <td>2015-07-13</td>\n",
       "      <td>35.0</td>\n",
       "      <td>54418.0</td>\n",
       "      <td>78889.0</td>\n",
       "      <td>5072.0</td>\n",
       "      <td>1.694140e+09</td>\n",
       "      <td>0.014806</td>\n",
       "      <td>1.0</td>\n",
       "      <td>17977.6797</td>\n",
       "      <td>86380000.0</td>\n",
       "      <td>0.012233</td>\n",
       "      <td>1.0</td>\n",
       "      <td>2015-07-13</td>\n",
       "    </tr>\n",
       "    <tr>\n",
       "      <th>20</th>\n",
       "      <td>0.425050</td>\n",
       "      <td>2015-07-14</td>\n",
       "      <td>8.0</td>\n",
       "      <td>8119.0</td>\n",
       "      <td>14880.0</td>\n",
       "      <td>5105.0</td>\n",
       "      <td>1.682660e+09</td>\n",
       "      <td>0.006506</td>\n",
       "      <td>1.0</td>\n",
       "      <td>18053.5801</td>\n",
       "      <td>76740000.0</td>\n",
       "      <td>0.004222</td>\n",
       "      <td>1.0</td>\n",
       "      <td>2015-07-14</td>\n",
       "    </tr>\n",
       "    <tr>\n",
       "      <th>21</th>\n",
       "      <td>0.037420</td>\n",
       "      <td>2015-07-15</td>\n",
       "      <td>5.0</td>\n",
       "      <td>3257.0</td>\n",
       "      <td>5680.0</td>\n",
       "      <td>5099.0</td>\n",
       "      <td>1.691350e+09</td>\n",
       "      <td>-0.001175</td>\n",
       "      <td>0.0</td>\n",
       "      <td>18050.1699</td>\n",
       "      <td>80460000.0</td>\n",
       "      <td>-0.000189</td>\n",
       "      <td>0.0</td>\n",
       "      <td>2015-07-15</td>\n",
       "    </tr>\n",
       "    <tr>\n",
       "      <th>22</th>\n",
       "      <td>0.060500</td>\n",
       "      <td>2015-07-16</td>\n",
       "      <td>20.0</td>\n",
       "      <td>9336.0</td>\n",
       "      <td>17893.0</td>\n",
       "      <td>5163.0</td>\n",
       "      <td>1.823530e+09</td>\n",
       "      <td>0.012551</td>\n",
       "      <td>1.0</td>\n",
       "      <td>18120.2500</td>\n",
       "      <td>85030000.0</td>\n",
       "      <td>0.003883</td>\n",
       "      <td>1.0</td>\n",
       "      <td>2015-07-16</td>\n",
       "    </tr>\n",
       "    <tr>\n",
       "      <th>23</th>\n",
       "      <td>0.083814</td>\n",
       "      <td>2015-07-17</td>\n",
       "      <td>14.0</td>\n",
       "      <td>26311.0</td>\n",
       "      <td>40553.0</td>\n",
       "      <td>5210.0</td>\n",
       "      <td>1.854450e+09</td>\n",
       "      <td>0.009103</td>\n",
       "      <td>1.0</td>\n",
       "      <td>18086.4492</td>\n",
       "      <td>106510000.0</td>\n",
       "      <td>-0.001865</td>\n",
       "      <td>0.0</td>\n",
       "      <td>2015-07-17</td>\n",
       "    </tr>\n",
       "    <tr>\n",
       "      <th>24</th>\n",
       "      <td>0.178487</td>\n",
       "      <td>2015-07-20</td>\n",
       "      <td>30.0</td>\n",
       "      <td>37022.0</td>\n",
       "      <td>72992.0</td>\n",
       "      <td>5219.0</td>\n",
       "      <td>1.814180e+09</td>\n",
       "      <td>0.001727</td>\n",
       "      <td>1.0</td>\n",
       "      <td>18100.4102</td>\n",
       "      <td>75060000.0</td>\n",
       "      <td>0.000772</td>\n",
       "      <td>1.0</td>\n",
       "      <td>2015-07-20</td>\n",
       "    </tr>\n",
       "    <tr>\n",
       "      <th>25</th>\n",
       "      <td>0.432564</td>\n",
       "      <td>2015-07-21</td>\n",
       "      <td>11.0</td>\n",
       "      <td>9402.0</td>\n",
       "      <td>20650.0</td>\n",
       "      <td>5208.0</td>\n",
       "      <td>1.774570e+09</td>\n",
       "      <td>-0.002108</td>\n",
       "      <td>0.0</td>\n",
       "      <td>17919.2891</td>\n",
       "      <td>100170000.0</td>\n",
       "      <td>-0.010006</td>\n",
       "      <td>0.0</td>\n",
       "      <td>2015-07-21</td>\n",
       "    </tr>\n",
       "    <tr>\n",
       "      <th>26</th>\n",
       "      <td>0.296775</td>\n",
       "      <td>2015-07-22</td>\n",
       "      <td>12.0</td>\n",
       "      <td>11075.0</td>\n",
       "      <td>22200.0</td>\n",
       "      <td>5172.0</td>\n",
       "      <td>2.035730e+09</td>\n",
       "      <td>-0.006912</td>\n",
       "      <td>0.0</td>\n",
       "      <td>17851.0391</td>\n",
       "      <td>112370000.0</td>\n",
       "      <td>-0.003809</td>\n",
       "      <td>0.0</td>\n",
       "      <td>2015-07-22</td>\n",
       "    </tr>\n",
       "    <tr>\n",
       "      <th>27</th>\n",
       "      <td>0.202345</td>\n",
       "      <td>2015-07-23</td>\n",
       "      <td>11.0</td>\n",
       "      <td>6556.0</td>\n",
       "      <td>15012.0</td>\n",
       "      <td>5146.0</td>\n",
       "      <td>2.003310e+09</td>\n",
       "      <td>-0.005027</td>\n",
       "      <td>0.0</td>\n",
       "      <td>17731.9199</td>\n",
       "      <td>88600000.0</td>\n",
       "      <td>-0.006673</td>\n",
       "      <td>0.0</td>\n",
       "      <td>2015-07-23</td>\n",
       "    </tr>\n",
       "    <tr>\n",
       "      <th>28</th>\n",
       "      <td>0.371407</td>\n",
       "      <td>2015-07-24</td>\n",
       "      <td>14.0</td>\n",
       "      <td>6289.0</td>\n",
       "      <td>14336.0</td>\n",
       "      <td>5089.0</td>\n",
       "      <td>2.004380e+09</td>\n",
       "      <td>-0.011077</td>\n",
       "      <td>0.0</td>\n",
       "      <td>17568.5293</td>\n",
       "      <td>103470000.0</td>\n",
       "      <td>-0.009214</td>\n",
       "      <td>0.0</td>\n",
       "      <td>2015-07-24</td>\n",
       "    </tr>\n",
       "    <tr>\n",
       "      <th>29</th>\n",
       "      <td>0.325748</td>\n",
       "      <td>2015-07-27</td>\n",
       "      <td>23.0</td>\n",
       "      <td>19358.0</td>\n",
       "      <td>37936.0</td>\n",
       "      <td>5040.0</td>\n",
       "      <td>1.942520e+09</td>\n",
       "      <td>-0.009629</td>\n",
       "      <td>0.0</td>\n",
       "      <td>17440.5898</td>\n",
       "      <td>117860000.0</td>\n",
       "      <td>-0.007282</td>\n",
       "      <td>0.0</td>\n",
       "      <td>2015-07-27</td>\n",
       "    </tr>\n",
       "    <tr>\n",
       "      <th>...</th>\n",
       "      <td>...</td>\n",
       "      <td>...</td>\n",
       "      <td>...</td>\n",
       "      <td>...</td>\n",
       "      <td>...</td>\n",
       "      <td>...</td>\n",
       "      <td>...</td>\n",
       "      <td>...</td>\n",
       "      <td>...</td>\n",
       "      <td>...</td>\n",
       "      <td>...</td>\n",
       "      <td>...</td>\n",
       "      <td>...</td>\n",
       "      <td>...</td>\n",
       "    </tr>\n",
       "    <tr>\n",
       "      <th>793</th>\n",
       "      <td>-0.208740</td>\n",
       "      <td>2018-07-20</td>\n",
       "      <td>5.0</td>\n",
       "      <td>85902.0</td>\n",
       "      <td>377673.0</td>\n",
       "      <td>7820.0</td>\n",
       "      <td>1.786250e+09</td>\n",
       "      <td>-0.000639</td>\n",
       "      <td>0.0</td>\n",
       "      <td>25058.1191</td>\n",
       "      <td>274080000.0</td>\n",
       "      <td>-0.000255</td>\n",
       "      <td>0.0</td>\n",
       "      <td>2018-07-20</td>\n",
       "    </tr>\n",
       "    <tr>\n",
       "      <th>794</th>\n",
       "      <td>-0.212804</td>\n",
       "      <td>2018-07-23</td>\n",
       "      <td>25.0</td>\n",
       "      <td>698055.0</td>\n",
       "      <td>2668912.0</td>\n",
       "      <td>7842.0</td>\n",
       "      <td>1.654290e+09</td>\n",
       "      <td>0.002813</td>\n",
       "      <td>1.0</td>\n",
       "      <td>25044.2891</td>\n",
       "      <td>228820000.0</td>\n",
       "      <td>-0.000552</td>\n",
       "      <td>0.0</td>\n",
       "      <td>2018-07-23</td>\n",
       "    </tr>\n",
       "    <tr>\n",
       "      <th>795</th>\n",
       "      <td>0.413680</td>\n",
       "      <td>2018-07-24</td>\n",
       "      <td>10.0</td>\n",
       "      <td>182537.0</td>\n",
       "      <td>817192.0</td>\n",
       "      <td>7841.0</td>\n",
       "      <td>2.014850e+09</td>\n",
       "      <td>-0.000128</td>\n",
       "      <td>0.0</td>\n",
       "      <td>25241.9395</td>\n",
       "      <td>274940000.0</td>\n",
       "      <td>0.007892</td>\n",
       "      <td>1.0</td>\n",
       "      <td>2018-07-24</td>\n",
       "    </tr>\n",
       "    <tr>\n",
       "      <th>796</th>\n",
       "      <td>0.373190</td>\n",
       "      <td>2018-07-25</td>\n",
       "      <td>10.0</td>\n",
       "      <td>209295.0</td>\n",
       "      <td>872406.0</td>\n",
       "      <td>7932.0</td>\n",
       "      <td>1.899790e+09</td>\n",
       "      <td>0.011606</td>\n",
       "      <td>1.0</td>\n",
       "      <td>25414.0996</td>\n",
       "      <td>273670000.0</td>\n",
       "      <td>0.006820</td>\n",
       "      <td>1.0</td>\n",
       "      <td>2018-07-25</td>\n",
       "    </tr>\n",
       "    <tr>\n",
       "      <th>797</th>\n",
       "      <td>0.669079</td>\n",
       "      <td>2018-07-26</td>\n",
       "      <td>14.0</td>\n",
       "      <td>261030.0</td>\n",
       "      <td>1108206.0</td>\n",
       "      <td>7852.0</td>\n",
       "      <td>2.263070e+09</td>\n",
       "      <td>-0.010086</td>\n",
       "      <td>0.0</td>\n",
       "      <td>25527.0703</td>\n",
       "      <td>297530000.0</td>\n",
       "      <td>0.004445</td>\n",
       "      <td>1.0</td>\n",
       "      <td>2018-07-26</td>\n",
       "    </tr>\n",
       "    <tr>\n",
       "      <th>798</th>\n",
       "      <td>0.524853</td>\n",
       "      <td>2018-07-27</td>\n",
       "      <td>15.0</td>\n",
       "      <td>255476.0</td>\n",
       "      <td>1098380.0</td>\n",
       "      <td>7737.0</td>\n",
       "      <td>2.176170e+09</td>\n",
       "      <td>-0.014646</td>\n",
       "      <td>0.0</td>\n",
       "      <td>25451.0605</td>\n",
       "      <td>329680000.0</td>\n",
       "      <td>-0.002978</td>\n",
       "      <td>0.0</td>\n",
       "      <td>2018-07-27</td>\n",
       "    </tr>\n",
       "    <tr>\n",
       "      <th>799</th>\n",
       "      <td>0.115210</td>\n",
       "      <td>2018-07-30</td>\n",
       "      <td>20.0</td>\n",
       "      <td>446614.0</td>\n",
       "      <td>1769261.0</td>\n",
       "      <td>7630.0</td>\n",
       "      <td>2.143410e+09</td>\n",
       "      <td>-0.013830</td>\n",
       "      <td>0.0</td>\n",
       "      <td>25306.8301</td>\n",
       "      <td>296880000.0</td>\n",
       "      <td>-0.005667</td>\n",
       "      <td>0.0</td>\n",
       "      <td>2018-07-30</td>\n",
       "    </tr>\n",
       "    <tr>\n",
       "      <th>800</th>\n",
       "      <td>0.611533</td>\n",
       "      <td>2018-07-31</td>\n",
       "      <td>21.0</td>\n",
       "      <td>367510.0</td>\n",
       "      <td>1550475.0</td>\n",
       "      <td>7672.0</td>\n",
       "      <td>2.195050e+09</td>\n",
       "      <td>0.005505</td>\n",
       "      <td>1.0</td>\n",
       "      <td>25415.1895</td>\n",
       "      <td>348700000.0</td>\n",
       "      <td>0.004282</td>\n",
       "      <td>1.0</td>\n",
       "      <td>2018-07-31</td>\n",
       "    </tr>\n",
       "    <tr>\n",
       "      <th>801</th>\n",
       "      <td>0.039318</td>\n",
       "      <td>2018-08-01</td>\n",
       "      <td>11.0</td>\n",
       "      <td>204994.0</td>\n",
       "      <td>799173.0</td>\n",
       "      <td>7707.0</td>\n",
       "      <td>2.223550e+09</td>\n",
       "      <td>0.004562</td>\n",
       "      <td>1.0</td>\n",
       "      <td>25333.8203</td>\n",
       "      <td>315880000.0</td>\n",
       "      <td>-0.003202</td>\n",
       "      <td>0.0</td>\n",
       "      <td>2018-08-01</td>\n",
       "    </tr>\n",
       "    <tr>\n",
       "      <th>802</th>\n",
       "      <td>0.566500</td>\n",
       "      <td>2018-08-02</td>\n",
       "      <td>12.0</td>\n",
       "      <td>197165.0</td>\n",
       "      <td>880764.0</td>\n",
       "      <td>7803.0</td>\n",
       "      <td>2.081300e+09</td>\n",
       "      <td>0.012456</td>\n",
       "      <td>1.0</td>\n",
       "      <td>25326.1602</td>\n",
       "      <td>307700000.0</td>\n",
       "      <td>-0.000302</td>\n",
       "      <td>0.0</td>\n",
       "      <td>2018-08-02</td>\n",
       "    </tr>\n",
       "    <tr>\n",
       "      <th>803</th>\n",
       "      <td>0.364600</td>\n",
       "      <td>2018-08-03</td>\n",
       "      <td>4.0</td>\n",
       "      <td>77330.0</td>\n",
       "      <td>345513.0</td>\n",
       "      <td>7812.0</td>\n",
       "      <td>2.018700e+09</td>\n",
       "      <td>0.001153</td>\n",
       "      <td>1.0</td>\n",
       "      <td>25462.5801</td>\n",
       "      <td>239020000.0</td>\n",
       "      <td>0.005387</td>\n",
       "      <td>1.0</td>\n",
       "      <td>2018-08-03</td>\n",
       "    </tr>\n",
       "    <tr>\n",
       "      <th>804</th>\n",
       "      <td>0.240506</td>\n",
       "      <td>2018-08-06</td>\n",
       "      <td>32.0</td>\n",
       "      <td>635069.0</td>\n",
       "      <td>2653181.0</td>\n",
       "      <td>7860.0</td>\n",
       "      <td>2.238170e+09</td>\n",
       "      <td>0.006144</td>\n",
       "      <td>1.0</td>\n",
       "      <td>25502.1797</td>\n",
       "      <td>238990000.0</td>\n",
       "      <td>0.001555</td>\n",
       "      <td>1.0</td>\n",
       "      <td>2018-08-06</td>\n",
       "    </tr>\n",
       "    <tr>\n",
       "      <th>805</th>\n",
       "      <td>0.270950</td>\n",
       "      <td>2018-08-07</td>\n",
       "      <td>6.0</td>\n",
       "      <td>120496.0</td>\n",
       "      <td>473718.0</td>\n",
       "      <td>7884.0</td>\n",
       "      <td>2.197590e+09</td>\n",
       "      <td>0.003053</td>\n",
       "      <td>1.0</td>\n",
       "      <td>25628.9102</td>\n",
       "      <td>239910000.0</td>\n",
       "      <td>0.004969</td>\n",
       "      <td>1.0</td>\n",
       "      <td>2018-08-07</td>\n",
       "    </tr>\n",
       "    <tr>\n",
       "      <th>806</th>\n",
       "      <td>0.899350</td>\n",
       "      <td>2018-08-08</td>\n",
       "      <td>8.0</td>\n",
       "      <td>162659.0</td>\n",
       "      <td>758516.0</td>\n",
       "      <td>7888.0</td>\n",
       "      <td>2.087850e+09</td>\n",
       "      <td>0.000507</td>\n",
       "      <td>1.0</td>\n",
       "      <td>25583.7500</td>\n",
       "      <td>217770000.0</td>\n",
       "      <td>-0.001762</td>\n",
       "      <td>0.0</td>\n",
       "      <td>2018-08-08</td>\n",
       "    </tr>\n",
       "    <tr>\n",
       "      <th>807</th>\n",
       "      <td>-0.098875</td>\n",
       "      <td>2018-08-09</td>\n",
       "      <td>4.0</td>\n",
       "      <td>77739.0</td>\n",
       "      <td>293452.0</td>\n",
       "      <td>7892.0</td>\n",
       "      <td>2.032950e+09</td>\n",
       "      <td>0.000507</td>\n",
       "      <td>1.0</td>\n",
       "      <td>25509.2305</td>\n",
       "      <td>214970000.0</td>\n",
       "      <td>-0.002913</td>\n",
       "      <td>0.0</td>\n",
       "      <td>2018-08-09</td>\n",
       "    </tr>\n",
       "    <tr>\n",
       "      <th>808</th>\n",
       "      <td>0.635025</td>\n",
       "      <td>2018-08-10</td>\n",
       "      <td>4.0</td>\n",
       "      <td>127311.0</td>\n",
       "      <td>516604.0</td>\n",
       "      <td>7839.0</td>\n",
       "      <td>2.095180e+09</td>\n",
       "      <td>-0.006716</td>\n",
       "      <td>0.0</td>\n",
       "      <td>25313.1406</td>\n",
       "      <td>234480000.0</td>\n",
       "      <td>-0.007687</td>\n",
       "      <td>0.0</td>\n",
       "      <td>2018-08-10</td>\n",
       "    </tr>\n",
       "    <tr>\n",
       "      <th>809</th>\n",
       "      <td>0.078182</td>\n",
       "      <td>2018-08-13</td>\n",
       "      <td>28.0</td>\n",
       "      <td>617372.0</td>\n",
       "      <td>2585791.0</td>\n",
       "      <td>7820.0</td>\n",
       "      <td>1.914240e+09</td>\n",
       "      <td>-0.002424</td>\n",
       "      <td>0.0</td>\n",
       "      <td>25187.6992</td>\n",
       "      <td>219990000.0</td>\n",
       "      <td>-0.004956</td>\n",
       "      <td>0.0</td>\n",
       "      <td>2018-08-13</td>\n",
       "    </tr>\n",
       "    <tr>\n",
       "      <th>810</th>\n",
       "      <td>-0.071600</td>\n",
       "      <td>2018-08-14</td>\n",
       "      <td>17.0</td>\n",
       "      <td>310936.0</td>\n",
       "      <td>1268597.0</td>\n",
       "      <td>7871.0</td>\n",
       "      <td>1.917360e+09</td>\n",
       "      <td>0.006522</td>\n",
       "      <td>1.0</td>\n",
       "      <td>25299.9199</td>\n",
       "      <td>219210000.0</td>\n",
       "      <td>0.004455</td>\n",
       "      <td>1.0</td>\n",
       "      <td>2018-08-14</td>\n",
       "    </tr>\n",
       "    <tr>\n",
       "      <th>811</th>\n",
       "      <td>0.490731</td>\n",
       "      <td>2018-08-15</td>\n",
       "      <td>16.0</td>\n",
       "      <td>234672.0</td>\n",
       "      <td>975654.0</td>\n",
       "      <td>7774.0</td>\n",
       "      <td>2.286960e+09</td>\n",
       "      <td>-0.012324</td>\n",
       "      <td>0.0</td>\n",
       "      <td>25162.4102</td>\n",
       "      <td>295810000.0</td>\n",
       "      <td>-0.005435</td>\n",
       "      <td>0.0</td>\n",
       "      <td>2018-08-15</td>\n",
       "    </tr>\n",
       "    <tr>\n",
       "      <th>812</th>\n",
       "      <td>0.378792</td>\n",
       "      <td>2018-08-16</td>\n",
       "      <td>13.0</td>\n",
       "      <td>312630.0</td>\n",
       "      <td>1223244.0</td>\n",
       "      <td>7807.0</td>\n",
       "      <td>1.979540e+09</td>\n",
       "      <td>0.004245</td>\n",
       "      <td>1.0</td>\n",
       "      <td>25558.7305</td>\n",
       "      <td>342430000.0</td>\n",
       "      <td>0.015750</td>\n",
       "      <td>1.0</td>\n",
       "      <td>2018-08-16</td>\n",
       "    </tr>\n",
       "    <tr>\n",
       "      <th>813</th>\n",
       "      <td>0.143855</td>\n",
       "      <td>2018-08-17</td>\n",
       "      <td>20.0</td>\n",
       "      <td>372625.0</td>\n",
       "      <td>1494773.0</td>\n",
       "      <td>7816.0</td>\n",
       "      <td>1.843150e+09</td>\n",
       "      <td>0.001153</td>\n",
       "      <td>1.0</td>\n",
       "      <td>25669.3203</td>\n",
       "      <td>284160000.0</td>\n",
       "      <td>0.004327</td>\n",
       "      <td>1.0</td>\n",
       "      <td>2018-08-17</td>\n",
       "    </tr>\n",
       "    <tr>\n",
       "      <th>814</th>\n",
       "      <td>-0.366196</td>\n",
       "      <td>2018-08-20</td>\n",
       "      <td>27.0</td>\n",
       "      <td>628913.0</td>\n",
       "      <td>2424125.0</td>\n",
       "      <td>7821.0</td>\n",
       "      <td>1.698970e+09</td>\n",
       "      <td>0.000640</td>\n",
       "      <td>1.0</td>\n",
       "      <td>25758.6895</td>\n",
       "      <td>248570000.0</td>\n",
       "      <td>0.003482</td>\n",
       "      <td>1.0</td>\n",
       "      <td>2018-08-20</td>\n",
       "    </tr>\n",
       "    <tr>\n",
       "      <th>815</th>\n",
       "      <td>0.333000</td>\n",
       "      <td>2018-08-21</td>\n",
       "      <td>12.0</td>\n",
       "      <td>227872.0</td>\n",
       "      <td>924910.0</td>\n",
       "      <td>7859.0</td>\n",
       "      <td>1.766630e+09</td>\n",
       "      <td>0.004859</td>\n",
       "      <td>1.0</td>\n",
       "      <td>25822.2891</td>\n",
       "      <td>241620000.0</td>\n",
       "      <td>0.002469</td>\n",
       "      <td>1.0</td>\n",
       "      <td>2018-08-21</td>\n",
       "    </tr>\n",
       "    <tr>\n",
       "      <th>816</th>\n",
       "      <td>0.394363</td>\n",
       "      <td>2018-08-22</td>\n",
       "      <td>8.0</td>\n",
       "      <td>160672.0</td>\n",
       "      <td>674094.0</td>\n",
       "      <td>7889.0</td>\n",
       "      <td>1.660460e+09</td>\n",
       "      <td>0.003817</td>\n",
       "      <td>1.0</td>\n",
       "      <td>25733.5996</td>\n",
       "      <td>200480000.0</td>\n",
       "      <td>-0.003435</td>\n",
       "      <td>0.0</td>\n",
       "      <td>2018-08-22</td>\n",
       "    </tr>\n",
       "    <tr>\n",
       "      <th>817</th>\n",
       "      <td>-0.041562</td>\n",
       "      <td>2018-08-23</td>\n",
       "      <td>8.0</td>\n",
       "      <td>174137.0</td>\n",
       "      <td>690317.0</td>\n",
       "      <td>7878.0</td>\n",
       "      <td>1.879890e+09</td>\n",
       "      <td>-0.001394</td>\n",
       "      <td>0.0</td>\n",
       "      <td>25656.9805</td>\n",
       "      <td>213270000.0</td>\n",
       "      <td>-0.002977</td>\n",
       "      <td>0.0</td>\n",
       "      <td>2018-08-23</td>\n",
       "    </tr>\n",
       "    <tr>\n",
       "      <th>818</th>\n",
       "      <td>0.261717</td>\n",
       "      <td>2018-08-24</td>\n",
       "      <td>12.0</td>\n",
       "      <td>270239.0</td>\n",
       "      <td>1038721.0</td>\n",
       "      <td>7946.0</td>\n",
       "      <td>1.886600e+09</td>\n",
       "      <td>0.008632</td>\n",
       "      <td>1.0</td>\n",
       "      <td>25790.3496</td>\n",
       "      <td>200330000.0</td>\n",
       "      <td>0.005198</td>\n",
       "      <td>1.0</td>\n",
       "      <td>2018-08-24</td>\n",
       "    </tr>\n",
       "    <tr>\n",
       "      <th>819</th>\n",
       "      <td>0.442372</td>\n",
       "      <td>2018-08-27</td>\n",
       "      <td>25.0</td>\n",
       "      <td>568608.0</td>\n",
       "      <td>2437154.0</td>\n",
       "      <td>8018.0</td>\n",
       "      <td>2.319130e+09</td>\n",
       "      <td>0.009061</td>\n",
       "      <td>1.0</td>\n",
       "      <td>26049.6406</td>\n",
       "      <td>220510000.0</td>\n",
       "      <td>0.010054</td>\n",
       "      <td>1.0</td>\n",
       "      <td>2018-08-27</td>\n",
       "    </tr>\n",
       "    <tr>\n",
       "      <th>820</th>\n",
       "      <td>-0.272114</td>\n",
       "      <td>2018-08-28</td>\n",
       "      <td>7.0</td>\n",
       "      <td>135230.0</td>\n",
       "      <td>483829.0</td>\n",
       "      <td>8030.0</td>\n",
       "      <td>1.961300e+09</td>\n",
       "      <td>0.001497</td>\n",
       "      <td>1.0</td>\n",
       "      <td>26064.0195</td>\n",
       "      <td>211470000.0</td>\n",
       "      <td>0.000552</td>\n",
       "      <td>1.0</td>\n",
       "      <td>2018-08-28</td>\n",
       "    </tr>\n",
       "    <tr>\n",
       "      <th>821</th>\n",
       "      <td>0.189418</td>\n",
       "      <td>2018-08-29</td>\n",
       "      <td>17.0</td>\n",
       "      <td>357155.0</td>\n",
       "      <td>1341093.0</td>\n",
       "      <td>8110.0</td>\n",
       "      <td>1.897000e+09</td>\n",
       "      <td>0.009963</td>\n",
       "      <td>1.0</td>\n",
       "      <td>26124.5703</td>\n",
       "      <td>214960000.0</td>\n",
       "      <td>0.002323</td>\n",
       "      <td>1.0</td>\n",
       "      <td>2018-08-29</td>\n",
       "    </tr>\n",
       "    <tr>\n",
       "      <th>822</th>\n",
       "      <td>-0.256188</td>\n",
       "      <td>2018-08-30</td>\n",
       "      <td>8.0</td>\n",
       "      <td>100408.0</td>\n",
       "      <td>350874.0</td>\n",
       "      <td>NaN</td>\n",
       "      <td>NaN</td>\n",
       "      <td>NaN</td>\n",
       "      <td>NaN</td>\n",
       "      <td>NaN</td>\n",
       "      <td>NaN</td>\n",
       "      <td>NaN</td>\n",
       "      <td>NaN</td>\n",
       "      <td>2018-08-30</td>\n",
       "    </tr>\n",
       "  </tbody>\n",
       "</table>\n",
       "<p>837 rows × 14 columns</p>\n",
       "</div>"
      ],
      "text/plain": [
       "     avr_sentiment_per_day        date  count_per_day  retweet_per_day  \\\n",
       "0                 0.467650  2015-06-16            8.0          18874.0   \n",
       "1                 0.491114  2015-06-17            7.0           1140.0   \n",
       "2                 0.323700  2015-06-18            5.0            823.0   \n",
       "3                -0.105250  2015-06-19           10.0           2729.0   \n",
       "4                 0.191129  2015-06-22           28.0          10745.0   \n",
       "5                 0.164300  2015-06-23            4.0            462.0   \n",
       "6                 0.161700  2015-06-24            4.0            748.0   \n",
       "7                 0.114313  2015-06-25           15.0           8331.0   \n",
       "8                 0.611300  2015-06-26            4.0           3082.0   \n",
       "9                -0.024307  2015-06-29           15.0           9354.0   \n",
       "10               -0.333367  2015-06-30            3.0           6433.0   \n",
       "11               -0.018150  2015-07-01            8.0           6267.0   \n",
       "12                0.010106  2015-07-02           16.0          10708.0   \n",
       "13                0.406150  2015-07-03            4.0           3477.0   \n",
       "14                0.030870  2015-07-06           20.0          22549.0   \n",
       "15                0.405150  2015-07-07            2.0           1358.0   \n",
       "16                0.419536  2015-07-08           11.0           5872.0   \n",
       "17               -0.076831  2015-07-09           16.0           7399.0   \n",
       "18                0.211875  2015-07-10            4.0           3252.0   \n",
       "19                0.182774  2015-07-13           35.0          54418.0   \n",
       "20                0.425050  2015-07-14            8.0           8119.0   \n",
       "21                0.037420  2015-07-15            5.0           3257.0   \n",
       "22                0.060500  2015-07-16           20.0           9336.0   \n",
       "23                0.083814  2015-07-17           14.0          26311.0   \n",
       "24                0.178487  2015-07-20           30.0          37022.0   \n",
       "25                0.432564  2015-07-21           11.0           9402.0   \n",
       "26                0.296775  2015-07-22           12.0          11075.0   \n",
       "27                0.202345  2015-07-23           11.0           6556.0   \n",
       "28                0.371407  2015-07-24           14.0           6289.0   \n",
       "29                0.325748  2015-07-27           23.0          19358.0   \n",
       "..                     ...         ...            ...              ...   \n",
       "793              -0.208740  2018-07-20            5.0          85902.0   \n",
       "794              -0.212804  2018-07-23           25.0         698055.0   \n",
       "795               0.413680  2018-07-24           10.0         182537.0   \n",
       "796               0.373190  2018-07-25           10.0         209295.0   \n",
       "797               0.669079  2018-07-26           14.0         261030.0   \n",
       "798               0.524853  2018-07-27           15.0         255476.0   \n",
       "799               0.115210  2018-07-30           20.0         446614.0   \n",
       "800               0.611533  2018-07-31           21.0         367510.0   \n",
       "801               0.039318  2018-08-01           11.0         204994.0   \n",
       "802               0.566500  2018-08-02           12.0         197165.0   \n",
       "803               0.364600  2018-08-03            4.0          77330.0   \n",
       "804               0.240506  2018-08-06           32.0         635069.0   \n",
       "805               0.270950  2018-08-07            6.0         120496.0   \n",
       "806               0.899350  2018-08-08            8.0         162659.0   \n",
       "807              -0.098875  2018-08-09            4.0          77739.0   \n",
       "808               0.635025  2018-08-10            4.0         127311.0   \n",
       "809               0.078182  2018-08-13           28.0         617372.0   \n",
       "810              -0.071600  2018-08-14           17.0         310936.0   \n",
       "811               0.490731  2018-08-15           16.0         234672.0   \n",
       "812               0.378792  2018-08-16           13.0         312630.0   \n",
       "813               0.143855  2018-08-17           20.0         372625.0   \n",
       "814              -0.366196  2018-08-20           27.0         628913.0   \n",
       "815               0.333000  2018-08-21           12.0         227872.0   \n",
       "816               0.394363  2018-08-22            8.0         160672.0   \n",
       "817              -0.041562  2018-08-23            8.0         174137.0   \n",
       "818               0.261717  2018-08-24           12.0         270239.0   \n",
       "819               0.442372  2018-08-27           25.0         568608.0   \n",
       "820              -0.272114  2018-08-28            7.0         135230.0   \n",
       "821               0.189418  2018-08-29           17.0         357155.0   \n",
       "822              -0.256188  2018-08-30            8.0         100408.0   \n",
       "\n",
       "     likes_per_day  close_ixic      vol_ixic  change_ixic  change_ixic_bool  \\\n",
       "0          23453.0      5056.0  1.654820e+09     0.005169               1.0   \n",
       "1           3378.0      5065.0  1.712820e+09     0.001780               1.0   \n",
       "2           2000.0      5133.0  1.877920e+09     0.013425               1.0   \n",
       "3           4464.0      5117.0  2.468310e+09    -0.003117               0.0   \n",
       "4          19072.0      5154.0  1.619970e+09     0.007231               1.0   \n",
       "5            999.0      5160.0  1.613540e+09     0.001164               1.0   \n",
       "6           2111.0      5122.0  1.628800e+09    -0.007364               0.0   \n",
       "7          14420.0      5112.0  1.614760e+09    -0.001952               0.0   \n",
       "8           4990.0      5081.0  3.843810e+09    -0.006064               0.0   \n",
       "9          15477.0      4958.0  2.025580e+09    -0.024208               0.0   \n",
       "10          7819.0      4987.0  2.034430e+09     0.005849               1.0   \n",
       "11          9926.0      5013.0  1.814560e+09     0.005214               1.0   \n",
       "12         16617.0      5009.0  1.490810e+09    -0.000798               0.0   \n",
       "13          6880.0         NaN           NaN          NaN               NaN   \n",
       "14         35156.0      4992.0  1.741500e+09    -0.003394               0.0   \n",
       "15          2636.0      4997.0  2.132080e+09     0.001002               1.0   \n",
       "16          9852.0      4910.0  1.931520e+09    -0.017410               0.0   \n",
       "17         11875.0      4922.0  1.861600e+09     0.002444               1.0   \n",
       "18          5871.0      4998.0  1.590230e+09     0.015441               1.0   \n",
       "19         78889.0      5072.0  1.694140e+09     0.014806               1.0   \n",
       "20         14880.0      5105.0  1.682660e+09     0.006506               1.0   \n",
       "21          5680.0      5099.0  1.691350e+09    -0.001175               0.0   \n",
       "22         17893.0      5163.0  1.823530e+09     0.012551               1.0   \n",
       "23         40553.0      5210.0  1.854450e+09     0.009103               1.0   \n",
       "24         72992.0      5219.0  1.814180e+09     0.001727               1.0   \n",
       "25         20650.0      5208.0  1.774570e+09    -0.002108               0.0   \n",
       "26         22200.0      5172.0  2.035730e+09    -0.006912               0.0   \n",
       "27         15012.0      5146.0  2.003310e+09    -0.005027               0.0   \n",
       "28         14336.0      5089.0  2.004380e+09    -0.011077               0.0   \n",
       "29         37936.0      5040.0  1.942520e+09    -0.009629               0.0   \n",
       "..             ...         ...           ...          ...               ...   \n",
       "793       377673.0      7820.0  1.786250e+09    -0.000639               0.0   \n",
       "794      2668912.0      7842.0  1.654290e+09     0.002813               1.0   \n",
       "795       817192.0      7841.0  2.014850e+09    -0.000128               0.0   \n",
       "796       872406.0      7932.0  1.899790e+09     0.011606               1.0   \n",
       "797      1108206.0      7852.0  2.263070e+09    -0.010086               0.0   \n",
       "798      1098380.0      7737.0  2.176170e+09    -0.014646               0.0   \n",
       "799      1769261.0      7630.0  2.143410e+09    -0.013830               0.0   \n",
       "800      1550475.0      7672.0  2.195050e+09     0.005505               1.0   \n",
       "801       799173.0      7707.0  2.223550e+09     0.004562               1.0   \n",
       "802       880764.0      7803.0  2.081300e+09     0.012456               1.0   \n",
       "803       345513.0      7812.0  2.018700e+09     0.001153               1.0   \n",
       "804      2653181.0      7860.0  2.238170e+09     0.006144               1.0   \n",
       "805       473718.0      7884.0  2.197590e+09     0.003053               1.0   \n",
       "806       758516.0      7888.0  2.087850e+09     0.000507               1.0   \n",
       "807       293452.0      7892.0  2.032950e+09     0.000507               1.0   \n",
       "808       516604.0      7839.0  2.095180e+09    -0.006716               0.0   \n",
       "809      2585791.0      7820.0  1.914240e+09    -0.002424               0.0   \n",
       "810      1268597.0      7871.0  1.917360e+09     0.006522               1.0   \n",
       "811       975654.0      7774.0  2.286960e+09    -0.012324               0.0   \n",
       "812      1223244.0      7807.0  1.979540e+09     0.004245               1.0   \n",
       "813      1494773.0      7816.0  1.843150e+09     0.001153               1.0   \n",
       "814      2424125.0      7821.0  1.698970e+09     0.000640               1.0   \n",
       "815       924910.0      7859.0  1.766630e+09     0.004859               1.0   \n",
       "816       674094.0      7889.0  1.660460e+09     0.003817               1.0   \n",
       "817       690317.0      7878.0  1.879890e+09    -0.001394               0.0   \n",
       "818      1038721.0      7946.0  1.886600e+09     0.008632               1.0   \n",
       "819      2437154.0      8018.0  2.319130e+09     0.009061               1.0   \n",
       "820       483829.0      8030.0  1.961300e+09     0.001497               1.0   \n",
       "821      1341093.0      8110.0  1.897000e+09     0.009963               1.0   \n",
       "822       350874.0         NaN           NaN          NaN               NaN   \n",
       "\n",
       "       close_dj       vol_dj  change_dj  change_dj_bool      dates  \n",
       "0    17904.4805   77510000.0   0.006369             1.0 2015-06-16  \n",
       "1    17935.7402   92410000.0   0.001746             1.0 2015-06-17  \n",
       "2    18115.8398   94460000.0   0.010041             1.0 2015-06-18  \n",
       "3    18015.9492  258300000.0  -0.005514             0.0 2015-06-19  \n",
       "4    18119.7793   77780000.0   0.005763             1.0 2015-06-22  \n",
       "5    18144.0703   75970000.0   0.001341             1.0 2015-06-23  \n",
       "6    17966.0703  104980000.0  -0.009810             0.0 2015-06-24  \n",
       "7    17890.3594   78990000.0  -0.004214             0.0 2015-06-25  \n",
       "8    17946.6797  158120000.0   0.003148             1.0 2015-06-26  \n",
       "9    17596.3496  116340000.0  -0.019521             0.0 2015-06-29  \n",
       "10   17619.5098  126460000.0   0.001316             1.0 2015-06-30  \n",
       "11   17757.9102   87010000.0   0.007855             1.0 2015-07-01  \n",
       "12   17730.1094   83080000.0  -0.001566             0.0 2015-07-02  \n",
       "13          NaN          NaN        NaN             NaN 2015-07-03  \n",
       "14   17683.5801   90130000.0  -0.002624             0.0 2015-07-06  \n",
       "15   17776.9102  105840000.0   0.005278             1.0 2015-07-07  \n",
       "16   17515.4199   69830000.0  -0.014710             0.0 2015-07-08  \n",
       "17   17548.6191  100520000.0   0.001895             1.0 2015-07-09  \n",
       "18   17760.4102   85800000.0   0.012069             1.0 2015-07-10  \n",
       "19   17977.6797   86380000.0   0.012233             1.0 2015-07-13  \n",
       "20   18053.5801   76740000.0   0.004222             1.0 2015-07-14  \n",
       "21   18050.1699   80460000.0  -0.000189             0.0 2015-07-15  \n",
       "22   18120.2500   85030000.0   0.003883             1.0 2015-07-16  \n",
       "23   18086.4492  106510000.0  -0.001865             0.0 2015-07-17  \n",
       "24   18100.4102   75060000.0   0.000772             1.0 2015-07-20  \n",
       "25   17919.2891  100170000.0  -0.010006             0.0 2015-07-21  \n",
       "26   17851.0391  112370000.0  -0.003809             0.0 2015-07-22  \n",
       "27   17731.9199   88600000.0  -0.006673             0.0 2015-07-23  \n",
       "28   17568.5293  103470000.0  -0.009214             0.0 2015-07-24  \n",
       "29   17440.5898  117860000.0  -0.007282             0.0 2015-07-27  \n",
       "..          ...          ...        ...             ...        ...  \n",
       "793  25058.1191  274080000.0  -0.000255             0.0 2018-07-20  \n",
       "794  25044.2891  228820000.0  -0.000552             0.0 2018-07-23  \n",
       "795  25241.9395  274940000.0   0.007892             1.0 2018-07-24  \n",
       "796  25414.0996  273670000.0   0.006820             1.0 2018-07-25  \n",
       "797  25527.0703  297530000.0   0.004445             1.0 2018-07-26  \n",
       "798  25451.0605  329680000.0  -0.002978             0.0 2018-07-27  \n",
       "799  25306.8301  296880000.0  -0.005667             0.0 2018-07-30  \n",
       "800  25415.1895  348700000.0   0.004282             1.0 2018-07-31  \n",
       "801  25333.8203  315880000.0  -0.003202             0.0 2018-08-01  \n",
       "802  25326.1602  307700000.0  -0.000302             0.0 2018-08-02  \n",
       "803  25462.5801  239020000.0   0.005387             1.0 2018-08-03  \n",
       "804  25502.1797  238990000.0   0.001555             1.0 2018-08-06  \n",
       "805  25628.9102  239910000.0   0.004969             1.0 2018-08-07  \n",
       "806  25583.7500  217770000.0  -0.001762             0.0 2018-08-08  \n",
       "807  25509.2305  214970000.0  -0.002913             0.0 2018-08-09  \n",
       "808  25313.1406  234480000.0  -0.007687             0.0 2018-08-10  \n",
       "809  25187.6992  219990000.0  -0.004956             0.0 2018-08-13  \n",
       "810  25299.9199  219210000.0   0.004455             1.0 2018-08-14  \n",
       "811  25162.4102  295810000.0  -0.005435             0.0 2018-08-15  \n",
       "812  25558.7305  342430000.0   0.015750             1.0 2018-08-16  \n",
       "813  25669.3203  284160000.0   0.004327             1.0 2018-08-17  \n",
       "814  25758.6895  248570000.0   0.003482             1.0 2018-08-20  \n",
       "815  25822.2891  241620000.0   0.002469             1.0 2018-08-21  \n",
       "816  25733.5996  200480000.0  -0.003435             0.0 2018-08-22  \n",
       "817  25656.9805  213270000.0  -0.002977             0.0 2018-08-23  \n",
       "818  25790.3496  200330000.0   0.005198             1.0 2018-08-24  \n",
       "819  26049.6406  220510000.0   0.010054             1.0 2018-08-27  \n",
       "820  26064.0195  211470000.0   0.000552             1.0 2018-08-28  \n",
       "821  26124.5703  214960000.0   0.002323             1.0 2018-08-29  \n",
       "822         NaN          NaN        NaN             NaN 2018-08-30  \n",
       "\n",
       "[837 rows x 14 columns]"
      ]
     },
     "execution_count": 83,
     "metadata": {},
     "output_type": "execute_result"
    }
   ],
   "source": [
    "s_t['avr_sentiment_per_day'] = s_t['avr_sentiment_per_day'].fillna(0)\n",
    "s_t['count_per_day'] = s_t['count_per_day'].fillna(0)\n",
    "s_t['retweet_per_day'] = s_t['retweet_per_day'].fillna(0)\n",
    "s_t['likes_per_day'] = s_t['likes_per_day'].fillna(0)\n",
    "s_t['dates'] = pd.to_datetime(s_t['date'])\n",
    "s_t.sort_values('dates')"
   ]
  },
  {
   "cell_type": "markdown",
   "metadata": {},
   "source": [
    "The observations for stock market with N/A gets valued by taking the value from the day before and after, divided by 2"
   ]
  },
  {
   "cell_type": "code",
   "execution_count": 85,
   "metadata": {},
   "outputs": [],
   "source": [
    "s_t['close_ixic'] = ((s_t['close_ixic'].fillna(method='bfill') + s_t['close_ixic'].fillna(method='ffill'))/2)\n",
    "s_t['vol_ixic'] = ((s_t['vol_ixic'].fillna(method='bfill') + s_t['vol_ixic'].fillna(method='ffill'))/2)\n",
    "s_t['vol_dj'] = ((s_t['vol_dj'].fillna(method='bfill') + s_t['vol_dj'].fillna(method='ffill'))/2)\n",
    "s_t['close_dj'] = ((s_t['close_dj'].fillna(method='bfill') + s_t['close_dj'].fillna(method='ffill'))/2)\n",
    "s_t['change_dj'] = ((s_t['change_dj'].fillna(method='bfill') + s_t['change_dj'].fillna(method='ffill'))/2)\n",
    "s_t['change_ixic'] = ((s_t['change_ixic'].fillna(method='bfill') + s_t['change_ixic'].fillna(method='ffill'))/2)"
   ]
  },
  {
   "cell_type": "markdown",
   "metadata": {},
   "source": [
    "Does the market go up or down - Boolean value"
   ]
  },
  {
   "cell_type": "code",
   "execution_count": 86,
   "metadata": {},
   "outputs": [],
   "source": [
    "s_t.drop(columns = ['change_ixic_bool','change_dj_bool'])\n",
    "\n",
    "#New boolean indicator for Nasdaq\n",
    "change_bool = []\n",
    "for x in s_t['change_ixic']:\n",
    "    if x > 0:\n",
    "        change_bool.append(1)\n",
    "    else:\n",
    "        change_bool.append(0)\n",
    "\n",
    "s_t[\"change_ixic_bool\"] = change_bool\n",
    "\n",
    "#New boolean indicator for Dow Jones\n",
    "change_bool = []\n",
    "for x in s_t['change_dj']:\n",
    "    if x > 0:\n",
    "        change_bool.append(1)\n",
    "    else:\n",
    "        change_bool.append(0)\n",
    "\n",
    "s_t[\"change_dj_bool\"] = change_bool"
   ]
  },
  {
   "cell_type": "code",
   "execution_count": 87,
   "metadata": {},
   "outputs": [
    {
     "data": {
      "text/plain": [
       "avr_sentiment_per_day    0\n",
       "date                     0\n",
       "count_per_day            0\n",
       "retweet_per_day          0\n",
       "likes_per_day            0\n",
       "close_ixic               0\n",
       "vol_ixic                 0\n",
       "change_ixic              0\n",
       "change_ixic_bool         0\n",
       "close_dj                 0\n",
       "vol_dj                   0\n",
       "change_dj                0\n",
       "change_dj_bool           0\n",
       "dates                    0\n",
       "dtype: int64"
      ]
     },
     "execution_count": 87,
     "metadata": {},
     "output_type": "execute_result"
    }
   ],
   "source": [
    "#Finding missing observations\n",
    "s_t.isnull().sum() #There should be none"
   ]
  },
  {
   "cell_type": "code",
   "execution_count": 88,
   "metadata": {},
   "outputs": [],
   "source": [
    "#Copy for final merged\n",
    "nas_trump = s_t.copy()\n",
    "\n",
    "#Saves as csv\n",
    "nas_trump.to_csv('final_merged.csv')"
   ]
  },
  {
   "cell_type": "markdown",
   "metadata": {},
   "source": [
    "-------------------\n",
    "# 4. Analysing \n",
    "\n",
    "First we want to split the data into 2, one for Dow Jones and one for Nasdaq"
   ]
  },
  {
   "cell_type": "code",
   "execution_count": 221,
   "metadata": {},
   "outputs": [],
   "source": [
    "nas_trump['timepassed'] = nas_trump.index.copy().astype(int) #format change so we can have a quantitative time variable\n",
    "\n",
    "nas_trump = nas_trump.rename(index =str, columns = {'avr_sentiment_per_day':'sentiment','retweet_per_day':'retweet', 'likes_per_day':'favourite', 'count_per_day':'tweet_count'})\n",
    "\n",
    "dj_trump = nas_trump[['sentiment', 'timepassed','retweet','favourite','tweet_count', 'vol_dj']].copy()\n",
    "ixic_trump = nas_trump[['sentiment','timepassed','retweet','favourite','tweet_count','vol_ixic']].copy()"
   ]
  },
  {
   "cell_type": "markdown",
   "metadata": {},
   "source": [
    "----------------------------------------------\n",
    "## 4.1 Split - Dow Jones\n",
    "After dividing, the data, we have to split using TimeSeriesSplit, and therefore cross validating"
   ]
  },
  {
   "cell_type": "code",
   "execution_count": 222,
   "metadata": {},
   "outputs": [
    {
     "name": "stdout",
     "output_type": "stream",
     "text": [
      "Observations: 281\n",
      "Training Observations: 142\n",
      "Testing Observations: 139\n",
      "Observations: 420\n",
      "Training Observations: 281\n",
      "Testing Observations: 139\n",
      "Observations: 559\n",
      "Training Observations: 420\n",
      "Testing Observations: 139\n",
      "Observations: 698\n",
      "Training Observations: 559\n",
      "Testing Observations: 139\n",
      "Observations: 837\n",
      "Training Observations: 698\n",
      "Testing Observations: 139\n"
     ]
    },
    {
     "data": {
      "image/png": "[encoded data removed]",
      "text/plain": [
       "<Figure size 432x288 with 5 Axes>"
      ]
     },
     "metadata": {},
     "output_type": "display_data"
    }
   ],
   "source": [
    "X1 = dj_trump.values\n",
    "X = sm.add_constant(X1)\n",
    "splits = TimeSeriesSplit(n_splits=5)\n",
    "\n",
    "for train_index, test_index in splits.split(X):\n",
    "\tX_train = X[train_index]\n",
    "\tX_test = X[test_index]\n",
    "pyplot.show()\n",
    "\n",
    "Y = nas_trump['change_dj'].values\n",
    "splits = TimeSeriesSplit(n_splits=5)\n",
    "pyplot.figure(1)\n",
    "index = 1\n",
    "for train_index, test_index in splits.split(Y):\n",
    "\ty_train = Y[train_index]\n",
    "\ty_test = Y[test_index]\n",
    "\tprint('Observations: %d' % (len(y_train) + len(y_test)))\n",
    "\tprint('Training Observations: %d' % (len(y_train)))\n",
    "\tprint('Testing Observations: %d' % (len(y_test)))\n",
    "\tpyplot.subplot(510 + index)\n",
    "\tpyplot.plot(y_train)\n",
    "\tpyplot.plot([None for i in y_train] + [x for x in y_test])\n",
    "\tindex += 1\n",
    "pyplot.show()"
   ]
  },
  {
   "cell_type": "markdown",
   "metadata": {},
   "source": [
    "-------------------------\n",
    "### 4.1.1 Linear regression"
   ]
  },
  {
   "cell_type": "code",
   "execution_count": 223,
   "metadata": {},
   "outputs": [
    {
     "name": "stdout",
     "output_type": "stream",
     "text": [
      "3.512662679730675e-05\n",
      "-0.007435414425834841\n"
     ]
    }
   ],
   "source": [
    "reg=linear_model.LinearRegression()\n",
    "reg.fit(X_train, y_train)\n",
    "reg.coef_\n",
    "a=reg.predict(X_test)\n",
    "print((np.mean((a-y_test)**2))**1/2)\n",
    "\n",
    "# R Squared\n",
    "print(sklearn.metrics.r2_score(y_test, a))"
   ]
  },
  {
   "cell_type": "markdown",
   "metadata": {},
   "source": [
    "-------------------------------\n",
    "## 4.2 Analysing the Dow Jones data\n",
    "\n",
    "### 4.2.1 OLS regression"
   ]
  },
  {
   "cell_type": "code",
   "execution_count": 224,
   "metadata": {
    "scrolled": true
   },
   "outputs": [
    {
     "name": "stdout",
     "output_type": "stream",
     "text": [
      "                            OLS Regression Results                            \n",
      "==============================================================================\n",
      "Dep. Variable:                      y   R-squared:                       0.011\n",
      "Model:                            OLS   Adj. R-squared:                  0.004\n",
      "Method:                 Least Squares   F-statistic:                     1.528\n",
      "Date:                Fri, 31 Aug 2018   Prob (F-statistic):              0.166\n",
      "Time:                        12:00:17   Log-Likelihood:                 2849.3\n",
      "No. Observations:                 837   AIC:                            -5685.\n",
      "Df Residuals:                     830   BIC:                            -5652.\n",
      "Df Model:                           6                                         \n",
      "Covariance Type:            nonrobust                                         \n",
      "==============================================================================\n",
      "                 coef    std err          t      P>|t|      [0.025      0.975]\n",
      "------------------------------------------------------------------------------\n",
      "const          0.0005      0.001      0.575      0.565      -0.001       0.002\n",
      "x1         -7.878e-05      0.001     -0.080      0.936      -0.002       0.002\n",
      "x2          4.713e-06   1.97e-06      2.389      0.017    8.41e-07    8.59e-06\n",
      "x3          -1.01e-08   1.13e-08     -0.895      0.371   -3.22e-08     1.2e-08\n",
      "x4          2.054e-09   2.68e-09      0.766      0.444   -3.21e-09    7.32e-09\n",
      "x5          2.677e-05   5.48e-05      0.489      0.625   -8.07e-05       0.000\n",
      "x6         -8.835e-12   3.17e-12     -2.788      0.005   -1.51e-11   -2.62e-12\n",
      "==============================================================================\n",
      "Omnibus:                      101.799   Durbin-Watson:                   1.955\n",
      "Prob(Omnibus):                  0.000   Jarque-Bera (JB):              530.188\n",
      "Skew:                          -0.409   Prob(JB):                    7.43e-116\n",
      "Kurtosis:                       6.812   Cond. No.                     1.03e+09\n",
      "==============================================================================\n",
      "\n",
      "Warnings:\n",
      "[1] Standard Errors assume that the covariance matrix of the errors is correctly specified.\n",
      "[2] The condition number is large, 1.03e+09. This might indicate that there are\n",
      "strong multicollinearity or other numerical problems.\n"
     ]
    }
   ],
   "source": [
    "Y = nas_trump['change_dj'].values\n",
    "ols_model = sm.OLS(Y, X)\n",
    "ols_results = ols_model.fit()\n",
    "print(ols_results.summary())"
   ]
  },
  {
   "cell_type": "markdown",
   "metadata": {},
   "source": [
    "-----------------------------------\n",
    "### 4.2.2 Pipeline"
   ]
  },
  {
   "cell_type": "code",
   "execution_count": 225,
   "metadata": {},
   "outputs": [],
   "source": [
    "pipe_preproc = make_pipeline(PolynomialFeatures(), StandardScaler())\n",
    "\n",
    "# apply preproc - fit on train\n",
    "pipe_preproc.fit(X_train) # fit to training\n",
    "X_train_prep = pipe_preproc.transform(X_train) # transform training data\n",
    "X_test_prep = pipe_preproc.transform(X_test) # transform test data\n"
   ]
  },
  {
   "cell_type": "markdown",
   "metadata": {},
   "source": [
    "-----------------------------------\n",
    "#### 4.2.2.1 Pipeline linear"
   ]
  },
  {
   "cell_type": "code",
   "execution_count": 226,
   "metadata": {},
   "outputs": [
    {
     "data": {
      "text/plain": [
       "Pipeline(memory=None,\n",
       "     steps=[('polynomialfeatures', PolynomialFeatures(degree=2, include_bias=False, interaction_only=False)), ('standardscaler', StandardScaler(copy=True, with_mean=True, with_std=True)), ('linearregression', LinearRegression(copy_X=True, fit_intercept=True, n_jobs=1, normalize=False))])"
      ]
     },
     "execution_count": 226,
     "metadata": {},
     "output_type": "execute_result"
    }
   ],
   "source": [
    "pipe_lr = make_pipeline(PolynomialFeatures(include_bias=False), \n",
    "                        StandardScaler(),\n",
    "                        LinearRegression())\n",
    "\n",
    "pipe_lr.fit(X_train, y_train)"
   ]
  },
  {
   "cell_type": "markdown",
   "metadata": {},
   "source": [
    "----------------------------------------\n",
    "#### 4.2.2.2 Pipeline LASSO"
   ]
  },
  {
   "cell_type": "code",
   "execution_count": 257,
   "metadata": {},
   "outputs": [
    {
     "name": "stdout",
     "output_type": "stream",
     "text": [
      "0.0001    0.007956\n",
      "dtype: float64\n"
     ]
    },
    {
     "data": {
      "text/plain": [
       "Pipeline(memory=None,\n",
       "     steps=[('polynomialfeatures', PolynomialFeatures(degree=2, include_bias=False, interaction_only=False)), ('standardscaler', StandardScaler(copy=True, with_mean=True, with_std=True)), ('lasso', Lasso(alpha=0.0001, copy_X=True, fit_intercept=True, max_iter=1000,\n",
       "   normalize=False, positive=False, precompute=False, random_state=None,\n",
       "   selection='cyclic', tol=0.0001, warm_start=False))])"
      ]
     },
     "execution_count": 257,
     "metadata": {},
     "output_type": "execute_result"
    }
   ],
   "source": [
    "perform_las_dj = []\n",
    "lambdas = np.logspace(-4, 4, 33)\n",
    "for lambda_ in lambdas:\n",
    "    pipe_lasso = make_pipeline(PolynomialFeatures(include_bias=False), \n",
    "                               StandardScaler(),\n",
    "                               Lasso(alpha=lambda_, random_state=1))\n",
    "    pipe_lasso.fit(X_train, y_train)\n",
    "    y_pred = pipe_lasso.predict(X_train)\n",
    "    mse1 = mse(y_pred, y_train)\n",
    "    perform_las_dj.append(sqrt(mse1))\n",
    "    \n",
    "hyperparam_perform_las_dj = pd.Series(perform_las_dj,index=lambdas)\n",
    "\n",
    "optimal_las_dj = hyperparam_perform_las_dj.nsmallest(1)    \n",
    "print(optimal_las_dj)\n",
    "\n",
    "pipe_lasso = make_pipeline(PolynomialFeatures(include_bias=False), \n",
    "                               StandardScaler(),\n",
    "                               Lasso(alpha=optimal_las_dj.index[0]))\n",
    "pipe_lasso.fit(X_train,y_train)"
   ]
  },
  {
   "cell_type": "markdown",
   "metadata": {},
   "source": [
    "Parameterestimates"
   ]
  },
  {
   "cell_type": "code",
   "execution_count": 258,
   "metadata": {},
   "outputs": [
    {
     "data": {
      "text/plain": [
       "array([ 0.00000000e+00, -0.00000000e+00,  6.27603868e-06, -6.79680705e-09,\n",
       "        1.27296316e-09,  3.28308730e-05, -8.48333477e-12])"
      ]
     },
     "execution_count": 258,
     "metadata": {},
     "output_type": "execute_result"
    }
   ],
   "source": [
    "las = linear_model.Lasso(alpha=optimal_las_dj.index[0])\n",
    "las.fit(X_train, y_train)\n",
    "las.coef_"
   ]
  },
  {
   "cell_type": "markdown",
   "metadata": {},
   "source": [
    "--------------------------------------\n",
    "#### 4.2.2.3 Pipeline Ridge"
   ]
  },
  {
   "cell_type": "code",
   "execution_count": 262,
   "metadata": {},
   "outputs": [
    {
     "name": "stdout",
     "output_type": "stream",
     "text": [
      "0.0001    0.007832\n",
      "dtype: float64\n"
     ]
    },
    {
     "data": {
      "text/plain": [
       "Pipeline(memory=None,\n",
       "     steps=[('polynomialfeatures', PolynomialFeatures(degree=2, include_bias=False, interaction_only=False)), ('standardscaler', StandardScaler(copy=True, with_mean=True, with_std=True)), ('ridge', Ridge(alpha=0.0001, copy_X=True, fit_intercept=True, max_iter=None,\n",
       "   normalize=False, random_state=None, solver='auto', tol=0.001))])"
      ]
     },
     "execution_count": 262,
     "metadata": {},
     "output_type": "execute_result"
    }
   ],
   "source": [
    "perform_rid_dj = []\n",
    "lambdas = np.logspace(-4, 4, 33)\n",
    "for lambda_ in lambdas:\n",
    "    pipe_ridge = make_pipeline(PolynomialFeatures(include_bias=False), \n",
    "                               StandardScaler(),\n",
    "                               Ridge(alpha=lambda_, random_state=1))\n",
    "    pipe_ridge.fit(X_train, y_train)\n",
    "    y_pred = pipe_ridge.predict(X_train)\n",
    "    mse2 = mse(y_pred, y_train)\n",
    "    perform_rid_dj.append(sqrt(mse2))\n",
    "    \n",
    "hyperparam_perform_rid_dj = pd.Series(perform_rid_dj,index=lambdas)\n",
    "\n",
    "optimal_rid_dj = hyperparam_perform_rid_dj.nsmallest(1)    \n",
    "print(optimal_rid_dj)\n",
    "\n",
    "pipe_ridge = make_pipeline(PolynomialFeatures(include_bias=False), \n",
    "                               StandardScaler(),\n",
    "                               Ridge(alpha=optimal_rid_dj.index[0]))\n",
    "pipe_ridge.fit(X_train,y_train)"
   ]
  },
  {
   "cell_type": "code",
   "execution_count": 263,
   "metadata": {},
   "outputs": [
    {
     "name": "stderr",
     "output_type": "stream",
     "text": [
      "c:\\programdata\\miniconda3\\lib\\site-packages\\sklearn\\linear_model\\ridge.py:112: LinAlgWarning: scipy.linalg.solve\n",
      "Ill-conditioned matrix detected. Result is not guaranteed to be accurate.\n",
      "Reciprocal condition number8.338949e-24\n",
      "  overwrite_a=True).T\n"
     ]
    },
    {
     "data": {
      "text/plain": [
       "array([ 0.00000000e+00, -4.70736847e-04,  6.45697506e-06, -7.62648625e-09,\n",
       "        1.36357662e-09,  3.59267702e-05, -8.49203914e-12])"
      ]
     },
     "execution_count": 263,
     "metadata": {},
     "output_type": "execute_result"
    }
   ],
   "source": [
    "rid = linear_model.Ridge(alpha=optimal_rid_dj.index[0])\n",
    "rid.fit(X_train, y_train)\n",
    "rid.coef_"
   ]
  },
  {
   "cell_type": "markdown",
   "metadata": {},
   "source": [
    "------------------------------------\n",
    "#### 4.2.2.4 Print of RMSE"
   ]
  },
  {
   "cell_type": "code",
   "execution_count": 265,
   "metadata": {},
   "outputs": [
    {
     "name": "stdout",
     "output_type": "stream",
     "text": [
      "LinReg 0.0095466162\n",
      "Ridge 0.0095464846\n",
      "Lasso 0.0083563873\n"
     ]
    }
   ],
   "source": [
    "print('LinReg', round(sqrt(mse(pipe_lr.predict(X_test),y_test)), 10))\n",
    "print('Ridge', round(sqrt(mse(pipe_ridge.predict(X_test),y_test)), 10))\n",
    "print('Lasso', round(sqrt(mse(pipe_lasso.predict(X_test),y_test)), 10))"
   ]
  },
  {
   "cell_type": "markdown",
   "metadata": {},
   "source": [
    "------------------------------------------\n",
    "## 4.3 Split - IXIC"
   ]
  },
  {
   "cell_type": "code",
   "execution_count": 232,
   "metadata": {},
   "outputs": [
    {
     "name": "stdout",
     "output_type": "stream",
     "text": [
      "Observations: 281\n",
      "Training Observations: 142\n",
      "Testing Observations: 139\n",
      "Observations: 420\n",
      "Training Observations: 281\n",
      "Testing Observations: 139\n",
      "Observations: 559\n",
      "Training Observations: 420\n",
      "Testing Observations: 139\n",
      "Observations: 698\n",
      "Training Observations: 559\n",
      "Testing Observations: 139\n",
      "Observations: 837\n",
      "Training Observations: 698\n",
      "Testing Observations: 139\n"
     ]
    },
    {
     "data": {
      "image/png": "[encoded data removed]",
      "text/plain": [
       "<Figure size 432x288 with 5 Axes>"
      ]
     },
     "metadata": {},
     "output_type": "display_data"
    }
   ],
   "source": [
    "X2 = ixic_trump.values\n",
    "X_ix = sm.add_constant(X2)\n",
    "splits = TimeSeriesSplit(n_splits=5)\n",
    "\n",
    "for train_index, test_index in splits.split(X):\n",
    "\tX_train_i = X[train_index]\n",
    "\tX_test_i = X[test_index]\n",
    "pyplot.show()\n",
    "\n",
    "Y = nas_trump['change_ixic'].values\n",
    "splits = TimeSeriesSplit(n_splits=5)\n",
    "pyplot.figure(1)\n",
    "index = 1\n",
    "for train_index, test_index in splits.split(Y):\n",
    "\ty_train_i = Y[train_index]\n",
    "\ty_test_i = Y[test_index]\n",
    "\tprint('Observations: %d' % (len(y_train_i) + len(y_test_i)))\n",
    "\tprint('Training Observations: %d' % (len(y_train_i)))\n",
    "\tprint('Testing Observations: %d' % (len(y_test_i)))\n",
    "\tpyplot.subplot(510 + index)\n",
    "\tpyplot.plot(y_train_i)\n",
    "\tpyplot.plot([None for i in y_train_i] + [x for x in y_test_i])\n",
    "\tindex += 1\n",
    "pyplot.show()"
   ]
  },
  {
   "cell_type": "markdown",
   "metadata": {},
   "source": [
    "-------------------------------\n",
    "### 4.3.1 Linear regression"
   ]
  },
  {
   "cell_type": "code",
   "execution_count": 1,
   "metadata": {},
   "outputs": [
    {
     "ename": "NameError",
     "evalue": "name 'linear_model' is not defined",
     "output_type": "error",
     "traceback": [
      "\u001b[1;31m---------------------------------------------------------------------------\u001b[0m",
      "\u001b[1;31mNameError\u001b[0m                                 Traceback (most recent call last)",
      "\u001b[1;32m<ipython-input-1-5258bed784f3>\u001b[0m in \u001b[0;36m<module>\u001b[1;34m()\u001b[0m\n\u001b[1;32m----> 1\u001b[1;33m \u001b[0mreg\u001b[0m\u001b[1;33m=\u001b[0m\u001b[0mlinear_model\u001b[0m\u001b[1;33m.\u001b[0m\u001b[0mLinearRegression\u001b[0m\u001b[1;33m(\u001b[0m\u001b[1;33m)\u001b[0m\u001b[1;33m\u001b[0m\u001b[1;33m\u001b[0m\u001b[0m\n\u001b[0m\u001b[0;32m      2\u001b[0m \u001b[0mreg\u001b[0m\u001b[1;33m.\u001b[0m\u001b[0mfit\u001b[0m\u001b[1;33m(\u001b[0m\u001b[0mX_train_i\u001b[0m\u001b[1;33m,\u001b[0m \u001b[0my_train_i\u001b[0m\u001b[1;33m)\u001b[0m\u001b[1;33m\u001b[0m\u001b[1;33m\u001b[0m\u001b[0m\n\u001b[0;32m      3\u001b[0m \u001b[0mreg\u001b[0m\u001b[1;33m.\u001b[0m\u001b[0mcoef_\u001b[0m\u001b[1;33m\u001b[0m\u001b[1;33m\u001b[0m\u001b[0m\n\u001b[0;32m      4\u001b[0m \u001b[0ma\u001b[0m\u001b[1;33m=\u001b[0m\u001b[0mreg\u001b[0m\u001b[1;33m.\u001b[0m\u001b[0mpredict\u001b[0m\u001b[1;33m(\u001b[0m\u001b[0mX_test_i\u001b[0m\u001b[1;33m)\u001b[0m\u001b[1;33m\u001b[0m\u001b[1;33m\u001b[0m\u001b[0m\n\u001b[0;32m      5\u001b[0m \u001b[0mprint\u001b[0m\u001b[1;33m(\u001b[0m\u001b[1;33m(\u001b[0m\u001b[0mnp\u001b[0m\u001b[1;33m.\u001b[0m\u001b[0mmean\u001b[0m\u001b[1;33m(\u001b[0m\u001b[1;33m(\u001b[0m\u001b[0ma\u001b[0m\u001b[1;33m-\u001b[0m\u001b[0my_test_i\u001b[0m\u001b[1;33m)\u001b[0m\u001b[1;33m**\u001b[0m\u001b[1;36m2\u001b[0m\u001b[1;33m)\u001b[0m\u001b[1;33m)\u001b[0m\u001b[1;33m**\u001b[0m\u001b[1;36m1\u001b[0m\u001b[1;33m/\u001b[0m\u001b[1;36m2\u001b[0m\u001b[1;33m)\u001b[0m\u001b[1;33m\u001b[0m\u001b[1;33m\u001b[0m\u001b[0m\n",
      "\u001b[1;31mNameError\u001b[0m: name 'linear_model' is not defined"
     ]
    }
   ],
   "source": [
    "reg=linear_model.LinearRegression()\n",
    "reg.fit(X_train_i, y_train_i)\n",
    "reg.coef_\n",
    "a=reg.predict(X_test_i)\n",
    "print((np.mean((a-y_test_i)**2))**1/2)\n",
    "\n",
    "# R Squared\n",
    "print(sklearn.metrics.r2_score(y_test_i, a))"
   ]
  },
  {
   "cell_type": "markdown",
   "metadata": {},
   "source": [
    "------------------------------------------------\n",
    "## 4.2 Analysing the Nasdaq data\n",
    "\n",
    "### 4.2.1 OLS regression"
   ]
  },
  {
   "cell_type": "code",
   "execution_count": 234,
   "metadata": {
    "scrolled": true
   },
   "outputs": [
    {
     "name": "stdout",
     "output_type": "stream",
     "text": [
      "                            OLS Regression Results                            \n",
      "==============================================================================\n",
      "Dep. Variable:                      y   R-squared:                       0.041\n",
      "Model:                            OLS   Adj. R-squared:                  0.035\n",
      "Method:                 Least Squares   F-statistic:                     5.989\n",
      "Date:                Fri, 31 Aug 2018   Prob (F-statistic):           3.83e-06\n",
      "Time:                        12:00:22   Log-Likelihood:                 2727.8\n",
      "No. Observations:                 837   AIC:                            -5442.\n",
      "Df Residuals:                     830   BIC:                            -5408.\n",
      "Df Model:                           6                                         \n",
      "Covariance Type:            nonrobust                                         \n",
      "==============================================================================\n",
      "                 coef    std err          t      P>|t|      [0.025      0.975]\n",
      "------------------------------------------------------------------------------\n",
      "const          0.0088      0.002      4.606      0.000       0.005       0.013\n",
      "x1             0.0002      0.001      0.210      0.834      -0.002       0.002\n",
      "x2          3.837e-06   1.94e-06      1.975      0.049    2.29e-08    7.65e-06\n",
      "x3         -1.151e-08   1.28e-08     -0.902      0.367   -3.65e-08    1.35e-08\n",
      "x4          1.394e-09      3e-09      0.464      0.643    -4.5e-09    7.29e-09\n",
      "x5          6.506e-05    6.3e-05      1.032      0.302   -5.87e-05       0.000\n",
      "x6         -5.025e-12   8.76e-13     -5.738      0.000   -6.74e-12   -3.31e-12\n",
      "==============================================================================\n",
      "Omnibus:                       48.788   Durbin-Watson:                   1.956\n",
      "Prob(Omnibus):                  0.000   Jarque-Bera (JB):              180.510\n",
      "Skew:                          -0.046   Prob(JB):                     6.35e-40\n",
      "Kurtosis:                       5.273   Cond. No.                     1.18e+10\n",
      "==============================================================================\n",
      "\n",
      "Warnings:\n",
      "[1] Standard Errors assume that the covariance matrix of the errors is correctly specified.\n",
      "[2] The condition number is large, 1.18e+10. This might indicate that there are\n",
      "strong multicollinearity or other numerical problems.\n"
     ]
    }
   ],
   "source": [
    "Y = nas_trump['change_ixic'].values\n",
    "ols_model = sm.OLS(Y, X_ix)\n",
    "ols_results = ols_model.fit()\n",
    "print(ols_results.summary())"
   ]
  },
  {
   "cell_type": "markdown",
   "metadata": {},
   "source": [
    "----------------------------------\n",
    "### 4.4.2 Pipeline"
   ]
  },
  {
   "cell_type": "code",
   "execution_count": 235,
   "metadata": {},
   "outputs": [],
   "source": [
    "pipe_preproc = make_pipeline(PolynomialFeatures(), StandardScaler())\n",
    "\n",
    "# apply preproc - fit on train\n",
    "pipe_preproc.fit(X_train_i) # fit to training\n",
    "X_train_prep = pipe_preproc.transform(X_train_i) # transform training data\n",
    "X_test_prep = pipe_preproc.transform(X_test_i) # transform test data"
   ]
  },
  {
   "cell_type": "markdown",
   "metadata": {},
   "source": [
    "-------------------------------------------------\n",
    "#### 4.4.2.1 Pipeline linear"
   ]
  },
  {
   "cell_type": "code",
   "execution_count": 270,
   "metadata": {},
   "outputs": [
    {
     "data": {
      "text/plain": [
       "Pipeline(memory=None,\n",
       "     steps=[('polynomialfeatures', PolynomialFeatures(degree=2, include_bias=False, interaction_only=False)), ('standardscaler', StandardScaler(copy=True, with_mean=True, with_std=True)), ('linearregression', LinearRegression(copy_X=True, fit_intercept=True, n_jobs=1, normalize=False))])"
      ]
     },
     "execution_count": 270,
     "metadata": {},
     "output_type": "execute_result"
    }
   ],
   "source": [
    "pipe_lr_i = make_pipeline(PolynomialFeatures(include_bias=False), \n",
    "                        StandardScaler(),\n",
    "                        LinearRegression())\n",
    "\n",
    "pipe_lr_i.fit(X_train_i, y_train_i)"
   ]
  },
  {
   "cell_type": "markdown",
   "metadata": {},
   "source": [
    "----------------------\n",
    "#### 4.4.2.2 Pipeline Lasso"
   ]
  },
  {
   "cell_type": "code",
   "execution_count": 267,
   "metadata": {},
   "outputs": [
    {
     "name": "stdout",
     "output_type": "stream",
     "text": [
      "0.0001    0.009375\n",
      "dtype: float64\n"
     ]
    },
    {
     "data": {
      "text/plain": [
       "Pipeline(memory=None,\n",
       "     steps=[('polynomialfeatures', PolynomialFeatures(degree=2, include_bias=False, interaction_only=False)), ('standardscaler', StandardScaler(copy=True, with_mean=True, with_std=True)), ('lasso', Lasso(alpha=0.0001, copy_X=True, fit_intercept=True, max_iter=1000,\n",
       "   normalize=False, positive=False, precompute=False, random_state=None,\n",
       "   selection='cyclic', tol=0.0001, warm_start=False))])"
      ]
     },
     "execution_count": 267,
     "metadata": {},
     "output_type": "execute_result"
    }
   ],
   "source": [
    "perform_las_ix = []\n",
    "lambdas = np.logspace(-4, 4, 33)\n",
    "for lambda_ in lambdas:\n",
    "    pipe_lasso_i = make_pipeline(PolynomialFeatures(include_bias=False), \n",
    "                               StandardScaler(),\n",
    "                               Lasso(alpha=lambda_, random_state=1))\n",
    "    pipe_lasso_i.fit(X_train_i, y_train_i)\n",
    "    y_pred_i = pipe_lasso.predict(X_train_i)\n",
    "    mse1_i = mse(y_pred_i, y_train_i)\n",
    "    perform_las_ix.append(sqrt(mse1_i))\n",
    "    \n",
    "hyperparam_perform_las_ix = pd.Series(perform_las_ix,index=lambdas)\n",
    "\n",
    "optimal_las_ix = hyperparam_perform_las_ix.nsmallest(1)    \n",
    "print(optimal_las_ix)\n",
    "\n",
    "pipe_lasso_i = make_pipeline(PolynomialFeatures(include_bias=False), \n",
    "                               StandardScaler(),\n",
    "                               Lasso(alpha=optimal_las_ix.index[0]))\n",
    "pipe_lasso_i.fit(X_train_i,y_train_i)"
   ]
  },
  {
   "cell_type": "markdown",
   "metadata": {},
   "source": [
    "Parameter estimates"
   ]
  },
  {
   "cell_type": "code",
   "execution_count": 251,
   "metadata": {},
   "outputs": [
    {
     "data": {
      "text/plain": [
       "array([ 0.00000000e+00, -0.00000000e+00,  7.86761513e-06, -1.14993420e-08,\n",
       "        1.71417475e-09,  5.45712256e-05, -9.06376038e-12])"
      ]
     },
     "execution_count": 251,
     "metadata": {},
     "output_type": "execute_result"
    }
   ],
   "source": [
    "las_i = linear_model.Lasso(alpha=optimal_las_ix.index[0])\n",
    "las_i.fit(X_train_i, y_train_i)\n",
    "las_i.coef_"
   ]
  },
  {
   "cell_type": "markdown",
   "metadata": {},
   "source": [
    "-------------------------------------\n",
    "#### 4.4.2.3 Pipeline Ridge"
   ]
  },
  {
   "cell_type": "code",
   "execution_count": 268,
   "metadata": {},
   "outputs": [
    {
     "name": "stdout",
     "output_type": "stream",
     "text": [
      "0.0001    0.009241\n",
      "dtype: float64\n"
     ]
    },
    {
     "data": {
      "text/plain": [
       "Pipeline(memory=None,\n",
       "     steps=[('polynomialfeatures', PolynomialFeatures(degree=2, include_bias=False, interaction_only=False)), ('standardscaler', StandardScaler(copy=True, with_mean=True, with_std=True)), ('lasso', Lasso(alpha=0.0001, copy_X=True, fit_intercept=True, max_iter=1000,\n",
       "   normalize=False, positive=False, precompute=False, random_state=None,\n",
       "   selection='cyclic', tol=0.0001, warm_start=False))])"
      ]
     },
     "execution_count": 268,
     "metadata": {},
     "output_type": "execute_result"
    }
   ],
   "source": [
    "perform_rid_ix = []\n",
    "lambdas = np.logspace(-4, 4, 33)\n",
    "for lambda_ in lambdas:\n",
    "    pipe_ridge_i = make_pipeline(PolynomialFeatures(include_bias=False), \n",
    "                               StandardScaler(),\n",
    "                               Ridge(alpha=lambda_, random_state=1))\n",
    "    pipe_ridge_i.fit(X_train_i, y_train_i)\n",
    "    y_pred_i = pipe_ridge_i.predict(X_train_i)\n",
    "    mse2_i = mse(y_pred_i, y_train_i)\n",
    "    perform_rid_ix.append(sqrt(mse2_i))\n",
    "    \n",
    "hyperparam_perform_rid_ix = pd.Series(perform_rid_ix,index=lambdas)\n",
    "\n",
    "optimal_rid_ix = hyperparam_perform_rid_ix.nsmallest(1)    \n",
    "print(optimal_rid_ix)\n",
    "\n",
    "pipe_ridge_i = make_pipeline(PolynomialFeatures(include_bias=False), \n",
    "                               StandardScaler(),\n",
    "                               Lasso(alpha=optimal_rid_ix.index[0]))\n",
    "pipe_ridge_i.fit(X_train_i,y_train_i)\n"
   ]
  },
  {
   "cell_type": "markdown",
   "metadata": {},
   "source": [
    "Parameter estimates"
   ]
  },
  {
   "cell_type": "code",
   "execution_count": 256,
   "metadata": {},
   "outputs": [
    {
     "name": "stderr",
     "output_type": "stream",
     "text": [
      "c:\\programdata\\miniconda3\\lib\\site-packages\\sklearn\\linear_model\\ridge.py:112: LinAlgWarning: scipy.linalg.solve\n",
      "Ill-conditioned matrix detected. Result is not guaranteed to be accurate.\n",
      "Reciprocal condition number8.338949e-24\n",
      "  overwrite_a=True).T\n"
     ]
    },
    {
     "data": {
      "text/plain": [
       "array([ 0.00000000e+00, -3.22911962e-04,  8.01386972e-06, -1.21637453e-08,\n",
       "        1.78642578e-09,  5.77901156e-05, -9.07048222e-12])"
      ]
     },
     "execution_count": 256,
     "metadata": {},
     "output_type": "execute_result"
    }
   ],
   "source": [
    "rid_i = linear_model.Ridge(alpha=optimal_rid_ix.index[0])\n",
    "rid_i.fit(X_train_i, y_train_i)\n",
    "rid_i.coef_"
   ]
  },
  {
   "cell_type": "markdown",
   "metadata": {},
   "source": [
    "-------------------------------------------\n",
    "#### 4.4.2.4 Print of RMSE"
   ]
  },
  {
   "cell_type": "code",
   "execution_count": 271,
   "metadata": {},
   "outputs": [
    {
     "name": "stdout",
     "output_type": "stream",
     "text": [
      "LinReg 0.0104159804\n",
      "Ridge 0.0096897472\n",
      "Lasso 0.0096897472\n"
     ]
    }
   ],
   "source": [
    "print('LinReg', round(sqrt(mse(pipe_lr_i.predict(X_test_i),y_test_i)), 10))\n",
    "print('Ridge', round(sqrt(mse(pipe_ridge_i.predict(X_test_i),y_test_i)), 10))\n",
    "print('Lasso', round(sqrt(mse(pipe_lasso_i.predict(X_test_i),y_test_i)), 10))"
   ]
  },
  {
   "cell_type": "markdown",
   "metadata": {},
   "source": [
    "---------------------------------\n",
    "## 4.5 Learning Curves"
   ]
  },
  {
   "cell_type": "code",
   "execution_count": 242,
   "metadata": {},
   "outputs": [
    {
     "name": "stdout",
     "output_type": "stream",
     "text": [
      "                Train      Test\n",
      "sample size                    \n",
      "55           0.000151  0.000068\n",
      "111          0.000116  0.000065\n",
      "167          0.000113  0.000065\n",
      "223          0.000099  0.000065\n",
      "279          0.000089  0.000065\n"
     ]
    }
   ],
   "source": [
    "train_sizes, train_scores, test_scores = \\\n",
    "    learning_curve(estimator=pipe_lasso,\n",
    "                   X=X_train,\n",
    "                   y=y_train,\n",
    "                   train_sizes=np.linspace(0.1, 1.0, 10),\n",
    "                   scoring='neg_mean_squared_error',                 \n",
    "                   cv=5)\n",
    "    \n",
    "mse_ = pd.DataFrame({'Train':-train_scores.mean(axis=1),\n",
    "                     'Test':-test_scores.mean(axis=1)})\\\n",
    "        .set_index(pd.Index(train_sizes,name='sample size'))    \n",
    "print(mse_.head())"
   ]
  },
  {
   "cell_type": "code",
   "execution_count": 243,
   "metadata": {
    "scrolled": true
   },
   "outputs": [
    {
     "data": {
      "image/png": "[encoded data removed]",
      "text/plain": [
       "<Figure size 720x288 with 1 Axes>"
      ]
     },
     "metadata": {},
     "output_type": "display_data"
    }
   ],
   "source": [
    "f_learn, ax = plt.subplots(figsize=(10,4))\n",
    "mse_.plot(ax=ax, logy=True)\n",
    "ax.fill_between(train_sizes,\n",
    "                -train_scores.mean(1) + train_scores.std(1)*1.96,\n",
    "                -train_scores.mean(1) - train_scores.std(1)*1.96, \n",
    "                alpha=0.25, \n",
    "                color='orange')\n",
    "ax.set_ylabel('Mean squared error')\n",
    "\n",
    "f_learn.savefig(\"Leaning Curve.png\")"
   ]
  },
  {
   "cell_type": "markdown",
   "metadata": {},
   "source": [
    "-------------------------------------\n",
    "# 5. Random forest\n"
   ]
  },
  {
   "cell_type": "code",
   "execution_count": 244,
   "metadata": {},
   "outputs": [
    {
     "name": "stdout",
     "output_type": "stream",
     "text": [
      "453\n",
      "463\n"
     ]
    }
   ],
   "source": [
    "print(nas_trump['change_dj_bool'].sum()) #positives\n",
    "print(nas_trump['change_ixic_bool'].sum()) #positives\n",
    "\n",
    "\n",
    "dj_trump = nas_trump[['sentiment','retweet','favourite','tweet_count']]\n",
    "ixic_trump = nas_trump[['sentiment','retweet','favourite','tweet_count']]\n"
   ]
  },
  {
   "cell_type": "markdown",
   "metadata": {},
   "source": [
    "---------------------------------\n",
    "## 5.1 Dow Jones\n",
    "\n",
    "### 5.1.1 Split"
   ]
  },
  {
   "cell_type": "code",
   "execution_count": 245,
   "metadata": {},
   "outputs": [
    {
     "name": "stdout",
     "output_type": "stream",
     "text": [
      "Observations: 281\n",
      "Training Observations: 142\n",
      "Testing Observations: 139\n",
      "Observations: 420\n",
      "Training Observations: 281\n",
      "Testing Observations: 139\n",
      "Observations: 559\n",
      "Training Observations: 420\n",
      "Testing Observations: 139\n",
      "Observations: 698\n",
      "Training Observations: 559\n",
      "Testing Observations: 139\n",
      "Observations: 837\n",
      "Training Observations: 698\n",
      "Testing Observations: 139\n"
     ]
    },
    {
     "data": {
      "image/png": "[encoded data removed]",
      "text/plain": [
       "<Figure size 432x288 with 5 Axes>"
      ]
     },
     "metadata": {},
     "output_type": "display_data"
    },
    {
     "data": {
      "text/plain": [
       "<Figure size 432x288 with 0 Axes>"
      ]
     },
     "metadata": {},
     "output_type": "display_data"
    }
   ],
   "source": [
    "X = dj_trump.values\n",
    "splits = TimeSeriesSplit(n_splits=5)\n",
    "pyplot.figure(1)\n",
    "index = 1\n",
    "for train_index, test_index in splits.split(X):\n",
    "\tX_train_dj = X[train_index]\n",
    "\tX_test_dj = X[test_index]\n",
    "\n",
    "Y = nas_trump['change_dj_bool'].values\n",
    "splits = TimeSeriesSplit(n_splits=5)\n",
    "pyplot.figure(1)\n",
    "index = 1\n",
    "for train_index, test_index in splits.split(Y):\n",
    "\ty_train_dj = Y[train_index]\n",
    "\ty_test_dj = Y[test_index]\n",
    "\tprint('Observations: %d' % (len(y_train_dj) + len(y_test_dj)))\n",
    "\tprint('Training Observations: %d' % (len(y_train_dj)))\n",
    "\tprint('Testing Observations: %d' % (len(y_test_dj)))\n",
    "\tpyplot.subplot(510 + index)\n",
    "\tpyplot.plot(y_train_dj)\n",
    "\tpyplot.plot([None for i in y_train_dj] + [x for x in y_test_dj])\n",
    "\tindex += 1\n",
    "\n",
    "plt.show()\n",
    "plt.savefig('SplitDJ.png')"
   ]
  },
  {
   "cell_type": "markdown",
   "metadata": {},
   "source": [
    "------------------------------\n",
    "### 5.1.2 Classification tree"
   ]
  },
  {
   "cell_type": "code",
   "execution_count": 246,
   "metadata": {},
   "outputs": [
    {
     "name": "stdout",
     "output_type": "stream",
     "text": [
      "1    0.496403\n",
      "dtype: float64\n"
     ]
    }
   ],
   "source": [
    "#Classification tree Dow Jones\n",
    "#Using the K fold cross validation method\n",
    "kfolds = TimeSeriesSplit(n_splits=5)\n",
    "accuracy_RF=[]\n",
    "n_estimators_rng = np.unique(np.logspace(0,2,20).astype(np.int64))\n",
    "for n in n_estimators_rng:\n",
    "    \n",
    "    RF_clf=DecisionTreeClassifier(random_state=1)  \n",
    "    accuracy_ = []\n",
    "    \n",
    "    for train_idx, val_idx in kfolds.split(X_train_dj, y_train_dj):\n",
    "        \n",
    "        X_train_dj, y_train_dj, = X_train_dj, y_train_dj\n",
    "        X_val_dj, y_val_dj = X_test_dj, y_test_dj \n",
    "\n",
    "        RF_clf.fit(X_train_dj, y_train_dj)\n",
    "        \n",
    "        y_hat_dj = RF_clf.predict(X_val_dj)\n",
    "        \n",
    "        accuracy_.append((accuracy_score(y_val_dj, y_hat_dj, normalize=True, sample_weight=None)))\n",
    "          \n",
    "    accuracy_RF.append(accuracy_)\n",
    "                      \n",
    "#Displaying the mean of the MSE of the different splits    \n",
    "meanACC_RF= pd.DataFrame(accuracy_RF, index=n_estimators_rng).mean(axis=1)\n",
    "optimalACC_RF=meanACC_RF.nsmallest(1)\n",
    "print(optimalACC_RF)"
   ]
  },
  {
   "cell_type": "markdown",
   "metadata": {},
   "source": [
    "-------------------------------\n",
    "## 5.2 Nasdaq\n",
    "\n",
    "### 5.2.1 Split"
   ]
  },
  {
   "cell_type": "code",
   "execution_count": 247,
   "metadata": {},
   "outputs": [
    {
     "data": {
      "text/plain": [
       "<Figure size 432x288 with 0 Axes>"
      ]
     },
     "metadata": {},
     "output_type": "display_data"
    }
   ],
   "source": [
    "#Split for NASDAQ\n",
    "\n",
    "X = ixic_trump.values\n",
    "splits = TimeSeriesSplit(n_splits=5)\n",
    "pyplot.figure(1)\n",
    "index = 1\n",
    "for train_index, test_index in splits.split(X):\n",
    "\tX_train_ix = X[train_index]\n",
    "\tX_test_ix = X[test_index]\n",
    "\n",
    "Y = nas_trump['change_ixic_bool'].values\n",
    "splits = TimeSeriesSplit(n_splits=5)\n",
    "pyplot.figure(1)\n",
    "index = 1\n",
    "for train_index, test_index in splits.split(Y):\n",
    "\ty_train_ix = Y[train_index]\n",
    "\ty_test_ix = Y[test_index]\n"
   ]
  },
  {
   "cell_type": "markdown",
   "metadata": {},
   "source": [
    "----------------------------------------------\n",
    "### 5.2.2 Classification tree"
   ]
  },
  {
   "cell_type": "code",
   "execution_count": 248,
   "metadata": {},
   "outputs": [
    {
     "name": "stdout",
     "output_type": "stream",
     "text": [
      "1    0.539568\n",
      "dtype: float64\n"
     ]
    }
   ],
   "source": [
    "#Classification tree NASDAQ\n",
    "#Using the K fold cross validation method\n",
    "kfolds = TimeSeriesSplit(n_splits=5)\n",
    "accuracy_RF=[]\n",
    "n_estimators_rng = np.unique(np.logspace(0,2,20).astype(np.int64))\n",
    "for n in n_estimators_rng:\n",
    "    \n",
    "    RF_clf=DecisionTreeClassifier(random_state=1)  \n",
    "    accuracy_ = []\n",
    "    \n",
    "    for train_ix, val_ix in kfolds.split(X_train_ix, y_train_ix):\n",
    "        \n",
    "        X_train_ix, y_train_ix, = X_train_ix, y_train_ix\n",
    "        X_val_ix, y_val_ix = X_test_ix, y_test_ix \n",
    "\n",
    "        RF_clf.fit(X_train_ix, y_train_ix)\n",
    "        \n",
    "        y_hat_ix = RF_clf.predict(X_val_ix)\n",
    "        \n",
    "        accuracy_.append((accuracy_score(y_val_ix, y_hat_ix, normalize=True, sample_weight=None)))\n",
    "          \n",
    "    accuracy_RF.append(accuracy_)\n",
    "                      \n",
    "#Displaying the mean of the MSE of the different splits    \n",
    "meanACC_RF= pd.DataFrame(accuracy_RF, index=n_estimators_rng).mean(axis=1)\n",
    "optimalACC_RF=meanACC_RF.nsmallest(1)\n",
    "print(optimalACC_RF)"
   ]
  },
  {
   "cell_type": "code",
   "execution_count": null,
   "metadata": {},
   "outputs": [],
   "source": []
  },
  {
   "cell_type": "code",
   "execution_count": null,
   "metadata": {},
   "outputs": [],
   "source": []
  },
  {
   "cell_type": "code",
   "execution_count": null,
   "metadata": {},
   "outputs": [],
   "source": []
  }
 ],
 "metadata": {
  "kernelspec": {
   "display_name": "Python 3",
   "language": "python",
   "name": "python3"
  },
  "language_info": {
   "codemirror_mode": {
    "name": "ipython",
    "version": 3
   },
   "file_extension": ".py",
   "mimetype": "text/x-python",
   "name": "python",
   "nbconvert_exporter": "python",
   "pygments_lexer": "ipython3",
   "version": "3.7.3"
  }
 },
 "nbformat": 4,
 "nbformat_minor": 2
}
