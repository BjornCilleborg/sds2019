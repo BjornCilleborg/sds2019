{
 "cells": [
  {
   "cell_type": "markdown",
   "metadata": {},
   "source": [
    "# SDS Exam Project"
   ]
  },
  {
   "cell_type": "markdown",
   "metadata": {},
   "source": [
    "- Report question\n",
    "- Introduction\n",
    "- Litterature review\n",
    "    - https://www.nottingham.ac.uk/economics/documents/research-first/krishan-rayarel.pdf\n",
    "- Data collection and ethics\n",
    "    - Documentation on AlphaVantage API: https://www.alphavantage.co/documentation/#time-series-data\n",
    "- Machine learning\n",
    "    - Sentiment analysis\n",
    "    - Training, validation and test set\n",
    "    - Use Vader or other package?\n",
    "    \n",
    "- Case study with selected tweets on specific firms\n",
    "    - Use Dow Jones and data for stocks of specific firm\n",
    "- Discussion\n",
    "- Conclusion\n"
   ]
  },
  {
   "cell_type": "code",
   "execution_count": 215,
   "metadata": {},
   "outputs": [],
   "source": [
    "import pandas as pd, pprint\n",
    "import requests\n",
    "import matplotlib\n",
    "import datetime\n",
    "import numpy as np\n",
    "import scraping_class, time, json\n",
    "logfile = 'data_collection_log'## name your log file.\n",
    "connector = scraping_class.Connector(logfile)"
   ]
  },
  {
   "cell_type": "markdown",
   "metadata": {},
   "source": [
    "# Dow Jones"
   ]
  },
  {
   "cell_type": "code",
   "execution_count": 233,
   "metadata": {},
   "outputs": [
    {
     "name": "stderr",
     "output_type": "stream",
     "text": [
      "/anaconda3/lib/python3.7/site-packages/ipykernel_launcher.py:28: SettingWithCopyWarning: \n",
      "A value is trying to be set on a copy of a slice from a DataFrame.\n",
      "Try using .loc[row_indexer,col_indexer] = value instead\n",
      "\n",
      "See the caveats in the documentation: http://pandas.pydata.org/pandas-docs/stable/indexing.html#indexing-view-versus-copy\n",
      "/anaconda3/lib/python3.7/site-packages/ipykernel_launcher.py:30: SettingWithCopyWarning: \n",
      "A value is trying to be set on a copy of a slice from a DataFrame.\n",
      "Try using .loc[row_indexer,col_indexer] = value instead\n",
      "\n",
      "See the caveats in the documentation: http://pandas.pydata.org/pandas-docs/stable/indexing.html#indexing-view-versus-copy\n",
      "/anaconda3/lib/python3.7/site-packages/ipykernel_launcher.py:33: SettingWithCopyWarning: \n",
      "A value is trying to be set on a copy of a slice from a DataFrame.\n",
      "Try using .loc[row_indexer,col_indexer] = value instead\n",
      "\n",
      "See the caveats in the documentation: http://pandas.pydata.org/pandas-docs/stable/indexing.html#indexing-view-versus-copy\n",
      "/anaconda3/lib/python3.7/site-packages/ipykernel_launcher.py:44: SettingWithCopyWarning: \n",
      "A value is trying to be set on a copy of a slice from a DataFrame.\n",
      "Try using .loc[row_indexer,col_indexer] = value instead\n",
      "\n",
      "See the caveats in the documentation: http://pandas.pydata.org/pandas-docs/stable/indexing.html#indexing-view-versus-copy\n"
     ]
    }
   ],
   "source": [
    "url = \"https://www.alphavantage.co/query\"\n",
    "params = {\n",
    "    \"function\": \"TIME_SERIES_DAILY_ADJUSTED\",\n",
    "    \"symbol\": \"^DJI\",\n",
    "    \"outputsize\": \"full\",\n",
    "    \"apikey\": \"Z6OIONR9OK9RAHMX\"}\n",
    "response_dji = requests.get(url, params=params) #ask for help regarding connector\n",
    "data = response_dji.json()\n",
    "\n",
    "def convert_response(d):\n",
    "    for dt, prec in d['Time Series (Daily)'].items():\n",
    "        r = {'datetime':dt}\n",
    "        r.update(prec)\n",
    "        yield r\n",
    "    \n",
    "df = pd.DataFrame(convert_response(data))\n",
    "df['datetime'] = pd.to_datetime(df['datetime'])\n",
    "df.set_index('datetime',inplace=True)\n",
    "df.sort_index(inplace=True)\n",
    "\n",
    "\n",
    "#change the name\n",
    "df = df.rename(columns={ '1. open':'dji_open','2. high':'dji_high','3. low':'Low','4. close':'dji_close','5. adjusted close':'dji_adj_close','6. volume':'dji_volume','7. dividend amount':'Dividend amount','8. split coefficient':'Split coefficient'})\n",
    "\n",
    "df_dji = df.iloc[:,[0,3,4,5]] #Select only the columns we want\n",
    "\n",
    "\n",
    "df_dji['dji_pct_change'] = '' #create empty column to contain pct. change\n",
    "r = df_dji['dji_adj_close'].astype(float).pct_change(1) #calculate the change\n",
    "df_dji['dji_pct_change'] = r #store the results in the empty column. There should be one row without a value\n",
    "# but fortunately that row is outside of our selected window\n",
    "\n",
    "df_dji['dji_bool'] = ''\n",
    "\n",
    "def pct_bool(df):\n",
    "    dji_pct_bool = []\n",
    "\n",
    "    for x in df['dji_pct_change']:\n",
    "        if x > 0:\n",
    "            dji_pct_bool.append(1)\n",
    "        else:\n",
    "            dji_pct_bool.append(0)\n",
    "\n",
    "    df[\"dji_bool\"] = dji_pct_bool\n",
    "\n",
    "pct_bool(df_dji)\n",
    "\n",
    "df_dji_final['dji_open'] = df_dji_final['dji_open'].astype(float)\n",
    "df_dji_final['dji_close'] = df_dji_final['dji_close'].astype(float)\n",
    "df_dji_final['dji_adj_close'] = df_dji_final['dji_adj_close'].astype(float)\n",
    "df_dji_final['dji_volume'] = df_dji_final['dji_volume'].astype(float)\n",
    "\n",
    "start_date = '2017-01-20'\n",
    "end_date = '2019-08-20'\n",
    "df_dji_final = df_dji[start_date:end_date]\n",
    "\n",
    "\n",
    "df_dji_final.to_csv('dji.csv')"
   ]
  },
  {
   "cell_type": "markdown",
   "metadata": {},
   "source": [
    "# S&P 500"
   ]
  },
  {
   "cell_type": "code",
   "execution_count": 227,
   "metadata": {},
   "outputs": [
    {
     "name": "stderr",
     "output_type": "stream",
     "text": [
      "/anaconda3/lib/python3.7/site-packages/ipykernel_launcher.py:28: SettingWithCopyWarning: \n",
      "A value is trying to be set on a copy of a slice from a DataFrame.\n",
      "Try using .loc[row_indexer,col_indexer] = value instead\n",
      "\n",
      "See the caveats in the documentation: http://pandas.pydata.org/pandas-docs/stable/indexing.html#indexing-view-versus-copy\n",
      "/anaconda3/lib/python3.7/site-packages/ipykernel_launcher.py:30: SettingWithCopyWarning: \n",
      "A value is trying to be set on a copy of a slice from a DataFrame.\n",
      "Try using .loc[row_indexer,col_indexer] = value instead\n",
      "\n",
      "See the caveats in the documentation: http://pandas.pydata.org/pandas-docs/stable/indexing.html#indexing-view-versus-copy\n",
      "/anaconda3/lib/python3.7/site-packages/ipykernel_launcher.py:34: SettingWithCopyWarning: \n",
      "A value is trying to be set on a copy of a slice from a DataFrame.\n",
      "Try using .loc[row_indexer,col_indexer] = value instead\n",
      "\n",
      "See the caveats in the documentation: http://pandas.pydata.org/pandas-docs/stable/indexing.html#indexing-view-versus-copy\n",
      "/anaconda3/lib/python3.7/site-packages/ipykernel_launcher.py:44: SettingWithCopyWarning: \n",
      "A value is trying to be set on a copy of a slice from a DataFrame.\n",
      "Try using .loc[row_indexer,col_indexer] = value instead\n",
      "\n",
      "See the caveats in the documentation: http://pandas.pydata.org/pandas-docs/stable/indexing.html#indexing-view-versus-copy\n"
     ]
    }
   ],
   "source": [
    "url = \"https://www.alphavantage.co/query\"\n",
    "params = {\n",
    "    \"function\": \"TIME_SERIES_DAILY_ADJUSTED\",\n",
    "    \"symbol\": \"SPX\",\n",
    "    \"outputsize\": \"full\",\n",
    "    \"apikey\": \"Z6OIONR9OK9RAHMX\"}\n",
    "response_sp = requests.get(url, params=params) #ask for help regarding connector\n",
    "data = response_sp.json()\n",
    "\n",
    "def convert_response(d):\n",
    "    for dt, prec in d['Time Series (Daily)'].items():\n",
    "        r = {'datetime':dt}\n",
    "        r.update(prec)\n",
    "        yield r\n",
    "    \n",
    "df = pd.DataFrame(convert_response(data))\n",
    "df['datetime'] = pd.to_datetime(df['datetime'])\n",
    "df.set_index('datetime',inplace=True)\n",
    "df.sort_index(inplace=True)\n",
    "\n",
    "\n",
    "#change the name\n",
    "df = df.rename(columns={ '1. open':'sp_open','2. high':'sp_high','3. low':'Low','4. close':'sp_close','5. adjusted close':'sp_adj_close','6. volume':'sp_volume','7. dividend amount':'Dividend amount','8. split coefficient':'Split coefficient'})\n",
    "\n",
    "df_sp = df.iloc[:,[0,3,4,5]] #Select only the columns we want\n",
    "\n",
    "\n",
    "df_sp['sp_pct_change'] = '' #create empty column to contain pct. change\n",
    "r = df_sp['sp_adj_close'].astype(float).pct_change(1) #calculate the change\n",
    "df_sp['sp_pct_change'] = r #store the results in the empty column. There should be one row without a value\n",
    "# but fortunately that row is outside of our selected window\n",
    "\n",
    "\n",
    "df_sp['sp_bool'] = ''\n",
    "def pct_bool(df):\n",
    "    sp_pct_bool = []\n",
    "\n",
    "    for x in df['sp_pct_change']:\n",
    "        if x > 0:\n",
    "            sp_pct_bool.append(1)\n",
    "        else:\n",
    "            sp_pct_bool.append(0)\n",
    "\n",
    "    df[\"sp_bool\"] = sp_pct_bool\n",
    "\n",
    "    \n",
    "pct_bool(df_sp)\n",
    "\n",
    "df_sp_final['sp_open'] = df_sp_final['sp_open'].astype(float)\n",
    "df_sp_final['sp_close'] = df_sp_final['sp_close'].astype(float)\n",
    "df_sp_final['sp_adj_close'] = df_sp_final['sp_adj_close'].astype(float)\n",
    "df_sp_final['sp_volume'] = df_sp_final['sp_volume'].astype(float)\n",
    "\n",
    "start_date = '2017-01-20'\n",
    "end_date = '2019-08-20'\n",
    "df_sp_final = df_sp[start_date:end_date]\n",
    "\n",
    "\n",
    "\n",
    "df_sp_final.to_csv('sp.csv')"
   ]
  },
  {
   "cell_type": "code",
   "execution_count": 228,
   "metadata": {},
   "outputs": [],
   "source": [
    "df_final = pd.concat([df_dji_final,df_sp_final],axis=1)"
   ]
  },
  {
   "cell_type": "code",
   "execution_count": null,
   "metadata": {},
   "outputs": [],
   "source": []
  }
 ],
 "metadata": {
  "kernelspec": {
   "display_name": "Python 3",
   "language": "python",
   "name": "python3"
  },
  "language_info": {
   "codemirror_mode": {
    "name": "ipython",
    "version": 3
   },
   "file_extension": ".py",
   "mimetype": "text/x-python",
   "name": "python",
   "nbconvert_exporter": "python",
   "pygments_lexer": "ipython3",
   "version": "3.7.3"
  }
 },
 "nbformat": 4,
 "nbformat_minor": 2
}
