{
 "cells": [
  {
   "cell_type": "markdown",
   "metadata": {},
   "source": [
    "# Summerschool: Social Data Science - Exam Project\n",
    "## Project: The Trump Twitter Effect\n",
    "### Group 17. Exam Numbers: 41, 96, 127, 220"
   ]
  },
  {
   "cell_type": "markdown",
   "metadata": {},
   "source": [
    "*This project studies whether Donald Trump’s sentiment can be used to predict the stock market movements. We conduct a sentiment analysis of his tweets, and uses upervised machine learning to try to predict the Dow Jones stock movement based on his sentiment.*"
   ]
  },
  {
   "cell_type": "markdown",
   "metadata": {},
   "source": [
    "We start by importing our data source to Python. The file `tweets.json` is created from [the Trump twitter archive](http://www.trumptwitterarchive.com/archive). We have selected all tweets since formal announcement of candidacy."
   ]
  },
  {
   "cell_type": "markdown",
   "metadata": {},
   "source": [
    "**DOCSTRING**\n",
    "\n",
    "Below we provide our docstring to the data project. \n",
    "We import the relevant packages, some of which will require installation through either `pip install` or `conda install`. "
   ]
  },
  {
   "cell_type": "code",
   "execution_count": 230,
   "metadata": {},
   "outputs": [],
   "source": [
    "'''\n",
    "DOCSTRING:\n",
    "Last updated: August 30th 2019.\n",
    "\n",
    "This project analyzes Donald J. Trump's twitter data and presents a visual analysis of key elements.\n",
    "It makes use of several packages, some of which should be installed via either pip or conda.\n",
    "Executing the code cells will save files to the relative path of this Jupyter Notebook. \n",
    "\n",
    "'''\n",
    "## Importing packages\n",
    "import pandas as pd\n",
    "import scraping_class, time, json, codecs\n",
    "import seaborn as sns\n",
    "import numpy as np\n",
    "from os import path\n",
    "from PIL import Image\n",
    "from wordcloud import WordCloud, STOPWORDS, ImageColorGenerator\n",
    "import matplotlib.pyplot as plt\n",
    "from IPython.display import display, HTML\n",
    "from vaderSentiment.vaderSentiment import SentimentIntensityAnalyzer\n",
    "from afinn import Afinn\n",
    "from fredapi import Fred\n",
    "from tqdm import tqdm\n",
    "from math import sqrt\n",
    "import statsmodels.api as sm\n",
    "from matplotlib import pyplot\n",
    "# Fuzzy\n",
    "import bs4 as bs\n",
    "import pickle\n",
    "import requests\n",
    "import fuzzywuzzy\n",
    "# Machine learning\n",
    "import sklearn\n",
    "from sklearn import linear_model\n",
    "from sklearn.tree import DecisionTreeClassifier\n",
    "from sklearn.metrics import mean_squared_error as mse\n",
    "from sklearn.metrics import accuracy_score\n",
    "from sklearn.model_selection import learning_curve, validation_curve, TimeSeriesSplit, train_test_split\n",
    "from sklearn.linear_model import Lasso, LinearRegression, Ridge\n",
    "from sklearn.pipeline import make_pipeline\n",
    "from sklearn.preprocessing import PolynomialFeatures, StandardScaler\n",
    "% matplotlib inline"
   ]
  },
  {
   "cell_type": "markdown",
   "metadata": {},
   "source": [
    "**Sentiment analyzer**\n",
    "\n",
    "We have to sentiment analyzers: AFINN and VADER. We define functions for both in the following.\n",
    "Recall that AFINN ranks the sentence from -5 to 5 and VADER from -1 to 1. "
   ]
  },
  {
   "cell_type": "code",
   "execution_count": 199,
   "metadata": {},
   "outputs": [
    {
     "name": "stdout",
     "output_type": "stream",
     "text": [
      " I do love ice cream has an AFINN sentiment of 3.0 \n",
      " I do love ice cream has a VADER sentiment of 0.6369 \n",
      " I do not love ice cream has an AFINN sentiment of 3.0 \n",
      " I do not love ice cream has a VADER sentiment of -0.5216\n"
     ]
    }
   ],
   "source": [
    "# Define sentiment analyzer score\n",
    "\n",
    "# VADER\n",
    "def sentiment_analyzer_scores(sentence):\n",
    "    analyser = SentimentIntensityAnalyzer()\n",
    "    score = analyser.polarity_scores(sentence)\n",
    "    return score\n",
    "\n",
    "# AFINN\n",
    "def afinn_sentiment_analyzer_scores(sentence):\n",
    "    afinn = Afinn(language='en')\n",
    "    score = afinn.score(sentence)\n",
    "    return score\n",
    "\n",
    "sentence_1 = 'I do love ice cream'\n",
    "sentence_2 = 'I do not love ice cream'\n",
    "print('', sentence_1, 'has an AFINN sentiment of', afinn_sentiment_analyzer_scores(sentence_1), '\\n',                                                                   \n",
    "sentence_1, 'has a VADER sentiment of', sentiment_analyzer_scores(sentence_1)['compound'], '\\n',\n",
    "sentence_2, 'has an AFINN sentiment of', afinn_sentiment_analyzer_scores(sentence_2), '\\n',\n",
    "sentence_2, 'has a VADER sentiment of', sentiment_analyzer_scores(sentence_2)['compound'])"
   ]
  },
  {
   "cell_type": "markdown",
   "metadata": {},
   "source": [
    "Based on the results, we see that AFINN is not able to account for the negation, we therefore our analysis continue using only VADER."
   ]
  },
  {
   "cell_type": "markdown",
   "metadata": {},
   "source": [
    "### Collecting data\n",
    "\n",
    "**Trump's tweets**\n",
    "\n",
    "We set up our connector to the relevant data source and log our connections in a file called *my_log*. \n",
    "We later use the log file to visualize our data connection attempts. Next, we scrape the **Trump Twitter Archive** for all tweets from the *@realdonaldtrump* Twitter account."
   ]
  },
  {
   "cell_type": "code",
   "execution_count": 200,
   "metadata": {},
   "outputs": [],
   "source": [
    "logfile = 'my_log'## name your log file.\n",
    "connector = scraping_class.Connector(logfile)\n",
    "data = []\n",
    "\n",
    "# Fetching data\n",
    "for i in range(2015,2020):\n",
    "    url = 'http://www.trumptwitterarchive.com/data/realdonaldtrump/'+str(i)+'.json'\n",
    "    r, call_id = connector.get(url, 'Tweets')\n",
    "    json_file = r.json() \n",
    "    data += json_file[::-1] # invert list\n",
    "    time.sleep(0.5) # set sleep timer to prevent unintentional DOS attacks"
   ]
  },
  {
   "cell_type": "markdown",
   "metadata": {},
   "source": [
    "**Bloomberg filtered tweets**\n",
    "\n",
    "Next, we try to collect President Donald Trump's tweets that are relevant to the economy. Bloomberg has already collected these tweets [here](https://www.bloomberg.com/features/trump-tweets-market/).\n",
    "When trying to fetch the `json` data, we are blocked by Bloomberg. We therefore reside to manually downloading the json text from the `url` and save it into a file called `bloomberg.json`."
   ]
  },
  {
   "cell_type": "code",
   "execution_count": 201,
   "metadata": {},
   "outputs": [
    {
     "data": {
      "text/plain": [
       "'<!doctype html>\\n<html>\\n<head>\\n    <title>Bloomberg - Are you a robot?</title>\\n    <meta name=\"viewport\" content=\"width=device-width, initial-scale=1\">\\n    <link rel=\"stylesheet\" type=\"text/css\" href=\"https://assets.bwbx.io/font-service/css/BWHaasGrotesk-55Roman-Web,BWHaasGrotesk-75Bold-Web,BW%20Haas%20Text%20Mono%20A-55%20Roman/font-face.css\">\\n    <style rel=\"stylesheet\" type=\"text/css\">\\n        html, body, div, span, applet, object, iframe,\\n        h1, h2, h3, h4, h5, h6, p, blockquote, pre,\\n  '"
      ]
     },
     "execution_count": 201,
     "metadata": {},
     "output_type": "execute_result"
    }
   ],
   "source": [
    "# Bloomberg filtered tweets\n",
    "url = 'https://www.bloomberg.com/bbg-gfx/trump-market-tweets-vs-dow/main.json' # json format\n",
    "r, call_id = connector.get(url, 'Bloomberg - Tweets')\n",
    "# json_file = r.json() \n",
    "# df_bloom = pd.read_json(json_file)\n",
    "r.text[:500]"
   ]
  },
  {
   "cell_type": "code",
   "execution_count": 202,
   "metadata": {},
   "outputs": [],
   "source": [
    "# load the json file using utf-8 encoding\n",
    "data_bloom = json.load(codecs.open('bloomberg.json', 'r', 'utf-8-sig'))"
   ]
  },
  {
   "cell_type": "markdown",
   "metadata": {},
   "source": [
    "**Alpha vantage**\n",
    "\n",
    "Collecting stock data from the Dow Jones Industrial Average index and S&P 500 using the **Alpha vantage API**."
   ]
  },
  {
   "cell_type": "code",
   "execution_count": 227,
   "metadata": {},
   "outputs": [],
   "source": [
    "# Converting the response to datetime\n",
    "def convert_response(d):\n",
    "    for dt, prec in d['Time Series (Daily)'].items():\n",
    "        r = {'datetime':dt}\n",
    "        r.update(prec)\n",
    "        yield r\n",
    "\n",
    "# Looping through DJI and S&P500\n",
    "indices = {'^DJI':'dji_data_collection','SPX':'sp_data_collection'}\n",
    "counter = 0\n",
    "for i,j in indices.items():\n",
    "    url = \"https://www.alphavantage.co/query?function=TIME_SERIES_DAILY_ADJUSTED&symbol=\"+i+\"&outputsize=full&apikey=\"\n",
    "    apikey = \"MLOQGMGQHPDJYBVC\"\n",
    "    r, call_id = connector.get(url+apikey, j) #ask for help regarding connector\n",
    "    if counter == 0:\n",
    "        data_dji = r.json()\n",
    "    else:\n",
    "        data_sp =  r.json()\n",
    "    counter += 1\n",
    "    time.sleep(0.5)"
   ]
  },
  {
   "cell_type": "markdown",
   "metadata": {},
   "source": [
    "Defining the function:"
   ]
  },
  {
   "cell_type": "code",
   "execution_count": 204,
   "metadata": {},
   "outputs": [],
   "source": [
    "# Connecting to the Alpha Vantage API and fetching data\n",
    "def AlphaVantage(data):\n",
    "    df = pd.DataFrame(convert_response(data))\n",
    "    df['datetime'] = pd.to_datetime(df['datetime'])\n",
    "    df.set_index('datetime',inplace=True)\n",
    "    df.sort_index(inplace=True)\n",
    "\n",
    "    #change the name\n",
    "    df = df.rename(columns={ '1. open':'open','2. high':'high','3. low':'Low','4. close':'close','5. adjusted close':'adj_close','6. volume':'volume','7. dividend amount':'Dividend amount','8. split coefficient':'Split coefficient'})\n",
    "\n",
    "    df_data = df.iloc[:,[0,3,4,5]] #Select only the columns we want\n",
    "\n",
    "\n",
    "    df_data['pct_change'] = '' #create empty column to contain pct. change\n",
    "    r = df_data['adj_close'].astype(float).pct_change(1) #calculate the change\n",
    "    df_data['pct_change'] = r #store the results in the empty column. There should be one row without a value\n",
    "    # but fortunately that row is outside of our selected window\n",
    "\n",
    "    df_data['bool'] = ''\n",
    "\n",
    "    def pct_bool(df):\n",
    "        df_pct_bool = []\n",
    "\n",
    "        for x in df['pct_change']:\n",
    "            if x > 0:\n",
    "                df_pct_bool.append(1)\n",
    "            else:\n",
    "                df_pct_bool.append(0)\n",
    "\n",
    "        df[\"bool\"] = df_pct_bool\n",
    "\n",
    "    pct_bool(df_data)\n",
    "\n",
    "    df_data_final = df_data.copy()\n",
    "    \n",
    "\n",
    "    start_date = '2015-01-01'\n",
    "    end_date = '2019-08-27'\n",
    "    df_data_final = df_data[start_date:end_date]\n",
    "    \n",
    "    for i in df_data_final.columns:\n",
    "        df_data_final[i] = df_data_final[i].astype(float)\n",
    "    \n",
    "    #df_dji_final.to_csv(data+'.csv') # Save file to CSV\n",
    "    return df_data_final"
   ]
  },
  {
   "cell_type": "markdown",
   "metadata": {},
   "source": [
    "### Data frames\n",
    "\n",
    "Based on the scraped tweets, we set up our initial data frame. We convert the `datetime` to a readable format including timestamp and index by date. We also remove retweets from our data frame."
   ]
  },
  {
   "cell_type": "markdown",
   "metadata": {},
   "source": [
    "**Trump Twitter Archive**"
   ]
  },
  {
   "cell_type": "code",
   "execution_count": 205,
   "metadata": {},
   "outputs": [
    {
     "data": {
      "text/html": [
       "<div>\n",
       "<style scoped>\n",
       "    .dataframe tbody tr th:only-of-type {\n",
       "        vertical-align: middle;\n",
       "    }\n",
       "\n",
       "    .dataframe tbody tr th {\n",
       "        vertical-align: top;\n",
       "    }\n",
       "\n",
       "    .dataframe thead th {\n",
       "        text-align: right;\n",
       "    }\n",
       "</style>\n",
       "<table border=\"1\" class=\"dataframe\">\n",
       "  <thead>\n",
       "    <tr style=\"text-align: right;\">\n",
       "      <th></th>\n",
       "      <th>created_at</th>\n",
       "      <th>favorite_count</th>\n",
       "      <th>id_str</th>\n",
       "      <th>in_reply_to_user_id_str</th>\n",
       "      <th>is_retweet</th>\n",
       "      <th>retweet_count</th>\n",
       "      <th>source</th>\n",
       "      <th>text</th>\n",
       "      <th>datetime</th>\n",
       "    </tr>\n",
       "    <tr>\n",
       "      <th>datetime</th>\n",
       "      <th></th>\n",
       "      <th></th>\n",
       "      <th></th>\n",
       "      <th></th>\n",
       "      <th></th>\n",
       "      <th></th>\n",
       "      <th></th>\n",
       "      <th></th>\n",
       "      <th></th>\n",
       "    </tr>\n",
       "  </thead>\n",
       "  <tbody>\n",
       "    <tr>\n",
       "      <th>2015-01-01 00:00:26</th>\n",
       "      <td>Thu Jan 01 00:00:26 +0000 2015</td>\n",
       "      <td>33</td>\n",
       "      <td>550441381253382144</td>\n",
       "      <td>None</td>\n",
       "      <td>False</td>\n",
       "      <td>12</td>\n",
       "      <td>Twitter for Android</td>\n",
       "      <td>\"@JaayZen: @realDonaldTrump Thanks Donald. Now...</td>\n",
       "      <td>2015-01-01 00:00:26</td>\n",
       "    </tr>\n",
       "    <tr>\n",
       "      <th>2015-01-01 00:02:37</th>\n",
       "      <td>Thu Jan 01 00:02:37 +0000 2015</td>\n",
       "      <td>28</td>\n",
       "      <td>550441927964106753</td>\n",
       "      <td>None</td>\n",
       "      <td>False</td>\n",
       "      <td>9</td>\n",
       "      <td>Twitter for Android</td>\n",
       "      <td>\"@teamconquerca: First time in the\"Trump Inter...</td>\n",
       "      <td>2015-01-01 00:02:37</td>\n",
       "    </tr>\n",
       "    <tr>\n",
       "      <th>2015-01-01 00:06:40</th>\n",
       "      <td>Thu Jan 01 00:06:40 +0000 2015</td>\n",
       "      <td>36</td>\n",
       "      <td>550442948375347200</td>\n",
       "      <td>None</td>\n",
       "      <td>False</td>\n",
       "      <td>15</td>\n",
       "      <td>Twitter for Android</td>\n",
       "      <td>\"@AngelaTN777: @gochico @realDonaldTrump: He S...</td>\n",
       "      <td>2015-01-01 00:06:40</td>\n",
       "    </tr>\n",
       "    <tr>\n",
       "      <th>2015-01-01 00:09:01</th>\n",
       "      <td>Thu Jan 01 00:09:01 +0000 2015</td>\n",
       "      <td>18</td>\n",
       "      <td>550443540111962113</td>\n",
       "      <td>None</td>\n",
       "      <td>False</td>\n",
       "      <td>11</td>\n",
       "      <td>Twitter for Android</td>\n",
       "      <td>\"@JaayZen: @grandmiapens He has all the ingred...</td>\n",
       "      <td>2015-01-01 00:09:01</td>\n",
       "    </tr>\n",
       "    <tr>\n",
       "      <th>2015-01-01 00:09:47</th>\n",
       "      <td>Thu Jan 01 00:09:47 +0000 2015</td>\n",
       "      <td>17</td>\n",
       "      <td>550443735054839808</td>\n",
       "      <td>None</td>\n",
       "      <td>False</td>\n",
       "      <td>7</td>\n",
       "      <td>Twitter for Android</td>\n",
       "      <td>\"@MarcAardvark: @realDonaldTrump @ronmeier123 ...</td>\n",
       "      <td>2015-01-01 00:09:47</td>\n",
       "    </tr>\n",
       "  </tbody>\n",
       "</table>\n",
       "</div>"
      ],
      "text/plain": [
       "                                         created_at  favorite_count  \\\n",
       "datetime                                                              \n",
       "2015-01-01 00:00:26  Thu Jan 01 00:00:26 +0000 2015              33   \n",
       "2015-01-01 00:02:37  Thu Jan 01 00:02:37 +0000 2015              28   \n",
       "2015-01-01 00:06:40  Thu Jan 01 00:06:40 +0000 2015              36   \n",
       "2015-01-01 00:09:01  Thu Jan 01 00:09:01 +0000 2015              18   \n",
       "2015-01-01 00:09:47  Thu Jan 01 00:09:47 +0000 2015              17   \n",
       "\n",
       "                                 id_str in_reply_to_user_id_str  is_retweet  \\\n",
       "datetime                                                                      \n",
       "2015-01-01 00:00:26  550441381253382144                    None       False   \n",
       "2015-01-01 00:02:37  550441927964106753                    None       False   \n",
       "2015-01-01 00:06:40  550442948375347200                    None       False   \n",
       "2015-01-01 00:09:01  550443540111962113                    None       False   \n",
       "2015-01-01 00:09:47  550443735054839808                    None       False   \n",
       "\n",
       "                     retweet_count               source  \\\n",
       "datetime                                                  \n",
       "2015-01-01 00:00:26             12  Twitter for Android   \n",
       "2015-01-01 00:02:37              9  Twitter for Android   \n",
       "2015-01-01 00:06:40             15  Twitter for Android   \n",
       "2015-01-01 00:09:01             11  Twitter for Android   \n",
       "2015-01-01 00:09:47              7  Twitter for Android   \n",
       "\n",
       "                                                                  text  \\\n",
       "datetime                                                                 \n",
       "2015-01-01 00:00:26  \"@JaayZen: @realDonaldTrump Thanks Donald. Now...   \n",
       "2015-01-01 00:02:37  \"@teamconquerca: First time in the\"Trump Inter...   \n",
       "2015-01-01 00:06:40  \"@AngelaTN777: @gochico @realDonaldTrump: He S...   \n",
       "2015-01-01 00:09:01  \"@JaayZen: @grandmiapens He has all the ingred...   \n",
       "2015-01-01 00:09:47  \"@MarcAardvark: @realDonaldTrump @ronmeier123 ...   \n",
       "\n",
       "                               datetime  \n",
       "datetime                                 \n",
       "2015-01-01 00:00:26 2015-01-01 00:00:26  \n",
       "2015-01-01 00:02:37 2015-01-01 00:02:37  \n",
       "2015-01-01 00:06:40 2015-01-01 00:06:40  \n",
       "2015-01-01 00:09:01 2015-01-01 00:09:01  \n",
       "2015-01-01 00:09:47 2015-01-01 00:09:47  "
      ]
     },
     "metadata": {},
     "output_type": "display_data"
    },
    {
     "name": "stdout",
     "output_type": "stream",
     "text": [
      "Since 2015-01-01 00:00:26 Mr. Trump has made 19673 tweets\n"
     ]
    }
   ],
   "source": [
    "### Creating and manipulating dataframes\n",
    "# Main dataframe\n",
    "df = pd.DataFrame(data)\n",
    "date = [i[2]+i[1]+i[-1]+'-'+i[3] for i in df['created_at'].str.split(' ')] # slice date\n",
    "df['datetime'] = date\n",
    "df['datetime'] = pd.to_datetime(df['datetime'], format='%d%b%Y-%H:%M:%S') # format datetime \n",
    "#df = df[(df['datetime'] > '2017-01-20')] # filter by relevant date\n",
    "df = df.query(\"is_retweet == False\") # drop retweets\n",
    "df = df.reset_index(drop=True).sort_values(by=['datetime']) # set index to date\n",
    "df.index = df['datetime']\n",
    "display(df.head())\n",
    "print('Since', df.index[0], 'Mr. Trump has made', len(df), 'tweets') # print number of tweets"
   ]
  },
  {
   "cell_type": "markdown",
   "metadata": {},
   "source": [
    "**Trump tweets - Bloomberg**"
   ]
  },
  {
   "cell_type": "code",
   "execution_count": 206,
   "metadata": {},
   "outputs": [
    {
     "data": {
      "text/html": [
       "<div>\n",
       "<style scoped>\n",
       "    .dataframe tbody tr th:only-of-type {\n",
       "        vertical-align: middle;\n",
       "    }\n",
       "\n",
       "    .dataframe tbody tr th {\n",
       "        vertical-align: top;\n",
       "    }\n",
       "\n",
       "    .dataframe thead th {\n",
       "        text-align: right;\n",
       "    }\n",
       "</style>\n",
       "<table border=\"1\" class=\"dataframe\">\n",
       "  <thead>\n",
       "    <tr style=\"text-align: right;\">\n",
       "      <th></th>\n",
       "      <th>dow</th>\n",
       "      <th>id</th>\n",
       "      <th>id_int</th>\n",
       "      <th>text</th>\n",
       "      <th>timestamp</th>\n",
       "      <th>firstdifference</th>\n",
       "      <th>relativechange</th>\n",
       "      <th>sentiment</th>\n",
       "      <th>datetime</th>\n",
       "    </tr>\n",
       "    <tr>\n",
       "      <th>datetime</th>\n",
       "      <th></th>\n",
       "      <th></th>\n",
       "      <th></th>\n",
       "      <th></th>\n",
       "      <th></th>\n",
       "      <th></th>\n",
       "      <th></th>\n",
       "      <th></th>\n",
       "      <th></th>\n",
       "    </tr>\n",
       "  </thead>\n",
       "  <tbody>\n",
       "    <tr>\n",
       "      <th>2017-01-20 17:54:36</th>\n",
       "      <td>19827.2500</td>\n",
       "      <td>822502601304526848</td>\n",
       "      <td>822502601304526800</td>\n",
       "      <td>We will bring back our jobs. We will bring bac...</td>\n",
       "      <td>2017-01-20T17:54:36.000Z</td>\n",
       "      <td>NaN</td>\n",
       "      <td>NaN</td>\n",
       "      <td>0.7345</td>\n",
       "      <td>2017-01-20 17:54:36</td>\n",
       "    </tr>\n",
       "    <tr>\n",
       "      <th>2017-01-23 11:38:16</th>\n",
       "      <td>19799.8496</td>\n",
       "      <td>823495059010109440</td>\n",
       "      <td>823495059010109400</td>\n",
       "      <td>Busy week planned with a heavy focus on jobs a...</td>\n",
       "      <td>2017-01-23T11:38:16.000Z</td>\n",
       "      <td>-27.4004</td>\n",
       "      <td>-0.138387</td>\n",
       "      <td>0.4939</td>\n",
       "      <td>2017-01-23 11:38:16</td>\n",
       "    </tr>\n",
       "    <tr>\n",
       "      <th>2017-01-24 11:11:47</th>\n",
       "      <td>19912.7109</td>\n",
       "      <td>823850781946343427</td>\n",
       "      <td>823850781946343400</td>\n",
       "      <td>Will be meeting at 9:00 with top automobile ex...</td>\n",
       "      <td>2017-01-24T11:11:47.000Z</td>\n",
       "      <td>112.8613</td>\n",
       "      <td>0.566780</td>\n",
       "      <td>0.3382</td>\n",
       "      <td>2017-01-24 11:11:47</td>\n",
       "    </tr>\n",
       "    <tr>\n",
       "      <th>2017-01-26 13:55:03</th>\n",
       "      <td>20100.9102</td>\n",
       "      <td>824616644370714627</td>\n",
       "      <td>824616644370714600</td>\n",
       "      <td>of jobs and companies lost. If Mexico is unwil...</td>\n",
       "      <td>2017-01-26T13:55:03.000Z</td>\n",
       "      <td>188.1993</td>\n",
       "      <td>0.936273</td>\n",
       "      <td>-0.5994</td>\n",
       "      <td>2017-01-26 13:55:03</td>\n",
       "    </tr>\n",
       "    <tr>\n",
       "      <th>2017-01-30 14:23:49</th>\n",
       "      <td>19971.1309</td>\n",
       "      <td>826073437735100418</td>\n",
       "      <td>826073437735100400</td>\n",
       "      <td>Where was all the outrage from Democrats and t...</td>\n",
       "      <td>2017-01-30T14:23:49.000Z</td>\n",
       "      <td>-129.7793</td>\n",
       "      <td>-0.649835</td>\n",
       "      <td>-0.1531</td>\n",
       "      <td>2017-01-30 14:23:49</td>\n",
       "    </tr>\n",
       "  </tbody>\n",
       "</table>\n",
       "</div>"
      ],
      "text/plain": [
       "                            dow                  id              id_int  \\\n",
       "datetime                                                                  \n",
       "2017-01-20 17:54:36  19827.2500  822502601304526848  822502601304526800   \n",
       "2017-01-23 11:38:16  19799.8496  823495059010109440  823495059010109400   \n",
       "2017-01-24 11:11:47  19912.7109  823850781946343427  823850781946343400   \n",
       "2017-01-26 13:55:03  20100.9102  824616644370714627  824616644370714600   \n",
       "2017-01-30 14:23:49  19971.1309  826073437735100418  826073437735100400   \n",
       "\n",
       "                                                                  text  \\\n",
       "datetime                                                                 \n",
       "2017-01-20 17:54:36  We will bring back our jobs. We will bring bac...   \n",
       "2017-01-23 11:38:16  Busy week planned with a heavy focus on jobs a...   \n",
       "2017-01-24 11:11:47  Will be meeting at 9:00 with top automobile ex...   \n",
       "2017-01-26 13:55:03  of jobs and companies lost. If Mexico is unwil...   \n",
       "2017-01-30 14:23:49  Where was all the outrage from Democrats and t...   \n",
       "\n",
       "                                    timestamp  firstdifference  \\\n",
       "datetime                                                         \n",
       "2017-01-20 17:54:36  2017-01-20T17:54:36.000Z              NaN   \n",
       "2017-01-23 11:38:16  2017-01-23T11:38:16.000Z         -27.4004   \n",
       "2017-01-24 11:11:47  2017-01-24T11:11:47.000Z         112.8613   \n",
       "2017-01-26 13:55:03  2017-01-26T13:55:03.000Z         188.1993   \n",
       "2017-01-30 14:23:49  2017-01-30T14:23:49.000Z        -129.7793   \n",
       "\n",
       "                     relativechange  sentiment            datetime  \n",
       "datetime                                                            \n",
       "2017-01-20 17:54:36             NaN     0.7345 2017-01-20 17:54:36  \n",
       "2017-01-23 11:38:16       -0.138387     0.4939 2017-01-23 11:38:16  \n",
       "2017-01-24 11:11:47        0.566780     0.3382 2017-01-24 11:11:47  \n",
       "2017-01-26 13:55:03        0.936273    -0.5994 2017-01-26 13:55:03  \n",
       "2017-01-30 14:23:49       -0.649835    -0.1531 2017-01-30 14:23:49  "
      ]
     },
     "metadata": {},
     "output_type": "display_data"
    }
   ],
   "source": [
    "# Tweets related to the economy\n",
    "df_bloom = pd.DataFrame(data_bloom) # load data frame\n",
    "df_bloom = df_bloom.sort_values(by='timestamp') # chronological order since inception\n",
    "df_bloom['firstdifference'] = df_bloom['dow'] - df_bloom['dow'].shift() # first DJIA change since last row\n",
    "df_bloom['relativechange'] = (df_bloom['dow'] - df_bloom['dow'].shift())/df_bloom['dow']*100 # relative change\n",
    "df_bloom['sentiment'] = [sentiment_analyzer_scores(tweet)['compound'] for tweet in df_bloom['text']] # sentiment (VADER)\n",
    "date = [i[0]+'-'+i[1][:8] for i in df_bloom['timestamp'].str.split('T')] # slice date\n",
    "df_bloom['datetime'] = date\n",
    "df_bloom['datetime'] = pd.to_datetime(df_bloom['datetime'], format='%Y-%m-%d-%H:%M:%S') # format datetime \n",
    "df_bloom['datetime']\n",
    "df_bloom.index = df_bloom['datetime']\n",
    "display(df_bloom.head())"
   ]
  },
  {
   "cell_type": "markdown",
   "metadata": {},
   "source": [
    "**Sentiment analyzer**\n",
    "\n",
    "Next, we run the sentiment analyzers on our data frame. As there are a lot of tweets this process is quite time consuming."
   ]
  },
  {
   "cell_type": "code",
   "execution_count": 207,
   "metadata": {},
   "outputs": [
    {
     "data": {
      "text/html": [
       "<div>\n",
       "<style scoped>\n",
       "    .dataframe tbody tr th:only-of-type {\n",
       "        vertical-align: middle;\n",
       "    }\n",
       "\n",
       "    .dataframe tbody tr th {\n",
       "        vertical-align: top;\n",
       "    }\n",
       "\n",
       "    .dataframe thead th {\n",
       "        text-align: right;\n",
       "    }\n",
       "</style>\n",
       "<table border=\"1\" class=\"dataframe\">\n",
       "  <thead>\n",
       "    <tr style=\"text-align: right;\">\n",
       "      <th></th>\n",
       "      <th>created_at</th>\n",
       "      <th>favorite_count</th>\n",
       "      <th>id_str</th>\n",
       "      <th>in_reply_to_user_id_str</th>\n",
       "      <th>is_retweet</th>\n",
       "      <th>retweet_count</th>\n",
       "      <th>source</th>\n",
       "      <th>text</th>\n",
       "      <th>datetime</th>\n",
       "      <th>sentiment</th>\n",
       "    </tr>\n",
       "    <tr>\n",
       "      <th>datetime</th>\n",
       "      <th></th>\n",
       "      <th></th>\n",
       "      <th></th>\n",
       "      <th></th>\n",
       "      <th></th>\n",
       "      <th></th>\n",
       "      <th></th>\n",
       "      <th></th>\n",
       "      <th></th>\n",
       "      <th></th>\n",
       "    </tr>\n",
       "  </thead>\n",
       "  <tbody>\n",
       "    <tr>\n",
       "      <th>2015-01-01 00:00:26</th>\n",
       "      <td>Thu Jan 01 00:00:26 +0000 2015</td>\n",
       "      <td>33</td>\n",
       "      <td>550441381253382144</td>\n",
       "      <td>None</td>\n",
       "      <td>False</td>\n",
       "      <td>12</td>\n",
       "      <td>Twitter for Android</td>\n",
       "      <td>\"@JaayZen: @realDonaldTrump Thanks Donald. Now...</td>\n",
       "      <td>2015-01-01 00:00:26</td>\n",
       "      <td>0.7494</td>\n",
       "    </tr>\n",
       "    <tr>\n",
       "      <th>2015-01-01 00:02:37</th>\n",
       "      <td>Thu Jan 01 00:02:37 +0000 2015</td>\n",
       "      <td>28</td>\n",
       "      <td>550441927964106753</td>\n",
       "      <td>None</td>\n",
       "      <td>False</td>\n",
       "      <td>9</td>\n",
       "      <td>Twitter for Android</td>\n",
       "      <td>\"@teamconquerca: First time in the\"Trump Inter...</td>\n",
       "      <td>2015-01-01 00:02:37</td>\n",
       "      <td>0.8711</td>\n",
       "    </tr>\n",
       "    <tr>\n",
       "      <th>2015-01-01 00:06:40</th>\n",
       "      <td>Thu Jan 01 00:06:40 +0000 2015</td>\n",
       "      <td>36</td>\n",
       "      <td>550442948375347200</td>\n",
       "      <td>None</td>\n",
       "      <td>False</td>\n",
       "      <td>15</td>\n",
       "      <td>Twitter for Android</td>\n",
       "      <td>\"@AngelaTN777: @gochico @realDonaldTrump: He S...</td>\n",
       "      <td>2015-01-01 00:06:40</td>\n",
       "      <td>0.4738</td>\n",
       "    </tr>\n",
       "    <tr>\n",
       "      <th>2015-01-01 00:09:01</th>\n",
       "      <td>Thu Jan 01 00:09:01 +0000 2015</td>\n",
       "      <td>18</td>\n",
       "      <td>550443540111962113</td>\n",
       "      <td>None</td>\n",
       "      <td>False</td>\n",
       "      <td>11</td>\n",
       "      <td>Twitter for Android</td>\n",
       "      <td>\"@JaayZen: @grandmiapens He has all the ingred...</td>\n",
       "      <td>2015-01-01 00:09:01</td>\n",
       "      <td>0.0000</td>\n",
       "    </tr>\n",
       "    <tr>\n",
       "      <th>2015-01-01 00:09:47</th>\n",
       "      <td>Thu Jan 01 00:09:47 +0000 2015</td>\n",
       "      <td>17</td>\n",
       "      <td>550443735054839808</td>\n",
       "      <td>None</td>\n",
       "      <td>False</td>\n",
       "      <td>7</td>\n",
       "      <td>Twitter for Android</td>\n",
       "      <td>\"@MarcAardvark: @realDonaldTrump @ronmeier123 ...</td>\n",
       "      <td>2015-01-01 00:09:47</td>\n",
       "      <td>0.6369</td>\n",
       "    </tr>\n",
       "  </tbody>\n",
       "</table>\n",
       "</div>"
      ],
      "text/plain": [
       "                                         created_at  favorite_count  \\\n",
       "datetime                                                              \n",
       "2015-01-01 00:00:26  Thu Jan 01 00:00:26 +0000 2015              33   \n",
       "2015-01-01 00:02:37  Thu Jan 01 00:02:37 +0000 2015              28   \n",
       "2015-01-01 00:06:40  Thu Jan 01 00:06:40 +0000 2015              36   \n",
       "2015-01-01 00:09:01  Thu Jan 01 00:09:01 +0000 2015              18   \n",
       "2015-01-01 00:09:47  Thu Jan 01 00:09:47 +0000 2015              17   \n",
       "\n",
       "                                 id_str in_reply_to_user_id_str  is_retweet  \\\n",
       "datetime                                                                      \n",
       "2015-01-01 00:00:26  550441381253382144                    None       False   \n",
       "2015-01-01 00:02:37  550441927964106753                    None       False   \n",
       "2015-01-01 00:06:40  550442948375347200                    None       False   \n",
       "2015-01-01 00:09:01  550443540111962113                    None       False   \n",
       "2015-01-01 00:09:47  550443735054839808                    None       False   \n",
       "\n",
       "                     retweet_count               source  \\\n",
       "datetime                                                  \n",
       "2015-01-01 00:00:26             12  Twitter for Android   \n",
       "2015-01-01 00:02:37              9  Twitter for Android   \n",
       "2015-01-01 00:06:40             15  Twitter for Android   \n",
       "2015-01-01 00:09:01             11  Twitter for Android   \n",
       "2015-01-01 00:09:47              7  Twitter for Android   \n",
       "\n",
       "                                                                  text  \\\n",
       "datetime                                                                 \n",
       "2015-01-01 00:00:26  \"@JaayZen: @realDonaldTrump Thanks Donald. Now...   \n",
       "2015-01-01 00:02:37  \"@teamconquerca: First time in the\"Trump Inter...   \n",
       "2015-01-01 00:06:40  \"@AngelaTN777: @gochico @realDonaldTrump: He S...   \n",
       "2015-01-01 00:09:01  \"@JaayZen: @grandmiapens He has all the ingred...   \n",
       "2015-01-01 00:09:47  \"@MarcAardvark: @realDonaldTrump @ronmeier123 ...   \n",
       "\n",
       "                               datetime  sentiment  \n",
       "datetime                                            \n",
       "2015-01-01 00:00:26 2015-01-01 00:00:26     0.7494  \n",
       "2015-01-01 00:02:37 2015-01-01 00:02:37     0.8711  \n",
       "2015-01-01 00:06:40 2015-01-01 00:06:40     0.4738  \n",
       "2015-01-01 00:09:01 2015-01-01 00:09:01     0.0000  \n",
       "2015-01-01 00:09:47 2015-01-01 00:09:47     0.6369  "
      ]
     },
     "metadata": {},
     "output_type": "display_data"
    }
   ],
   "source": [
    "# Add sentiment to dataframe\n",
    "df['sentiment'] = [sentiment_analyzer_scores(tweet)['compound'] for tweet in df['text']]\n",
    "display(df.head())"
   ]
  },
  {
   "cell_type": "markdown",
   "metadata": {},
   "source": [
    "**Wordcloud**\n",
    "\n",
    "Using the `wordcloud` package for Python we visualize the most frequently used words, both for all his collective tweets and tweets related to the economy."
   ]
  },
  {
   "cell_type": "code",
   "execution_count": 208,
   "metadata": {},
   "outputs": [],
   "source": [
    "# Define functions to display multiple tables\n",
    "def multi_table(table_list):\n",
    "    ''' Acceps a list of IpyTable objects and returns a table which contains each IpyTable in a cell\n",
    "    '''\n",
    "    return HTML(\n",
    "        '<table><tr style=\"background-color:white;\">' + \n",
    "        ''.join(['<td>' + table._repr_html_() + '</td>' for table in table_list]) +\n",
    "        '</tr></table>'\n",
    "    )\n",
    "\n",
    "#multi_table(dfs[0:4])  # display example"
   ]
  },
  {
   "cell_type": "code",
   "execution_count": 209,
   "metadata": {},
   "outputs": [],
   "source": [
    "#WORDCLOUD\n",
    "\n",
    "# function to get custom color for wordcloud\n",
    "def custom_color(word=None, font_size=None, position=None, orientation=None, font_path=None, random_state=None):\n",
    "    h = 30 # int(360.0 * 45.0 / 255.0)\n",
    "    s = int(100.0 * 255.0 / 255.0)\n",
    "    l = int(100.0 * float(random_state.randint(100, 160)) / 255.0)\n",
    "\n",
    "    return \"hsl({}, {}%, {}%)\".format(h, s, l)\n",
    " \n",
    "# picture used as shape\n",
    "trump_mask = np.array(Image.open(\"trump_mask.jpg\")) # read image\n",
    "trump_mask_T = np.array(Image.open(\"trump_mask.jpg\").transpose(Image.FLIP_LEFT_RIGHT)) # read image transposed"
   ]
  },
  {
   "cell_type": "code",
   "execution_count": 210,
   "metadata": {},
   "outputs": [
    {
     "data": {
      "image/png": "[encoded data removed]",
      "text/plain": [
       "<Figure size 432x288 with 1 Axes>"
      ]
     },
     "metadata": {
      "needs_background": "light"
     },
     "output_type": "display_data"
    },
    {
     "data": {
      "image/png": "[encoded data removed]",
      "text/plain": [
       "<Figure size 432x288 with 1 Axes>"
      ]
     },
     "metadata": {
      "needs_background": "light"
     },
     "output_type": "display_data"
    },
    {
     "data": {
      "text/plain": [
       "<wordcloud.wordcloud.WordCloud at 0x150f58b1470>"
      ]
     },
     "execution_count": 210,
     "metadata": {},
     "output_type": "execute_result"
    }
   ],
   "source": [
    "# wordcloud for ALL TWEETS\n",
    "text = \" \".join(tweet for tweet in df['text'][df['text'].str.contains(r'^(?:(?!https|co|amp|realDonaldTrump|Trump).)*$')])\n",
    "\n",
    "# Create and generate a word cloud image:\n",
    "wordcloud = WordCloud(max_font_size=50, max_words=100, background_color=\"white\",mask=trump_mask, \n",
    "                      contour_color ='black',color_func=custom_color).generate(text)\n",
    "\n",
    "# Display the generated image:\n",
    "plt.imshow(wordcloud, interpolation='bilinear')\n",
    "plt.axis(\"off\")\n",
    "plt.show()\n",
    "\n",
    "wordcloud.to_file(\"wordcloud_all.png\") # save file\n",
    "\n",
    "# wordcloud for BLOOMBERG tweets\n",
    "\n",
    "text = \" \".join(tweet for tweet in df_bloom['text'][df_bloom['text'].str.contains(r'^(?:(?!https|co|amp).)*$')])\n",
    "\n",
    "# Create and generate a word cloud image:\n",
    "wordcloud = WordCloud(max_font_size=50, max_words=100, background_color=\"white\",mask=trump_mask_T, \n",
    "                      contour_color ='black',color_func=custom_color).generate(text)\n",
    "\n",
    "# Display the generated image:\n",
    "plt.imshow(wordcloud, interpolation='bilinear')\n",
    "plt.axis(\"off\")\n",
    "plt.show()\n",
    "\n",
    "wordcloud.to_file(\"wordcloud_bloom.png\") # save file"
   ]
  },
  {
   "cell_type": "code",
   "execution_count": 211,
   "metadata": {},
   "outputs": [
    {
     "name": "stdout",
     "output_type": "stream",
     "text": [
      "count    383.000000\n",
      "mean       0.320669\n",
      "std        0.541008\n",
      "min       -0.973500\n",
      "25%        0.000000\n",
      "50%        0.519800\n",
      "75%        0.789650\n",
      "max        0.978800\n",
      "Name: sentiment, dtype: float64\n"
     ]
    }
   ],
   "source": [
    "print(df_bloom['sentiment'].describe())"
   ]
  },
  {
   "cell_type": "markdown",
   "metadata": {},
   "source": [
    "Filtering the bloomberg data and plotting"
   ]
  },
  {
   "cell_type": "code",
   "execution_count": 212,
   "metadata": {},
   "outputs": [
    {
     "name": "stdout",
     "output_type": "stream",
     "text": [
      "The standard deviation is 277.09 \n",
      "Number of observations: 383 \n",
      "Outliers are posted here:\n"
     ]
    },
    {
     "data": {
      "text/html": [
       "<div>\n",
       "<style scoped>\n",
       "    .dataframe tbody tr th:only-of-type {\n",
       "        vertical-align: middle;\n",
       "    }\n",
       "\n",
       "    .dataframe tbody tr th {\n",
       "        vertical-align: top;\n",
       "    }\n",
       "\n",
       "    .dataframe thead th {\n",
       "        text-align: right;\n",
       "    }\n",
       "</style>\n",
       "<table border=\"1\" class=\"dataframe\">\n",
       "  <thead>\n",
       "    <tr style=\"text-align: right;\">\n",
       "      <th></th>\n",
       "      <th>dow</th>\n",
       "      <th>id</th>\n",
       "      <th>id_int</th>\n",
       "      <th>text</th>\n",
       "      <th>timestamp</th>\n",
       "      <th>firstdifference</th>\n",
       "      <th>relativechange</th>\n",
       "      <th>sentiment</th>\n",
       "      <th>datetime</th>\n",
       "      <th>outlier</th>\n",
       "    </tr>\n",
       "    <tr>\n",
       "      <th>datetime</th>\n",
       "      <th></th>\n",
       "      <th></th>\n",
       "      <th></th>\n",
       "      <th></th>\n",
       "      <th></th>\n",
       "      <th></th>\n",
       "      <th></th>\n",
       "      <th></th>\n",
       "      <th></th>\n",
       "      <th></th>\n",
       "    </tr>\n",
       "  </thead>\n",
       "  <tbody>\n",
       "    <tr>\n",
       "      <th>2018-08-22 20:07:29</th>\n",
       "      <td>25733.5996</td>\n",
       "      <td>1032358618576900096</td>\n",
       "      <td>1032358618576900100</td>\n",
       "      <td>Longest bull run in the history of the stock m...</td>\n",
       "      <td>2018-08-22T20:07:29.000Z</td>\n",
       "      <td>1629.7187</td>\n",
       "      <td>6.333038</td>\n",
       "      <td>0.6360</td>\n",
       "      <td>2018-08-22 20:07:29</td>\n",
       "      <td>True</td>\n",
       "    </tr>\n",
       "    <tr>\n",
       "      <th>2018-10-16 13:08:24</th>\n",
       "      <td>25798.4199</td>\n",
       "      <td>1052184484941049857</td>\n",
       "      <td>1052184484941049900</td>\n",
       "      <td>“8X more new manufacturing jobs now than with ...</td>\n",
       "      <td>2018-10-16T13:08:24.000Z</td>\n",
       "      <td>-1124.6094</td>\n",
       "      <td>-4.359218</td>\n",
       "      <td>0.0000</td>\n",
       "      <td>2018-10-16 13:08:24</td>\n",
       "      <td>True</td>\n",
       "    </tr>\n",
       "    <tr>\n",
       "      <th>2018-11-26 20:20:59</th>\n",
       "      <td>24640.2402</td>\n",
       "      <td>1067151249668214793</td>\n",
       "      <td>1067151249668214800</td>\n",
       "      <td>....starts today, election is on December 4th....</td>\n",
       "      <td>2018-11-26T20:20:59.000Z</td>\n",
       "      <td>-1072.1504</td>\n",
       "      <td>-4.351217</td>\n",
       "      <td>0.6239</td>\n",
       "      <td>2018-11-26 20:20:59</td>\n",
       "      <td>True</td>\n",
       "    </tr>\n",
       "    <tr>\n",
       "      <th>2018-12-24 15:55:22</th>\n",
       "      <td>21792.1992</td>\n",
       "      <td>1077231267559755776</td>\n",
       "      <td>1077231267559755800</td>\n",
       "      <td>The only problem our economy has is the Fed. T...</td>\n",
       "      <td>2018-12-24T15:55:22.000Z</td>\n",
       "      <td>-2025.2403</td>\n",
       "      <td>-9.293419</td>\n",
       "      <td>0.1007</td>\n",
       "      <td>2018-12-24 15:55:22</td>\n",
       "      <td>True</td>\n",
       "    </tr>\n",
       "    <tr>\n",
       "      <th>2018-12-28 12:49:26</th>\n",
       "      <td>23062.4004</td>\n",
       "      <td>1078634025412116480</td>\n",
       "      <td>1078634025412116500</td>\n",
       "      <td>.....close the Southern Border. Bring our car ...</td>\n",
       "      <td>2018-12-28T12:49:26.000Z</td>\n",
       "      <td>1270.2012</td>\n",
       "      <td>5.507671</td>\n",
       "      <td>-0.2062</td>\n",
       "      <td>2018-12-28 12:49:26</td>\n",
       "      <td>True</td>\n",
       "    </tr>\n",
       "  </tbody>\n",
       "</table>\n",
       "</div>"
      ],
      "text/plain": [
       "                            dow                   id               id_int  \\\n",
       "datetime                                                                    \n",
       "2018-08-22 20:07:29  25733.5996  1032358618576900096  1032358618576900100   \n",
       "2018-10-16 13:08:24  25798.4199  1052184484941049857  1052184484941049900   \n",
       "2018-11-26 20:20:59  24640.2402  1067151249668214793  1067151249668214800   \n",
       "2018-12-24 15:55:22  21792.1992  1077231267559755776  1077231267559755800   \n",
       "2018-12-28 12:49:26  23062.4004  1078634025412116480  1078634025412116500   \n",
       "\n",
       "                                                                  text  \\\n",
       "datetime                                                                 \n",
       "2018-08-22 20:07:29  Longest bull run in the history of the stock m...   \n",
       "2018-10-16 13:08:24  “8X more new manufacturing jobs now than with ...   \n",
       "2018-11-26 20:20:59  ....starts today, election is on December 4th....   \n",
       "2018-12-24 15:55:22  The only problem our economy has is the Fed. T...   \n",
       "2018-12-28 12:49:26  .....close the Southern Border. Bring our car ...   \n",
       "\n",
       "                                    timestamp  firstdifference  \\\n",
       "datetime                                                         \n",
       "2018-08-22 20:07:29  2018-08-22T20:07:29.000Z        1629.7187   \n",
       "2018-10-16 13:08:24  2018-10-16T13:08:24.000Z       -1124.6094   \n",
       "2018-11-26 20:20:59  2018-11-26T20:20:59.000Z       -1072.1504   \n",
       "2018-12-24 15:55:22  2018-12-24T15:55:22.000Z       -2025.2403   \n",
       "2018-12-28 12:49:26  2018-12-28T12:49:26.000Z        1270.2012   \n",
       "\n",
       "                     relativechange  sentiment            datetime  outlier  \n",
       "datetime                                                                     \n",
       "2018-08-22 20:07:29        6.333038     0.6360 2018-08-22 20:07:29     True  \n",
       "2018-10-16 13:08:24       -4.359218     0.0000 2018-10-16 13:08:24     True  \n",
       "2018-11-26 20:20:59       -4.351217     0.6239 2018-11-26 20:20:59     True  \n",
       "2018-12-24 15:55:22       -9.293419     0.1007 2018-12-24 15:55:22     True  \n",
       "2018-12-28 12:49:26        5.507671    -0.2062 2018-12-28 12:49:26     True  "
      ]
     },
     "metadata": {},
     "output_type": "display_data"
    },
    {
     "name": "stdout",
     "output_type": "stream",
     "text": [
      "AFTER OUTLIERS: The standard deviation is 221.34 \n",
      "AFTER OUTLIERS: Number of observations: 378\n"
     ]
    }
   ],
   "source": [
    "df_bloom['outlier'] = abs(df_bloom['firstdifference']) >= df_bloom['firstdifference'].std()*3.5 # get outliers 3.5 times standard deviation\n",
    "\n",
    "df_bloom_outlier = df_bloom.query('outlier == True')\n",
    "\n",
    "print('The standard deviation is', round(df_bloom['firstdifference'].std(),2), '\\nNumber of observations:',len(df_bloom),'\\nOutliers are posted here:')\n",
    "display(df_bloom_outlier) # display outliers\n",
    "df_bloom_clean = df_bloom.query('outlier == False') # remove outliers \n",
    "print('AFTER OUTLIERS: The standard deviation is', round(df_bloom_clean['firstdifference'].std(),2), '\\nAFTER OUTLIERS: Number of observations:',len(df_bloom_clean))"
   ]
  },
  {
   "cell_type": "markdown",
   "metadata": {},
   "source": [
    "**Plotting absolute values (DJIA)**"
   ]
  },
  {
   "cell_type": "code",
   "execution_count": 213,
   "metadata": {},
   "outputs": [
    {
     "data": {
      "image/png": "[encoded data removed]",
      "text/plain": [
       "<Figure size 432x288 with 1 Axes>"
      ]
     },
     "metadata": {
      "needs_background": "light"
     },
     "output_type": "display_data"
    }
   ],
   "source": [
    "# Plotting figure\n",
    "fig, ax = plt.subplots()\n",
    "\n",
    "df_bloom_clean['dow'].plot(ax=ax, color='lightblue')\n",
    "\n",
    "# Formatting\n",
    "ax.set_ylabel('DJIA')\n",
    "ax.xaxis.label.set_visible(False) # remove axis label\n",
    "ax.spines['right'].set_visible(False) # remove right spine\n",
    "ax.spines['top'].set_visible(False) # remove top spine\n",
    "ax.xaxis.set_ticks_position('none') # remove ticks from axis\n",
    "plt.tight_layout() # prevents cutting off labels\n",
    "plt.savefig('DJIA.png')\n",
    "\n",
    "plt.show()"
   ]
  },
  {
   "cell_type": "markdown",
   "metadata": {},
   "source": [
    "**Plotting first difference (DJIA)**"
   ]
  },
  {
   "cell_type": "code",
   "execution_count": 214,
   "metadata": {},
   "outputs": [
    {
     "data": {
      "image/png": "[encoded data removed]",
      "text/plain": [
       "<Figure size 432x288 with 1 Axes>"
      ]
     },
     "metadata": {
      "needs_background": "light"
     },
     "output_type": "display_data"
    }
   ],
   "source": [
    "# Plotting figure\n",
    "fig, ax = plt.subplots()\n",
    "\n",
    "df_bloom_clean['firstdifference'].plot(ax=ax, color='lightblue')\n",
    "\n",
    "# Formatting\n",
    "ax.set_ylabel('First difference')\n",
    "ax.xaxis.label.set_visible(False) # remove axis label\n",
    "ax.spines['right'].set_visible(False) # remove right spine\n",
    "ax.spines['top'].set_visible(False) # remove top spine\n",
    "ax.xaxis.set_ticks_position('none') # remove ticks from axis\n",
    "plt.tight_layout() # prevents cutting off labels\n",
    "plt.savefig('DJIAFD.png')\n",
    "\n",
    "plt.show()"
   ]
  },
  {
   "cell_type": "markdown",
   "metadata": {},
   "source": [
    "**Summary data for all tweets and bloomberg selected tweets TOTAL period**"
   ]
  },
  {
   "cell_type": "code",
   "execution_count": 215,
   "metadata": {},
   "outputs": [
    {
     "data": {
      "text/html": [
       "<div>\n",
       "<style scoped>\n",
       "    .dataframe tbody tr th:only-of-type {\n",
       "        vertical-align: middle;\n",
       "    }\n",
       "\n",
       "    .dataframe tbody tr th {\n",
       "        vertical-align: top;\n",
       "    }\n",
       "\n",
       "    .dataframe thead th {\n",
       "        text-align: right;\n",
       "    }\n",
       "</style>\n",
       "<table border=\"1\" class=\"dataframe\">\n",
       "  <thead>\n",
       "    <tr style=\"text-align: right;\">\n",
       "      <th></th>\n",
       "      <th>count</th>\n",
       "      <th>mean</th>\n",
       "      <th>std</th>\n",
       "      <th>min</th>\n",
       "      <th>25%</th>\n",
       "      <th>50%</th>\n",
       "      <th>75%</th>\n",
       "      <th>max</th>\n",
       "    </tr>\n",
       "  </thead>\n",
       "  <tbody>\n",
       "    <tr>\n",
       "      <th>All tweets</th>\n",
       "      <td>19673.0</td>\n",
       "      <td>0.22</td>\n",
       "      <td>0.55</td>\n",
       "      <td>-0.99</td>\n",
       "      <td>-0.1</td>\n",
       "      <td>0.36</td>\n",
       "      <td>0.70</td>\n",
       "      <td>0.99</td>\n",
       "    </tr>\n",
       "    <tr>\n",
       "      <th>Selected tweets</th>\n",
       "      <td>383.0</td>\n",
       "      <td>0.32</td>\n",
       "      <td>0.54</td>\n",
       "      <td>-0.97</td>\n",
       "      <td>0.0</td>\n",
       "      <td>0.52</td>\n",
       "      <td>0.79</td>\n",
       "      <td>0.98</td>\n",
       "    </tr>\n",
       "  </tbody>\n",
       "</table>\n",
       "</div>"
      ],
      "text/plain": [
       "                   count  mean   std   min  25%   50%   75%   max\n",
       "All tweets       19673.0  0.22  0.55 -0.99 -0.1  0.36  0.70  0.99\n",
       "Selected tweets    383.0  0.32  0.54 -0.97  0.0  0.52  0.79  0.98"
      ]
     },
     "metadata": {},
     "output_type": "display_data"
    },
    {
     "data": {
      "text/plain": [
       "'\\\\begin{tabular}{rrrrrrrr}\\n\\\\toprule\\n   count &  mean &   std &   min &  25\\\\% &   50\\\\% &   75\\\\% &   max \\\\\\\\\\n\\\\midrule\\n 19673.0 &  0.22 &  0.55 & -0.99 & -0.1 &  0.36 &  0.70 &  0.99 \\\\\\\\\\n   383.0 &  0.32 &  0.54 & -0.97 &  0.0 &  0.52 &  0.79 &  0.98 \\\\\\\\\\n\\\\bottomrule\\n\\\\end{tabular}\\n'"
      ]
     },
     "metadata": {},
     "output_type": "display_data"
    }
   ],
   "source": [
    "column_id = ['count', 'mean', 'std', 'min', '25%', '50%', '75%' ,'max']\n",
    "bloom_desc = list(round(df_bloom['sentiment'].describe(), 2))\n",
    "All_desc = list(round(df['sentiment'].describe(),2))\n",
    "tabledict = {'All tweets': All_desc, 'Selected tweets': bloom_desc}\n",
    "tableX =  pd.DataFrame(tabledict, index = column_id).T\n",
    "display(tableX)\n",
    "display(tableX.to_latex(index=False))"
   ]
  },
  {
   "cell_type": "code",
   "execution_count": 216,
   "metadata": {},
   "outputs": [],
   "source": [
    "date = [i[0]+'-'+i[1][:8] for i in df_bloom['timestamp'].str.split('T')] # slice date\n",
    "df_bloom['datetime'] = date\n",
    "df_bloom['datetime'] = pd.to_datetime(df_bloom['datetime'], format='%Y-%m-%d-%H:%M:%S') # format datetime \n",
    "df_bloom['datetime']\n",
    "df_bloom.index = df_bloom['datetime']"
   ]
  },
  {
   "cell_type": "markdown",
   "metadata": {},
   "source": [
    "**Summary data for all tweets and bloomberg selected tweets by year**"
   ]
  },
  {
   "cell_type": "code",
   "execution_count": 217,
   "metadata": {},
   "outputs": [
    {
     "data": {
      "text/html": [
       "<div>\n",
       "<style scoped>\n",
       "    .dataframe tbody tr th:only-of-type {\n",
       "        vertical-align: middle;\n",
       "    }\n",
       "\n",
       "    .dataframe tbody tr th {\n",
       "        vertical-align: top;\n",
       "    }\n",
       "\n",
       "    .dataframe thead th {\n",
       "        text-align: right;\n",
       "    }\n",
       "</style>\n",
       "<table border=\"1\" class=\"dataframe\">\n",
       "  <thead>\n",
       "    <tr style=\"text-align: right;\">\n",
       "      <th></th>\n",
       "      <th>count</th>\n",
       "      <th>mean</th>\n",
       "      <th>std</th>\n",
       "      <th>min</th>\n",
       "      <th>25%</th>\n",
       "      <th>50%</th>\n",
       "      <th>75%</th>\n",
       "      <th>max</th>\n",
       "    </tr>\n",
       "    <tr>\n",
       "      <th>datetime</th>\n",
       "      <th></th>\n",
       "      <th></th>\n",
       "      <th></th>\n",
       "      <th></th>\n",
       "      <th></th>\n",
       "      <th></th>\n",
       "      <th></th>\n",
       "      <th></th>\n",
       "    </tr>\n",
       "  </thead>\n",
       "  <tbody>\n",
       "    <tr>\n",
       "      <th>2017-12-31</th>\n",
       "      <td>125.0</td>\n",
       "      <td>0.31</td>\n",
       "      <td>0.49</td>\n",
       "      <td>-0.97</td>\n",
       "      <td>0.00</td>\n",
       "      <td>0.42</td>\n",
       "      <td>0.73</td>\n",
       "      <td>0.94</td>\n",
       "    </tr>\n",
       "    <tr>\n",
       "      <th>2018-12-31</th>\n",
       "      <td>108.0</td>\n",
       "      <td>0.36</td>\n",
       "      <td>0.53</td>\n",
       "      <td>-0.90</td>\n",
       "      <td>0.00</td>\n",
       "      <td>0.54</td>\n",
       "      <td>0.81</td>\n",
       "      <td>0.98</td>\n",
       "    </tr>\n",
       "    <tr>\n",
       "      <th>2019-12-31</th>\n",
       "      <td>150.0</td>\n",
       "      <td>0.30</td>\n",
       "      <td>0.59</td>\n",
       "      <td>-0.97</td>\n",
       "      <td>-0.14</td>\n",
       "      <td>0.54</td>\n",
       "      <td>0.79</td>\n",
       "      <td>0.96</td>\n",
       "    </tr>\n",
       "  </tbody>\n",
       "</table>\n",
       "</div>"
      ],
      "text/plain": [
       "            count  mean   std   min   25%   50%   75%   max\n",
       "datetime                                                   \n",
       "2017-12-31  125.0  0.31  0.49 -0.97  0.00  0.42  0.73  0.94\n",
       "2018-12-31  108.0  0.36  0.53 -0.90  0.00  0.54  0.81  0.98\n",
       "2019-12-31  150.0  0.30  0.59 -0.97 -0.14  0.54  0.79  0.96"
      ]
     },
     "metadata": {},
     "output_type": "display_data"
    },
    {
     "data": {
      "text/html": [
       "<div>\n",
       "<style scoped>\n",
       "    .dataframe tbody tr th:only-of-type {\n",
       "        vertical-align: middle;\n",
       "    }\n",
       "\n",
       "    .dataframe tbody tr th {\n",
       "        vertical-align: top;\n",
       "    }\n",
       "\n",
       "    .dataframe thead th {\n",
       "        text-align: right;\n",
       "    }\n",
       "</style>\n",
       "<table border=\"1\" class=\"dataframe\">\n",
       "  <thead>\n",
       "    <tr style=\"text-align: right;\">\n",
       "      <th></th>\n",
       "      <th>count</th>\n",
       "      <th>mean</th>\n",
       "      <th>std</th>\n",
       "      <th>min</th>\n",
       "      <th>25%</th>\n",
       "      <th>50%</th>\n",
       "      <th>75%</th>\n",
       "      <th>max</th>\n",
       "    </tr>\n",
       "    <tr>\n",
       "      <th>datetime</th>\n",
       "      <th></th>\n",
       "      <th></th>\n",
       "      <th></th>\n",
       "      <th></th>\n",
       "      <th></th>\n",
       "      <th></th>\n",
       "      <th></th>\n",
       "      <th></th>\n",
       "    </tr>\n",
       "  </thead>\n",
       "  <tbody>\n",
       "    <tr>\n",
       "      <th>2015-12-31</th>\n",
       "      <td>7536.0</td>\n",
       "      <td>0.26</td>\n",
       "      <td>0.48</td>\n",
       "      <td>-0.97</td>\n",
       "      <td>0.00</td>\n",
       "      <td>0.36</td>\n",
       "      <td>0.67</td>\n",
       "      <td>0.98</td>\n",
       "    </tr>\n",
       "    <tr>\n",
       "      <th>2016-12-31</th>\n",
       "      <td>4037.0</td>\n",
       "      <td>0.17</td>\n",
       "      <td>0.54</td>\n",
       "      <td>-0.96</td>\n",
       "      <td>-0.26</td>\n",
       "      <td>0.34</td>\n",
       "      <td>0.62</td>\n",
       "      <td>0.97</td>\n",
       "    </tr>\n",
       "    <tr>\n",
       "      <th>2017-12-31</th>\n",
       "      <td>2292.0</td>\n",
       "      <td>0.20</td>\n",
       "      <td>0.58</td>\n",
       "      <td>-0.97</td>\n",
       "      <td>-0.25</td>\n",
       "      <td>0.36</td>\n",
       "      <td>0.72</td>\n",
       "      <td>0.98</td>\n",
       "    </tr>\n",
       "    <tr>\n",
       "      <th>2018-12-31</th>\n",
       "      <td>3049.0</td>\n",
       "      <td>0.23</td>\n",
       "      <td>0.63</td>\n",
       "      <td>-0.99</td>\n",
       "      <td>-0.34</td>\n",
       "      <td>0.42</td>\n",
       "      <td>0.80</td>\n",
       "      <td>0.99</td>\n",
       "    </tr>\n",
       "    <tr>\n",
       "      <th>2019-12-31</th>\n",
       "      <td>2759.0</td>\n",
       "      <td>0.16</td>\n",
       "      <td>0.63</td>\n",
       "      <td>-0.98</td>\n",
       "      <td>-0.44</td>\n",
       "      <td>0.29</td>\n",
       "      <td>0.74</td>\n",
       "      <td>0.98</td>\n",
       "    </tr>\n",
       "  </tbody>\n",
       "</table>\n",
       "</div>"
      ],
      "text/plain": [
       "             count  mean   std   min   25%   50%   75%   max\n",
       "datetime                                                    \n",
       "2015-12-31  7536.0  0.26  0.48 -0.97  0.00  0.36  0.67  0.98\n",
       "2016-12-31  4037.0  0.17  0.54 -0.96 -0.26  0.34  0.62  0.97\n",
       "2017-12-31  2292.0  0.20  0.58 -0.97 -0.25  0.36  0.72  0.98\n",
       "2018-12-31  3049.0  0.23  0.63 -0.99 -0.34  0.42  0.80  0.99\n",
       "2019-12-31  2759.0  0.16  0.63 -0.98 -0.44  0.29  0.74  0.98"
      ]
     },
     "metadata": {},
     "output_type": "display_data"
    }
   ],
   "source": [
    "df_bloom_Y = df_bloom['sentiment'].groupby(pd.Grouper(freq='Y'))\n",
    "display(round(df_bloom_Y.describe(),2))\n",
    "df_Y = df['sentiment'].groupby(pd.Grouper(freq='Y'))\n",
    "display(round(df_Y.describe(),2))"
   ]
  },
  {
   "cell_type": "markdown",
   "metadata": {},
   "source": [
    "**Plotting monthly tweet count - Bloomberg**"
   ]
  },
  {
   "cell_type": "code",
   "execution_count": 218,
   "metadata": {},
   "outputs": [
    {
     "data": {
      "image/png": "[encoded data removed]",
      "text/plain": [
       "<Figure size 432x288 with 1 Axes>"
      ]
     },
     "metadata": {
      "needs_background": "light"
     },
     "output_type": "display_data"
    }
   ],
   "source": [
    "df_bloom['sentiment'].resample('M').count().plot() #secondary_y=True,label='Count',legend=True\n",
    "ax = plt.gca()\n",
    "ax.xaxis.label.set_visible(False) # remove axis label\n",
    "ax.spines['right'].set_visible(False) # remove right spine\n",
    "ax.spines['top'].set_visible(False) # remove top spine\n",
    "ax.xaxis.set_ticks_position('none') # remove ticks from axis\n",
    "plt.tight_layout() # prevents cutting off labels      \n",
    "plt.savefig('BloombergTweets.png')\n",
    "plt.show()"
   ]
  },
  {
   "cell_type": "markdown",
   "metadata": {},
   "source": [
    "**Plotting monthly tweet count - All tweets**"
   ]
  },
  {
   "cell_type": "code",
   "execution_count": 219,
   "metadata": {},
   "outputs": [
    {
     "data": {
      "image/png": "[encoded data removed]",
      "text/plain": [
       "<Figure size 432x288 with 1 Axes>"
      ]
     },
     "metadata": {
      "needs_background": "light"
     },
     "output_type": "display_data"
    }
   ],
   "source": [
    "\n",
    "df['sentiment'].resample('M').count().plot() #secondary_y=True,label='Count',legend=True\n",
    "ax = plt.gca()\n",
    "ax.xaxis.label.set_visible(False) # remove axis label\n",
    "ax.spines['right'].set_visible(False) # remove right spine\n",
    "ax.spines['top'].set_visible(False) # remove top spine\n",
    "ax.xaxis.set_ticks_position('none') # remove ticks from axis\n",
    "plt.tight_layout() # prevents cutting off labels      \n",
    "plt.savefig('AllTweets.png')\n",
    "plt.show()"
   ]
  },
  {
   "cell_type": "code",
   "execution_count": 220,
   "metadata": {},
   "outputs": [],
   "source": [
    "df_drop_datetime =df.drop(\"datetime\", axis=1)"
   ]
  },
  {
   "cell_type": "markdown",
   "metadata": {},
   "source": [
    "### Density plots"
   ]
  },
  {
   "cell_type": "markdown",
   "metadata": {},
   "source": [
    "Density plot - all tweets"
   ]
  },
  {
   "cell_type": "code",
   "execution_count": 221,
   "metadata": {},
   "outputs": [
    {
     "data": {
      "image/png": "[encoded data removed]",
      "text/plain": [
       "<Figure size 432x288 with 1 Axes>"
      ]
     },
     "metadata": {
      "needs_background": "light"
     },
     "output_type": "display_data"
    }
   ],
   "source": [
    "df_sentiment_mean_by_day = df_drop_datetime.groupby('datetime')['sentiment'].mean()\n",
    "Sentplot = sns.distplot(df_sentiment_mean_by_day, hist=True, kde=True,\n",
    "             hist_kws={'edgecolor':'black'})\n",
    "    \n",
    "\n",
    "Sentplot.set_xlabel('Sentiment score')\n",
    "Sentplot.set_ylabel('Density')\n",
    "Sentplot.xaxis.label.set_fontsize(10)\n",
    "Sentplot.yaxis.label.set_fontsize(10)\n",
    "FigKDE = Sentplot.get_figure()\n",
    "FigKDE.savefig('KDEPLOT.png')"
   ]
  },
  {
   "cell_type": "markdown",
   "metadata": {},
   "source": [
    "Density plot - all tweets without 0.00 sentiment tweets"
   ]
  },
  {
   "cell_type": "code",
   "execution_count": 222,
   "metadata": {},
   "outputs": [
    {
     "data": {
      "image/png": "[encoded data removed]",
      "text/plain": [
       "<Figure size 432x288 with 1 Axes>"
      ]
     },
     "metadata": {
      "needs_background": "light"
     },
     "output_type": "display_data"
    }
   ],
   "source": [
    "df_drop_null = df_drop_datetime.query('sentiment!=0')\n",
    "df_null_sentiment_mean_by_day = df_drop_null.groupby('datetime')['sentiment'].mean()\n",
    "Sentplot = sns.distplot(df_null_sentiment_mean_by_day, hist=True, kde=True,\n",
    "             hist_kws={'edgecolor':'black'})\n",
    "\n",
    "Sentplot.set_xlabel('Sentiment score')\n",
    "Sentplot.set_ylabel('Density')\n",
    "Sentplot.xaxis.label.set_fontsize(10)\n",
    "Sentplot.yaxis.label.set_fontsize(10)\n",
    "FigKDE = Sentplot.get_figure()\n",
    "FigKDE.savefig('KDEPLOT2.png')"
   ]
  },
  {
   "cell_type": "code",
   "execution_count": 223,
   "metadata": {},
   "outputs": [],
   "source": [
    "df_bloom_drop_datetime =df_bloom.drop(\"datetime\", axis=1)"
   ]
  },
  {
   "cell_type": "markdown",
   "metadata": {},
   "source": [
    "Density plots - Bloomberg tweets"
   ]
  },
  {
   "cell_type": "code",
   "execution_count": 224,
   "metadata": {},
   "outputs": [
    {
     "data": {
      "image/png": "[encoded data removed]",
      "text/plain": [
       "<Figure size 432x288 with 1 Axes>"
      ]
     },
     "metadata": {
      "needs_background": "light"
     },
     "output_type": "display_data"
    }
   ],
   "source": [
    "bloom_sentiment_mean_by_day = df_bloom_drop_datetime.groupby('datetime')['sentiment'].mean()\n",
    "Sentplot = sns.distplot(bloom_sentiment_mean_by_day, hist=True, kde=True,\n",
    "             hist_kws={'edgecolor':'black'})\n",
    "\n",
    "Sentplot.set_xlabel('Sentiment score')\n",
    "Sentplot.set_ylabel('Density')\n",
    "Sentplot.xaxis.label.set_fontsize(10)\n",
    "Sentplot.yaxis.label.set_fontsize(10)\n",
    "FigKDE = Sentplot.get_figure()\n",
    "FigKDE.savefig('KDEPLOTBLOOM.png')"
   ]
  },
  {
   "cell_type": "markdown",
   "metadata": {},
   "source": [
    "Density plots - Bloomberg tweets without 0.00 sentiment tweets"
   ]
  },
  {
   "cell_type": "code",
   "execution_count": 225,
   "metadata": {},
   "outputs": [
    {
     "name": "stdout",
     "output_type": "stream",
     "text": [
      "By removing tweets with a sentiment score of zero, we have removed 3229 tweets\n",
      "By removing tweets with a sentiment score of zero, we have removed 40 tweets\n"
     ]
    },
    {
     "data": {
      "image/png": "[encoded data removed]",
      "text/plain": [
       "<Figure size 432x288 with 1 Axes>"
      ]
     },
     "metadata": {
      "needs_background": "light"
     },
     "output_type": "display_data"
    }
   ],
   "source": [
    "df_bloom_drop_null = df_bloom_drop_datetime.query('sentiment!=0')\n",
    "bloom_null_sentiment_mean_by_day = df_bloom_drop_null.groupby('datetime')['sentiment'].mean()\n",
    "Sentplot = sns.distplot(bloom_null_sentiment_mean_by_day, hist=True, kde=True,\n",
    "             hist_kws={'edgecolor':'black'})\n",
    "\n",
    "Sentplot.set_xlabel('Sentiment score')\n",
    "Sentplot.set_ylabel('Density')\n",
    "Sentplot.xaxis.label.set_fontsize(10)\n",
    "Sentplot.yaxis.label.set_fontsize(10)\n",
    "FigKDE = Sentplot.get_figure()\n",
    "FigKDE.savefig('KDEPLOT2BLOOM.png')\n",
    "\n",
    "print('By removing tweets with a sentiment score of zero, we have removed', df.shape[0]-df_drop_null.shape[0], 'tweets')\n",
    "print('By removing tweets with a sentiment score of zero, we have removed', df_bloom.shape[0]-df_bloom_drop_null.shape[0], 'tweets')\n"
   ]
  },
  {
   "cell_type": "markdown",
   "metadata": {},
   "source": [
    "### Fuzzy String Matching"
   ]
  },
  {
   "cell_type": "markdown",
   "metadata": {},
   "source": [
    "To find the relevant tweets we use a fuzzy string matching design by implementing the package Fuzzywuzzy."
   ]
  },
  {
   "cell_type": "code",
   "execution_count": 233,
   "metadata": {},
   "outputs": [],
   "source": [
    "def sp500_tickers_names():\n",
    "    url = 'http://en.wikipedia.org/wiki/List_of_S%26P_500_companies'\n",
    "    resp, call_id = connector.get(url, 'wikilist')\n",
    "    soup = bs.BeautifulSoup(resp.text, 'lxml')\n",
    "    table = soup.find('table', {'class': 'wikitable sortable'})\n",
    "    tickers = []\n",
    "    names = []\n",
    "    for row in table.findAll('tr')[1:]:\n",
    "        ticker = row.findAll('td')[0].text\n",
    "        name  = row.findAll('td')[1].text\n",
    "        tickers.append(ticker[:-1]) # removing \\n from the ticker ID\n",
    "        names.append(name)\n",
    "        \n",
    "    with open(\"sp500tickers.pickle\",\"wb\") as f:\n",
    "        pickle.dump(tickers,f)\n",
    "    with open(\"sp500tickers.pickle\",\"wb\") as f:\n",
    "        pickle.dump(names,f)\n",
    "        \n",
    "    return tickers, names\n",
    "\n",
    "#SP500 = sp500_tickers_names()[1]\n",
    "\n",
    "keys_500 = sp500_tickers_names()[1]\n",
    "values_500 =sp500_tickers_names()[0]\n",
    "sp500_dict = dict(zip(keys_500, values_500))"
   ]
  },
  {
   "cell_type": "code",
   "execution_count": 232,
   "metadata": {},
   "outputs": [],
   "source": [
    "#Adding names that differ alot from there offical names\n",
    "\n",
    "missing_names = {'Google':'GOOGL', 'AIG':'AIG', 'JPMorgan':'JPM', 'Microsoft':'MSFT'}\n",
    "sp500_dict.update(missing_names)"
   ]
  },
  {
   "cell_type": "code",
   "execution_count": 234,
   "metadata": {},
   "outputs": [
    {
     "name": "stderr",
     "output_type": "stream",
     "text": [
      "C:\\Users\\bjorn\\Anaconda3\\lib\\site-packages\\fuzzywuzzy\\fuzz.py:11: UserWarning: Using slow pure-python SequenceMatcher. Install python-Levenshtein to remove this warning\n",
      "  warnings.warn('Using slow pure-python SequenceMatcher. Install python-Levenshtein to remove this warning')\n",
      "  0%|▏                                                                                 | 1/505 [00:05<48:01,  5.72s/it]\n"
     ]
    },
    {
     "ename": "KeyboardInterrupt",
     "evalue": "",
     "output_type": "error",
     "traceback": [
      "\u001b[1;31m---------------------------------------------------------------------------\u001b[0m",
      "\u001b[1;31mKeyError\u001b[0m                                  Traceback (most recent call last)",
      "\u001b[1;32m~\\Anaconda3\\lib\\site-packages\\pandas\\core\\indexes\\base.py\u001b[0m in \u001b[0;36mget_value\u001b[1;34m(self, series, key)\u001b[0m\n\u001b[0;32m   4374\u001b[0m             return self._engine.get_value(s, k,\n\u001b[1;32m-> 4375\u001b[1;33m                                           tz=getattr(series.dtype, 'tz', None))\n\u001b[0m\u001b[0;32m   4376\u001b[0m         \u001b[1;32mexcept\u001b[0m \u001b[0mKeyError\u001b[0m \u001b[1;32mas\u001b[0m \u001b[0me1\u001b[0m\u001b[1;33m:\u001b[0m\u001b[1;33m\u001b[0m\u001b[1;33m\u001b[0m\u001b[0m\n",
      "\u001b[1;32mpandas/_libs/index.pyx\u001b[0m in \u001b[0;36mpandas._libs.index.IndexEngine.get_value\u001b[1;34m()\u001b[0m\n",
      "\u001b[1;32mpandas/_libs/index.pyx\u001b[0m in \u001b[0;36mpandas._libs.index.IndexEngine.get_value\u001b[1;34m()\u001b[0m\n",
      "\u001b[1;32mpandas/_libs/index.pyx\u001b[0m in \u001b[0;36mpandas._libs.index.DatetimeEngine.get_loc\u001b[1;34m()\u001b[0m\n",
      "\u001b[1;32mpandas/_libs/index.pyx\u001b[0m in \u001b[0;36mpandas._libs.index.IndexEngine._get_loc_duplicates\u001b[1;34m()\u001b[0m\n",
      "\u001b[1;31mKeyError\u001b[0m: 805",
      "\nDuring handling of the above exception, another exception occurred:\n",
      "\u001b[1;31mKeyboardInterrupt\u001b[0m                         Traceback (most recent call last)",
      "\u001b[1;32m<ipython-input-234-070fd0c6a672>\u001b[0m in \u001b[0;36m<module>\u001b[1;34m()\u001b[0m\n\u001b[0;32m     12\u001b[0m     \u001b[0mcount_sp\u001b[0m \u001b[1;33m=\u001b[0m \u001b[1;36m0\u001b[0m\u001b[1;33m\u001b[0m\u001b[1;33m\u001b[0m\u001b[0m\n\u001b[0;32m     13\u001b[0m     \u001b[1;32mfor\u001b[0m \u001b[0mi\u001b[0m \u001b[1;32min\u001b[0m \u001b[0mrange\u001b[0m\u001b[1;33m(\u001b[0m\u001b[0mlen\u001b[0m\u001b[1;33m(\u001b[0m\u001b[0mdf\u001b[0m\u001b[1;33m[\u001b[0m\u001b[1;34m'text'\u001b[0m\u001b[1;33m]\u001b[0m\u001b[1;33m)\u001b[0m\u001b[1;33m)\u001b[0m\u001b[1;33m:\u001b[0m\u001b[1;33m\u001b[0m\u001b[1;33m\u001b[0m\u001b[0m\n\u001b[1;32m---> 14\u001b[1;33m         \u001b[1;32mif\u001b[0m \u001b[0mfuzz\u001b[0m\u001b[1;33m.\u001b[0m\u001b[0mtoken_set_ratio\u001b[0m\u001b[1;33m(\u001b[0m\u001b[0mdf\u001b[0m\u001b[1;33m[\u001b[0m\u001b[1;34m'text'\u001b[0m\u001b[1;33m]\u001b[0m\u001b[1;33m[\u001b[0m\u001b[0mi\u001b[0m\u001b[1;33m]\u001b[0m\u001b[1;33m,\u001b[0m \u001b[0mk\u001b[0m\u001b[1;33m)\u001b[0m\u001b[1;33m>=\u001b[0m\u001b[1;36m60\u001b[0m\u001b[1;33m:\u001b[0m\u001b[1;33m\u001b[0m\u001b[1;33m\u001b[0m\u001b[0m\n\u001b[0m\u001b[0;32m     15\u001b[0m             \u001b[0mcount_sp\u001b[0m \u001b[1;33m+=\u001b[0m\u001b[1;36m1\u001b[0m\u001b[1;33m\u001b[0m\u001b[1;33m\u001b[0m\u001b[0m\n\u001b[0;32m     16\u001b[0m             \u001b[0mrelevant_tweet\u001b[0m\u001b[1;33m[\u001b[0m\u001b[0mi\u001b[0m\u001b[1;33m]\u001b[0m\u001b[1;33m=\u001b[0m\u001b[1;33m[\u001b[0m\u001b[0mk\u001b[0m\u001b[1;33m,\u001b[0m\u001b[0mv\u001b[0m\u001b[1;33m]\u001b[0m\u001b[1;33m\u001b[0m\u001b[1;33m\u001b[0m\u001b[0m\n",
      "\u001b[1;32m~\\Anaconda3\\lib\\site-packages\\pandas\\core\\series.py\u001b[0m in \u001b[0;36m__getitem__\u001b[1;34m(self, key)\u001b[0m\n\u001b[0;32m    866\u001b[0m         \u001b[0mkey\u001b[0m \u001b[1;33m=\u001b[0m \u001b[0mcom\u001b[0m\u001b[1;33m.\u001b[0m\u001b[0mapply_if_callable\u001b[0m\u001b[1;33m(\u001b[0m\u001b[0mkey\u001b[0m\u001b[1;33m,\u001b[0m \u001b[0mself\u001b[0m\u001b[1;33m)\u001b[0m\u001b[1;33m\u001b[0m\u001b[1;33m\u001b[0m\u001b[0m\n\u001b[0;32m    867\u001b[0m         \u001b[1;32mtry\u001b[0m\u001b[1;33m:\u001b[0m\u001b[1;33m\u001b[0m\u001b[1;33m\u001b[0m\u001b[0m\n\u001b[1;32m--> 868\u001b[1;33m             \u001b[0mresult\u001b[0m \u001b[1;33m=\u001b[0m \u001b[0mself\u001b[0m\u001b[1;33m.\u001b[0m\u001b[0mindex\u001b[0m\u001b[1;33m.\u001b[0m\u001b[0mget_value\u001b[0m\u001b[1;33m(\u001b[0m\u001b[0mself\u001b[0m\u001b[1;33m,\u001b[0m \u001b[0mkey\u001b[0m\u001b[1;33m)\u001b[0m\u001b[1;33m\u001b[0m\u001b[1;33m\u001b[0m\u001b[0m\n\u001b[0m\u001b[0;32m    869\u001b[0m \u001b[1;33m\u001b[0m\u001b[0m\n\u001b[0;32m    870\u001b[0m             \u001b[1;32mif\u001b[0m \u001b[1;32mnot\u001b[0m \u001b[0mis_scalar\u001b[0m\u001b[1;33m(\u001b[0m\u001b[0mresult\u001b[0m\u001b[1;33m)\u001b[0m\u001b[1;33m:\u001b[0m\u001b[1;33m\u001b[0m\u001b[1;33m\u001b[0m\u001b[0m\n",
      "\u001b[1;32m~\\Anaconda3\\lib\\site-packages\\pandas\\core\\indexes\\datetimes.py\u001b[0m in \u001b[0;36mget_value\u001b[1;34m(self, series, key)\u001b[0m\n\u001b[0;32m    944\u001b[0m \u001b[1;33m\u001b[0m\u001b[0m\n\u001b[0;32m    945\u001b[0m         \u001b[1;32mtry\u001b[0m\u001b[1;33m:\u001b[0m\u001b[1;33m\u001b[0m\u001b[1;33m\u001b[0m\u001b[0m\n\u001b[1;32m--> 946\u001b[1;33m             return com.maybe_box(self, Index.get_value(self, series, key),\n\u001b[0m\u001b[0;32m    947\u001b[0m                                  series, key)\n\u001b[0;32m    948\u001b[0m         \u001b[1;32mexcept\u001b[0m \u001b[0mKeyError\u001b[0m\u001b[1;33m:\u001b[0m\u001b[1;33m\u001b[0m\u001b[1;33m\u001b[0m\u001b[0m\n",
      "\u001b[1;32m~\\Anaconda3\\lib\\site-packages\\pandas\\core\\indexes\\base.py\u001b[0m in \u001b[0;36mget_value\u001b[1;34m(self, series, key)\u001b[0m\n\u001b[0;32m   4373\u001b[0m         \u001b[1;32mtry\u001b[0m\u001b[1;33m:\u001b[0m\u001b[1;33m\u001b[0m\u001b[1;33m\u001b[0m\u001b[0m\n\u001b[0;32m   4374\u001b[0m             return self._engine.get_value(s, k,\n\u001b[1;32m-> 4375\u001b[1;33m                                           tz=getattr(series.dtype, 'tz', None))\n\u001b[0m\u001b[0;32m   4376\u001b[0m         \u001b[1;32mexcept\u001b[0m \u001b[0mKeyError\u001b[0m \u001b[1;32mas\u001b[0m \u001b[0me1\u001b[0m\u001b[1;33m:\u001b[0m\u001b[1;33m\u001b[0m\u001b[1;33m\u001b[0m\u001b[0m\n\u001b[0;32m   4377\u001b[0m             \u001b[1;32mif\u001b[0m \u001b[0mlen\u001b[0m\u001b[1;33m(\u001b[0m\u001b[0mself\u001b[0m\u001b[1;33m)\u001b[0m \u001b[1;33m>\u001b[0m \u001b[1;36m0\u001b[0m \u001b[1;32mand\u001b[0m \u001b[1;33m(\u001b[0m\u001b[0mself\u001b[0m\u001b[1;33m.\u001b[0m\u001b[0mholds_integer\u001b[0m\u001b[1;33m(\u001b[0m\u001b[1;33m)\u001b[0m \u001b[1;32mor\u001b[0m \u001b[0mself\u001b[0m\u001b[1;33m.\u001b[0m\u001b[0mis_boolean\u001b[0m\u001b[1;33m(\u001b[0m\u001b[1;33m)\u001b[0m\u001b[1;33m)\u001b[0m\u001b[1;33m:\u001b[0m\u001b[1;33m\u001b[0m\u001b[1;33m\u001b[0m\u001b[0m\n",
      "\u001b[1;31mKeyboardInterrupt\u001b[0m: "
     ]
    }
   ],
   "source": [
    "#Running the first fuzzy search \n",
    "from fuzzywuzzy import fuzz\n",
    "#################################################################################\n",
    "# Warning may take along time (10**7 iterations) - approx 35 min                #\n",
    "#################################################################################\n",
    "# Refer instead to the pickled file above\n",
    "# Second run-through is on reduced firm sample\n",
    "from tqdm import tqdm\n",
    "relevant_tweet = {}\n",
    "store_count = {}\n",
    "for k,v in tqdm(sp500_dict.items()):\n",
    "    count_sp = 0\n",
    "    for i in range(len(df['text'])):\n",
    "        if fuzz.token_set_ratio(df['text'][i], k)>=60: \n",
    "            count_sp +=1\n",
    "            relevant_tweet[i]=[k,v] \n",
    "    store_count[k]=count_sp "
   ]
  },
  {
   "cell_type": "code",
   "execution_count": null,
   "metadata": {},
   "outputs": [],
   "source": [
    "# Inspecting the data frame to see what firms might be problematic\n",
    "df_sc=pd.Series(store_count)\n",
    "df_sc = df_sc.to_frame()\n",
    "df_sc.columns = ['count']\n",
    "df_sc.query('count >50')"
   ]
  },
  {
   "cell_type": "code",
   "execution_count": null,
   "metadata": {},
   "outputs": [],
   "source": [
    "## Used for second round of fuzzy search:\n",
    "non_zero_SP500 = list(df_sc.query(\"count ==0\").index) # Select the companies with non-zero amount of relevant tweets\n",
    "# SP500=non_zero_SP500 #Overwriting the old data frame without the companies with no tweets\n",
    "all(map(sp500_dict.pop, non_zero_SP500))"
   ]
  },
  {
   "cell_type": "markdown",
   "metadata": {},
   "source": [
    "**Futher changes to the dataframe:**\n",
    "\n",
    "The inspection of the data revealed some problematic companies that had to many false positives\n",
    "AT&T, Energy, Companies, Trade, facebook, resources, general, healthcare, international, Lincoln, national, technology, public, southern,\n",
    "\n",
    "We try removing parts of company names that have inherent meaning - the idea is to leave the names of the companies\\\n",
    "without the word that has inherent meaning - i.e. to search for Ameriprise rather than Ameriprise Financial\n",
    "This approach is not without its weaknesses - but right now we are getting to many false positives"
   ]
  },
  {
   "cell_type": "code",
   "execution_count": null,
   "metadata": {},
   "outputs": [],
   "source": [
    "############################## This code was for testing the approach #############################\n",
    "#Initially we create a list of firms affected by this modification:\n",
    "# part_remove = []\n",
    "# for i in range(len(SP500)):\n",
    "#     if any(j in SP500[i].lower() for j in problematic_names):\n",
    "#         part_remove.append(SP500[i])\n",
    "\n",
    "# #We then go over all the firms removing the problematic parts of their names:        \n",
    "# for part in part_remove:\n",
    "#       for problems in problematic_names:\n",
    "#              if problems in part:\n",
    "#                     part_remove[part_remove.index(part)]=part.replace(problems, '')\n",
    "##################################################################################################\n",
    "\n",
    "# Removing the problematic parts \n",
    "# AT&T, Energy, Companies, Trade, facebook, resources, general, healthcare, international, Lincoln, national, technology, public, southern,\n",
    "problematic_names = ['Financial', 'Energy', 'Companies','Corporation', 'Resources', 'National', 'Technology', 'International', 'Company', 'Technologies']\n",
    "# for firm in SP500:\n",
    "#       for problems in problematic_names:\n",
    "#              if problems in firm:\n",
    "#                     SP500[SP500.index(firm)]=firm.replace(problems, '')    \n",
    "\n",
    "for key in sp500_dict:\n",
    "    for problems in problematic_names:\n",
    "        if problems in key:\n",
    "            sp500_dict[key.replace(problems, \"\")] = sp500_dict.pop(key)\n",
    "\n",
    "sp500_dict\n",
    "            "
   ]
  },
  {
   "cell_type": "markdown",
   "metadata": {},
   "source": [
    "We make the fuzzy search again on the data set without the X-irrelevant companies\n",
    "where we have also removed problematic parts of company names\n",
    "\n",
    "**Warning may take along time (approx 15 min)** - though it is 237 compared to 509 companies in the first run_through#\n",
    "\n",
    "Refer instead to the pickled file in the hand-in\n",
    "Second run-through is on reduced firm sample"
   ]
  },
  {
   "cell_type": "code",
   "execution_count": null,
   "metadata": {},
   "outputs": [],
   "source": [
    "relevant_tweet = {}\n",
    "store_count = {}\n",
    "for k,v in tqdm(sp500_dict.items()):\n",
    "    count_sp = 0\n",
    "    for i in range(len(df['text'])):\n",
    "        if fuzz.token_set_ratio(df['text'][i], k)>=60: \n",
    "            count_sp +=1\n",
    "            relevant_tweet[i]=[k,v] \n",
    "    store_count[k]=count_sp     "
   ]
  },
  {
   "cell_type": "code",
   "execution_count": null,
   "metadata": {},
   "outputs": [],
   "source": [
    "# Inspecting the data frame to see what firms might be problematic\n",
    "df_sc=pd.Series(store_count)\n",
    "df_sc = df_sc.to_frame()\n",
    "df_sc.columns = ['count']\n",
    "df_sc.query('count >50')"
   ]
  },
  {
   "cell_type": "markdown",
   "metadata": {},
   "source": [
    "After this second runthrough we inspect the relevant_tweets and remove directly from here\n",
    "A more correct approach would be to make changes to the SP500 we search over and do the search again\n",
    "But due to time-constrain, this very computationally costly approach is unfeasible\n",
    "\n",
    "Some companies get a huge amount of false positive due to their name being something with inherent meaning"
   ]
  },
  {
   "cell_type": "code",
   "execution_count": null,
   "metadata": {},
   "outputs": [],
   "source": [
    "# After visual inspection of the fuzzy search results, we have added the following exeptions:\n",
    "exeptions = ['American', 'Anthem', 'America', 'United']\n",
    "\n",
    "# We create a list so we are able to inspect the amount of tweets we remove, and check companies might be affected\n",
    "# remove_ex = {}\n",
    "# for i, j in relevant_tweet.items():\n",
    "#         if any(ex in relevant_tweet[i].lower() for ex in exeptions):\n",
    "#             remove_ex[i]=j\n",
    "remove_ex = {}\n",
    "for i, j in relevant_tweet.items():\n",
    "        if any(ex in j[0] for ex in exeptions):\n",
    "            remove_ex[i]=j[0]\n",
    "#display(remove_ex[0:100]) -> removed firms like: united, packaging of america, American express, american airlines.\n",
    "#Then we remove these tweets from the relevant_tweets using the pop function\n",
    "all(map( relevant_tweet.pop, remove_ex))"
   ]
  },
  {
   "cell_type": "markdown",
   "metadata": {},
   "source": [
    "After removing the exceptions we inspect the relevant_tweets again, and find an amount of tweets on AT&T that indicates problems"
   ]
  },
  {
   "cell_type": "code",
   "execution_count": null,
   "metadata": {},
   "outputs": [],
   "source": [
    "#looking at AT&T\n",
    "ATT_tweets=[k for k,v in relevant_tweet.items() if v[0] == 'AT&T Inc.']\n",
    "att_tweets = []\n",
    "#Inserting tweet ID in df['text'] to call tweets\n",
    "for i in ATT_tweets:\n",
    "    att_tweets.append(df['text'][i])\n",
    "    \n",
    "display(att_tweets[0:5]) # Reading over contents\n",
    "# We discover the following issue:\n",
    "print(fuzz.token_set_ratio('Today, I was thrilled to host the @WWP Soldier Ride once again at the @WhiteHouse. We were all deeply honored to be in the presence of TRUE AMERICAN HEROES....https://t.co/q6D5875xCw', 'AT&T'))\n",
    "print(fuzz.token_set_ratio('at', 'AT&T'))\n",
    "#Removing AT&T tweets - since every tweet with the word 'at' will get 100 pct. match\n",
    "print(len(relevant_tweet)) #Checking length before removing\n",
    "print(len(ATT_tweets)) # Amount to be removed\n",
    "all(map(relevant_tweet.pop, ATT_tweets)) #Removing using the pop function over the dict relevant_tweet\n",
    "print(len(relevant_tweet)) # Check if result adds up\n"
   ]
  },
  {
   "cell_type": "markdown",
   "metadata": {},
   "source": [
    "We reuse the approach used on AT&T on the following"
   ]
  },
  {
   "cell_type": "code",
   "execution_count": null,
   "metadata": {},
   "outputs": [],
   "source": [
    "# Third inspection indicates we scould inspect the following companies: \n",
    "problem_comp = ['Dollar General', 'E*Trade', 'Fox  Class A', 'General Dynamics', 'General Electric',\\\n",
    "                'General Mills', 'General Motors','HCA Healthcare', 'Southern Co.', 'Chubb Limited', 'CVS Health', 'Juniper Networks']\n",
    "problem_tweets = {}\n",
    "problem_list = {}\n",
    "for comp in problem_comp:\n",
    "    problem_list[comp] = [k for k,v in relevant_tweet.items() if v[0] == str(comp)]\n",
    "    problem_tweets[comp] = [df['text'][k] for k,v in relevant_tweet.items() if v[0] == str(comp)]\n",
    "\n",
    "# This step requires manually inputting the firm-key for inspection since the full amount of tweets at once\n",
    "# are too much to show/consider at once. \n",
    "problem_tweets['General Motors']\n",
    "\n",
    "#problem_list[1]\n",
    "\n",
    "# Below are the conclusions regarding the relevance of the individual firm\n",
    "# Manually looking through reveals:\n",
    "# \n",
    "#Dollar General\tIrrelevant\n",
    "#E*Trade\tIrrelevant\n",
    "#Fox Class A\tRelevant (considering fox news is part of Fox Class A)\n",
    "#General Dynamics\tIrrelevant\n",
    "#General Electric\tIrrelevant\n",
    "#General Mills\tIrrelevant\n",
    "#General Motors\t Partially relevant\n",
    "#HCA Healthcare\tIrrelevant\n",
    "#Southern Co.\tIrrelevant\n",
    "#Chubb Limited \tIrrelevant\n",
    "#CVS Health \t Irrelevant\n",
    "#Juniper Networks \t Irrelevant"
   ]
  },
  {
   "cell_type": "code",
   "execution_count": 235,
   "metadata": {},
   "outputs": [
    {
     "ename": "NameError",
     "evalue": "name 'problem_list' is not defined",
     "output_type": "error",
     "traceback": [
      "\u001b[1;31m---------------------------------------------------------------------------\u001b[0m",
      "\u001b[1;31mNameError\u001b[0m                                 Traceback (most recent call last)",
      "\u001b[1;32m<ipython-input-235-5bf381a82da5>\u001b[0m in \u001b[0;36m<module>\u001b[1;34m()\u001b[0m\n\u001b[0;32m      3\u001b[0m \u001b[0mirrelevant_comps\u001b[0m \u001b[1;33m=\u001b[0m \u001b[1;33m[\u001b[0m\u001b[1;34m'E*Trade'\u001b[0m\u001b[1;33m,\u001b[0m \u001b[1;34m'General Electric'\u001b[0m\u001b[1;33m,\u001b[0m\u001b[1;34m'HCA Healthcare'\u001b[0m\u001b[1;33m,\u001b[0m \u001b[1;34m'Southern Co.'\u001b[0m\u001b[1;33m,\u001b[0m \u001b[1;34m'Chubb Limited'\u001b[0m\u001b[1;33m,\u001b[0m \u001b[1;34m'CVS Health'\u001b[0m\u001b[1;33m,\u001b[0m \u001b[1;34m'Juniper Networks'\u001b[0m\u001b[1;33m]\u001b[0m\u001b[1;33m\u001b[0m\u001b[1;33m\u001b[0m\u001b[0m\n\u001b[0;32m      4\u001b[0m \u001b[1;32mfor\u001b[0m \u001b[0mcomp\u001b[0m \u001b[1;32min\u001b[0m \u001b[0mirrelevant_comps\u001b[0m\u001b[1;33m:\u001b[0m\u001b[1;33m\u001b[0m\u001b[1;33m\u001b[0m\u001b[0m\n\u001b[1;32m----> 5\u001b[1;33m      \u001b[1;32mfor\u001b[0m \u001b[0mk\u001b[0m\u001b[1;33m,\u001b[0m\u001b[0mv\u001b[0m \u001b[1;32min\u001b[0m \u001b[0mproblem_list\u001b[0m\u001b[1;33m.\u001b[0m\u001b[0mitems\u001b[0m\u001b[1;33m(\u001b[0m\u001b[1;33m)\u001b[0m\u001b[1;33m:\u001b[0m\u001b[1;33m\u001b[0m\u001b[1;33m\u001b[0m\u001b[0m\n\u001b[0m\u001b[0;32m      6\u001b[0m             \u001b[1;32mif\u001b[0m \u001b[0mk\u001b[0m\u001b[1;33m==\u001b[0m\u001b[0mcomp\u001b[0m\u001b[1;33m:\u001b[0m\u001b[1;33m\u001b[0m\u001b[1;33m\u001b[0m\u001b[0m\n\u001b[0;32m      7\u001b[0m                 \u001b[0mtweets_to_remove\u001b[0m\u001b[1;33m.\u001b[0m\u001b[0mappend\u001b[0m\u001b[1;33m(\u001b[0m\u001b[0mv\u001b[0m\u001b[1;33m)\u001b[0m\u001b[1;33m\u001b[0m\u001b[1;33m\u001b[0m\u001b[0m\n",
      "\u001b[1;31mNameError\u001b[0m: name 'problem_list' is not defined"
     ]
    }
   ],
   "source": [
    "# Based on the conclusions above we remove the following firms:\n",
    "tweets_to_remove = []\n",
    "irrelevant_comps = ['E*Trade', 'General Electric','HCA Healthcare', 'Southern Co.', 'Chubb Limited', 'CVS Health', 'Juniper Networks']\n",
    "for comp in irrelevant_comps:\n",
    "     for k,v in problem_list.items():\n",
    "            if k==comp:\n",
    "                tweets_to_remove.append(v)\n",
    "\n",
    "\n",
    "for i in range(len(tweets_to_remove)):\n",
    "     all(map(relevant_tweet.pop, tweets_to_remove[i]))"
   ]
  },
  {
   "cell_type": "code",
   "execution_count": null,
   "metadata": {},
   "outputs": [],
   "source": [
    "#Inspecting the relevant_tweet frame\n",
    "df_rele=pd.Series(relevant_tweet)\n",
    "df_rele = df_rele.to_frame()\n",
    "df_rele.columns = ['Company']\n",
    "df_rele.head(10)\n",
    "\n",
    "# We checking the reduced relevant_tweet frame for how many times the unique companies are mentioned:\n",
    "store_counts_rele = {}\n",
    "company_unique = []\n",
    "for k, v in relevant_tweet.items():\n",
    "    company_unique.append(v[0])\n",
    "\n",
    "\n",
    "for i in set(company_unique):\n",
    "    count = 0\n",
    "    for j in df_rele.index:\n",
    "        if df_rele['Company'][j][0]==str(i):\n",
    "            count+=1\n",
    "    store_counts_rele[i]=count\n",
    "\n",
    "store_counts_rele"
   ]
  },
  {
   "cell_type": "markdown",
   "metadata": {},
   "source": [
    "Inspection of these results indicate that the following companies produce to many false positives:\n",
    "Unum Group, Public Storage, Dollar, Best Buy Co. Inc, Robert Half, Paper, Dish Network, The Bank of New York mellon Corp, lam Research, ball C\n",
    "General Motors - we still haven't solved that theese were partially relevant (10%)"
   ]
  },
  {
   "cell_type": "code",
   "execution_count": null,
   "metadata": {},
   "outputs": [],
   "source": [
    "# Fourth round of inspection indicates we should inspect the following companies: \n",
    "problem_comp4 = ['Unum Group', 'Public Storage', 'Dollar Tree', 'Best Buy Co. Inc.',\\\n",
    "                'Robert Half ','AvalonBay Communities, Inc.',\\\n",
    "                ' Paper','Waters ', 'Dish Network', 'The Bank of New York Mellon Corp.','Lam Research', 'Ball Corp']\n",
    "problem_tweets4 = {}\n",
    "problem_list4 = {}\n",
    "for comp in problem_comp4:\n",
    "    problem_list4[comp] = [k for k,v in relevant_tweet.items() if v[0] == str(comp)]\n",
    "    problem_tweets4[comp] = [df['text'][k] for k,v in relevant_tweet.items() if v[0] == str(comp)]\n",
    "    \n",
    "problem_tweets4['Ball Corp']\n",
    "#problem_list4\n",
    "\n",
    "# Manually looking through reveals:\n",
    "# Conclusions:\n",
    "#Unum Group\tIrrelevant (only group)\n",
    "#Public Storage\tIrrelevant (Only public)\n",
    "#Dollar Tree\tIrrelevant ( only dollar)\n",
    "#Best Buy Co. Inc.\tIrrelevant (only best or buy)\n",
    "#Robert Half \tIrrelevant (Robert Mueller tweets)\n",
    "#AvalonBay Communities, Inc.\tIrrelevant (only communities)\n",
    "#Paper\t Irrelevant (about newspapers)\n",
    "#Waters\tIrrelevant\n",
    "#Dish Network.\tIrrelevant (only network)\n",
    "#The Bank of New York Mellon Corp. \tIrrelevant (only bank and new york)\n",
    "#Lam Research \t Irrelevant (only research)\n",
    "#Ball Corp \t Irrelevant"
   ]
  },
  {
   "cell_type": "code",
   "execution_count": null,
   "metadata": {},
   "outputs": [],
   "source": [
    "#We remove tweets according to the conclusion to the search above\n",
    "tweets_to_remove4 = []\n",
    "irrelevant_comps4 = ['Unum Group', 'Public Storage', 'Dollar Tree', 'Best Buy Co. Inc.',\\\n",
    "                'Robert Half ','AvalonBay Communities, Inc.',\\\n",
    "                ' Paper','Waters ', 'Dish Network', 'The Bank of New York Mellon Corp.','Lam Research', 'Ball Corp']\n",
    "for comp in irrelevant_comps4:\n",
    "     for k,v in problem_list4.items():\n",
    "            if k==comp:\n",
    "                tweets_to_remove4.append(v)\n",
    "\n",
    "for i in range(len(tweets_to_remove4)):\n",
    "      all(map(relevant_tweet.pop, tweets_to_remove4[i]))\n",
    "    "
   ]
  },
  {
   "cell_type": "markdown",
   "metadata": {},
   "source": [
    "Last thing we fix is the General Motors problem where we found some tweets we relevant,\n",
    "and we were reluctant to remove them all\n",
    "Trying to identify the relevant general motors tweets "
   ]
  },
  {
   "cell_type": "code",
   "execution_count": null,
   "metadata": {},
   "outputs": [],
   "source": [
    "problem_gen_id_tweet = {}\n",
    "for k,v in relevant_tweet.items():\n",
    "    if v[0] == 'General Motors':\n",
    "        problem_gen_id_tweet[k]=df['text'][k]\n",
    "\n",
    "# After manuel inspection we have determined the following keywords to avoid irrelevant tweets\n",
    "\n",
    "keywords = ['Barra', '@GM', 'Motors', 'G.M.']\n",
    "save_gen = []    \n",
    "for k, v in problem_gen_id_tweet.items():\n",
    "          if any(key in v for key in keywords):\n",
    "              save_gen.append(k)\n",
    "            \n",
    "all(map(problem_gen_id_tweet.pop, save_gen)) #Removing the relevant tweets from our problem_GM_tweets\n",
    "all(map(relevant_tweet.pop, problem_gen_id_tweet)) #Removing the irrelevant tweets"
   ]
  },
  {
   "cell_type": "code",
   "execution_count": null,
   "metadata": {},
   "outputs": [],
   "source": [
    "# We pickle the resulting dictionary as not to require anyone to run the fuzzysearch\n",
    "pickle.dump(relevant_tweet, open( \"Final_tweet_with_tickers.p\", \"wb\" ) ) "
   ]
  },
  {
   "cell_type": "code",
   "execution_count": null,
   "metadata": {},
   "outputs": [],
   "source": [
    "tweets_final_GMfix = {}\n",
    "for k,v in relevant_tweet.items():\n",
    "    tweets_final_GMfix[df['text'][k]] = v\n",
    "\n",
    "# We pickle the tweets aswell    \n",
    "pickle.dump(tweets_final_GMfix, open( \"tweets_final_with_tickers.p\", \"wb\" ) ) "
   ]
  },
  {
   "cell_type": "code",
   "execution_count": null,
   "metadata": {},
   "outputs": [],
   "source": [
    "relevant_tweet_load = pickle.load( open( \"Final_tweet_GMfix.p\", \"rb\" ) )\n",
    "tweets_final_GMfix_load = pickle.load(open(\"tweets_final_GMfix.p\", \"rb\"))\n",
    "print(relevant_tweet_load == relevant_tweet) #sanity check\n",
    "print(tweets_final_GMfix_load == tweets_final_GMfix) #sanity check"
   ]
  },
  {
   "cell_type": "code",
   "execution_count": null,
   "metadata": {},
   "outputs": [],
   "source": [
    "get_index_comp = []\n",
    "get_index_time = []\n",
    "get_index_ticker = []\n",
    "for k,v in relevant_tweet.items():\n",
    "    get_index_comp.append(v[0])\n",
    "    get_index_ticker.append(v[1])\n",
    "    get_index_time.append(df.index[k])"
   ]
  },
  {
   "cell_type": "markdown",
   "metadata": {},
   "source": [
    "Finally, we collect it into a data frame. "
   ]
  },
  {
   "cell_type": "code",
   "execution_count": null,
   "metadata": {},
   "outputs": [],
   "source": [
    "d_relevant = {'Timestamp': get_index_time, 'Company':get_index_comp, 'Ticker': get_index_ticker}\n",
    "df_relevant = pd.DataFrame(d_relevant)\n",
    "df_relevant.head()"
   ]
  },
  {
   "cell_type": "code",
   "execution_count": null,
   "metadata": {},
   "outputs": [],
   "source": [
    "pickle.dump(df_relevant, open( \"df_relevant.p\", \"wb\" ) ) # saving data frame to a pickle file "
   ]
  },
  {
   "cell_type": "markdown",
   "metadata": {},
   "source": [
    "### Machine Learning"
   ]
  },
  {
   "cell_type": "markdown",
   "metadata": {},
   "source": [
    "In this part we use machine learning to perform regression and classification analysis. Due to time constraint we did not wrap them in a function and to avoid duplicate code we only show the results of the machine learning model based on one data frame. The PDF contains the results of all data frames."
   ]
  },
  {
   "cell_type": "markdown",
   "metadata": {},
   "source": [
    "Data frame: Fuzzyword filtered"
   ]
  },
  {
   "cell_type": "code",
   "execution_count": 243,
   "metadata": {},
   "outputs": [
    {
     "name": "stdout",
     "output_type": "stream",
     "text": [
      "<class 'numpy.float64'>\n"
     ]
    }
   ],
   "source": [
    "df_fuzzy = pickle.load( open( \"df_complete_final.p\", \"rb\" ) )\n",
    "print(type(df_fuzzy['1. open'][1]))"
   ]
  },
  {
   "cell_type": "markdown",
   "metadata": {},
   "source": [
    "Data frame: Bloomberg"
   ]
  },
  {
   "cell_type": "code",
   "execution_count": 228,
   "metadata": {
    "scrolled": false
   },
   "outputs": [
    {
     "ename": "KeyError",
     "evalue": "'Time Series (Daily)'",
     "output_type": "error",
     "traceback": [
      "\u001b[1;31m---------------------------------------------------------------------------\u001b[0m",
      "\u001b[1;31mKeyError\u001b[0m                                  Traceback (most recent call last)",
      "\u001b[1;32m<ipython-input-228-f83b71928eed>\u001b[0m in \u001b[0;36m<module>\u001b[1;34m()\u001b[0m\n\u001b[0;32m      1\u001b[0m \u001b[1;31m#def FetchBloom():\u001b[0m\u001b[1;33m\u001b[0m\u001b[1;33m\u001b[0m\u001b[1;33m\u001b[0m\u001b[0m\n\u001b[0;32m      2\u001b[0m \u001b[1;31m# Preparing bloomberg tweet data frame\u001b[0m\u001b[1;33m\u001b[0m\u001b[1;33m\u001b[0m\u001b[1;33m\u001b[0m\u001b[0m\n\u001b[1;32m----> 3\u001b[1;33m \u001b[0mdf_stock\u001b[0m \u001b[1;33m=\u001b[0m \u001b[0mAlphaVantage\u001b[0m\u001b[1;33m(\u001b[0m\u001b[0mdata_dji\u001b[0m\u001b[1;33m)\u001b[0m \u001b[1;31m# data_dji returns dow jones data, data_sp returns s&p 500 data\u001b[0m\u001b[1;33m\u001b[0m\u001b[1;33m\u001b[0m\u001b[0m\n\u001b[0m\u001b[0;32m      4\u001b[0m \u001b[0mdf_bloom_clean\u001b[0m \u001b[1;33m=\u001b[0m \u001b[0mdf_bloom\u001b[0m\u001b[1;33m.\u001b[0m\u001b[0mcopy\u001b[0m\u001b[1;33m(\u001b[0m\u001b[1;33m)\u001b[0m\u001b[1;33m\u001b[0m\u001b[1;33m\u001b[0m\u001b[0m\n\u001b[0;32m      5\u001b[0m \u001b[0mdf_bloom_clean\u001b[0m\u001b[1;33m.\u001b[0m\u001b[0mreset_index\u001b[0m\u001b[1;33m(\u001b[0m\u001b[0mdrop\u001b[0m\u001b[1;33m=\u001b[0m\u001b[1;32mTrue\u001b[0m\u001b[1;33m)\u001b[0m\u001b[1;33m\u001b[0m\u001b[1;33m\u001b[0m\u001b[0m\n",
      "\u001b[1;32m<ipython-input-204-966cac8f8389>\u001b[0m in \u001b[0;36mAlphaVantage\u001b[1;34m(data)\u001b[0m\n\u001b[0;32m      1\u001b[0m \u001b[1;31m# Connecting to the Alpha Vantage API and fetching data\u001b[0m\u001b[1;33m\u001b[0m\u001b[1;33m\u001b[0m\u001b[1;33m\u001b[0m\u001b[0m\n\u001b[0;32m      2\u001b[0m \u001b[1;32mdef\u001b[0m \u001b[0mAlphaVantage\u001b[0m\u001b[1;33m(\u001b[0m\u001b[0mdata\u001b[0m\u001b[1;33m)\u001b[0m\u001b[1;33m:\u001b[0m\u001b[1;33m\u001b[0m\u001b[1;33m\u001b[0m\u001b[0m\n\u001b[1;32m----> 3\u001b[1;33m     \u001b[0mdf\u001b[0m \u001b[1;33m=\u001b[0m \u001b[0mpd\u001b[0m\u001b[1;33m.\u001b[0m\u001b[0mDataFrame\u001b[0m\u001b[1;33m(\u001b[0m\u001b[0mconvert_response\u001b[0m\u001b[1;33m(\u001b[0m\u001b[0mdata\u001b[0m\u001b[1;33m)\u001b[0m\u001b[1;33m)\u001b[0m\u001b[1;33m\u001b[0m\u001b[1;33m\u001b[0m\u001b[0m\n\u001b[0m\u001b[0;32m      4\u001b[0m     \u001b[0mdf\u001b[0m\u001b[1;33m[\u001b[0m\u001b[1;34m'datetime'\u001b[0m\u001b[1;33m]\u001b[0m \u001b[1;33m=\u001b[0m \u001b[0mpd\u001b[0m\u001b[1;33m.\u001b[0m\u001b[0mto_datetime\u001b[0m\u001b[1;33m(\u001b[0m\u001b[0mdf\u001b[0m\u001b[1;33m[\u001b[0m\u001b[1;34m'datetime'\u001b[0m\u001b[1;33m]\u001b[0m\u001b[1;33m)\u001b[0m\u001b[1;33m\u001b[0m\u001b[1;33m\u001b[0m\u001b[0m\n\u001b[0;32m      5\u001b[0m     \u001b[0mdf\u001b[0m\u001b[1;33m.\u001b[0m\u001b[0mset_index\u001b[0m\u001b[1;33m(\u001b[0m\u001b[1;34m'datetime'\u001b[0m\u001b[1;33m,\u001b[0m\u001b[0minplace\u001b[0m\u001b[1;33m=\u001b[0m\u001b[1;32mTrue\u001b[0m\u001b[1;33m)\u001b[0m\u001b[1;33m\u001b[0m\u001b[1;33m\u001b[0m\u001b[0m\n",
      "\u001b[1;32m~\\Anaconda3\\lib\\site-packages\\pandas\\core\\frame.py\u001b[0m in \u001b[0;36m__init__\u001b[1;34m(self, data, index, columns, dtype, copy)\u001b[0m\n\u001b[0;32m    428\u001b[0m               and not isinstance(data, string_and_binary_types)):\n\u001b[0;32m    429\u001b[0m             \u001b[1;32mif\u001b[0m \u001b[1;32mnot\u001b[0m \u001b[0misinstance\u001b[0m\u001b[1;33m(\u001b[0m\u001b[0mdata\u001b[0m\u001b[1;33m,\u001b[0m \u001b[0mcompat\u001b[0m\u001b[1;33m.\u001b[0m\u001b[0mSequence\u001b[0m\u001b[1;33m)\u001b[0m\u001b[1;33m:\u001b[0m\u001b[1;33m\u001b[0m\u001b[1;33m\u001b[0m\u001b[0m\n\u001b[1;32m--> 430\u001b[1;33m                 \u001b[0mdata\u001b[0m \u001b[1;33m=\u001b[0m \u001b[0mlist\u001b[0m\u001b[1;33m(\u001b[0m\u001b[0mdata\u001b[0m\u001b[1;33m)\u001b[0m\u001b[1;33m\u001b[0m\u001b[1;33m\u001b[0m\u001b[0m\n\u001b[0m\u001b[0;32m    431\u001b[0m             \u001b[1;32mif\u001b[0m \u001b[0mlen\u001b[0m\u001b[1;33m(\u001b[0m\u001b[0mdata\u001b[0m\u001b[1;33m)\u001b[0m \u001b[1;33m>\u001b[0m \u001b[1;36m0\u001b[0m\u001b[1;33m:\u001b[0m\u001b[1;33m\u001b[0m\u001b[1;33m\u001b[0m\u001b[0m\n\u001b[0;32m    432\u001b[0m                 \u001b[1;32mif\u001b[0m \u001b[0mis_list_like\u001b[0m\u001b[1;33m(\u001b[0m\u001b[0mdata\u001b[0m\u001b[1;33m[\u001b[0m\u001b[1;36m0\u001b[0m\u001b[1;33m]\u001b[0m\u001b[1;33m)\u001b[0m \u001b[1;32mand\u001b[0m \u001b[0mgetattr\u001b[0m\u001b[1;33m(\u001b[0m\u001b[0mdata\u001b[0m\u001b[1;33m[\u001b[0m\u001b[1;36m0\u001b[0m\u001b[1;33m]\u001b[0m\u001b[1;33m,\u001b[0m \u001b[1;34m'ndim'\u001b[0m\u001b[1;33m,\u001b[0m \u001b[1;36m1\u001b[0m\u001b[1;33m)\u001b[0m \u001b[1;33m==\u001b[0m \u001b[1;36m1\u001b[0m\u001b[1;33m:\u001b[0m\u001b[1;33m\u001b[0m\u001b[1;33m\u001b[0m\u001b[0m\n",
      "\u001b[1;32m<ipython-input-227-7e2c25563c14>\u001b[0m in \u001b[0;36mconvert_response\u001b[1;34m(d)\u001b[0m\n\u001b[0;32m      1\u001b[0m \u001b[1;31m# Converting the response to datetime\u001b[0m\u001b[1;33m\u001b[0m\u001b[1;33m\u001b[0m\u001b[1;33m\u001b[0m\u001b[0m\n\u001b[0;32m      2\u001b[0m \u001b[1;32mdef\u001b[0m \u001b[0mconvert_response\u001b[0m\u001b[1;33m(\u001b[0m\u001b[0md\u001b[0m\u001b[1;33m)\u001b[0m\u001b[1;33m:\u001b[0m\u001b[1;33m\u001b[0m\u001b[1;33m\u001b[0m\u001b[0m\n\u001b[1;32m----> 3\u001b[1;33m     \u001b[1;32mfor\u001b[0m \u001b[0mdt\u001b[0m\u001b[1;33m,\u001b[0m \u001b[0mprec\u001b[0m \u001b[1;32min\u001b[0m \u001b[0md\u001b[0m\u001b[1;33m[\u001b[0m\u001b[1;34m'Time Series (Daily)'\u001b[0m\u001b[1;33m]\u001b[0m\u001b[1;33m.\u001b[0m\u001b[0mitems\u001b[0m\u001b[1;33m(\u001b[0m\u001b[1;33m)\u001b[0m\u001b[1;33m:\u001b[0m\u001b[1;33m\u001b[0m\u001b[1;33m\u001b[0m\u001b[0m\n\u001b[0m\u001b[0;32m      4\u001b[0m         \u001b[0mr\u001b[0m \u001b[1;33m=\u001b[0m \u001b[1;33m{\u001b[0m\u001b[1;34m'datetime'\u001b[0m\u001b[1;33m:\u001b[0m\u001b[0mdt\u001b[0m\u001b[1;33m}\u001b[0m\u001b[1;33m\u001b[0m\u001b[1;33m\u001b[0m\u001b[0m\n\u001b[0;32m      5\u001b[0m         \u001b[0mr\u001b[0m\u001b[1;33m.\u001b[0m\u001b[0mupdate\u001b[0m\u001b[1;33m(\u001b[0m\u001b[0mprec\u001b[0m\u001b[1;33m)\u001b[0m\u001b[1;33m\u001b[0m\u001b[1;33m\u001b[0m\u001b[0m\n",
      "\u001b[1;31mKeyError\u001b[0m: 'Time Series (Daily)'"
     ]
    }
   ],
   "source": [
    "# Preparing bloomberg tweet data frame\n",
    "df_stock = AlphaVantage(data_dji) # data_dji returns dow jones data, data_sp returns s&p 500 data\n",
    "df_bloom_clean = df_bloom.copy()\n",
    "df_bloom_clean.reset_index(drop=True)\n",
    "df_bloom_clean['time'] =  range(0,df_bloom_clean['datetime'].count())\n",
    "df_bloom_clean['datetime'] = df_bloom_clean['datetime'].dt.date # format datetime\n",
    "df_bloom_clean = df_bloom_clean.set_index('datetime',drop=True)\n",
    "df_bloom_clean = df_bloom_clean.dropna()\n",
    "df_merge = pd.merge(df_stock, df_bloom_clean, left_index=True, right_index=True)\n",
    "features =  ['time','sentiment','volume','open']\n",
    "display(df_merge.head())"
   ]
  },
  {
   "cell_type": "markdown",
   "metadata": {},
   "source": [
    "Dataframe: All tweets"
   ]
  },
  {
   "cell_type": "code",
   "execution_count": null,
   "metadata": {
    "scrolled": false
   },
   "outputs": [],
   "source": [
    "# DATA ALL TWEETS - COMPARING TO S&P500\n",
    "df_all = df.copy()\n",
    "df_stock = AlphaVantage(data_sp)\n",
    "for i in df_stock.columns:\n",
    "    df_stock[i] = df_stock[i].astype(float)\n",
    "df_all['datetime'] = df_all['datetime'].dt.date # format datetime\n",
    "df_all = df_all.set_index(df_all['datetime'],drop=True)\n",
    "df_merge = pd.merge(df_all, df_stock, left_index=True, right_index=True)\n",
    "df_merge['time'] =  range(0,df_merge['datetime'].count())\n",
    "features = ['time','sentiment','volume','open']\n",
    "display(df_merge[features].head())    "
   ]
  },
  {
   "cell_type": "markdown",
   "metadata": {},
   "source": [
    "**Time series split**"
   ]
  },
  {
   "cell_type": "code",
   "execution_count": null,
   "metadata": {},
   "outputs": [],
   "source": [
    "# X variables\n",
    "\n",
    "X1 = df_merge[features].values # features\n",
    "X = sm.add_constant(X1)\n",
    "splits = TimeSeriesSplit(n_splits=5)\n",
    "\n",
    "for train_index, test_index in splits.split(X):\n",
    "    X_train = X[train_index]\n",
    "    X_test = X[test_index]\n",
    "#pyplot.show()\n",
    "\n",
    "# Y variable\n",
    "Y = df_merge['pct_change'].values # target variable\n",
    "splits = TimeSeriesSplit(n_splits=5) # number of splits\n",
    "pyplot.figure(1)\n",
    "index = 1\n",
    "for train_index, test_index in splits.split(Y):\n",
    "    y_train = Y[train_index]\n",
    "    y_test = Y[test_index]\n",
    "#     print('Observations: %d' % (len(y_train) + len(y_test)))\n",
    "#     print('Training Observations: %d' % (len(y_train)))\n",
    "#     print('Testing Observations: %d' % (len(y_test)))\n",
    "    pyplot.subplot(510 + index)\n",
    "    pyplot.plot(y_train)\n",
    "    pyplot.plot([None for i in y_train] + [x for x in y_test])\n",
    "    index += 1\n",
    "pyplot.show()"
   ]
  },
  {
   "cell_type": "markdown",
   "metadata": {},
   "source": [
    "**Linear Regression model**"
   ]
  },
  {
   "cell_type": "code",
   "execution_count": null,
   "metadata": {},
   "outputs": [],
   "source": [
    "linreg=linear_model.LinearRegression()\n",
    "linreg.fit(X_train, y_train)\n",
    "linreg.coef_\n",
    "a=linreg.predict(X_test)\n",
    "\n",
    "# Print RMSE\n",
    "print('RMSE:',round(sqrt(np.mean((a-y_test)**2)),3))\n",
    "# Print R^2\n",
    "print('R-squared:',round(sklearn.metrics.r2_score(y_test, a)),3)"
   ]
  },
  {
   "cell_type": "markdown",
   "metadata": {},
   "source": [
    "Conducting OLS regression and printing results"
   ]
  },
  {
   "cell_type": "code",
   "execution_count": null,
   "metadata": {},
   "outputs": [],
   "source": [
    "# Linear regression: Fitting model and printing results\n",
    "Y = df_merge['pct_change'].values\n",
    "ols = sm.OLS(Y, X)\n",
    "ols_results = ols.fit()\n",
    "res = ols_results.summary()\n",
    "res.as_latex() # print to latex format\n",
    "print(res)"
   ]
  },
  {
   "cell_type": "markdown",
   "metadata": {},
   "source": [
    "**CREATING PIPELINES**"
   ]
  },
  {
   "cell_type": "code",
   "execution_count": null,
   "metadata": {},
   "outputs": [],
   "source": [
    "pipe_preproc = make_pipeline(PolynomialFeatures(), StandardScaler())\n",
    "\n",
    "# Fitting and transforming data \n",
    "pipe_preproc.fit(X_train)\n",
    "X_train_prep = pipe_preproc.transform(X_train)\n",
    "X_test_prep = pipe_preproc.transform(X_test)\n"
   ]
  },
  {
   "cell_type": "markdown",
   "metadata": {},
   "source": [
    "**Pipeline for linear regression**"
   ]
  },
  {
   "cell_type": "code",
   "execution_count": null,
   "metadata": {},
   "outputs": [],
   "source": [
    "#PIPELINE LINEAR REGRESSION\n",
    "pipe_lr = make_pipeline(PolynomialFeatures(degree=3,include_bias=False), \n",
    "                        StandardScaler(),\n",
    "                        LinearRegression()\n",
    "                       )\n",
    "\n",
    "pipe_lr.fit(X_train, y_train)"
   ]
  },
  {
   "cell_type": "markdown",
   "metadata": {},
   "source": [
    "**Pipeline for LASSO**"
   ]
  },
  {
   "cell_type": "code",
   "execution_count": null,
   "metadata": {},
   "outputs": [],
   "source": [
    "#PIPELINE LASSO\n",
    "lassolist = []\n",
    "lambdas = np.logspace(-4, 4, 33) # Defining the lambda space wherein to test\n",
    "# Testing different hyperparameter\n",
    "for lambda_ in lambdas:\n",
    "    pipe_lasso = make_pipeline(PolynomialFeatures(degree=3,include_bias=False), \n",
    "                               StandardScaler(),\n",
    "                               Lasso(alpha=lambda_, random_state=1)\n",
    "                              )\n",
    "    pipe_lasso.fit(X_train, y_train)\n",
    "    y_pred = pipe_lasso.predict(X_train)\n",
    "    mse_lasso = mse(y_pred, y_train)\n",
    "    lassolist.append(sqrt(mse_lasso))\n",
    "\n",
    "# Selecting the optimal hyperparameter\n",
    "hyperparam_lasso = pd.Series(lassolist,index=lambdas)\n",
    "optimal_lasso = hyperparam_lasso.nsmallest(1)    \n",
    "\n",
    "# Updating pipeline with optimal parameter\n",
    "pipe_lasso = make_pipeline(PolynomialFeatures(degree=3,include_bias=False), \n",
    "                               StandardScaler(),\n",
    "                               Lasso(alpha=optimal_lasso.index[0]))\n",
    "pipe_lasso.fit(X_train,y_train)\n",
    "\n",
    "# Print optimal hyperparameter\n",
    "print('Optimal hyperparameter (lambda) value for LASSO:', optimal_lasso)"
   ]
  },
  {
   "cell_type": "code",
   "execution_count": null,
   "metadata": {},
   "outputs": [],
   "source": [
    "# LASSO: Fitting the model and printing coefficients\n",
    "LASSO = linear_model.Lasso(alpha=optimal_lasso.index[0])\n",
    "LASSO.fit(X_train, y_train)\n",
    "LASSO.coef_"
   ]
  },
  {
   "cell_type": "markdown",
   "metadata": {},
   "source": [
    "**Pipeline for Ridge**"
   ]
  },
  {
   "cell_type": "code",
   "execution_count": null,
   "metadata": {},
   "outputs": [],
   "source": [
    "#PIPELINE RIDGE\n",
    "ridgelist = []\n",
    "lambdas = np.logspace(-4, 4, 33) # Defining the lambda space wherein to test\n",
    "# Testing different hyperparameter\n",
    "for lambda_ in lambdas:\n",
    "    pipe_ridge = make_pipeline(PolynomialFeatures(degree=3,include_bias=False), \n",
    "                               StandardScaler(),\n",
    "                               Ridge(alpha=lambda_, random_state=1)\n",
    "                              )\n",
    "    pipe_ridge.fit(X_train, y_train)\n",
    "    y_pred = pipe_ridge.predict(X_train)\n",
    "    mse_ridge = mse(y_pred, y_train)\n",
    "    ridgelist.append(sqrt(mse_ridge))\n",
    "\n",
    "# Selecting the optimal hyperparameter\n",
    "hyperparam_ridge = pd.Series(ridgelist,index=lambdas)\n",
    "optimal_ridge = hyperparam_ridge.nsmallest(1)\n",
    "\n",
    "# Updating pipeline with optimal parameter\n",
    "pipe_ridge = make_pipeline(PolynomialFeatures(degree=3,include_bias=False), \n",
    "                               StandardScaler(),\n",
    "                               Ridge(alpha=optimal_ridge.index[0]))\n",
    "pipe_ridge.fit(X_train,y_train)\n",
    "\n",
    "# Print optimal hyperparameter\n",
    "print('Optimal hyperparameter (lambda) value for Ridge:', optimal_ridge)"
   ]
  },
  {
   "cell_type": "code",
   "execution_count": null,
   "metadata": {},
   "outputs": [],
   "source": [
    "# Ridge: Fitting the model and printing coefficients\n",
    "ridge = linear_model.Ridge(alpha=optimal_ridge.index[0])\n",
    "ridge.fit(X_train, y_train)\n",
    "ridge.coef_"
   ]
  },
  {
   "cell_type": "markdown",
   "metadata": {},
   "source": [
    "**Print RMSE for each regularization**"
   ]
  },
  {
   "cell_type": "code",
   "execution_count": null,
   "metadata": {},
   "outputs": [],
   "source": [
    "# Printing the RMSE: root mean squared error\n",
    "print('Linear Regression', round(sqrt(mse(pipe_lr.predict(X_test),y_test)), 3))\n",
    "print('Ridge', round(sqrt(mse(pipe_ridge.predict(X_test),y_test)), 3))\n",
    "print('Lasso', round(sqrt(mse(pipe_lasso.predict(X_test),y_test)), 3))\n",
    "# Dictionary \n",
    "pipe_dict = {'pipe_lr':sqrt(mse(pipe_lr.predict(X_test),y_test))\n",
    "            , 'pipe_ridge':sqrt(mse(pipe_ridge.predict(X_test),y_test))\n",
    "            , 'pipe_lasso':sqrt(mse(pipe_lasso.predict(X_test),y_test))\n",
    "            }\n",
    "print('Smallest RMSE obtained using', min(pipe_dict, key=pipe_dict.get))"
   ]
  },
  {
   "cell_type": "markdown",
   "metadata": {},
   "source": [
    "Choosing LASSO as the preferred choice. Next, we construct the learning curve."
   ]
  },
  {
   "cell_type": "code",
   "execution_count": null,
   "metadata": {},
   "outputs": [],
   "source": [
    "train_sizes, train_scores, test_scores = learning_curve(estimator=pipe_lasso,\n",
    "                   X=X_train,\n",
    "                   y=y_train,\n",
    "                   train_sizes=np.linspace(0.1, 1.0, 10),\n",
    "                   scoring='neg_mean_squared_error',                 \n",
    "                   cv=5)\n",
    "\n",
    "mse_ = pd.DataFrame({'Train':-train_scores.mean(axis=1),\n",
    "                     'Test':-test_scores.mean(axis=1)})\\\n",
    "        .set_index(pd.Index(train_sizes,name='sample size'))    "
   ]
  },
  {
   "cell_type": "markdown",
   "metadata": {},
   "source": [
    "**Plotting the learning curve**"
   ]
  },
  {
   "cell_type": "code",
   "execution_count": null,
   "metadata": {},
   "outputs": [],
   "source": [
    "f_learn, ax = plt.subplots(figsize=(10,4))\n",
    "mse_.plot(ax=ax, logy=True)\n",
    "\n",
    "# Plotting 95% confidence band\n",
    "ax.fill_between(train_sizes,\n",
    "                -train_scores.mean(1) + train_scores.std(1)*1.96,\n",
    "                -train_scores.mean(1) - train_scores.std(1)*1.96, \n",
    "                alpha=0.1, \n",
    "                color='green')\n",
    "ax.set_ylabel('Mean squared error')\n",
    "\n",
    "f_learn.savefig(\"LearningCurve.png\")"
   ]
  },
  {
   "cell_type": "markdown",
   "metadata": {},
   "source": [
    "### Classification"
   ]
  },
  {
   "cell_type": "markdown",
   "metadata": {},
   "source": [
    "Splitting while not disrupting the chronological order."
   ]
  },
  {
   "cell_type": "code",
   "execution_count": null,
   "metadata": {},
   "outputs": [],
   "source": [
    "X = df_merge[features].values\n",
    "splits = TimeSeriesSplit(n_splits=10)\n",
    "pyplot.figure(1)\n",
    "index = 1\n",
    "for train_index, test_index in splits.split(X):\n",
    "    X_train = X[train_index]\n",
    "    X_test = X[test_index]\n",
    "\n",
    "Y = df_merge['bool'].values\n",
    "splits = TimeSeriesSplit(n_splits=10)\n",
    "# pyplot.figure(1)\n",
    "index = 1\n",
    "for train_index, test_index in splits.split(Y):\n",
    "    y_train = Y[train_index]\n",
    "    y_test = Y[test_index]\n",
    "#     print('Observations: %d' % (len(y_train) + len(y_test)))\n",
    "#     print('Training Observations: %d' % (len(y_train)))\n",
    "#     print('Testing Observations: %d' % (len(y_test)))\n",
    "#     pyplot.subplot(510 + index)\n",
    "#     pyplot.plot(y_train)\n",
    "#     pyplot.plot([None for i in y_train] + [x for x in y_test])\n",
    "#     index += 1\n",
    "# plt.show()\n",
    "# plt.savefig('Classification.png')\n",
    "\n",
    "    "
   ]
  },
  {
   "cell_type": "code",
   "execution_count": null,
   "metadata": {},
   "outputs": [],
   "source": [
    "#Classification tree: k-fold cross validation\n",
    "kfolds = TimeSeriesSplit(n_splits=10)\n",
    "est = np.unique(np.logspace(0,2,20).astype(np.int64))\n",
    "acc_tot=[]\n",
    "for n in est:\n",
    "\n",
    "    ran_clf=DecisionTreeClassifier(random_state=1)  \n",
    "    accuracy_ = []\n",
    "\n",
    "    for train_i, validation_i in kfolds.split(X_train, y_train):\n",
    "\n",
    "        X_train, y_train, = X_train, y_train\n",
    "        X_val, y_val = X_test, y_test \n",
    "\n",
    "        ran_clf.fit(X_train, y_train)\n",
    "\n",
    "        y_hat = ran_clf.predict(X_val)\n",
    "\n",
    "        accuracy_.append((accuracy_score(y_val, y_hat, normalize=True, sample_weight=None)))\n",
    "\n",
    "    acc_tot.append(accuracy_)\n",
    "\n",
    "# Calculating the mean of the MSE from the splits    \n",
    "meanACC_tot= pd.DataFrame(acc_tot, index=est).mean(axis=1)\n",
    "optimalACC_tot=meanACC_tot.nsmallest(1)\n",
    "print('Prediction accuracy:', round(optimalACC_tot[1],4))\n",
    "print('Share of observations where the daily change is positive:', \n",
    "      round(df_merge['bool'].sum()/df_merge['bool'].count(),4))"
   ]
  },
  {
   "cell_type": "markdown",
   "metadata": {},
   "source": [
    "### LOG FILE\n",
    "\n",
    "Visualizing our log file. "
   ]
  },
  {
   "cell_type": "code",
   "execution_count": null,
   "metadata": {
    "scrolled": false
   },
   "outputs": [],
   "source": [
    "import datetime\n",
    "log_df = pd.read_csv('my_log.csv',sep=';') # loading the log, separated by \";\"\n",
    "log_df = log_df[0:10].copy()\n",
    "display(log_df)\n",
    "#dt = log_df.dt.values[0] # get datetime values\n",
    "\n",
    "log_df['dt'] = log_df.t.apply(datetime.datetime.fromtimestamp)\n",
    "log_df['dt'] = pd.to_datetime(log_df.t,unit='s') # Convert the time column 't' to datetime \n",
    "\n",
    "plt.figure(figsize=(15,4))\n",
    "plt.plot(log_df.dt,log_df.delta_t)\n",
    "plt.ylabel('Delta t')\n",
    "plt.xlabel('Scraping progress')\n",
    "plt.savefig('LogGraphTime.png')\n",
    "\n",
    "# Plot the response size over time.\n",
    "plt.figure(figsize=(15,4))\n",
    "plt.ylabel('Size of response')\n",
    "plt.xlabel('Scraping progress')\n",
    "plt.plot(log_df.dt,log_df.response_size)\n",
    "\n",
    "## Investigate errors\n",
    "log_df.success.value_counts() ## Count errors\n",
    "## Groupby time\n",
    "# round the time for aggregation\n",
    "log_df['dt_minute'] = log_df.dt.apply(lambda x: x-datetime.timedelta(seconds=x.second,microseconds=x.microsecond))\n",
    "#log_df['dt_hour'] = log_df.dt.apply(lambda x: x-datetime.timedelta(minutes=x.minute,seconds=x.second,microseconds=x.microsecond))\n",
    "#log_df.groupby('dt_hour').success.mean()\n",
    "plt.savefig('LogGraph.png')"
   ]
  },
  {
   "cell_type": "markdown",
   "metadata": {},
   "source": [
    "THE END"
   ]
  }
 ],
 "metadata": {
  "kernelspec": {
   "display_name": "Python 3",
   "language": "python",
   "name": "python3"
  },
  "language_info": {
   "codemirror_mode": {
    "name": "ipython",
    "version": 3
   },
   "file_extension": ".py",
   "mimetype": "text/x-python",
   "name": "python",
   "nbconvert_exporter": "python",
   "pygments_lexer": "ipython3",
   "version": "3.7.3"
  }
 },
 "nbformat": 4,
 "nbformat_minor": 2
}
