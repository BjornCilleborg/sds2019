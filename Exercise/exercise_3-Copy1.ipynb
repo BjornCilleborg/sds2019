{
 "cells": [
  {
   "cell_type": "markdown",
   "metadata": {},
   "source": [
    "# Exercise Set 3: Strings, requests and APIs\n",
    "\n",
    "*Morning, August 13, 2019*\n",
    "\n",
    "In this exercise set you will be working with collecting from the web. We will start out with some basic string operations and build on that to make a query for fetching data.\n",
    "\n",
    "In addition to DataCamp, you might find [this page](https://pythonprogramming.net/string-concatenation-formatting-intermediate-python-tutorial/) on pythonprogramming.net useful. [This page](https://www.python-course.eu/python3_sequential_data_types.php) give an introduction to the basics of strings and their related data types. "
   ]
  },
  {
   "cell_type": "markdown",
   "metadata": {},
   "source": [
    "## Exercise Section 3.1: Basic string operations and dictionaries"
   ]
  },
  {
   "cell_type": "markdown",
   "metadata": {},
   "source": [
    "Strings have multiple operations and functions associated. In this exercise we investigate a few of these. We also explore the sequence form of a string and how it can be sliced and accessed via indices.\n",
    "\n",
    "> **Ex. 3.1.1**: Let `s1='Chameleon'` and `s2='ham'`. Check whether the string `s2` is a substring of `s1`. Is `'hello'` a substring `'goodbye'`?\n",
    "\n",
    "> *Hint*: One string operation is to check whether a string `S` contains a substring `T`, this can be done with the `in` operator: `S in T`. "
   ]
  },
  {
   "cell_type": "code",
   "execution_count": 2,
   "metadata": {},
   "outputs": [
    {
     "name": "stdout",
     "output_type": "stream",
     "text": [
      "Check if substring is found within string: True\n",
      "Check if substring is found within string: False\n"
     ]
    }
   ],
   "source": [
    "# [Answer to Ex. 3.1.1]\n",
    "s1 = 'Chameleon'\n",
    "s2 = 'ham'\n",
    "print('Check if substring is found within string:',s2 in s1)\n",
    "print('Check if substring is found within string:','hello' in 'goodbye')"
   ]
  },
  {
   "cell_type": "markdown",
   "metadata": {},
   "source": [
    "> **Ex. 3.1.2**: From the string `s1` select the last four characters. What is the index of the character `a` in `s1`?\n",
    "\n",
    "> *Hint*: We can selecting a substring by slicing it with the `[]` notation, from the start to end where start is included and end is excluded. Recall that Python has zero-based indexing, see explanation [here](https://softwareengineering.stackexchange.com/questions/110804/why-are-zero-based-arrays-the-norm).\n"
   ]
  },
  {
   "cell_type": "code",
   "execution_count": 5,
   "metadata": {},
   "outputs": [
    {
     "data": {
      "text/plain": [
       "'leon'"
      ]
     },
     "execution_count": 5,
     "metadata": {},
     "output_type": "execute_result"
    }
   ],
   "source": [
    "# [Answer to Ex. 3.1.2]\n",
    "# Selecting last 4 characters of string, remember last character has the position n-1 where n is length of the string\n",
    "s1[-4:]"
   ]
  },
  {
   "cell_type": "markdown",
   "metadata": {},
   "source": [
    "In addition to the techniques above strings are equipped with an array of _methods_, for solving more complex tasks. For example the `str.join(list)` method will insert a string in between each element of a list. Oppositely `str1.split(str2)` splits `str1` into a list. `.strip()` removes spaces in the beginning and end of a word and `.format()` fills in specified blanks in a string.  Below we illustrate the use of each function\n",
    "\n",
    "```python\n",
    ">>> ','.join(['a','b']) \n",
    "'a,b'\n",
    "\n",
    ">>> ' Hello World! '.strip() \n",
    "'Hello World!'\n",
    "\n",
    ">>> 'Hello {w}'.format(w='World!') \n",
    "'Hello World!'\n",
    "\n",
    ">>> 'a,b,c'.split(',') \n",
    "['a','b','c']\n",
    "```"
   ]
  },
  {
   "cell_type": "markdown",
   "metadata": {},
   "source": [
    "> **Ex. 3.1.3:** Let `l1 = ['r ', 'Is', '>', ' < ', 'g ', '?']`. Create from `l1` the sentence \"Is r > g?\" using your knowledge about string formatting. Make sure there is only one space in between worlds.\n",
    ">\n",
    ">> _Hint:_ You should be able to combine the above informations to solve this exercise."
   ]
  },
  {
   "cell_type": "code",
   "execution_count": 24,
   "metadata": {},
   "outputs": [
    {
     "name": "stdout",
     "output_type": "stream",
     "text": [
      "Is r > g?\n"
     ]
    }
   ],
   "source": [
    "# [Answer to Ex. 3.1.3]\n",
    "l1 = ['r ', 'Is', '>', ' < ', 'g ', '?']\n",
    "print(l1[1], l1[0].strip(), ' '.join(l1[2]), l1[4].strip()+ l1[-1]) #The comma inserts space by default. "
   ]
  },
  {
   "cell_type": "markdown",
   "metadata": {},
   "source": [
    "### Dictionaries\n",
    "\n",
    "Dictionaries (or simply dicts) are a central building block of python. Python dicts are constructed from pairs of keys and values making them extremely versatile for data storage. Furthermore dicts correspond directly to the json file format.  \n",
    "\n",
    "> **Ex. 3.1.4**: Create an empty dictionary `words` using the `dict()`function. Then add each of the words in `['animal', 'coffee', 'python', 'unit', 'knowledge', 'tread', 'arise']` as a key, with the value being a boolean indicator for whether the word begins with a vowel. The results should look like `{'bacon': False, 'asynchronous': True ...}`\n",
    ">\n",
    ">> _Hint:_ You might want co first construct a function that asseses whether a given word begins with a vowel or not."
   ]
  },
  {
   "cell_type": "code",
   "execution_count": 55,
   "metadata": {},
   "outputs": [
    {
     "name": "stdout",
     "output_type": "stream",
     "text": [
      "{'animal': True, 'coffee': False, 'python': False, 'unit': True, 'knowledge': False, 'tread': False, 'arise': True}\n"
     ]
    }
   ],
   "source": [
    "# [Answer to Ex. 3.1.4]\n",
    "keys = ['animal', 'coffee', 'python', 'unit', 'knowledge', 'tread', 'arise']\n",
    "vowels = ['a','e','i','o','u','y']\n",
    "value = []\n",
    "\n",
    "for x in keys:\n",
    "    value.append(x[0] in vowels)\n",
    "\n",
    "words = dict(list(zip(keys,value)))\n",
    "print(words)\n",
    "\n"
   ]
  },
  {
   "cell_type": "markdown",
   "metadata": {},
   "source": [
    "> **Ex. 3.1.5:** Loop through the dictionary `words`. In each iteration you should print a proper sentence stating if the current word begins with a vowel or not. \n",
    "\n",
    "> _Hint:_ You can loop through both keys and values simultaneously with the `.items()` method. [This](https://www.tutorialspoint.com/python/python_dictionary.htm) might help you."
   ]
  },
  {
   "cell_type": "code",
   "execution_count": 79,
   "metadata": {},
   "outputs": [
    {
     "name": "stdout",
     "output_type": "stream",
     "text": [
      "The word animal starts with a vowel.\n",
      "The word coffee does NOT start with a vowel.\n",
      "The word python does NOT start with a vowel.\n",
      "The word unit starts with a vowel.\n",
      "The word knowledge does NOT start with a vowel.\n",
      "The word tread does NOT start with a vowel.\n",
      "The word arise starts with a vowel.\n"
     ]
    }
   ],
   "source": [
    "# [Answer to Ex. 3.1.5]\n",
    "for x in words.items(): #.items() shows both keys and values as a tuple.\n",
    "    if x[1] == True:\n",
    "        print('The word',x[0], 'starts with a vowel.')\n",
    "    else: \n",
    "        print('The word',x[0], 'does NOT start with a vowel.')\n"
   ]
  },
  {
   "cell_type": "markdown",
   "metadata": {},
   "source": [
    "<br>\n",
    "\n",
    "## Exercise Section 3.2: The punk API\n",
    "The [punk API](https://punkapi.com/) serves information about _beers_. It is a well made and well documented API which makes it great for learning about APIs. \n",
    "\n",
    "> **Ex. 3.2.1:** Read the documentation on the Punk API available [here](https://punkapi.com/documentation/v2). What is the server url (i.e. root endpoint) of the Punk API? Does it require authentication? Then use the Punk API to make a request for beers brewed before December, 2008 with an ABV of at least 8."
   ]
  },
  {
   "cell_type": "code",
   "execution_count": 292,
   "metadata": {},
   "outputs": [
    {
     "name": "stdout",
     "output_type": "stream",
     "text": [
      "[{'abv': 12.5,\n",
      "  'attenuation_level': 81.2,\n",
      "  'boil_volume': {'unit': 'litres', 'value': 25},\n",
      "  'brewers_tips': 'Rack into a secondary fermenter and add your strawberries. '\n",
      "                  'Use a blow-off rather than an airlock as the fermentation '\n",
      "                  'can get pretty wild as the yeast starts using the sugar '\n",
      "                  'from the strawberries.',\n",
      "  'contributed_by': 'Sam Mason <samjbmason>',\n",
      "  'description': 'A 9.2% Double IPA aged for 21 months in a 1965 Invergordon '\n",
      "                 'cask with 30 kg of fresh highland strawberries. This beer is '\n",
      "                 'a riot of whisky, caramel and strawberry, all tempered by a '\n",
      "                 'toe curling bitterness enducing rapture in all who taste it. '\n",
      "                 'Who needs champagne?',\n",
      "  'ebc': 40,\n",
      "  'first_brewed': '10/2008',\n",
      "  'food_pairing': ['Poached eggs and smoked salmon',\n",
      "                   'Salt and pepper squid',\n",
      "                   'Key Lime Pie'],\n",
      "  'ibu': 125,\n",
      "  'id': 37,\n",
      "  'image_url': 'https://images.punkapi.com/v2/37.png',\n",
      "  'ingredients': {'hops': [{'add': 'start',\n",
      "                            'amount': {'unit': 'grams', 'value': 31},\n",
      "                            'attribute': 'bitter',\n",
      "                            'name': 'Columbus Extract'},\n",
      "                           {'add': 'start',\n",
      "                            'amount': {'unit': 'grams', 'value': 19.5},\n",
      "                            'attribute': 'bitter',\n",
      "                            'name': 'Columbus'},\n",
      "                           {'add': 'middle',\n",
      "                            'amount': {'unit': 'grams', 'value': 19.5},\n",
      "                            'attribute': 'flavour',\n",
      "                            'name': 'Columbus'},\n",
      "                           {'add': 'middle',\n",
      "                            'amount': {'unit': 'grams', 'value': 19.5},\n",
      "                            'attribute': 'flavour',\n",
      "                            'name': 'Centennial'},\n",
      "                           {'add': 'middle',\n",
      "                            'amount': {'unit': 'grams', 'value': 19.5},\n",
      "                            'attribute': 'flavour',\n",
      "                            'name': 'Simcoe'},\n",
      "                           {'add': 'end',\n",
      "                            'amount': {'unit': 'grams', 'value': 19.5},\n",
      "                            'attribute': 'flavour',\n",
      "                            'name': 'Columbus'},\n",
      "                           {'add': 'end',\n",
      "                            'amount': {'unit': 'grams', 'value': 19.5},\n",
      "                            'attribute': 'flavour',\n",
      "                            'name': 'Centennial'},\n",
      "                           {'add': 'dry hop',\n",
      "                            'amount': {'unit': 'grams', 'value': 115.5},\n",
      "                            'attribute': 'aroma',\n",
      "                            'name': 'Centennial'},\n",
      "                           {'add': 'dry hop',\n",
      "                            'amount': {'unit': 'grams', 'value': 96},\n",
      "                            'attribute': 'aroma',\n",
      "                            'name': 'Columbus'},\n",
      "                           {'add': 'dry hop',\n",
      "                            'amount': {'unit': 'grams', 'value': 96},\n",
      "                            'attribute': 'aroma',\n",
      "                            'name': 'Simcoe'},\n",
      "                           {'add': 'dry hop',\n",
      "                            'amount': {'unit': 'grams', 'value': 77},\n",
      "                            'attribute': 'aroma',\n",
      "                            'name': 'Amarillo'}],\n",
      "                  'malt': [{'amount': {'unit': 'kilograms', 'value': 6.3},\n",
      "                            'name': 'Extra Pale'},\n",
      "                           {'amount': {'unit': 'kilograms', 'value': 0.38},\n",
      "                            'name': 'Caramalt'},\n",
      "                           {'amount': {'unit': 'kilograms', 'value': 0.29},\n",
      "                            'name': 'Crystal 150'}],\n",
      "                  'yeast': 'Wyeast 1272 - American Ale II™'},\n",
      "  'method': {'fermentation': {'temp': {'unit': 'celsius', 'value': 21}},\n",
      "             'mash_temp': [{'duration': 75,\n",
      "                            'temp': {'unit': 'celsius', 'value': 65}}],\n",
      "             'twist': 'Oak chips: 15g, Fresh strawberries: 3kg'},\n",
      "  'name': 'Zephyr',\n",
      "  'ph': 4.4,\n",
      "  'srm': 20,\n",
      "  'tagline': 'There’s A Storm Brewing.',\n",
      "  'target_fg': 1016,\n",
      "  'target_og': 1087,\n",
      "  'volume': {'unit': 'litres', 'value': 20}},\n",
      " {'abv': 10,\n",
      "  'attenuation_level': 84.4,\n",
      "  'boil_volume': {'unit': 'litres', 'value': 25},\n",
      "  'brewers_tips': 'The beauty of this beer is in how brilliantly it lends '\n",
      "                  'itself to infusing or ageing. Experiment with different '\n",
      "                  'additions when the beer is ageing, taste it regularly to '\n",
      "                  'gauge its progress, and make sure you package it at its '\n",
      "                  'peak.',\n",
      "  'contributed_by': 'Sam Mason <samjbmason>',\n",
      "  'description': 'In 2006 James and Martin hijacked a beer dinner run by '\n",
      "                 'Michael Jackson, the acclaimed beer and whisky writer, and '\n",
      "                 'convinced him to taste one of their home brews. This was a '\n",
      "                 'defining moment in BrewDog prehistory, and that beer was the '\n",
      "                 'first incarnation of the ubiquitous Paradox. Aged in a '\n",
      "                 'variety of casks over the years, Paradox is dark, decadent '\n",
      "                 'and encapsulating. Can be enjoyed fresh; phenomenal when '\n",
      "                 'aged.',\n",
      "  'ebc': 300,\n",
      "  'first_brewed': '04/2007',\n",
      "  'food_pairing': ['Ancho chilli beef taco',\n",
      "                   'Chocolate gateaux',\n",
      "                   'Rum poached pears with dark chocolate sauce'],\n",
      "  'ibu': 55,\n",
      "  'id': 52,\n",
      "  'image_url': 'https://images.punkapi.com/v2/52.png',\n",
      "  'ingredients': {'hops': [{'add': 'start',\n",
      "                            'amount': {'unit': 'grams', 'value': 75},\n",
      "                            'attribute': 'bitter',\n",
      "                            'name': 'Columbus'},\n",
      "                           {'add': 'middle',\n",
      "                            'amount': {'unit': 'grams', 'value': 25},\n",
      "                            'attribute': 'flavour',\n",
      "                            'name': 'Columbus'},\n",
      "                           {'add': 'end',\n",
      "                            'amount': {'unit': 'grams', 'value': 25},\n",
      "                            'attribute': 'flavour',\n",
      "                            'name': 'Saaz'},\n",
      "                           {'add': 'end',\n",
      "                            'amount': {'unit': 'grams', 'value': 25},\n",
      "                            'attribute': 'flavour',\n",
      "                            'name': 'First Gold'}],\n",
      "                  'malt': [{'amount': {'unit': 'kilograms', 'value': 4.5},\n",
      "                            'name': 'Extra Pale'},\n",
      "                           {'amount': {'unit': 'kilograms', 'value': 0.55},\n",
      "                            'name': 'Caramalt'},\n",
      "                           {'amount': {'unit': 'kilograms', 'value': 0.33},\n",
      "                            'name': 'Munich'},\n",
      "                           {'amount': {'unit': 'kilograms', 'value': 1.35},\n",
      "                            'name': 'Flaked Oats'},\n",
      "                           {'amount': {'unit': 'kilograms', 'value': 0.55},\n",
      "                            'name': 'Dark Crystal'},\n",
      "                           {'amount': {'unit': 'kilograms', 'value': 0.18},\n",
      "                            'name': 'Carafa Special Malt Type 1'},\n",
      "                           {'amount': {'unit': 'kilograms', 'value': 0.33},\n",
      "                            'name': 'Carafa Special Malt Type 3'}],\n",
      "                  'yeast': 'Wyeast 1272 - American Ale II™'},\n",
      "  'method': {'fermentation': {'temp': {'unit': 'celsius', 'value': 21}},\n",
      "             'mash_temp': [{'duration': 90,\n",
      "                            'temp': {'unit': 'celsius', 'value': 65}}],\n",
      "             'twist': 'Try ageing on oak chips, infusing with rum raisins, or '\n",
      "                      'vanilla pods'},\n",
      "  'name': 'Paradox Islay',\n",
      "  'ph': 4.4,\n",
      "  'srm': 152,\n",
      "  'tagline': 'Ubiquitous Imperial Stout.',\n",
      "  'target_fg': 1014,\n",
      "  'target_og': 1090,\n",
      "  'volume': {'unit': 'litres', 'value': 20}},\n",
      " {'abv': 9,\n",
      "  'attenuation_level': 76,\n",
      "  'boil_volume': {'unit': 'litres', 'value': 25},\n",
      "  'brewers_tips': 'Grind the coffee as if making an espresso to really get the '\n",
      "                  'most out of it.',\n",
      "  'contributed_by': 'Sam Mason <samjbmason>',\n",
      "  'description': 'This beer was released as both as \"Danish Beerhouse Coffee '\n",
      "                 'Imperial Stout\" and \"BrewDog Coffee Imperial Stout\". Deep, '\n",
      "                 'dark, roasted flavours make this a perfect Sunday brunch '\n",
      "                 'beer.',\n",
      "  'ebc': 97,\n",
      "  'first_brewed': '11/2008',\n",
      "  'food_pairing': ['Gooey chocolate brownies',\n",
      "                   'Chicken fried steak with cheesy mash',\n",
      "                   'Spicy chicken empanadas'],\n",
      "  'ibu': 65,\n",
      "  'id': 58,\n",
      "  'image_url': 'https://images.punkapi.com/v2/58.png',\n",
      "  'ingredients': {'hops': [{'add': 'start',\n",
      "                            'amount': {'unit': 'grams', 'value': 25},\n",
      "                            'attribute': 'bitter',\n",
      "                            'name': 'Chinook'},\n",
      "                           {'add': 'start',\n",
      "                            'amount': {'unit': 'grams', 'value': 25},\n",
      "                            'attribute': 'bitter',\n",
      "                            'name': 'Galena'},\n",
      "                           {'add': 'end',\n",
      "                            'amount': {'unit': 'grams', 'value': 25},\n",
      "                            'attribute': 'flavour',\n",
      "                            'name': 'Galena'},\n",
      "                           {'add': 'end',\n",
      "                            'amount': {'unit': 'grams', 'value': 25},\n",
      "                            'attribute': 'flavour',\n",
      "                            'name': 'First Gold'},\n",
      "                           {'add': 'end',\n",
      "                            'amount': {'unit': 'grams', 'value': 9.4},\n",
      "                            'attribute': 'flavour',\n",
      "                            'name': 'Coffee'},\n",
      "                           {'add': 'dry hop',\n",
      "                            'amount': {'unit': 'grams', 'value': 9.4},\n",
      "                            'attribute': 'aroma',\n",
      "                            'name': 'Coffee'}],\n",
      "                  'malt': [{'amount': {'unit': 'kilograms', 'value': 7.5},\n",
      "                            'name': 'Extra Pale'},\n",
      "                           {'amount': {'unit': 'kilograms', 'value': 0.63},\n",
      "                            'name': 'Dark Crystal'},\n",
      "                           {'amount': {'unit': 'kilograms', 'value': 0.31},\n",
      "                            'name': 'Chocolate'},\n",
      "                           {'amount': {'unit': 'kilograms', 'value': 0.31},\n",
      "                            'name': 'Roasted Barley'}],\n",
      "                  'yeast': 'Wyeast 1056 - American Ale™'},\n",
      "  'method': {'fermentation': {'temp': {'unit': 'celsius', 'value': 19}},\n",
      "             'mash_temp': [{'duration': 90,\n",
      "                            'temp': {'unit': 'celsius', 'value': 64}}],\n",
      "             'twist': 'Coffee added after boil. Aged on French oak chips., '\n",
      "                      'Dark muscovado sugar: 312.5g for 20mins'},\n",
      "  'name': 'Coffee Imperial Stout',\n",
      "  'ph': 4.4,\n",
      "  'srm': 49,\n",
      "  'tagline': 'Beats a Cup of Joe.',\n",
      "  'target_fg': 1019,\n",
      "  'target_og': 1080,\n",
      "  'volume': {'unit': 'litres', 'value': 20}},\n",
      " {'abv': 10.5,\n",
      "  'attenuation_level': 80,\n",
      "  'boil_volume': {'unit': 'litres', 'value': 25},\n",
      "  'brewers_tips': 'Add your hops with five minutes of the boil left in a nod '\n",
      "                  'to the great lambic producers of Belgium.',\n",
      "  'contributed_by': 'Sam Mason <samjbmason>',\n",
      "  'description': 'This Abstrakt started life as a simple imperial Ale, but '\n",
      "                 'upon the addition of fresh Scottish raspberries and '\n",
      "                 'strawberries, and left to mature for 2 years in Invergordon '\n",
      "                 'whisky casks that had held whisky for over 40 years, this '\n",
      "                 'beer transcended into something new.',\n",
      "  'ebc': None,\n",
      "  'first_brewed': '09/2008',\n",
      "  'food_pairing': ['Haggis spring rolls',\n",
      "                   'Honey glazed duck breast',\n",
      "                   'Cranachan'],\n",
      "  'ibu': 14,\n",
      "  'id': 149,\n",
      "  'image_url': 'https://images.punkapi.com/v2/149.png',\n",
      "  'ingredients': {'hops': [{'add': 'end',\n",
      "                            'amount': {'unit': 'grams', 'value': 66.7},\n",
      "                            'attribute': 'flavour',\n",
      "                            'name': 'Magnum'}],\n",
      "                  'malt': [{'amount': {'unit': 'kilograms', 'value': 8},\n",
      "                            'name': 'Extra Pale'}],\n",
      "                  'yeast': 'Wyeast 1056 - American Ale™'},\n",
      "  'method': {'fermentation': {'temp': {'unit': 'celsius', 'value': 19}},\n",
      "             'mash_temp': [{'duration': 90,\n",
      "                            'temp': {'unit': 'celsius', 'value': 65}}],\n",
      "             'twist': 'Strawberries: 1kg, Raspberries: 1kg, Oak Chips: 75g'},\n",
      "  'name': 'AB:03',\n",
      "  'ph': 4.4,\n",
      "  'srm': None,\n",
      "  'tagline': 'Barrel-Aged Imperial Ale.',\n",
      "  'target_fg': 1013,\n",
      "  'target_og': 1093,\n",
      "  'volume': {'unit': 'litres', 'value': 20}}]\n"
     ]
    }
   ],
   "source": [
    "# [Answer to Ex. 3.2.1]\n",
    "# The root endpoint of the PUNK API is https://api.punkapi.com/v2/\n",
    "# It does not rely on authentication but instead on rate limits at 1 request per second.\n",
    "import requests\n",
    "import pprint\n",
    "\n",
    "root = 'https://api.punkapi.com/v2/beers' # root of API\n",
    "param = '?brewed_before=12-2008&abv_gt=8' # curl with designated parameters\n",
    "url = root + param # concatenating url\n",
    "fetch = requests.get(url) # fetching query\n",
    "pprint.pprint(fetch.json()) # printing query in a more readable format\n",
    "\n",
    "\n",
    "\n",
    "\n"
   ]
  },
  {
   "cell_type": "markdown",
   "metadata": {},
   "source": [
    "> **Ex. 3.2.2:** What object type is the API's JSON response? What about the individual items in the container? Convert the response object to a suitable format and answer the following questions:\n",
    ">> 1) How many beers are in the JSON object?\n",
    ">>\n",
    ">> 2) Print the names of the beers in the JSON object using lower case characters.\n",
    ">>\n",
    ">> 3) Select the beer called Paradox Islay from the JSON object.\n",
    ">>\n",
    ">> 4) Which hop ingredients does the Paradox Islay contain?\n"
   ]
  },
  {
   "cell_type": "code",
   "execution_count": 293,
   "metadata": {},
   "outputs": [
    {
     "name": "stdout",
     "output_type": "stream",
     "text": [
      "The number of beers with an ABV greater than 8 brewed before December 2008 is 4\n",
      "\n",
      "List of beers:\n",
      "zephyr\n",
      "paradox islay\n",
      "coffee imperial stout\n",
      "ab:03\n",
      "\n",
      "The list of hops used:\n",
      "Columbus with the bitter attribute\n",
      "Columbus with the flavour attribute\n",
      "Saaz with the flavour attribute\n",
      "First Gold with the flavour attribute\n"
     ]
    }
   ],
   "source": [
    "# [Answer to Ex. 3.2.2]\n",
    "# The JSON response is a list containing dictionaries. \n",
    "# On the lowest level each element is either a string, a float or an integer.\n",
    "\n",
    "# Getting number of beers\n",
    "len_fetch = len(fetch.json())\n",
    "print ('The number of beers with an ABV greater than 8 brewed before December 2008 is', len_fetch)\n",
    "\n",
    "# Getting name of beers using lowercase characters\n",
    "print('\\nList of beers:')\n",
    "for x in fetch.json():\n",
    "    print(x['name'].lower())\n",
    "    \n",
    "# Selecting my favourite beer\n",
    "Paradox_Islay = fetch.json()[1] # hardcoded selection\n",
    "for x in fetch.json(): # non hardedcoded selection - BETTER\n",
    "    if x['name'] == 'Paradox Islay':\n",
    "        Paradox_Islay = x\n",
    "        \n",
    "# Printing list of hops\n",
    "print('\\nThe list of hops used:')\n",
    "for x in Paradox_Islay['ingredients']['hops']:\n",
    "    print(x['name'], 'with the', x['attribute'],'attribute')\n",
    "    "
   ]
  },
  {
   "cell_type": "raw",
   "metadata": {},
   "source": []
  },
  {
   "cell_type": "markdown",
   "metadata": {},
   "source": [
    "> **Ex. 3.2.3:** Save the beers as a JSON file on your machine.\n",
    "\n",
    "> _Hint:_ you might want to take a look at the [json](https://docs.python.org/3/library/json.html) module.\n"
   ]
  },
  {
   "cell_type": "code",
   "execution_count": 298,
   "metadata": {},
   "outputs": [
    {
     "name": "stdout",
     "output_type": "stream",
     "text": [
      "File saved to C:\\Users\\bjorn\\Dropbox\\Politstudie\\7. semester\\Social Data Science\\Exercises\n"
     ]
    }
   ],
   "source": [
    "# [Answer to Ex. 3.2.3]\n",
    "import json, os\n",
    "with open('punkAPI.json', 'w') as f:\n",
    "    f.write(json.dumps(fetch.json()))\n",
    "    path = os.path.abspath('punkAPI.json')\n",
    "    directory = os.path.dirname(path)\n",
    "    print('File saved to', directory)\n",
    "    "
   ]
  },
  {
   "cell_type": "markdown",
   "metadata": {},
   "source": [
    "<br>\n",
    "\n",
    "## Exercise Section 3.3: The DST API\n",
    "\n",
    "DST (Statistics Denmark) provide an API access to their aggregate data. For developers they supply a [console](https://api.statbank.dk/console) for testing. In this exercise we will first code up a simple script which can collect data from the DST API, and then introduce the [PyDST](https://kristianuruplarsen.github.io/PyDST/) package. \n",
    "\n",
    "> **Ex 3.3.1:** Use the API console to construct a GET request which retrieves the table FOLK1A split by quarter. The return should be in JSON format. We want all available dates.\n",
    ">\n",
    ">Then write a function `construct_link()` which takes as inputs: a table ID (e.g. `'FOLK1A'`) and a list of strings like `['var1=*', 'var2=somevalue']`. The function should return the proper URL for getting a dataset with the specified variables (e.g. in this case all levels of var1, but only where var2=somevalue).\n",
    "\n",
    "> _Hint:_ The time variable is called 'tid'. To select all available values, set the value-id to '*'. Spend a little time with the console to get a sense of how the URLs are constructed.\n"
   ]
  },
  {
   "cell_type": "code",
   "execution_count": 276,
   "metadata": {},
   "outputs": [
    {
     "name": "stdout",
     "output_type": "stream",
     "text": [
      "https://api.statbank.dk/v1/data/FOLK1A/JSONSTAT?Tid=*&CIVILTILSTAND=TOT\n"
     ]
    }
   ],
   "source": [
    "# [Answer to Ex. 3.3.1]\n",
    "import requests, pprint\n",
    "\n",
    "# Constructing link to table using table ID and variables\n",
    "def construct_link(table_id, list): \n",
    "    root = 'https://api.statbank.dk/v1/data/'\n",
    "    curl = '/JSONSTAT?'\n",
    "    for x in list:\n",
    "        curl += x + '&'\n",
    "    return root + table_id + curl[:-1]\n",
    "\n",
    "# Printing link to table data\n",
    "print(construct_link('FOLK1A',['Tid=*','CIVILTILSTAND=TOT']))\n",
    "\n",
    "# Fetching table and printing\n",
    "#fetch = requests.get(construct_link('FOLK1A',var))\n",
    "#pprint.pprint(fetch.json())"
   ]
  },
  {
   "cell_type": "markdown",
   "metadata": {},
   "source": [
    "When executing the request in the console you should get a json file as output. Next lets write some code to load these json files directly into python. \n",
    "\n",
    "\n",
    "> **Ex. 3.3.2:** use the `requests` module (get it with `pip install requests`) and `construct_link()` to request birth data from the \"FOD\" table. Get all available years (variable \"Tid\"), but only female births (BARNKON=P) . Unpack the json payload and store the result. Wrap the whole thing in a function which takes an url as input and returns the corresponding output.\n",
    "\n",
    "> _Hint:_ The `requests.response` object has a `.json()` method. "
   ]
  },
  {
   "cell_type": "code",
   "execution_count": 368,
   "metadata": {
    "scrolled": false
   },
   "outputs": [
    {
     "name": "stdout",
     "output_type": "stream",
     "text": [
      "{'dataset': {'dimension': {'BARNKON': {'category': {'index': {'P': 0},\n",
      "                                                    'label': {'P': 'Piger'}},\n",
      "                                       'label': 'barnets køn'},\n",
      "                           'ContentsCode': {'category': {'index': {'FOD': 0},\n",
      "                                                         'label': {'FOD': 'Levendefødte'},\n",
      "                                                         'unit': {'FOD': {'base': 'antal',\n",
      "                                                                          'decimals': 0}}},\n",
      "                                            'label': 'Indhold'},\n",
      "                           'Tid': {'category': {'index': {'1973': 0,\n",
      "                                                          '1974': 1,\n",
      "                                                          '1975': 2,\n",
      "                                                          '1976': 3,\n",
      "                                                          '1977': 4,\n",
      "                                                          '1978': 5,\n",
      "                                                          '1979': 6,\n",
      "                                                          '1980': 7,\n",
      "                                                          '1981': 8,\n",
      "                                                          '1982': 9,\n",
      "                                                          '1983': 10,\n",
      "                                                          '1984': 11,\n",
      "                                                          '1985': 12,\n",
      "                                                          '1986': 13,\n",
      "                                                          '1987': 14,\n",
      "                                                          '1988': 15,\n",
      "                                                          '1989': 16,\n",
      "                                                          '1990': 17,\n",
      "                                                          '1991': 18,\n",
      "                                                          '1992': 19,\n",
      "                                                          '1993': 20,\n",
      "                                                          '1994': 21,\n",
      "                                                          '1995': 22,\n",
      "                                                          '1996': 23,\n",
      "                                                          '1997': 24,\n",
      "                                                          '1998': 25,\n",
      "                                                          '1999': 26,\n",
      "                                                          '2000': 27,\n",
      "                                                          '2001': 28,\n",
      "                                                          '2002': 29,\n",
      "                                                          '2003': 30,\n",
      "                                                          '2004': 31,\n",
      "                                                          '2005': 32,\n",
      "                                                          '2006': 33,\n",
      "                                                          '2007': 34,\n",
      "                                                          '2008': 35,\n",
      "                                                          '2009': 36,\n",
      "                                                          '2010': 37,\n",
      "                                                          '2011': 38,\n",
      "                                                          '2012': 39,\n",
      "                                                          '2013': 40,\n",
      "                                                          '2014': 41,\n",
      "                                                          '2015': 42,\n",
      "                                                          '2016': 43,\n",
      "                                                          '2017': 44,\n",
      "                                                          '2018': 45},\n",
      "                                                'label': {'1973': '1973',\n",
      "                                                          '1974': '1974',\n",
      "                                                          '1975': '1975',\n",
      "                                                          '1976': '1976',\n",
      "                                                          '1977': '1977',\n",
      "                                                          '1978': '1978',\n",
      "                                                          '1979': '1979',\n",
      "                                                          '1980': '1980',\n",
      "                                                          '1981': '1981',\n",
      "                                                          '1982': '1982',\n",
      "                                                          '1983': '1983',\n",
      "                                                          '1984': '1984',\n",
      "                                                          '1985': '1985',\n",
      "                                                          '1986': '1986',\n",
      "                                                          '1987': '1987',\n",
      "                                                          '1988': '1988',\n",
      "                                                          '1989': '1989',\n",
      "                                                          '1990': '1990',\n",
      "                                                          '1991': '1991',\n",
      "                                                          '1992': '1992',\n",
      "                                                          '1993': '1993',\n",
      "                                                          '1994': '1994',\n",
      "                                                          '1995': '1995',\n",
      "                                                          '1996': '1996',\n",
      "                                                          '1997': '1997',\n",
      "                                                          '1998': '1998',\n",
      "                                                          '1999': '1999',\n",
      "                                                          '2000': '2000',\n",
      "                                                          '2001': '2001',\n",
      "                                                          '2002': '2002',\n",
      "                                                          '2003': '2003',\n",
      "                                                          '2004': '2004',\n",
      "                                                          '2005': '2005',\n",
      "                                                          '2006': '2006',\n",
      "                                                          '2007': '2007',\n",
      "                                                          '2008': '2008',\n",
      "                                                          '2009': '2009',\n",
      "                                                          '2010': '2010',\n",
      "                                                          '2011': '2011',\n",
      "                                                          '2012': '2012',\n",
      "                                                          '2013': '2013',\n",
      "                                                          '2014': '2014',\n",
      "                                                          '2015': '2015',\n",
      "                                                          '2016': '2016',\n",
      "                                                          '2017': '2017',\n",
      "                                                          '2018': '2018'}},\n",
      "                                   'label': 'tid'},\n",
      "                           'id': ['BARNKON', 'ContentsCode', 'Tid'],\n",
      "                           'role': {'metric': ['ContentsCode'],\n",
      "                                    'time': ['Tid']},\n",
      "                           'size': [1, 1, 46]},\n",
      "             'label': 'Levendefødte efter barnets køn, Indhold og tid',\n",
      "             'source': 'Danmarks Statistik',\n",
      "             'updated': '2019-02-11T07:00:00Z',\n",
      "             'value': [34996,\n",
      "                       34771,\n",
      "                       35260,\n",
      "                       31533,\n",
      "                       30055,\n",
      "                       30161,\n",
      "                       28909,\n",
      "                       27941,\n",
      "                       25972,\n",
      "                       25595,\n",
      "                       24821,\n",
      "                       25228,\n",
      "                       26284,\n",
      "                       26878,\n",
      "                       27142,\n",
      "                       28520,\n",
      "                       29876,\n",
      "                       30813,\n",
      "                       31353,\n",
      "                       32914,\n",
      "                       32760,\n",
      "                       34027,\n",
      "                       33885,\n",
      "                       32819,\n",
      "                       32899,\n",
      "                       32116,\n",
      "                       32341,\n",
      "                       32652,\n",
      "                       31961,\n",
      "                       31109,\n",
      "                       31441,\n",
      "                       31539,\n",
      "                       31459,\n",
      "                       31580,\n",
      "                       31267,\n",
      "                       31507,\n",
      "                       30557,\n",
      "                       30946,\n",
      "                       28984,\n",
      "                       28131,\n",
      "                       27283,\n",
      "                       27616,\n",
      "                       28357,\n",
      "                       29833,\n",
      "                       29930,\n",
      "                       29865]}}\n",
      "File saved to C:\\Users\\bjorn\\Dropbox\\Politstudie\\7. semester\\Social Data Science\\Exercises\n"
     ]
    }
   ],
   "source": [
    "# [Answer to Ex. 3.3.2]\n",
    "\n",
    "# link to table\n",
    "url = construct_link('FOD',['Tid=*','BARNKON=P'])\n",
    "\n",
    "# fetching query\n",
    "def fetchtable(url):\n",
    "    fetch = requests.get(url)\n",
    "    unpack = fetch.json()\n",
    "    return unpack\n",
    "\n",
    "#Printing table\n",
    "pprint.pprint(fetchtable(url))\n",
    "\n",
    "\n",
    "# Save file\n",
    "with open('FOD.json', 'w') as f:     \n",
    "    f.write(json.dumps(fetch.json()))\n",
    "    path = os.path.abspath('Fod.json')\n",
    "    directory = os.path.dirname(path)\n",
    "    print('File saved to', directory)\n"
   ]
  },
  {
   "cell_type": "markdown",
   "metadata": {},
   "source": [
    "> **Ex. 3.3.3:** Extract the number of girls born each year. Store the results as a list."
   ]
  },
  {
   "cell_type": "code",
   "execution_count": 398,
   "metadata": {},
   "outputs": [
    {
     "name": "stdout",
     "output_type": "stream",
     "text": [
      "Antal levendefødte piger født i år 1973 er 34996\n"
     ]
    }
   ],
   "source": [
    "# [Answer to Ex. 3.3.3]\n",
    "# link to table\n",
    "url = construct_link('FOD',['Tid=*','BARNKON=P'])\n",
    "keys = fetchtable(url)['dataset']['dimension']['Tid']['category']['index'].keys() # Get years as a list\n",
    "girlsborn = fetchtable(url)['dataset']['value'] # Store number of girls born each year as a list\n",
    "barnkon_dict = dict(list(zip(keys,girlsborn))) # Create dictionary\n",
    "\n",
    "print('Antal levendefødte piger født i år 1973 er', barnkon_dict['1973'])"
   ]
  },
  {
   "cell_type": "markdown",
   "metadata": {},
   "source": [
    "> **Ex.3.3.4:** Repeat 3.3.2 and 3.3.3 but this time only get boy births (BARNKON=D). Store the numbers in a new list and use the `plot_births` (supplied below) function to plot the data. If you don't already have matplotlib installed run `pip install matplotlib`."
   ]
  },
  {
   "cell_type": "code",
   "execution_count": 402,
   "metadata": {},
   "outputs": [],
   "source": [
    "# Just run this once, do not change it.\n",
    "import matplotlib.pyplot as plt \n",
    "\n",
    "def plot_births(boys, girls):\n",
    "    \"\"\" Plots lineplot of the number of births split by gender.\n",
    "    \n",
    "    Args: \n",
    "        boys: a list of boy births by year\n",
    "        girls: a list of girl births by year\n",
    "    \"\"\"\n",
    "    if not len(boys) == len(girls):\n",
    "        raise ValueError('There must be the same number of observations for boys and girls')\n",
    "    \n",
    "    labels = ['{y}'.format(y=year) for year in range(1973,2018)]\n",
    "    \n",
    "    plt.plot(range(len(boys)), boys, color = 'blue', label = 'boys')\n",
    "    plt.plot(range(len(boys)), girls, color = 'red', label = 'girls')\n",
    "    plt.xticks([i for i in range(len(boys)) if i%4 == 0], [l for i,l in zip(range(len(boys)),labels) if i%4 == 0],\n",
    "               rotation = 'vertical')\n",
    "    plt.legend()\n",
    "    plt.show()"
   ]
  },
  {
   "cell_type": "code",
   "execution_count": 403,
   "metadata": {},
   "outputs": [
    {
     "name": "stdout",
     "output_type": "stream",
     "text": [
      "Udpluk af listen af levendefødte piger [34996, 34771, 35260, 31533, 30055]\n",
      "Udpluk af listen af levendefødte drenge [36899, 36556, 36811, 33734, 31823]\n"
     ]
    },
    {
     "data": {
      "image/png": "[encoded data removed]",
      "text/plain": [
       "<Figure size 432x288 with 1 Axes>"
      ]
     },
     "metadata": {
      "needs_background": "light"
     },
     "output_type": "display_data"
    }
   ],
   "source": [
    "# [Answer to Ex. 3.3.4]\n",
    "\n",
    "# BCI code\n",
    "print('Udpluk af listen af levendefødte piger', girlsborn[:5])\n",
    "url = construct_link('FOD',['Tid=*','BARNKON=D'])\n",
    "boysborn = fetchtable(url)['dataset']['value'] # Store number of girls born each year as a list\n",
    "print('Udpluk af listen af levendefødte drenge', boysborn[:5])\n",
    "\n",
    "\n",
    "# plot births of boys and girls    \n",
    "plot_births(boys,girls)"
   ]
  },
  {
   "cell_type": "markdown",
   "metadata": {},
   "source": [
    ">**(Bonus question) Ex. 3.3.5:** Go to [https://kristianuruplarsen.github.io/PyDST/](https://kristianuruplarsen.github.io/PyDST/) follow the installation instructions and import PyDST. Try to replicate the birth figure from 3.3.4 using PyDST. Use [the documentation](https://kristianuruplarsen.github.io/PyDST/connection) to learn how the package works.\n",
    "\n",
    "> _Hint:_ PyDST does not use json or dicts as its primary data format, instead it uses pandas DataFrames. When you install PyDST it will install pandas as a dependency. If this doesn't work simply run `pip install pandas` in your console. DataFrames are very intuitive to work with, for example accessing a column named 'name' is simply `data['name']` or `data.name`.\n",
    ">\n",
    "> In the next session you will learn more about pandas and DataFrames. If you are more comfortable with dicts, the data_response class has a `.dict` method you can use. "
   ]
  },
  {
   "cell_type": "code",
   "execution_count": 25,
   "metadata": {},
   "outputs": [
    {
     "name": "stdout",
     "output_type": "stream",
     "text": [
      "Retrieving data in one package.\n",
      "Getting table FOD, variables are ['Tid', 'BARNKON']\n",
      "        values are {'Tid': ['*'], 'BARNKON': ['*']}\n"
     ]
    },
    {
     "data": {
      "text/plain": [
       "<matplotlib.axes._subplots.AxesSubplot at 0x13f42286be0>"
      ]
     },
     "execution_count": 25,
     "metadata": {},
     "output_type": "execute_result"
    },
    {
     "data": {
      "image/png": "[encoded data removed]",
      "text/plain": [
       "<Figure size 432x288 with 1 Axes>"
      ]
     },
     "metadata": {},
     "output_type": "display_data"
    }
   ],
   "source": [
    "# [Answer to Ex. 3.3.5]\n",
    "import PyDST\n",
    "import seaborn as sns; sns.set_style(\"whitegrid\")\n",
    "\n",
    "conn = PyDST.connection(language = 'en') # Connecting to database\n",
    "\n",
    "# fetching table\n",
    "resp = conn.get_data(\n",
    "                table_id = 'FOD',\n",
    "                variables = ['Tid', 'BARNKON'], \n",
    "                values = {'Tid': ['*'], 'BARNKON': ['*']}\n",
    "                     )\n",
    "\n",
    "# convert data query to dataframe\n",
    "data = resp.df\n",
    "\n",
    "sns.lineplot(x='TID', y='INDHOLD', data = data, hue = 'BARNKON', markers=True, palette = ['blue', 'red'],)"
   ]
  }
 ],
 "metadata": {
  "kernelspec": {
   "display_name": "Python 3",
   "language": "python",
   "name": "python3"
  },
  "language_info": {
   "codemirror_mode": {
    "name": "ipython",
    "version": 3
   },
   "file_extension": ".py",
   "mimetype": "text/x-python",
   "name": "python",
   "nbconvert_exporter": "python",
   "pygments_lexer": "ipython3",
   "version": "3.7.3"
  }
 },
 "nbformat": 4,
 "nbformat_minor": 2
}
