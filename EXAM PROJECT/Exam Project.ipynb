{
 "cells": [
  {
   "cell_type": "markdown",
   "metadata": {},
   "source": [
    "# Summerschool: Social Data Science - Exam Project\n",
    "## Project: The Trump Twitter Effect\n",
    "### Group 17. Exam Numbers: 41, 96, 127, 220"
   ]
  },
  {
   "cell_type": "markdown",
   "metadata": {},
   "source": [
    "*This project studies whether Donald Trump’s sentiment can be used to predict the stock market movements. We conduct a sentiment analysis of his tweets, and uses upervised machine learning to try to predict the Dow Jones stock movement based on his sentiment.*"
   ]
  },
  {
   "cell_type": "markdown",
   "metadata": {},
   "source": [
    "We start by importing our data source to Python. The file `tweets.json` is created from [the Trump twitter archive](http://www.trumptwitterarchive.com/archive). We have selected all tweets since formal announcement of candidacy."
   ]
  },
  {
   "cell_type": "markdown",
   "metadata": {},
   "source": [
    "**DOCSTRING**\n",
    "\n",
    "Below we provide our docstring to the data project. \n",
    "We import the relevant packages, some of which will require installation through either `pip install` or `conda install`. "
   ]
  },
  {
   "cell_type": "code",
   "execution_count": 1,
   "metadata": {},
   "outputs": [],
   "source": [
    "'''\n",
    "DOCSTRING:\n",
    "Last updated: August 30th 2019.\n",
    "\n",
    "This project analyzes Donald J. Trump's twitter data and presents a visual analysis of key elements.\n",
    "It makes use of several packages, some of which should be installed via either pip or conda.\n",
    "Executing the code cells will save files to the relative path of this Jupyter Notebook. \n",
    "\n",
    "'''\n",
    "## Importing packages\n",
    "import pandas as pd\n",
    "import scraping_class, time, json, codecs\n",
    "import seaborn as sns\n",
    "import numpy as np\n",
    "from os import path\n",
    "from PIL import Image\n",
    "from wordcloud import WordCloud, STOPWORDS, ImageColorGenerator\n",
    "import matplotlib.pyplot as plt\n",
    "from bs4 import BeautifulSoup\n",
    "from IPython.display import display, HTML\n",
    "from vaderSentiment.vaderSentiment import SentimentIntensityAnalyzer\n",
    "from afinn import Afinn\n",
    "from fredapi import Fred\n",
    "from tqdm import tqdm\n",
    "from math import sqrt\n",
    "import statsmodels.api as sm\n",
    "from matplotlib import pyplot\n",
    "import requests\n",
    "# Machine learning\n",
    "import sklearn\n",
    "from sklearn import linear_model\n",
    "from sklearn.tree import DecisionTreeClassifier\n",
    "from sklearn.metrics import mean_squared_error as mse\n",
    "from sklearn.metrics import accuracy_score\n",
    "from sklearn.model_selection import learning_curve, validation_curve, TimeSeriesSplit, train_test_split\n",
    "from sklearn.linear_model import Lasso, LinearRegression, Ridge\n",
    "from sklearn.pipeline import make_pipeline\n",
    "from sklearn.preprocessing import PolynomialFeatures, StandardScaler\n",
    "% matplotlib inline"
   ]
  },
  {
   "cell_type": "markdown",
   "metadata": {},
   "source": [
    "**Sentiment analyzer**\n",
    "\n",
    "We have to sentiment analyzers: AFINN and VADER. We define functions for both in the following.\n",
    "Recall that AFINN ranks the sentence from -5 to 5 and VADER from -1 to 1. "
   ]
  },
  {
   "cell_type": "code",
   "execution_count": 2,
   "metadata": {},
   "outputs": [
    {
     "name": "stdout",
     "output_type": "stream",
     "text": [
      " I do love ice cream has an AFINN sentiment of 3.0 \n",
      " I do love ice cream has a VADER sentiment of 0.6369 \n",
      " I do not love ice cream has an AFINN sentiment of 3.0 \n",
      " I do not love ice cream has a VADER sentiment of -0.5216\n"
     ]
    }
   ],
   "source": [
    "# Define sentiment analyzer score\n",
    "\n",
    "# VADER\n",
    "def sentiment_analyzer_scores(sentence):\n",
    "    analyser = SentimentIntensityAnalyzer()\n",
    "    score = analyser.polarity_scores(sentence)\n",
    "    return score\n",
    "\n",
    "# AFINN\n",
    "def afinn_sentiment_analyzer_scores(sentence):\n",
    "    afinn = Afinn(language='en')\n",
    "    score = afinn.score(sentence)\n",
    "    return score\n",
    "\n",
    "sentence_1 = 'I do love ice cream'\n",
    "sentence_2 = 'I do not love ice cream'\n",
    "print('', sentence_1, 'has an AFINN sentiment of', afinn_sentiment_analyzer_scores(sentence_1), '\\n',                                                                   \n",
    "sentence_1, 'has a VADER sentiment of', sentiment_analyzer_scores(sentence_1)['compound'], '\\n',\n",
    "sentence_2, 'has an AFINN sentiment of', afinn_sentiment_analyzer_scores(sentence_2), '\\n',\n",
    "sentence_2, 'has a VADER sentiment of', sentiment_analyzer_scores(sentence_2)['compound'])"
   ]
  },
  {
   "cell_type": "markdown",
   "metadata": {},
   "source": [
    "Based on the results, we see that AFINN is not able to account for the negation, we therefore our analysis continue using only VADER."
   ]
  },
  {
   "cell_type": "markdown",
   "metadata": {},
   "source": [
    "### Collecting data\n",
    "\n",
    "**Trump's tweets**\n",
    "\n",
    "We set up our connector to the relevant data source and log our connections in a file called *my_log*. \n",
    "We later use the log file to visualize our data connection attempts. Next, we scrape the **Trump Twitter Archive** for all tweets from the *@realdonaldtrump* Twitter account."
   ]
  },
  {
   "cell_type": "code",
   "execution_count": 3,
   "metadata": {},
   "outputs": [],
   "source": [
    "logfile = 'my_log'## name your log file.\n",
    "connector = scraping_class.Connector(logfile)\n",
    "data = []\n",
    "\n",
    "# Fetching data\n",
    "for i in range(2015,2020):\n",
    "    url = 'http://www.trumptwitterarchive.com/data/realdonaldtrump/'+str(i)+'.json'\n",
    "    r, call_id = connector.get(url, 'Tweets')\n",
    "    json_file = r.json() \n",
    "    data += json_file[::-1] # invert list\n",
    "    time.sleep(0.5) # set sleep timer to prevent unintentional DOS attacks"
   ]
  },
  {
   "cell_type": "markdown",
   "metadata": {},
   "source": [
    "**Bloomberg filtered tweets**\n",
    "\n",
    "Next, we try to collect President Donald Trump's tweets that are relevant to the economy. Bloomberg has already collected these tweets [here](https://www.bloomberg.com/features/trump-tweets-market/).\n",
    "When trying to fetch the `json` data, we are blocked by Bloomberg. We therefore reside to manually downloading the json text from the `url` and save it into a file called `bloomberg.json`."
   ]
  },
  {
   "cell_type": "code",
   "execution_count": 4,
   "metadata": {},
   "outputs": [
    {
     "data": {
      "text/plain": [
       "'<!doctype html>\\n<html>\\n<head>\\n    <title>Bloomberg - Are you a robot?</title>\\n    <meta name=\"viewport\" content=\"width=device-width, initial-scale=1\">\\n    <link rel=\"stylesheet\" type=\"text/css\" href=\"https://assets.bwbx.io/font-service/css/BWHaasGrotesk-55Roman-Web,BWHaasGrotesk-75Bold-Web,BW%20Haas%20Text%20Mono%20A-55%20Roman/font-face.css\">\\n    <style rel=\"stylesheet\" type=\"text/css\">\\n        html, body, div, span, applet, object, iframe,\\n        h1, h2, h3, h4, h5, h6, p, blockquote, pre,\\n  '"
      ]
     },
     "execution_count": 4,
     "metadata": {},
     "output_type": "execute_result"
    }
   ],
   "source": [
    "# Bloomberg filtered tweets\n",
    "url = 'https://www.bloomberg.com/bbg-gfx/trump-market-tweets-vs-dow/main.json' # json format\n",
    "r, call_id = connector.get(url, 'Bloomberg - Tweets')\n",
    "# json_file = r.json() \n",
    "# df_bloom = pd.read_json(json_file)\n",
    "r.text[:500]"
   ]
  },
  {
   "cell_type": "code",
   "execution_count": 5,
   "metadata": {},
   "outputs": [],
   "source": [
    "# load the json file using utf-8 encoding\n",
    "data_bloom = json.load(codecs.open('bloomberg.json', 'r', 'utf-8-sig'))"
   ]
  },
  {
   "cell_type": "markdown",
   "metadata": {},
   "source": [
    "**Alpha vantage**\n",
    "\n",
    "Collecting stock data from the Dow Jones Industrial Average index and S&P 500 using the **Alpha vantage API**."
   ]
  },
  {
   "cell_type": "code",
   "execution_count": 6,
   "metadata": {},
   "outputs": [],
   "source": [
    "# Converting the response to datetime\n",
    "def convert_response(d):\n",
    "    for dt, prec in d['Time Series (Daily)'].items():\n",
    "        r = {'datetime':dt}\n",
    "        r.update(prec)\n",
    "        yield r\n",
    "\n",
    "# Looping through DJI and S&P500\n",
    "indices = {'^DJI':'dji_data_collection','SPX':'sp_data_collection'}\n",
    "counter = 0\n",
    "for i,j in indices.items():\n",
    "    url = \"https://www.alphavantage.co/query?function=TIME_SERIES_DAILY_ADJUSTED&symbol=\"+i+\"&outputsize=full&apikey=\"\n",
    "    apikey = \"Z6OIONR9OK9RAHMX\"\n",
    "    r, call_id = connector.get(url+apikey, j) #ask for help regarding connector\n",
    "    if counter == 0:\n",
    "        data_dji = r.json()\n",
    "    else:\n",
    "        data_sp =  r.json()\n",
    "    counter += 1\n",
    "    time.sleep(0.5)"
   ]
  },
  {
   "cell_type": "markdown",
   "metadata": {},
   "source": [
    "Defining the function:"
   ]
  },
  {
   "cell_type": "code",
   "execution_count": 7,
   "metadata": {},
   "outputs": [],
   "source": [
    "# Connecting to the Alpha Vantage API and fetching data\n",
    "def AlphaVantage(data):\n",
    "    df = pd.DataFrame(convert_response(data))\n",
    "    df['datetime'] = pd.to_datetime(df['datetime'])\n",
    "    df.set_index('datetime',inplace=True)\n",
    "    df.sort_index(inplace=True)\n",
    "\n",
    "    #change the name\n",
    "    df = df.rename(columns={ '1. open':'open','2. high':'high','3. low':'Low','4. close':'close','5. adjusted close':'adj_close','6. volume':'volume','7. dividend amount':'Dividend amount','8. split coefficient':'Split coefficient'})\n",
    "\n",
    "    df_data = df.iloc[:,[0,3,4,5]] #Select only the columns we want\n",
    "\n",
    "\n",
    "    df_data['pct_change'] = '' #create empty column to contain pct. change\n",
    "    r = df_data['adj_close'].astype(float).pct_change(1) #calculate the change\n",
    "    df_data['pct_change'] = r #store the results in the empty column. There should be one row without a value\n",
    "    # but fortunately that row is outside of our selected window\n",
    "\n",
    "    df_data['bool'] = ''\n",
    "\n",
    "    def pct_bool(df):\n",
    "        df_pct_bool = []\n",
    "\n",
    "        for x in df['pct_change']:\n",
    "            if x > 0:\n",
    "                df_pct_bool.append(1)\n",
    "            else:\n",
    "                df_pct_bool.append(0)\n",
    "\n",
    "        df[\"bool\"] = df_pct_bool\n",
    "\n",
    "    pct_bool(df_data)\n",
    "\n",
    "    df_data_final = df_data.copy()\n",
    "    \n",
    "\n",
    "    start_date = '2015-01-01'\n",
    "    end_date = '2019-08-27'\n",
    "    df_data_final = df_data[start_date:end_date]\n",
    "    \n",
    "    for i in df_data_final.columns:\n",
    "        df_data_final[i] = df_data_final[i].astype(float)\n",
    "    \n",
    "    #df_dji_final.to_csv(data+'.csv') # Save file to CSV\n",
    "    return df_data_final"
   ]
  },
  {
   "cell_type": "markdown",
   "metadata": {},
   "source": [
    "### Data frames\n",
    "\n",
    "Based on the scraped tweets, we set up our initial data frame. We convert the `datetime` to a readable format including timestamp and index by date. We also remove retweets from our data frame."
   ]
  },
  {
   "cell_type": "markdown",
   "metadata": {},
   "source": [
    "**Trump Twitter Archive**"
   ]
  },
  {
   "cell_type": "code",
   "execution_count": 8,
   "metadata": {},
   "outputs": [
    {
     "data": {
      "text/html": [
       "<div>\n",
       "<style scoped>\n",
       "    .dataframe tbody tr th:only-of-type {\n",
       "        vertical-align: middle;\n",
       "    }\n",
       "\n",
       "    .dataframe tbody tr th {\n",
       "        vertical-align: top;\n",
       "    }\n",
       "\n",
       "    .dataframe thead th {\n",
       "        text-align: right;\n",
       "    }\n",
       "</style>\n",
       "<table border=\"1\" class=\"dataframe\">\n",
       "  <thead>\n",
       "    <tr style=\"text-align: right;\">\n",
       "      <th></th>\n",
       "      <th>created_at</th>\n",
       "      <th>favorite_count</th>\n",
       "      <th>id_str</th>\n",
       "      <th>in_reply_to_user_id_str</th>\n",
       "      <th>is_retweet</th>\n",
       "      <th>retweet_count</th>\n",
       "      <th>source</th>\n",
       "      <th>text</th>\n",
       "      <th>datetime</th>\n",
       "    </tr>\n",
       "    <tr>\n",
       "      <th>datetime</th>\n",
       "      <th></th>\n",
       "      <th></th>\n",
       "      <th></th>\n",
       "      <th></th>\n",
       "      <th></th>\n",
       "      <th></th>\n",
       "      <th></th>\n",
       "      <th></th>\n",
       "      <th></th>\n",
       "    </tr>\n",
       "  </thead>\n",
       "  <tbody>\n",
       "    <tr>\n",
       "      <th>2015-01-01 00:00:26</th>\n",
       "      <td>Thu Jan 01 00:00:26 +0000 2015</td>\n",
       "      <td>33</td>\n",
       "      <td>550441381253382144</td>\n",
       "      <td>None</td>\n",
       "      <td>False</td>\n",
       "      <td>12</td>\n",
       "      <td>Twitter for Android</td>\n",
       "      <td>\"@JaayZen: @realDonaldTrump Thanks Donald. Now...</td>\n",
       "      <td>2015-01-01 00:00:26</td>\n",
       "    </tr>\n",
       "    <tr>\n",
       "      <th>2015-01-01 00:02:37</th>\n",
       "      <td>Thu Jan 01 00:02:37 +0000 2015</td>\n",
       "      <td>28</td>\n",
       "      <td>550441927964106753</td>\n",
       "      <td>None</td>\n",
       "      <td>False</td>\n",
       "      <td>9</td>\n",
       "      <td>Twitter for Android</td>\n",
       "      <td>\"@teamconquerca: First time in the\"Trump Inter...</td>\n",
       "      <td>2015-01-01 00:02:37</td>\n",
       "    </tr>\n",
       "    <tr>\n",
       "      <th>2015-01-01 00:06:40</th>\n",
       "      <td>Thu Jan 01 00:06:40 +0000 2015</td>\n",
       "      <td>36</td>\n",
       "      <td>550442948375347200</td>\n",
       "      <td>None</td>\n",
       "      <td>False</td>\n",
       "      <td>15</td>\n",
       "      <td>Twitter for Android</td>\n",
       "      <td>\"@AngelaTN777: @gochico @realDonaldTrump: He S...</td>\n",
       "      <td>2015-01-01 00:06:40</td>\n",
       "    </tr>\n",
       "    <tr>\n",
       "      <th>2015-01-01 00:09:01</th>\n",
       "      <td>Thu Jan 01 00:09:01 +0000 2015</td>\n",
       "      <td>18</td>\n",
       "      <td>550443540111962113</td>\n",
       "      <td>None</td>\n",
       "      <td>False</td>\n",
       "      <td>11</td>\n",
       "      <td>Twitter for Android</td>\n",
       "      <td>\"@JaayZen: @grandmiapens He has all the ingred...</td>\n",
       "      <td>2015-01-01 00:09:01</td>\n",
       "    </tr>\n",
       "    <tr>\n",
       "      <th>2015-01-01 00:09:47</th>\n",
       "      <td>Thu Jan 01 00:09:47 +0000 2015</td>\n",
       "      <td>17</td>\n",
       "      <td>550443735054839808</td>\n",
       "      <td>None</td>\n",
       "      <td>False</td>\n",
       "      <td>7</td>\n",
       "      <td>Twitter for Android</td>\n",
       "      <td>\"@MarcAardvark: @realDonaldTrump @ronmeier123 ...</td>\n",
       "      <td>2015-01-01 00:09:47</td>\n",
       "    </tr>\n",
       "  </tbody>\n",
       "</table>\n",
       "</div>"
      ],
      "text/plain": [
       "                                         created_at  favorite_count  \\\n",
       "datetime                                                              \n",
       "2015-01-01 00:00:26  Thu Jan 01 00:00:26 +0000 2015              33   \n",
       "2015-01-01 00:02:37  Thu Jan 01 00:02:37 +0000 2015              28   \n",
       "2015-01-01 00:06:40  Thu Jan 01 00:06:40 +0000 2015              36   \n",
       "2015-01-01 00:09:01  Thu Jan 01 00:09:01 +0000 2015              18   \n",
       "2015-01-01 00:09:47  Thu Jan 01 00:09:47 +0000 2015              17   \n",
       "\n",
       "                                 id_str in_reply_to_user_id_str  is_retweet  \\\n",
       "datetime                                                                      \n",
       "2015-01-01 00:00:26  550441381253382144                    None       False   \n",
       "2015-01-01 00:02:37  550441927964106753                    None       False   \n",
       "2015-01-01 00:06:40  550442948375347200                    None       False   \n",
       "2015-01-01 00:09:01  550443540111962113                    None       False   \n",
       "2015-01-01 00:09:47  550443735054839808                    None       False   \n",
       "\n",
       "                     retweet_count               source  \\\n",
       "datetime                                                  \n",
       "2015-01-01 00:00:26             12  Twitter for Android   \n",
       "2015-01-01 00:02:37              9  Twitter for Android   \n",
       "2015-01-01 00:06:40             15  Twitter for Android   \n",
       "2015-01-01 00:09:01             11  Twitter for Android   \n",
       "2015-01-01 00:09:47              7  Twitter for Android   \n",
       "\n",
       "                                                                  text  \\\n",
       "datetime                                                                 \n",
       "2015-01-01 00:00:26  \"@JaayZen: @realDonaldTrump Thanks Donald. Now...   \n",
       "2015-01-01 00:02:37  \"@teamconquerca: First time in the\"Trump Inter...   \n",
       "2015-01-01 00:06:40  \"@AngelaTN777: @gochico @realDonaldTrump: He S...   \n",
       "2015-01-01 00:09:01  \"@JaayZen: @grandmiapens He has all the ingred...   \n",
       "2015-01-01 00:09:47  \"@MarcAardvark: @realDonaldTrump @ronmeier123 ...   \n",
       "\n",
       "                               datetime  \n",
       "datetime                                 \n",
       "2015-01-01 00:00:26 2015-01-01 00:00:26  \n",
       "2015-01-01 00:02:37 2015-01-01 00:02:37  \n",
       "2015-01-01 00:06:40 2015-01-01 00:06:40  \n",
       "2015-01-01 00:09:01 2015-01-01 00:09:01  \n",
       "2015-01-01 00:09:47 2015-01-01 00:09:47  "
      ]
     },
     "metadata": {},
     "output_type": "display_data"
    },
    {
     "name": "stdout",
     "output_type": "stream",
     "text": [
      "Since 2015-01-01 00:00:26 Mr. Trump has made 19666 tweets\n"
     ]
    }
   ],
   "source": [
    "### Creating and manipulating dataframes\n",
    "# Main dataframe\n",
    "df = pd.DataFrame(data)\n",
    "date = [i[2]+i[1]+i[-1]+'-'+i[3] for i in df['created_at'].str.split(' ')] # slice date\n",
    "df['datetime'] = date\n",
    "df['datetime'] = pd.to_datetime(df['datetime'], format='%d%b%Y-%H:%M:%S') # format datetime \n",
    "#df = df[(df['datetime'] > '2017-01-20')] # filter by relevant date\n",
    "df = df.query(\"is_retweet == False\") # drop retweets\n",
    "df = df.reset_index(drop=True).sort_values(by=['datetime']) # set index to date\n",
    "df.index = df['datetime']\n",
    "display(df.head())\n",
    "print('Since', df.index[0], 'Mr. Trump has made', len(df), 'tweets') # print number of tweets"
   ]
  },
  {
   "cell_type": "markdown",
   "metadata": {},
   "source": [
    "**Trump tweets - Bloomberg**"
   ]
  },
  {
   "cell_type": "code",
   "execution_count": 9,
   "metadata": {},
   "outputs": [
    {
     "data": {
      "text/html": [
       "<div>\n",
       "<style scoped>\n",
       "    .dataframe tbody tr th:only-of-type {\n",
       "        vertical-align: middle;\n",
       "    }\n",
       "\n",
       "    .dataframe tbody tr th {\n",
       "        vertical-align: top;\n",
       "    }\n",
       "\n",
       "    .dataframe thead th {\n",
       "        text-align: right;\n",
       "    }\n",
       "</style>\n",
       "<table border=\"1\" class=\"dataframe\">\n",
       "  <thead>\n",
       "    <tr style=\"text-align: right;\">\n",
       "      <th></th>\n",
       "      <th>dow</th>\n",
       "      <th>id</th>\n",
       "      <th>id_int</th>\n",
       "      <th>text</th>\n",
       "      <th>timestamp</th>\n",
       "      <th>firstdifference</th>\n",
       "      <th>relativechange</th>\n",
       "      <th>sentiment</th>\n",
       "      <th>datetime</th>\n",
       "    </tr>\n",
       "    <tr>\n",
       "      <th>datetime</th>\n",
       "      <th></th>\n",
       "      <th></th>\n",
       "      <th></th>\n",
       "      <th></th>\n",
       "      <th></th>\n",
       "      <th></th>\n",
       "      <th></th>\n",
       "      <th></th>\n",
       "      <th></th>\n",
       "    </tr>\n",
       "  </thead>\n",
       "  <tbody>\n",
       "    <tr>\n",
       "      <th>2017-01-20 17:54:36</th>\n",
       "      <td>19827.2500</td>\n",
       "      <td>822502601304526848</td>\n",
       "      <td>822502601304526800</td>\n",
       "      <td>We will bring back our jobs. We will bring bac...</td>\n",
       "      <td>2017-01-20T17:54:36.000Z</td>\n",
       "      <td>NaN</td>\n",
       "      <td>NaN</td>\n",
       "      <td>0.7345</td>\n",
       "      <td>2017-01-20 17:54:36</td>\n",
       "    </tr>\n",
       "    <tr>\n",
       "      <th>2017-01-23 11:38:16</th>\n",
       "      <td>19799.8496</td>\n",
       "      <td>823495059010109440</td>\n",
       "      <td>823495059010109400</td>\n",
       "      <td>Busy week planned with a heavy focus on jobs a...</td>\n",
       "      <td>2017-01-23T11:38:16.000Z</td>\n",
       "      <td>-27.4004</td>\n",
       "      <td>-0.138387</td>\n",
       "      <td>0.4939</td>\n",
       "      <td>2017-01-23 11:38:16</td>\n",
       "    </tr>\n",
       "    <tr>\n",
       "      <th>2017-01-24 11:11:47</th>\n",
       "      <td>19912.7109</td>\n",
       "      <td>823850781946343427</td>\n",
       "      <td>823850781946343400</td>\n",
       "      <td>Will be meeting at 9:00 with top automobile ex...</td>\n",
       "      <td>2017-01-24T11:11:47.000Z</td>\n",
       "      <td>112.8613</td>\n",
       "      <td>0.566780</td>\n",
       "      <td>0.3382</td>\n",
       "      <td>2017-01-24 11:11:47</td>\n",
       "    </tr>\n",
       "    <tr>\n",
       "      <th>2017-01-26 13:55:03</th>\n",
       "      <td>20100.9102</td>\n",
       "      <td>824616644370714627</td>\n",
       "      <td>824616644370714600</td>\n",
       "      <td>of jobs and companies lost. If Mexico is unwil...</td>\n",
       "      <td>2017-01-26T13:55:03.000Z</td>\n",
       "      <td>188.1993</td>\n",
       "      <td>0.936273</td>\n",
       "      <td>-0.5994</td>\n",
       "      <td>2017-01-26 13:55:03</td>\n",
       "    </tr>\n",
       "    <tr>\n",
       "      <th>2017-01-30 14:23:49</th>\n",
       "      <td>19971.1309</td>\n",
       "      <td>826073437735100418</td>\n",
       "      <td>826073437735100400</td>\n",
       "      <td>Where was all the outrage from Democrats and t...</td>\n",
       "      <td>2017-01-30T14:23:49.000Z</td>\n",
       "      <td>-129.7793</td>\n",
       "      <td>-0.649835</td>\n",
       "      <td>-0.1531</td>\n",
       "      <td>2017-01-30 14:23:49</td>\n",
       "    </tr>\n",
       "  </tbody>\n",
       "</table>\n",
       "</div>"
      ],
      "text/plain": [
       "                            dow                  id              id_int  \\\n",
       "datetime                                                                  \n",
       "2017-01-20 17:54:36  19827.2500  822502601304526848  822502601304526800   \n",
       "2017-01-23 11:38:16  19799.8496  823495059010109440  823495059010109400   \n",
       "2017-01-24 11:11:47  19912.7109  823850781946343427  823850781946343400   \n",
       "2017-01-26 13:55:03  20100.9102  824616644370714627  824616644370714600   \n",
       "2017-01-30 14:23:49  19971.1309  826073437735100418  826073437735100400   \n",
       "\n",
       "                                                                  text  \\\n",
       "datetime                                                                 \n",
       "2017-01-20 17:54:36  We will bring back our jobs. We will bring bac...   \n",
       "2017-01-23 11:38:16  Busy week planned with a heavy focus on jobs a...   \n",
       "2017-01-24 11:11:47  Will be meeting at 9:00 with top automobile ex...   \n",
       "2017-01-26 13:55:03  of jobs and companies lost. If Mexico is unwil...   \n",
       "2017-01-30 14:23:49  Where was all the outrage from Democrats and t...   \n",
       "\n",
       "                                    timestamp  firstdifference  \\\n",
       "datetime                                                         \n",
       "2017-01-20 17:54:36  2017-01-20T17:54:36.000Z              NaN   \n",
       "2017-01-23 11:38:16  2017-01-23T11:38:16.000Z         -27.4004   \n",
       "2017-01-24 11:11:47  2017-01-24T11:11:47.000Z         112.8613   \n",
       "2017-01-26 13:55:03  2017-01-26T13:55:03.000Z         188.1993   \n",
       "2017-01-30 14:23:49  2017-01-30T14:23:49.000Z        -129.7793   \n",
       "\n",
       "                     relativechange  sentiment            datetime  \n",
       "datetime                                                            \n",
       "2017-01-20 17:54:36             NaN     0.7345 2017-01-20 17:54:36  \n",
       "2017-01-23 11:38:16       -0.138387     0.4939 2017-01-23 11:38:16  \n",
       "2017-01-24 11:11:47        0.566780     0.3382 2017-01-24 11:11:47  \n",
       "2017-01-26 13:55:03        0.936273    -0.5994 2017-01-26 13:55:03  \n",
       "2017-01-30 14:23:49       -0.649835    -0.1531 2017-01-30 14:23:49  "
      ]
     },
     "metadata": {},
     "output_type": "display_data"
    }
   ],
   "source": [
    "# Tweets related to the economy\n",
    "df_bloom = pd.DataFrame(data_bloom) # load data frame\n",
    "df_bloom = df_bloom.sort_values(by='timestamp') # chronological order since inception\n",
    "df_bloom['firstdifference'] = df_bloom['dow'] - df_bloom['dow'].shift() # first DJIA change since last row\n",
    "df_bloom['relativechange'] = (df_bloom['dow'] - df_bloom['dow'].shift())/df_bloom['dow']*100 # relative change\n",
    "df_bloom['sentiment'] = [sentiment_analyzer_scores(tweet)['compound'] for tweet in df_bloom['text']] # sentiment (VADER)\n",
    "date = [i[0]+'-'+i[1][:8] for i in df_bloom['timestamp'].str.split('T')] # slice date\n",
    "df_bloom['datetime'] = date\n",
    "df_bloom['datetime'] = pd.to_datetime(df_bloom['datetime'], format='%Y-%m-%d-%H:%M:%S') # format datetime \n",
    "df_bloom['datetime']\n",
    "df_bloom.index = df_bloom['datetime']\n",
    "display(df_bloom.head())"
   ]
  },
  {
   "cell_type": "markdown",
   "metadata": {},
   "source": [
    "**Sentiment analyzer**\n",
    "\n",
    "Next, we run the sentiment analyzers on our data frame. As there are a lot of tweets this process is quite time consuming."
   ]
  },
  {
   "cell_type": "code",
   "execution_count": 10,
   "metadata": {},
   "outputs": [
    {
     "data": {
      "text/html": [
       "<div>\n",
       "<style scoped>\n",
       "    .dataframe tbody tr th:only-of-type {\n",
       "        vertical-align: middle;\n",
       "    }\n",
       "\n",
       "    .dataframe tbody tr th {\n",
       "        vertical-align: top;\n",
       "    }\n",
       "\n",
       "    .dataframe thead th {\n",
       "        text-align: right;\n",
       "    }\n",
       "</style>\n",
       "<table border=\"1\" class=\"dataframe\">\n",
       "  <thead>\n",
       "    <tr style=\"text-align: right;\">\n",
       "      <th></th>\n",
       "      <th>created_at</th>\n",
       "      <th>favorite_count</th>\n",
       "      <th>id_str</th>\n",
       "      <th>in_reply_to_user_id_str</th>\n",
       "      <th>is_retweet</th>\n",
       "      <th>retweet_count</th>\n",
       "      <th>source</th>\n",
       "      <th>text</th>\n",
       "      <th>datetime</th>\n",
       "      <th>sentiment</th>\n",
       "    </tr>\n",
       "    <tr>\n",
       "      <th>datetime</th>\n",
       "      <th></th>\n",
       "      <th></th>\n",
       "      <th></th>\n",
       "      <th></th>\n",
       "      <th></th>\n",
       "      <th></th>\n",
       "      <th></th>\n",
       "      <th></th>\n",
       "      <th></th>\n",
       "      <th></th>\n",
       "    </tr>\n",
       "  </thead>\n",
       "  <tbody>\n",
       "    <tr>\n",
       "      <th>2015-01-01 00:00:26</th>\n",
       "      <td>Thu Jan 01 00:00:26 +0000 2015</td>\n",
       "      <td>33</td>\n",
       "      <td>550441381253382144</td>\n",
       "      <td>None</td>\n",
       "      <td>False</td>\n",
       "      <td>12</td>\n",
       "      <td>Twitter for Android</td>\n",
       "      <td>\"@JaayZen: @realDonaldTrump Thanks Donald. Now...</td>\n",
       "      <td>2015-01-01 00:00:26</td>\n",
       "      <td>0.7494</td>\n",
       "    </tr>\n",
       "    <tr>\n",
       "      <th>2015-01-01 00:02:37</th>\n",
       "      <td>Thu Jan 01 00:02:37 +0000 2015</td>\n",
       "      <td>28</td>\n",
       "      <td>550441927964106753</td>\n",
       "      <td>None</td>\n",
       "      <td>False</td>\n",
       "      <td>9</td>\n",
       "      <td>Twitter for Android</td>\n",
       "      <td>\"@teamconquerca: First time in the\"Trump Inter...</td>\n",
       "      <td>2015-01-01 00:02:37</td>\n",
       "      <td>0.8711</td>\n",
       "    </tr>\n",
       "    <tr>\n",
       "      <th>2015-01-01 00:06:40</th>\n",
       "      <td>Thu Jan 01 00:06:40 +0000 2015</td>\n",
       "      <td>36</td>\n",
       "      <td>550442948375347200</td>\n",
       "      <td>None</td>\n",
       "      <td>False</td>\n",
       "      <td>15</td>\n",
       "      <td>Twitter for Android</td>\n",
       "      <td>\"@AngelaTN777: @gochico @realDonaldTrump: He S...</td>\n",
       "      <td>2015-01-01 00:06:40</td>\n",
       "      <td>0.4738</td>\n",
       "    </tr>\n",
       "    <tr>\n",
       "      <th>2015-01-01 00:09:01</th>\n",
       "      <td>Thu Jan 01 00:09:01 +0000 2015</td>\n",
       "      <td>18</td>\n",
       "      <td>550443540111962113</td>\n",
       "      <td>None</td>\n",
       "      <td>False</td>\n",
       "      <td>11</td>\n",
       "      <td>Twitter for Android</td>\n",
       "      <td>\"@JaayZen: @grandmiapens He has all the ingred...</td>\n",
       "      <td>2015-01-01 00:09:01</td>\n",
       "      <td>0.0000</td>\n",
       "    </tr>\n",
       "    <tr>\n",
       "      <th>2015-01-01 00:09:47</th>\n",
       "      <td>Thu Jan 01 00:09:47 +0000 2015</td>\n",
       "      <td>17</td>\n",
       "      <td>550443735054839808</td>\n",
       "      <td>None</td>\n",
       "      <td>False</td>\n",
       "      <td>7</td>\n",
       "      <td>Twitter for Android</td>\n",
       "      <td>\"@MarcAardvark: @realDonaldTrump @ronmeier123 ...</td>\n",
       "      <td>2015-01-01 00:09:47</td>\n",
       "      <td>0.6369</td>\n",
       "    </tr>\n",
       "  </tbody>\n",
       "</table>\n",
       "</div>"
      ],
      "text/plain": [
       "                                         created_at  favorite_count  \\\n",
       "datetime                                                              \n",
       "2015-01-01 00:00:26  Thu Jan 01 00:00:26 +0000 2015              33   \n",
       "2015-01-01 00:02:37  Thu Jan 01 00:02:37 +0000 2015              28   \n",
       "2015-01-01 00:06:40  Thu Jan 01 00:06:40 +0000 2015              36   \n",
       "2015-01-01 00:09:01  Thu Jan 01 00:09:01 +0000 2015              18   \n",
       "2015-01-01 00:09:47  Thu Jan 01 00:09:47 +0000 2015              17   \n",
       "\n",
       "                                 id_str in_reply_to_user_id_str  is_retweet  \\\n",
       "datetime                                                                      \n",
       "2015-01-01 00:00:26  550441381253382144                    None       False   \n",
       "2015-01-01 00:02:37  550441927964106753                    None       False   \n",
       "2015-01-01 00:06:40  550442948375347200                    None       False   \n",
       "2015-01-01 00:09:01  550443540111962113                    None       False   \n",
       "2015-01-01 00:09:47  550443735054839808                    None       False   \n",
       "\n",
       "                     retweet_count               source  \\\n",
       "datetime                                                  \n",
       "2015-01-01 00:00:26             12  Twitter for Android   \n",
       "2015-01-01 00:02:37              9  Twitter for Android   \n",
       "2015-01-01 00:06:40             15  Twitter for Android   \n",
       "2015-01-01 00:09:01             11  Twitter for Android   \n",
       "2015-01-01 00:09:47              7  Twitter for Android   \n",
       "\n",
       "                                                                  text  \\\n",
       "datetime                                                                 \n",
       "2015-01-01 00:00:26  \"@JaayZen: @realDonaldTrump Thanks Donald. Now...   \n",
       "2015-01-01 00:02:37  \"@teamconquerca: First time in the\"Trump Inter...   \n",
       "2015-01-01 00:06:40  \"@AngelaTN777: @gochico @realDonaldTrump: He S...   \n",
       "2015-01-01 00:09:01  \"@JaayZen: @grandmiapens He has all the ingred...   \n",
       "2015-01-01 00:09:47  \"@MarcAardvark: @realDonaldTrump @ronmeier123 ...   \n",
       "\n",
       "                               datetime  sentiment  \n",
       "datetime                                            \n",
       "2015-01-01 00:00:26 2015-01-01 00:00:26     0.7494  \n",
       "2015-01-01 00:02:37 2015-01-01 00:02:37     0.8711  \n",
       "2015-01-01 00:06:40 2015-01-01 00:06:40     0.4738  \n",
       "2015-01-01 00:09:01 2015-01-01 00:09:01     0.0000  \n",
       "2015-01-01 00:09:47 2015-01-01 00:09:47     0.6369  "
      ]
     },
     "metadata": {},
     "output_type": "display_data"
    }
   ],
   "source": [
    "# Add sentiment to dataframe\n",
    "df['sentiment'] = [sentiment_analyzer_scores(tweet)['compound'] for tweet in df['text']]\n",
    "display(df.head())"
   ]
  },
  {
   "cell_type": "markdown",
   "metadata": {},
   "source": [
    "**Wordcloud**\n",
    "\n",
    "Using the `wordcloud` package for Python we visualize the most frequently used words, both for all his collective tweets and tweets related to the economy."
   ]
  },
  {
   "cell_type": "code",
   "execution_count": 11,
   "metadata": {},
   "outputs": [],
   "source": [
    "# Define functions to display multiple tables\n",
    "def multi_table(table_list):\n",
    "    ''' Acceps a list of IpyTable objects and returns a table which contains each IpyTable in a cell\n",
    "    '''\n",
    "    return HTML(\n",
    "        '<table><tr style=\"background-color:white;\">' + \n",
    "        ''.join(['<td>' + table._repr_html_() + '</td>' for table in table_list]) +\n",
    "        '</tr></table>'\n",
    "    )\n",
    "\n",
    "#multi_table(dfs[0:4])  # display example"
   ]
  },
  {
   "cell_type": "code",
   "execution_count": 12,
   "metadata": {},
   "outputs": [],
   "source": [
    "#WORDCLOUD\n",
    "\n",
    "# function to get custom color for wordcloud\n",
    "def custom_color(word=None, font_size=None, position=None, orientation=None, font_path=None, random_state=None):\n",
    "    h = 30 # int(360.0 * 45.0 / 255.0)\n",
    "    s = int(100.0 * 255.0 / 255.0)\n",
    "    l = int(100.0 * float(random_state.randint(100, 160)) / 255.0)\n",
    "\n",
    "    return \"hsl({}, {}%, {}%)\".format(h, s, l)\n",
    " \n",
    "# picture used as shape\n",
    "trump_mask = np.array(Image.open(\"trump_mask.jpg\")) # read image\n",
    "trump_mask_T = np.array(Image.open(\"trump_mask.jpg\").transpose(Image.FLIP_LEFT_RIGHT)) # read image transposed"
   ]
  },
  {
   "cell_type": "code",
   "execution_count": 13,
   "metadata": {},
   "outputs": [
    {
     "data": {
      "image/png": "[encoded data removed]",
      "text/plain": [
       "<Figure size 432x288 with 1 Axes>"
      ]
     },
     "metadata": {
      "needs_background": "light"
     },
     "output_type": "display_data"
    },
    {
     "data": {
      "image/png": "[encoded data removed]",
      "text/plain": [
       "<Figure size 432x288 with 1 Axes>"
      ]
     },
     "metadata": {
      "needs_background": "light"
     },
     "output_type": "display_data"
    },
    {
     "data": {
      "text/plain": [
       "<wordcloud.wordcloud.WordCloud at 0x150f4b0beb8>"
      ]
     },
     "execution_count": 13,
     "metadata": {},
     "output_type": "execute_result"
    }
   ],
   "source": [
    "# wordcloud for ALL TWEETS\n",
    "text = \" \".join(tweet for tweet in df['text'][df['text'].str.contains(r'^(?:(?!https|co|amp|realDonaldTrump|Trump).)*$')])\n",
    "\n",
    "# Create and generate a word cloud image:\n",
    "wordcloud = WordCloud(max_font_size=50, max_words=100, background_color=\"white\",mask=trump_mask, \n",
    "                      contour_color ='black',color_func=custom_color).generate(text)\n",
    "\n",
    "# Display the generated image:\n",
    "plt.imshow(wordcloud, interpolation='bilinear')\n",
    "plt.axis(\"off\")\n",
    "plt.show()\n",
    "\n",
    "wordcloud.to_file(\"wordcloud_all.png\") # save file\n",
    "\n",
    "# wordcloud for BLOOMBERG tweets\n",
    "\n",
    "text = \" \".join(tweet for tweet in df_bloom['text'][df_bloom['text'].str.contains(r'^(?:(?!https|co|amp).)*$')])\n",
    "\n",
    "# Create and generate a word cloud image:\n",
    "wordcloud = WordCloud(max_font_size=50, max_words=100, background_color=\"white\",mask=trump_mask_T, \n",
    "                      contour_color ='black',color_func=custom_color).generate(text)\n",
    "\n",
    "# Display the generated image:\n",
    "plt.imshow(wordcloud, interpolation='bilinear')\n",
    "plt.axis(\"off\")\n",
    "plt.show()\n",
    "\n",
    "wordcloud.to_file(\"wordcloud_bloom.png\") # save file"
   ]
  },
  {
   "cell_type": "code",
   "execution_count": 14,
   "metadata": {},
   "outputs": [
    {
     "name": "stdout",
     "output_type": "stream",
     "text": [
      "count    383.000000\n",
      "mean       0.320669\n",
      "std        0.541008\n",
      "min       -0.973500\n",
      "25%        0.000000\n",
      "50%        0.519800\n",
      "75%        0.789650\n",
      "max        0.978800\n",
      "Name: sentiment, dtype: float64\n"
     ]
    }
   ],
   "source": [
    "print(df_bloom['sentiment'].describe())"
   ]
  },
  {
   "cell_type": "markdown",
   "metadata": {},
   "source": [
    "Filtering the bloomberg data and plotting"
   ]
  },
  {
   "cell_type": "code",
   "execution_count": 15,
   "metadata": {},
   "outputs": [
    {
     "name": "stdout",
     "output_type": "stream",
     "text": [
      "The standard deviation is 277.09 \n",
      "Number of observations: 383 \n",
      "Outliers are posted here:\n"
     ]
    },
    {
     "data": {
      "text/html": [
       "<div>\n",
       "<style scoped>\n",
       "    .dataframe tbody tr th:only-of-type {\n",
       "        vertical-align: middle;\n",
       "    }\n",
       "\n",
       "    .dataframe tbody tr th {\n",
       "        vertical-align: top;\n",
       "    }\n",
       "\n",
       "    .dataframe thead th {\n",
       "        text-align: right;\n",
       "    }\n",
       "</style>\n",
       "<table border=\"1\" class=\"dataframe\">\n",
       "  <thead>\n",
       "    <tr style=\"text-align: right;\">\n",
       "      <th></th>\n",
       "      <th>dow</th>\n",
       "      <th>id</th>\n",
       "      <th>id_int</th>\n",
       "      <th>text</th>\n",
       "      <th>timestamp</th>\n",
       "      <th>firstdifference</th>\n",
       "      <th>relativechange</th>\n",
       "      <th>sentiment</th>\n",
       "      <th>datetime</th>\n",
       "      <th>outlier</th>\n",
       "    </tr>\n",
       "    <tr>\n",
       "      <th>datetime</th>\n",
       "      <th></th>\n",
       "      <th></th>\n",
       "      <th></th>\n",
       "      <th></th>\n",
       "      <th></th>\n",
       "      <th></th>\n",
       "      <th></th>\n",
       "      <th></th>\n",
       "      <th></th>\n",
       "      <th></th>\n",
       "    </tr>\n",
       "  </thead>\n",
       "  <tbody>\n",
       "    <tr>\n",
       "      <th>2018-08-22 20:07:29</th>\n",
       "      <td>25733.5996</td>\n",
       "      <td>1032358618576900096</td>\n",
       "      <td>1032358618576900100</td>\n",
       "      <td>Longest bull run in the history of the stock m...</td>\n",
       "      <td>2018-08-22T20:07:29.000Z</td>\n",
       "      <td>1629.7187</td>\n",
       "      <td>6.333038</td>\n",
       "      <td>0.6360</td>\n",
       "      <td>2018-08-22 20:07:29</td>\n",
       "      <td>True</td>\n",
       "    </tr>\n",
       "    <tr>\n",
       "      <th>2018-10-16 13:08:24</th>\n",
       "      <td>25798.4199</td>\n",
       "      <td>1052184484941049857</td>\n",
       "      <td>1052184484941049900</td>\n",
       "      <td>“8X more new manufacturing jobs now than with ...</td>\n",
       "      <td>2018-10-16T13:08:24.000Z</td>\n",
       "      <td>-1124.6094</td>\n",
       "      <td>-4.359218</td>\n",
       "      <td>0.0000</td>\n",
       "      <td>2018-10-16 13:08:24</td>\n",
       "      <td>True</td>\n",
       "    </tr>\n",
       "    <tr>\n",
       "      <th>2018-11-26 20:20:59</th>\n",
       "      <td>24640.2402</td>\n",
       "      <td>1067151249668214793</td>\n",
       "      <td>1067151249668214800</td>\n",
       "      <td>....starts today, election is on December 4th....</td>\n",
       "      <td>2018-11-26T20:20:59.000Z</td>\n",
       "      <td>-1072.1504</td>\n",
       "      <td>-4.351217</td>\n",
       "      <td>0.6239</td>\n",
       "      <td>2018-11-26 20:20:59</td>\n",
       "      <td>True</td>\n",
       "    </tr>\n",
       "    <tr>\n",
       "      <th>2018-12-24 15:55:22</th>\n",
       "      <td>21792.1992</td>\n",
       "      <td>1077231267559755776</td>\n",
       "      <td>1077231267559755800</td>\n",
       "      <td>The only problem our economy has is the Fed. T...</td>\n",
       "      <td>2018-12-24T15:55:22.000Z</td>\n",
       "      <td>-2025.2403</td>\n",
       "      <td>-9.293419</td>\n",
       "      <td>0.1007</td>\n",
       "      <td>2018-12-24 15:55:22</td>\n",
       "      <td>True</td>\n",
       "    </tr>\n",
       "    <tr>\n",
       "      <th>2018-12-28 12:49:26</th>\n",
       "      <td>23062.4004</td>\n",
       "      <td>1078634025412116480</td>\n",
       "      <td>1078634025412116500</td>\n",
       "      <td>.....close the Southern Border. Bring our car ...</td>\n",
       "      <td>2018-12-28T12:49:26.000Z</td>\n",
       "      <td>1270.2012</td>\n",
       "      <td>5.507671</td>\n",
       "      <td>-0.2062</td>\n",
       "      <td>2018-12-28 12:49:26</td>\n",
       "      <td>True</td>\n",
       "    </tr>\n",
       "  </tbody>\n",
       "</table>\n",
       "</div>"
      ],
      "text/plain": [
       "                            dow                   id               id_int  \\\n",
       "datetime                                                                    \n",
       "2018-08-22 20:07:29  25733.5996  1032358618576900096  1032358618576900100   \n",
       "2018-10-16 13:08:24  25798.4199  1052184484941049857  1052184484941049900   \n",
       "2018-11-26 20:20:59  24640.2402  1067151249668214793  1067151249668214800   \n",
       "2018-12-24 15:55:22  21792.1992  1077231267559755776  1077231267559755800   \n",
       "2018-12-28 12:49:26  23062.4004  1078634025412116480  1078634025412116500   \n",
       "\n",
       "                                                                  text  \\\n",
       "datetime                                                                 \n",
       "2018-08-22 20:07:29  Longest bull run in the history of the stock m...   \n",
       "2018-10-16 13:08:24  “8X more new manufacturing jobs now than with ...   \n",
       "2018-11-26 20:20:59  ....starts today, election is on December 4th....   \n",
       "2018-12-24 15:55:22  The only problem our economy has is the Fed. T...   \n",
       "2018-12-28 12:49:26  .....close the Southern Border. Bring our car ...   \n",
       "\n",
       "                                    timestamp  firstdifference  \\\n",
       "datetime                                                         \n",
       "2018-08-22 20:07:29  2018-08-22T20:07:29.000Z        1629.7187   \n",
       "2018-10-16 13:08:24  2018-10-16T13:08:24.000Z       -1124.6094   \n",
       "2018-11-26 20:20:59  2018-11-26T20:20:59.000Z       -1072.1504   \n",
       "2018-12-24 15:55:22  2018-12-24T15:55:22.000Z       -2025.2403   \n",
       "2018-12-28 12:49:26  2018-12-28T12:49:26.000Z        1270.2012   \n",
       "\n",
       "                     relativechange  sentiment            datetime  outlier  \n",
       "datetime                                                                     \n",
       "2018-08-22 20:07:29        6.333038     0.6360 2018-08-22 20:07:29     True  \n",
       "2018-10-16 13:08:24       -4.359218     0.0000 2018-10-16 13:08:24     True  \n",
       "2018-11-26 20:20:59       -4.351217     0.6239 2018-11-26 20:20:59     True  \n",
       "2018-12-24 15:55:22       -9.293419     0.1007 2018-12-24 15:55:22     True  \n",
       "2018-12-28 12:49:26        5.507671    -0.2062 2018-12-28 12:49:26     True  "
      ]
     },
     "metadata": {},
     "output_type": "display_data"
    },
    {
     "name": "stdout",
     "output_type": "stream",
     "text": [
      "AFTER OUTLIERS: The standard deviation is 221.34 \n",
      "AFTER OUTLIERS: Number of observations: 378\n"
     ]
    }
   ],
   "source": [
    "df_bloom['outlier'] = abs(df_bloom['firstdifference']) >= df_bloom['firstdifference'].std()*3.5 # get outliers 3.5 times standard deviation\n",
    "\n",
    "df_bloom_outlier = df_bloom.query('outlier == True')\n",
    "\n",
    "print('The standard deviation is', round(df_bloom['firstdifference'].std(),2), '\\nNumber of observations:',len(df_bloom),'\\nOutliers are posted here:')\n",
    "display(df_bloom_outlier) # display outliers\n",
    "df_bloom_clean = df_bloom.query('outlier == False') # remove outliers \n",
    "print('AFTER OUTLIERS: The standard deviation is', round(df_bloom_clean['firstdifference'].std(),2), '\\nAFTER OUTLIERS: Number of observations:',len(df_bloom_clean))"
   ]
  },
  {
   "cell_type": "markdown",
   "metadata": {},
   "source": [
    "**Plotting absolute values (DJIA)**"
   ]
  },
  {
   "cell_type": "code",
   "execution_count": 16,
   "metadata": {},
   "outputs": [
    {
     "data": {
      "image/png": "[encoded data removed]",
      "text/plain": [
       "<Figure size 432x288 with 1 Axes>"
      ]
     },
     "metadata": {
      "needs_background": "light"
     },
     "output_type": "display_data"
    }
   ],
   "source": [
    "# Plotting figure\n",
    "fig, ax = plt.subplots()\n",
    "\n",
    "df_bloom_clean['dow'].plot(ax=ax, color='lightblue')\n",
    "\n",
    "# Formatting\n",
    "ax.set_ylabel('DJIA')\n",
    "ax.xaxis.label.set_visible(False) # remove axis label\n",
    "ax.spines['right'].set_visible(False) # remove right spine\n",
    "ax.spines['top'].set_visible(False) # remove top spine\n",
    "ax.xaxis.set_ticks_position('none') # remove ticks from axis\n",
    "plt.tight_layout() # prevents cutting off labels\n",
    "plt.savefig('DJIA.png')\n",
    "\n",
    "plt.show()"
   ]
  },
  {
   "cell_type": "markdown",
   "metadata": {},
   "source": [
    "**Plotting first difference (DJIA)**"
   ]
  },
  {
   "cell_type": "code",
   "execution_count": 17,
   "metadata": {},
   "outputs": [
    {
     "data": {
      "image/png": "[encoded data removed]",
      "text/plain": [
       "<Figure size 432x288 with 1 Axes>"
      ]
     },
     "metadata": {
      "needs_background": "light"
     },
     "output_type": "display_data"
    }
   ],
   "source": [
    "# Plotting figure\n",
    "fig, ax = plt.subplots()\n",
    "\n",
    "df_bloom_clean['firstdifference'].plot(ax=ax, color='lightblue')\n",
    "\n",
    "# Formatting\n",
    "ax.set_ylabel('First difference')\n",
    "ax.xaxis.label.set_visible(False) # remove axis label\n",
    "ax.spines['right'].set_visible(False) # remove right spine\n",
    "ax.spines['top'].set_visible(False) # remove top spine\n",
    "ax.xaxis.set_ticks_position('none') # remove ticks from axis\n",
    "plt.tight_layout() # prevents cutting off labels\n",
    "plt.savefig('DJIAFD.png')\n",
    "\n",
    "plt.show()"
   ]
  },
  {
   "cell_type": "markdown",
   "metadata": {},
   "source": [
    "**Summary data for all tweets and bloomberg selected tweets TOTAL period**"
   ]
  },
  {
   "cell_type": "code",
   "execution_count": 18,
   "metadata": {},
   "outputs": [
    {
     "data": {
      "text/html": [
       "<div>\n",
       "<style scoped>\n",
       "    .dataframe tbody tr th:only-of-type {\n",
       "        vertical-align: middle;\n",
       "    }\n",
       "\n",
       "    .dataframe tbody tr th {\n",
       "        vertical-align: top;\n",
       "    }\n",
       "\n",
       "    .dataframe thead th {\n",
       "        text-align: right;\n",
       "    }\n",
       "</style>\n",
       "<table border=\"1\" class=\"dataframe\">\n",
       "  <thead>\n",
       "    <tr style=\"text-align: right;\">\n",
       "      <th></th>\n",
       "      <th>count</th>\n",
       "      <th>mean</th>\n",
       "      <th>std</th>\n",
       "      <th>min</th>\n",
       "      <th>25%</th>\n",
       "      <th>50%</th>\n",
       "      <th>75%</th>\n",
       "      <th>max</th>\n",
       "    </tr>\n",
       "  </thead>\n",
       "  <tbody>\n",
       "    <tr>\n",
       "      <th>All tweets</th>\n",
       "      <td>19666.0</td>\n",
       "      <td>0.22</td>\n",
       "      <td>0.55</td>\n",
       "      <td>-0.99</td>\n",
       "      <td>-0.1</td>\n",
       "      <td>0.36</td>\n",
       "      <td>0.70</td>\n",
       "      <td>0.99</td>\n",
       "    </tr>\n",
       "    <tr>\n",
       "      <th>Selected tweets</th>\n",
       "      <td>383.0</td>\n",
       "      <td>0.32</td>\n",
       "      <td>0.54</td>\n",
       "      <td>-0.97</td>\n",
       "      <td>0.0</td>\n",
       "      <td>0.52</td>\n",
       "      <td>0.79</td>\n",
       "      <td>0.98</td>\n",
       "    </tr>\n",
       "  </tbody>\n",
       "</table>\n",
       "</div>"
      ],
      "text/plain": [
       "                   count  mean   std   min  25%   50%   75%   max\n",
       "All tweets       19666.0  0.22  0.55 -0.99 -0.1  0.36  0.70  0.99\n",
       "Selected tweets    383.0  0.32  0.54 -0.97  0.0  0.52  0.79  0.98"
      ]
     },
     "metadata": {},
     "output_type": "display_data"
    },
    {
     "data": {
      "text/plain": [
       "'\\\\begin{tabular}{rrrrrrrr}\\n\\\\toprule\\n   count &  mean &   std &   min &  25\\\\% &   50\\\\% &   75\\\\% &   max \\\\\\\\\\n\\\\midrule\\n 19666.0 &  0.22 &  0.55 & -0.99 & -0.1 &  0.36 &  0.70 &  0.99 \\\\\\\\\\n   383.0 &  0.32 &  0.54 & -0.97 &  0.0 &  0.52 &  0.79 &  0.98 \\\\\\\\\\n\\\\bottomrule\\n\\\\end{tabular}\\n'"
      ]
     },
     "metadata": {},
     "output_type": "display_data"
    }
   ],
   "source": [
    "column_id = ['count', 'mean', 'std', 'min', '25%', '50%', '75%' ,'max']\n",
    "bloom_desc = list(round(df_bloom['sentiment'].describe(), 2))\n",
    "All_desc = list(round(df['sentiment'].describe(),2))\n",
    "tabledict = {'All tweets': All_desc, 'Selected tweets': bloom_desc}\n",
    "tableX =  pd.DataFrame(tabledict, index = column_id).T\n",
    "display(tableX)\n",
    "display(tableX.to_latex(index=False))"
   ]
  },
  {
   "cell_type": "code",
   "execution_count": 19,
   "metadata": {},
   "outputs": [],
   "source": [
    "date = [i[0]+'-'+i[1][:8] for i in df_bloom['timestamp'].str.split('T')] # slice date\n",
    "df_bloom['datetime'] = date\n",
    "df_bloom['datetime'] = pd.to_datetime(df_bloom['datetime'], format='%Y-%m-%d-%H:%M:%S') # format datetime \n",
    "df_bloom['datetime']\n",
    "df_bloom.index = df_bloom['datetime']"
   ]
  },
  {
   "cell_type": "markdown",
   "metadata": {},
   "source": [
    "**Summary data for all tweets and bloomberg selected tweets by year**"
   ]
  },
  {
   "cell_type": "code",
   "execution_count": 20,
   "metadata": {},
   "outputs": [
    {
     "data": {
      "text/html": [
       "<div>\n",
       "<style scoped>\n",
       "    .dataframe tbody tr th:only-of-type {\n",
       "        vertical-align: middle;\n",
       "    }\n",
       "\n",
       "    .dataframe tbody tr th {\n",
       "        vertical-align: top;\n",
       "    }\n",
       "\n",
       "    .dataframe thead th {\n",
       "        text-align: right;\n",
       "    }\n",
       "</style>\n",
       "<table border=\"1\" class=\"dataframe\">\n",
       "  <thead>\n",
       "    <tr style=\"text-align: right;\">\n",
       "      <th></th>\n",
       "      <th>count</th>\n",
       "      <th>mean</th>\n",
       "      <th>std</th>\n",
       "      <th>min</th>\n",
       "      <th>25%</th>\n",
       "      <th>50%</th>\n",
       "      <th>75%</th>\n",
       "      <th>max</th>\n",
       "    </tr>\n",
       "    <tr>\n",
       "      <th>datetime</th>\n",
       "      <th></th>\n",
       "      <th></th>\n",
       "      <th></th>\n",
       "      <th></th>\n",
       "      <th></th>\n",
       "      <th></th>\n",
       "      <th></th>\n",
       "      <th></th>\n",
       "    </tr>\n",
       "  </thead>\n",
       "  <tbody>\n",
       "    <tr>\n",
       "      <th>2017-12-31</th>\n",
       "      <td>125.0</td>\n",
       "      <td>0.31</td>\n",
       "      <td>0.49</td>\n",
       "      <td>-0.97</td>\n",
       "      <td>0.00</td>\n",
       "      <td>0.42</td>\n",
       "      <td>0.73</td>\n",
       "      <td>0.94</td>\n",
       "    </tr>\n",
       "    <tr>\n",
       "      <th>2018-12-31</th>\n",
       "      <td>108.0</td>\n",
       "      <td>0.36</td>\n",
       "      <td>0.53</td>\n",
       "      <td>-0.90</td>\n",
       "      <td>0.00</td>\n",
       "      <td>0.54</td>\n",
       "      <td>0.81</td>\n",
       "      <td>0.98</td>\n",
       "    </tr>\n",
       "    <tr>\n",
       "      <th>2019-12-31</th>\n",
       "      <td>150.0</td>\n",
       "      <td>0.30</td>\n",
       "      <td>0.59</td>\n",
       "      <td>-0.97</td>\n",
       "      <td>-0.14</td>\n",
       "      <td>0.54</td>\n",
       "      <td>0.79</td>\n",
       "      <td>0.96</td>\n",
       "    </tr>\n",
       "  </tbody>\n",
       "</table>\n",
       "</div>"
      ],
      "text/plain": [
       "            count  mean   std   min   25%   50%   75%   max\n",
       "datetime                                                   \n",
       "2017-12-31  125.0  0.31  0.49 -0.97  0.00  0.42  0.73  0.94\n",
       "2018-12-31  108.0  0.36  0.53 -0.90  0.00  0.54  0.81  0.98\n",
       "2019-12-31  150.0  0.30  0.59 -0.97 -0.14  0.54  0.79  0.96"
      ]
     },
     "metadata": {},
     "output_type": "display_data"
    },
    {
     "data": {
      "text/html": [
       "<div>\n",
       "<style scoped>\n",
       "    .dataframe tbody tr th:only-of-type {\n",
       "        vertical-align: middle;\n",
       "    }\n",
       "\n",
       "    .dataframe tbody tr th {\n",
       "        vertical-align: top;\n",
       "    }\n",
       "\n",
       "    .dataframe thead th {\n",
       "        text-align: right;\n",
       "    }\n",
       "</style>\n",
       "<table border=\"1\" class=\"dataframe\">\n",
       "  <thead>\n",
       "    <tr style=\"text-align: right;\">\n",
       "      <th></th>\n",
       "      <th>count</th>\n",
       "      <th>mean</th>\n",
       "      <th>std</th>\n",
       "      <th>min</th>\n",
       "      <th>25%</th>\n",
       "      <th>50%</th>\n",
       "      <th>75%</th>\n",
       "      <th>max</th>\n",
       "    </tr>\n",
       "    <tr>\n",
       "      <th>datetime</th>\n",
       "      <th></th>\n",
       "      <th></th>\n",
       "      <th></th>\n",
       "      <th></th>\n",
       "      <th></th>\n",
       "      <th></th>\n",
       "      <th></th>\n",
       "      <th></th>\n",
       "    </tr>\n",
       "  </thead>\n",
       "  <tbody>\n",
       "    <tr>\n",
       "      <th>2015-12-31</th>\n",
       "      <td>7536.0</td>\n",
       "      <td>0.26</td>\n",
       "      <td>0.48</td>\n",
       "      <td>-0.97</td>\n",
       "      <td>0.00</td>\n",
       "      <td>0.36</td>\n",
       "      <td>0.67</td>\n",
       "      <td>0.98</td>\n",
       "    </tr>\n",
       "    <tr>\n",
       "      <th>2016-12-31</th>\n",
       "      <td>4037.0</td>\n",
       "      <td>0.17</td>\n",
       "      <td>0.54</td>\n",
       "      <td>-0.96</td>\n",
       "      <td>-0.26</td>\n",
       "      <td>0.34</td>\n",
       "      <td>0.62</td>\n",
       "      <td>0.97</td>\n",
       "    </tr>\n",
       "    <tr>\n",
       "      <th>2017-12-31</th>\n",
       "      <td>2292.0</td>\n",
       "      <td>0.20</td>\n",
       "      <td>0.58</td>\n",
       "      <td>-0.97</td>\n",
       "      <td>-0.25</td>\n",
       "      <td>0.36</td>\n",
       "      <td>0.72</td>\n",
       "      <td>0.98</td>\n",
       "    </tr>\n",
       "    <tr>\n",
       "      <th>2018-12-31</th>\n",
       "      <td>3049.0</td>\n",
       "      <td>0.23</td>\n",
       "      <td>0.63</td>\n",
       "      <td>-0.99</td>\n",
       "      <td>-0.34</td>\n",
       "      <td>0.42</td>\n",
       "      <td>0.80</td>\n",
       "      <td>0.99</td>\n",
       "    </tr>\n",
       "    <tr>\n",
       "      <th>2019-12-31</th>\n",
       "      <td>2752.0</td>\n",
       "      <td>0.16</td>\n",
       "      <td>0.63</td>\n",
       "      <td>-0.98</td>\n",
       "      <td>-0.44</td>\n",
       "      <td>0.29</td>\n",
       "      <td>0.74</td>\n",
       "      <td>0.98</td>\n",
       "    </tr>\n",
       "  </tbody>\n",
       "</table>\n",
       "</div>"
      ],
      "text/plain": [
       "             count  mean   std   min   25%   50%   75%   max\n",
       "datetime                                                    \n",
       "2015-12-31  7536.0  0.26  0.48 -0.97  0.00  0.36  0.67  0.98\n",
       "2016-12-31  4037.0  0.17  0.54 -0.96 -0.26  0.34  0.62  0.97\n",
       "2017-12-31  2292.0  0.20  0.58 -0.97 -0.25  0.36  0.72  0.98\n",
       "2018-12-31  3049.0  0.23  0.63 -0.99 -0.34  0.42  0.80  0.99\n",
       "2019-12-31  2752.0  0.16  0.63 -0.98 -0.44  0.29  0.74  0.98"
      ]
     },
     "metadata": {},
     "output_type": "display_data"
    }
   ],
   "source": [
    "df_bloom_Y = df_bloom['sentiment'].groupby(pd.Grouper(freq='Y'))\n",
    "display(round(df_bloom_Y.describe(),2))\n",
    "df_Y = df['sentiment'].groupby(pd.Grouper(freq='Y'))\n",
    "display(round(df_Y.describe(),2))"
   ]
  },
  {
   "cell_type": "markdown",
   "metadata": {},
   "source": [
    "**Plotting monthly tweet count - Bloomberg**"
   ]
  },
  {
   "cell_type": "code",
   "execution_count": 46,
   "metadata": {},
   "outputs": [
    {
     "data": {
      "image/png": "[encoded data removed]",
      "text/plain": [
       "<Figure size 432x288 with 1 Axes>"
      ]
     },
     "metadata": {
      "needs_background": "light"
     },
     "output_type": "display_data"
    }
   ],
   "source": [
    "df_bloom['sentiment'].resample('M').count().plot() #secondary_y=True,label='Count',legend=True\n",
    "ax = plt.gca()\n",
    "ax.xaxis.label.set_visible(False) # remove axis label\n",
    "ax.spines['right'].set_visible(False) # remove right spine\n",
    "ax.spines['top'].set_visible(False) # remove top spine\n",
    "ax.xaxis.set_ticks_position('none') # remove ticks from axis\n",
    "plt.tight_layout() # prevents cutting off labels      \n",
    "plt.savefig('BloombergTweets.png')\n",
    "plt.show()"
   ]
  },
  {
   "cell_type": "markdown",
   "metadata": {},
   "source": [
    "**Plotting monthly tweet count - All tweets**"
   ]
  },
  {
   "cell_type": "code",
   "execution_count": 22,
   "metadata": {},
   "outputs": [
    {
     "data": {
      "image/png": "[encoded data removed]",
      "text/plain": [
       "<Figure size 432x288 with 1 Axes>"
      ]
     },
     "metadata": {
      "needs_background": "light"
     },
     "output_type": "display_data"
    }
   ],
   "source": [
    "\n",
    "df['sentiment'].resample('M').count().plot() #secondary_y=True,label='Count',legend=True\n",
    "ax = plt.gca()\n",
    "ax.xaxis.label.set_visible(False) # remove axis label\n",
    "ax.spines['right'].set_visible(False) # remove right spine\n",
    "ax.spines['top'].set_visible(False) # remove top spine\n",
    "ax.xaxis.set_ticks_position('none') # remove ticks from axis\n",
    "plt.tight_layout() # prevents cutting off labels      \n",
    "plt.savefig('AllTweets.png')\n",
    "plt.show()"
   ]
  },
  {
   "cell_type": "code",
   "execution_count": 23,
   "metadata": {},
   "outputs": [],
   "source": [
    "df_drop_datetime =df.drop(\"datetime\", axis=1)"
   ]
  },
  {
   "cell_type": "markdown",
   "metadata": {},
   "source": [
    "### Density plots"
   ]
  },
  {
   "cell_type": "markdown",
   "metadata": {},
   "source": [
    "Density plot - all tweets"
   ]
  },
  {
   "cell_type": "code",
   "execution_count": 24,
   "metadata": {},
   "outputs": [
    {
     "data": {
      "image/png": "[encoded data removed]",
      "text/plain": [
       "<Figure size 432x288 with 1 Axes>"
      ]
     },
     "metadata": {
      "needs_background": "light"
     },
     "output_type": "display_data"
    }
   ],
   "source": [
    "df_sentiment_mean_by_day = df_drop_datetime.groupby('datetime')['sentiment'].mean()\n",
    "Sentplot = sns.distplot(df_sentiment_mean_by_day, hist=True, kde=True,\n",
    "             hist_kws={'edgecolor':'black'})\n",
    "    \n",
    "\n",
    "Sentplot.set_xlabel('Sentiment score')\n",
    "Sentplot.set_ylabel('Density')\n",
    "Sentplot.xaxis.label.set_fontsize(10)\n",
    "Sentplot.yaxis.label.set_fontsize(10)\n",
    "FigKDE = Sentplot.get_figure()\n",
    "FigKDE.savefig('KDEPLOT.png')"
   ]
  },
  {
   "cell_type": "markdown",
   "metadata": {},
   "source": [
    "Density plot - all tweets without 0.00 sentiment tweets"
   ]
  },
  {
   "cell_type": "code",
   "execution_count": 25,
   "metadata": {},
   "outputs": [
    {
     "data": {
      "image/png": "[encoded data removed]",
      "text/plain": [
       "<Figure size 432x288 with 1 Axes>"
      ]
     },
     "metadata": {
      "needs_background": "light"
     },
     "output_type": "display_data"
    }
   ],
   "source": [
    "df_drop_null = df_drop_datetime.query('sentiment!=0')\n",
    "df_null_sentiment_mean_by_day = df_drop_null.groupby('datetime')['sentiment'].mean()\n",
    "Sentplot = sns.distplot(df_null_sentiment_mean_by_day, hist=True, kde=True,\n",
    "             hist_kws={'edgecolor':'black'})\n",
    "\n",
    "Sentplot.set_xlabel('Sentiment score')\n",
    "Sentplot.set_ylabel('Density')\n",
    "Sentplot.xaxis.label.set_fontsize(10)\n",
    "Sentplot.yaxis.label.set_fontsize(10)\n",
    "FigKDE = Sentplot.get_figure()\n",
    "FigKDE.savefig('KDEPLOT2.png')"
   ]
  },
  {
   "cell_type": "code",
   "execution_count": 26,
   "metadata": {},
   "outputs": [],
   "source": [
    "df_bloom_drop_datetime =df_bloom.drop(\"datetime\", axis=1)"
   ]
  },
  {
   "cell_type": "markdown",
   "metadata": {},
   "source": [
    "Density plots - Bloomberg tweets"
   ]
  },
  {
   "cell_type": "code",
   "execution_count": 27,
   "metadata": {},
   "outputs": [
    {
     "data": {
      "image/png": "[encoded data removed]",
      "text/plain": [
       "<Figure size 432x288 with 1 Axes>"
      ]
     },
     "metadata": {
      "needs_background": "light"
     },
     "output_type": "display_data"
    }
   ],
   "source": [
    "bloom_sentiment_mean_by_day = df_bloom_drop_datetime.groupby('datetime')['sentiment'].mean()\n",
    "Sentplot = sns.distplot(bloom_sentiment_mean_by_day, hist=True, kde=True,\n",
    "             hist_kws={'edgecolor':'black'})\n",
    "\n",
    "Sentplot.set_xlabel('Sentiment score')\n",
    "Sentplot.set_ylabel('Density')\n",
    "Sentplot.xaxis.label.set_fontsize(10)\n",
    "Sentplot.yaxis.label.set_fontsize(10)\n",
    "FigKDE = Sentplot.get_figure()\n",
    "FigKDE.savefig('KDEPLOTBLOOM.png')"
   ]
  },
  {
   "cell_type": "markdown",
   "metadata": {},
   "source": [
    "Density plots - Bloomberg tweets without 0.00 sentiment tweets"
   ]
  },
  {
   "cell_type": "code",
   "execution_count": 28,
   "metadata": {},
   "outputs": [
    {
     "name": "stdout",
     "output_type": "stream",
     "text": [
      "By removing tweets with a sentiment score of zero, we have removed 3229 tweets\n",
      "By removing tweets with a sentiment score of zero, we have removed 40 tweets\n"
     ]
    },
    {
     "data": {
      "image/png": "[encoded data removed]",
      "text/plain": [
       "<Figure size 432x288 with 1 Axes>"
      ]
     },
     "metadata": {
      "needs_background": "light"
     },
     "output_type": "display_data"
    }
   ],
   "source": [
    "df_bloom_drop_null = df_bloom_drop_datetime.query('sentiment!=0')\n",
    "bloom_null_sentiment_mean_by_day = df_bloom_drop_null.groupby('datetime')['sentiment'].mean()\n",
    "Sentplot = sns.distplot(bloom_null_sentiment_mean_by_day, hist=True, kde=True,\n",
    "             hist_kws={'edgecolor':'black'})\n",
    "\n",
    "Sentplot.set_xlabel('Sentiment score')\n",
    "Sentplot.set_ylabel('Density')\n",
    "Sentplot.xaxis.label.set_fontsize(10)\n",
    "Sentplot.yaxis.label.set_fontsize(10)\n",
    "FigKDE = Sentplot.get_figure()\n",
    "FigKDE.savefig('KDEPLOT2BLOOM.png')\n",
    "\n",
    "print('By removing tweets with a sentiment score of zero, we have removed', df.shape[0]-df_drop_null.shape[0], 'tweets')\n",
    "print('By removing tweets with a sentiment score of zero, we have removed', df_bloom.shape[0]-df_bloom_drop_null.shape[0], 'tweets')\n"
   ]
  },
  {
   "cell_type": "markdown",
   "metadata": {},
   "source": [
    "### Machine Learning"
   ]
  },
  {
   "cell_type": "markdown",
   "metadata": {},
   "source": [
    "Dataframe: Bloomberg"
   ]
  },
  {
   "cell_type": "code",
   "execution_count": 195,
   "metadata": {
    "scrolled": false
   },
   "outputs": [
    {
     "name": "stderr",
     "output_type": "stream",
     "text": [
      "C:\\Users\\bjorn\\Anaconda3\\lib\\site-packages\\ipykernel_launcher.py:14: SettingWithCopyWarning: \n",
      "A value is trying to be set on a copy of a slice from a DataFrame.\n",
      "Try using .loc[row_indexer,col_indexer] = value instead\n",
      "\n",
      "See the caveats in the documentation: http://pandas.pydata.org/pandas-docs/stable/indexing.html#indexing-view-versus-copy\n",
      "  \n",
      "C:\\Users\\bjorn\\Anaconda3\\lib\\site-packages\\ipykernel_launcher.py:16: SettingWithCopyWarning: \n",
      "A value is trying to be set on a copy of a slice from a DataFrame.\n",
      "Try using .loc[row_indexer,col_indexer] = value instead\n",
      "\n",
      "See the caveats in the documentation: http://pandas.pydata.org/pandas-docs/stable/indexing.html#indexing-view-versus-copy\n",
      "  app.launch_new_instance()\n",
      "C:\\Users\\bjorn\\Anaconda3\\lib\\site-packages\\ipykernel_launcher.py:19: SettingWithCopyWarning: \n",
      "A value is trying to be set on a copy of a slice from a DataFrame.\n",
      "Try using .loc[row_indexer,col_indexer] = value instead\n",
      "\n",
      "See the caveats in the documentation: http://pandas.pydata.org/pandas-docs/stable/indexing.html#indexing-view-versus-copy\n",
      "C:\\Users\\bjorn\\Anaconda3\\lib\\site-packages\\ipykernel_launcher.py:30: SettingWithCopyWarning: \n",
      "A value is trying to be set on a copy of a slice from a DataFrame.\n",
      "Try using .loc[row_indexer,col_indexer] = value instead\n",
      "\n",
      "See the caveats in the documentation: http://pandas.pydata.org/pandas-docs/stable/indexing.html#indexing-view-versus-copy\n",
      "C:\\Users\\bjorn\\Anaconda3\\lib\\site-packages\\ipykernel_launcher.py:42: SettingWithCopyWarning: \n",
      "A value is trying to be set on a copy of a slice from a DataFrame.\n",
      "Try using .loc[row_indexer,col_indexer] = value instead\n",
      "\n",
      "See the caveats in the documentation: http://pandas.pydata.org/pandas-docs/stable/indexing.html#indexing-view-versus-copy\n"
     ]
    },
    {
     "data": {
      "text/html": [
       "<div>\n",
       "<style scoped>\n",
       "    .dataframe tbody tr th:only-of-type {\n",
       "        vertical-align: middle;\n",
       "    }\n",
       "\n",
       "    .dataframe tbody tr th {\n",
       "        vertical-align: top;\n",
       "    }\n",
       "\n",
       "    .dataframe thead th {\n",
       "        text-align: right;\n",
       "    }\n",
       "</style>\n",
       "<table border=\"1\" class=\"dataframe\">\n",
       "  <thead>\n",
       "    <tr style=\"text-align: right;\">\n",
       "      <th></th>\n",
       "      <th>open</th>\n",
       "      <th>close</th>\n",
       "      <th>adj_close</th>\n",
       "      <th>volume</th>\n",
       "      <th>pct_change</th>\n",
       "      <th>bool</th>\n",
       "      <th>dow</th>\n",
       "      <th>id</th>\n",
       "      <th>id_int</th>\n",
       "      <th>text</th>\n",
       "      <th>timestamp</th>\n",
       "      <th>firstdifference</th>\n",
       "      <th>relativechange</th>\n",
       "      <th>sentiment</th>\n",
       "      <th>outlier</th>\n",
       "      <th>time</th>\n",
       "    </tr>\n",
       "    <tr>\n",
       "      <th>datetime</th>\n",
       "      <th></th>\n",
       "      <th></th>\n",
       "      <th></th>\n",
       "      <th></th>\n",
       "      <th></th>\n",
       "      <th></th>\n",
       "      <th></th>\n",
       "      <th></th>\n",
       "      <th></th>\n",
       "      <th></th>\n",
       "      <th></th>\n",
       "      <th></th>\n",
       "      <th></th>\n",
       "      <th></th>\n",
       "      <th></th>\n",
       "      <th></th>\n",
       "    </tr>\n",
       "  </thead>\n",
       "  <tbody>\n",
       "    <tr>\n",
       "      <th>2017-01-23</th>\n",
       "      <td>19794.7891</td>\n",
       "      <td>19799.8496</td>\n",
       "      <td>19799.8496</td>\n",
       "      <td>326690000.0</td>\n",
       "      <td>-0.001382</td>\n",
       "      <td>0.0</td>\n",
       "      <td>19799.8496</td>\n",
       "      <td>823495059010109440</td>\n",
       "      <td>823495059010109400</td>\n",
       "      <td>Busy week planned with a heavy focus on jobs a...</td>\n",
       "      <td>2017-01-23T11:38:16.000Z</td>\n",
       "      <td>-27.4004</td>\n",
       "      <td>-0.138387</td>\n",
       "      <td>0.4939</td>\n",
       "      <td>False</td>\n",
       "      <td>1</td>\n",
       "    </tr>\n",
       "    <tr>\n",
       "      <th>2017-01-24</th>\n",
       "      <td>19794.6797</td>\n",
       "      <td>19912.7109</td>\n",
       "      <td>19912.7109</td>\n",
       "      <td>374460000.0</td>\n",
       "      <td>0.005700</td>\n",
       "      <td>1.0</td>\n",
       "      <td>19912.7109</td>\n",
       "      <td>823850781946343427</td>\n",
       "      <td>823850781946343400</td>\n",
       "      <td>Will be meeting at 9:00 with top automobile ex...</td>\n",
       "      <td>2017-01-24T11:11:47.000Z</td>\n",
       "      <td>112.8613</td>\n",
       "      <td>0.566780</td>\n",
       "      <td>0.3382</td>\n",
       "      <td>False</td>\n",
       "      <td>2</td>\n",
       "    </tr>\n",
       "    <tr>\n",
       "      <th>2017-01-26</th>\n",
       "      <td>20076.2500</td>\n",
       "      <td>20100.9102</td>\n",
       "      <td>20100.9102</td>\n",
       "      <td>356730000.0</td>\n",
       "      <td>0.001614</td>\n",
       "      <td>1.0</td>\n",
       "      <td>20100.9102</td>\n",
       "      <td>824616644370714627</td>\n",
       "      <td>824616644370714600</td>\n",
       "      <td>of jobs and companies lost. If Mexico is unwil...</td>\n",
       "      <td>2017-01-26T13:55:03.000Z</td>\n",
       "      <td>188.1993</td>\n",
       "      <td>0.936273</td>\n",
       "      <td>-0.5994</td>\n",
       "      <td>False</td>\n",
       "      <td>3</td>\n",
       "    </tr>\n",
       "    <tr>\n",
       "      <th>2017-01-30</th>\n",
       "      <td>20028.6191</td>\n",
       "      <td>19971.1309</td>\n",
       "      <td>19971.1309</td>\n",
       "      <td>317280000.0</td>\n",
       "      <td>-0.006104</td>\n",
       "      <td>0.0</td>\n",
       "      <td>19971.1309</td>\n",
       "      <td>826073437735100418</td>\n",
       "      <td>826073437735100400</td>\n",
       "      <td>Where was all the outrage from Democrats and t...</td>\n",
       "      <td>2017-01-30T14:23:49.000Z</td>\n",
       "      <td>-129.7793</td>\n",
       "      <td>-0.649835</td>\n",
       "      <td>-0.1531</td>\n",
       "      <td>False</td>\n",
       "      <td>4</td>\n",
       "    </tr>\n",
       "    <tr>\n",
       "      <th>2017-02-03</th>\n",
       "      <td>19964.2109</td>\n",
       "      <td>20071.4609</td>\n",
       "      <td>20071.4609</td>\n",
       "      <td>344220000.0</td>\n",
       "      <td>0.009382</td>\n",
       "      <td>1.0</td>\n",
       "      <td>20071.4609</td>\n",
       "      <td>827482059438432260</td>\n",
       "      <td>827482059438432300</td>\n",
       "      <td>Meeting with biggest business leaders this mor...</td>\n",
       "      <td>2017-02-03T11:41:11.000Z</td>\n",
       "      <td>100.3300</td>\n",
       "      <td>0.499864</td>\n",
       "      <td>0.7500</td>\n",
       "      <td>False</td>\n",
       "      <td>5</td>\n",
       "    </tr>\n",
       "  </tbody>\n",
       "</table>\n",
       "</div>"
      ],
      "text/plain": [
       "                  open       close   adj_close       volume  pct_change  bool  \\\n",
       "datetime                                                                        \n",
       "2017-01-23  19794.7891  19799.8496  19799.8496  326690000.0   -0.001382   0.0   \n",
       "2017-01-24  19794.6797  19912.7109  19912.7109  374460000.0    0.005700   1.0   \n",
       "2017-01-26  20076.2500  20100.9102  20100.9102  356730000.0    0.001614   1.0   \n",
       "2017-01-30  20028.6191  19971.1309  19971.1309  317280000.0   -0.006104   0.0   \n",
       "2017-02-03  19964.2109  20071.4609  20071.4609  344220000.0    0.009382   1.0   \n",
       "\n",
       "                   dow                  id              id_int  \\\n",
       "datetime                                                         \n",
       "2017-01-23  19799.8496  823495059010109440  823495059010109400   \n",
       "2017-01-24  19912.7109  823850781946343427  823850781946343400   \n",
       "2017-01-26  20100.9102  824616644370714627  824616644370714600   \n",
       "2017-01-30  19971.1309  826073437735100418  826073437735100400   \n",
       "2017-02-03  20071.4609  827482059438432260  827482059438432300   \n",
       "\n",
       "                                                         text  \\\n",
       "datetime                                                        \n",
       "2017-01-23  Busy week planned with a heavy focus on jobs a...   \n",
       "2017-01-24  Will be meeting at 9:00 with top automobile ex...   \n",
       "2017-01-26  of jobs and companies lost. If Mexico is unwil...   \n",
       "2017-01-30  Where was all the outrage from Democrats and t...   \n",
       "2017-02-03  Meeting with biggest business leaders this mor...   \n",
       "\n",
       "                           timestamp  firstdifference  relativechange  \\\n",
       "datetime                                                                \n",
       "2017-01-23  2017-01-23T11:38:16.000Z         -27.4004       -0.138387   \n",
       "2017-01-24  2017-01-24T11:11:47.000Z         112.8613        0.566780   \n",
       "2017-01-26  2017-01-26T13:55:03.000Z         188.1993        0.936273   \n",
       "2017-01-30  2017-01-30T14:23:49.000Z        -129.7793       -0.649835   \n",
       "2017-02-03  2017-02-03T11:41:11.000Z         100.3300        0.499864   \n",
       "\n",
       "            sentiment  outlier  time  \n",
       "datetime                              \n",
       "2017-01-23     0.4939    False     1  \n",
       "2017-01-24     0.3382    False     2  \n",
       "2017-01-26    -0.5994    False     3  \n",
       "2017-01-30    -0.1531    False     4  \n",
       "2017-02-03     0.7500    False     5  "
      ]
     },
     "metadata": {},
     "output_type": "display_data"
    }
   ],
   "source": [
    "#def FetchBloom():\n",
    "# Preparing bloomberg tweet data frame\n",
    "df_stock = AlphaVantage(data_dji) # data_dji returns dow jones data, data_sp returns s&p 500 data\n",
    "df_bloom_clean = df_bloom.copy()\n",
    "df_bloom_clean.reset_index(drop=True)\n",
    "df_bloom_clean['time'] =  range(0,df_bloom_clean['datetime'].count())\n",
    "df_bloom_clean['datetime'] = df_bloom_clean['datetime'].dt.date # format datetime\n",
    "df_bloom_clean = df_bloom_clean.set_index('datetime',drop=True)\n",
    "df_bloom_clean = df_bloom_clean.dropna()\n",
    "df_merge = pd.merge(df_stock, df_bloom_clean, left_index=True, right_index=True)\n",
    "features =  ['time','sentiment','volume','open']\n",
    "display(df_merge.head())\n",
    "    #return df_merge, features"
   ]
  },
  {
   "cell_type": "markdown",
   "metadata": {},
   "source": [
    "Dataframe: All tweets"
   ]
  },
  {
   "cell_type": "code",
   "execution_count": 172,
   "metadata": {
    "scrolled": false
   },
   "outputs": [
    {
     "name": "stderr",
     "output_type": "stream",
     "text": [
      "C:\\Users\\bjorn\\Anaconda3\\lib\\site-packages\\ipykernel_launcher.py:14: SettingWithCopyWarning: \n",
      "A value is trying to be set on a copy of a slice from a DataFrame.\n",
      "Try using .loc[row_indexer,col_indexer] = value instead\n",
      "\n",
      "See the caveats in the documentation: http://pandas.pydata.org/pandas-docs/stable/indexing.html#indexing-view-versus-copy\n",
      "  \n",
      "C:\\Users\\bjorn\\Anaconda3\\lib\\site-packages\\ipykernel_launcher.py:16: SettingWithCopyWarning: \n",
      "A value is trying to be set on a copy of a slice from a DataFrame.\n",
      "Try using .loc[row_indexer,col_indexer] = value instead\n",
      "\n",
      "See the caveats in the documentation: http://pandas.pydata.org/pandas-docs/stable/indexing.html#indexing-view-versus-copy\n",
      "  app.launch_new_instance()\n",
      "C:\\Users\\bjorn\\Anaconda3\\lib\\site-packages\\ipykernel_launcher.py:19: SettingWithCopyWarning: \n",
      "A value is trying to be set on a copy of a slice from a DataFrame.\n",
      "Try using .loc[row_indexer,col_indexer] = value instead\n",
      "\n",
      "See the caveats in the documentation: http://pandas.pydata.org/pandas-docs/stable/indexing.html#indexing-view-versus-copy\n",
      "C:\\Users\\bjorn\\Anaconda3\\lib\\site-packages\\ipykernel_launcher.py:30: SettingWithCopyWarning: \n",
      "A value is trying to be set on a copy of a slice from a DataFrame.\n",
      "Try using .loc[row_indexer,col_indexer] = value instead\n",
      "\n",
      "See the caveats in the documentation: http://pandas.pydata.org/pandas-docs/stable/indexing.html#indexing-view-versus-copy\n",
      "C:\\Users\\bjorn\\Anaconda3\\lib\\site-packages\\ipykernel_launcher.py:42: SettingWithCopyWarning: \n",
      "A value is trying to be set on a copy of a slice from a DataFrame.\n",
      "Try using .loc[row_indexer,col_indexer] = value instead\n",
      "\n",
      "See the caveats in the documentation: http://pandas.pydata.org/pandas-docs/stable/indexing.html#indexing-view-versus-copy\n"
     ]
    },
    {
     "data": {
      "text/html": [
       "<div>\n",
       "<style scoped>\n",
       "    .dataframe tbody tr th:only-of-type {\n",
       "        vertical-align: middle;\n",
       "    }\n",
       "\n",
       "    .dataframe tbody tr th {\n",
       "        vertical-align: top;\n",
       "    }\n",
       "\n",
       "    .dataframe thead th {\n",
       "        text-align: right;\n",
       "    }\n",
       "</style>\n",
       "<table border=\"1\" class=\"dataframe\">\n",
       "  <thead>\n",
       "    <tr style=\"text-align: right;\">\n",
       "      <th></th>\n",
       "      <th>time</th>\n",
       "      <th>sentiment</th>\n",
       "      <th>volume</th>\n",
       "      <th>open</th>\n",
       "    </tr>\n",
       "    <tr>\n",
       "      <th>datetime</th>\n",
       "      <th></th>\n",
       "      <th></th>\n",
       "      <th></th>\n",
       "      <th></th>\n",
       "    </tr>\n",
       "  </thead>\n",
       "  <tbody>\n",
       "    <tr>\n",
       "      <th>2015-01-02</th>\n",
       "      <td>0</td>\n",
       "      <td>0.0000</td>\n",
       "      <td>2.708700e+09</td>\n",
       "      <td>2058.8999</td>\n",
       "    </tr>\n",
       "    <tr>\n",
       "      <th>2015-01-02</th>\n",
       "      <td>1</td>\n",
       "      <td>0.4767</td>\n",
       "      <td>2.708700e+09</td>\n",
       "      <td>2058.8999</td>\n",
       "    </tr>\n",
       "    <tr>\n",
       "      <th>2015-01-02</th>\n",
       "      <td>2</td>\n",
       "      <td>0.8475</td>\n",
       "      <td>2.708700e+09</td>\n",
       "      <td>2058.8999</td>\n",
       "    </tr>\n",
       "    <tr>\n",
       "      <th>2015-01-02</th>\n",
       "      <td>3</td>\n",
       "      <td>0.7708</td>\n",
       "      <td>2.708700e+09</td>\n",
       "      <td>2058.8999</td>\n",
       "    </tr>\n",
       "    <tr>\n",
       "      <th>2015-01-02</th>\n",
       "      <td>4</td>\n",
       "      <td>0.3182</td>\n",
       "      <td>2.708700e+09</td>\n",
       "      <td>2058.8999</td>\n",
       "    </tr>\n",
       "  </tbody>\n",
       "</table>\n",
       "</div>"
      ],
      "text/plain": [
       "            time  sentiment        volume       open\n",
       "datetime                                            \n",
       "2015-01-02     0     0.0000  2.708700e+09  2058.8999\n",
       "2015-01-02     1     0.4767  2.708700e+09  2058.8999\n",
       "2015-01-02     2     0.8475  2.708700e+09  2058.8999\n",
       "2015-01-02     3     0.7708  2.708700e+09  2058.8999\n",
       "2015-01-02     4     0.3182  2.708700e+09  2058.8999"
      ]
     },
     "metadata": {},
     "output_type": "display_data"
    }
   ],
   "source": [
    "#def FetchAll():\n",
    "# DATA ALL TWEETS - COMPARING TO S&P500\n",
    "df_all = df.copy()\n",
    "df_stock = AlphaVantage(data_sp)\n",
    "for i in df_stock.columns:\n",
    "    df_stock[i] = df_stock[i].astype(float)\n",
    "df_all['datetime'] = df_all['datetime'].dt.date # format datetime\n",
    "df_all = df_all.set_index(df_all['datetime'],drop=True)\n",
    "df_merge = pd.merge(df_all, df_stock, left_index=True, right_index=True)\n",
    "df_merge['time'] =  range(0,df_merge['datetime'].count())\n",
    "features = ['time','sentiment','volume','open']\n",
    "display(df_merge[features].head())\n",
    "    #return df_merge, features\n",
    "    "
   ]
  },
  {
   "cell_type": "markdown",
   "metadata": {},
   "source": [
    "**Time series split**"
   ]
  },
  {
   "cell_type": "code",
   "execution_count": 173,
   "metadata": {},
   "outputs": [
    {
     "data": {
      "image/png": "[encoded data removed]",
      "text/plain": [
       "<Figure size 432x288 with 5 Axes>"
      ]
     },
     "metadata": {
      "needs_background": "light"
     },
     "output_type": "display_data"
    }
   ],
   "source": [
    "# X variables\n",
    "\n",
    "X1 = df_merge[features].values # features\n",
    "X = sm.add_constant(X1)\n",
    "splits = TimeSeriesSplit(n_splits=5)\n",
    "\n",
    "for train_index, test_index in splits.split(X):\n",
    "    X_train = X[train_index]\n",
    "    X_test = X[test_index]\n",
    "#pyplot.show()\n",
    "\n",
    "# Y variable\n",
    "Y = df_merge['pct_change'].values # target variable\n",
    "splits = TimeSeriesSplit(n_splits=5) # number of splits\n",
    "pyplot.figure(1)\n",
    "index = 1\n",
    "for train_index, test_index in splits.split(Y):\n",
    "    y_train = Y[train_index]\n",
    "    y_test = Y[test_index]\n",
    "    #print('Observations: %d' % (len(y_train) + len(y_test)))\n",
    "    #print('Training Observations: %d' % (len(y_train)))\n",
    "    #print('Testing Observations: %d' % (len(y_test)))\n",
    "    pyplot.subplot(510 + index)\n",
    "    pyplot.plot(y_train)\n",
    "    pyplot.plot([None for i in y_train] + [x for x in y_test])\n",
    "    index += 1\n",
    "pyplot.show()"
   ]
  },
  {
   "cell_type": "markdown",
   "metadata": {},
   "source": [
    "**Linear Regression model**"
   ]
  },
  {
   "cell_type": "code",
   "execution_count": 174,
   "metadata": {},
   "outputs": [
    {
     "name": "stdout",
     "output_type": "stream",
     "text": [
      "RMSE: 0.01\n",
      "R-squared: 0.0 3\n"
     ]
    }
   ],
   "source": [
    "linreg=linear_model.LinearRegression()\n",
    "linreg.fit(X_train, y_train)\n",
    "linreg.coef_\n",
    "a=linreg.predict(X_test)\n",
    "\n",
    "# Print RMSE\n",
    "print('RMSE:',round(sqrt(np.mean((a-y_test)**2)),3))\n",
    "# Print R^2\n",
    "print('R-squared:',round(sklearn.metrics.r2_score(y_test, a)),3)"
   ]
  },
  {
   "cell_type": "markdown",
   "metadata": {},
   "source": [
    "Conducting OLS regression and printing results"
   ]
  },
  {
   "cell_type": "code",
   "execution_count": 175,
   "metadata": {},
   "outputs": [
    {
     "name": "stdout",
     "output_type": "stream",
     "text": [
      "                            OLS Regression Results                            \n",
      "==============================================================================\n",
      "Dep. Variable:                      y   R-squared:                       0.034\n",
      "Model:                            OLS   Adj. R-squared:                  0.034\n",
      "Method:                 Least Squares   F-statistic:                     126.3\n",
      "Date:                Thu, 29 Aug 2019   Prob (F-statistic):          3.69e-106\n",
      "Time:                        11:09:58   Log-Likelihood:                 47974.\n",
      "No. Observations:               14403   AIC:                        -9.594e+04\n",
      "Df Residuals:                   14398   BIC:                        -9.590e+04\n",
      "Df Model:                           4                                         \n",
      "Covariance Type:            nonrobust                                         \n",
      "==============================================================================\n",
      "                 coef    std err          t      P>|t|      [0.025      0.975]\n",
      "------------------------------------------------------------------------------\n",
      "const          0.0199      0.001     18.496      0.000       0.018       0.022\n",
      "x1          6.322e-07   3.73e-08     16.930      0.000    5.59e-07    7.05e-07\n",
      "x2          1.775e-05      0.000      0.134      0.893      -0.000       0.000\n",
      "x3         -2.183e-12   1.18e-13    -18.435      0.000   -2.41e-12   -1.95e-12\n",
      "x4          -7.11e-06   4.61e-07    -15.425      0.000   -8.01e-06   -6.21e-06\n",
      "==============================================================================\n",
      "Omnibus:                      649.795   Durbin-Watson:                   0.163\n",
      "Prob(Omnibus):                  0.000   Jarque-Bera (JB):             1809.293\n",
      "Skew:                          -0.207   Prob(JB):                         0.00\n",
      "Kurtosis:                       4.686   Cond. No.                     5.55e+10\n",
      "==============================================================================\n",
      "\n",
      "Warnings:\n",
      "[1] Standard Errors assume that the covariance matrix of the errors is correctly specified.\n",
      "[2] The condition number is large, 5.55e+10. This might indicate that there are\n",
      "strong multicollinearity or other numerical problems.\n"
     ]
    }
   ],
   "source": [
    "# Linear regression: Fitting model and printing results\n",
    "Y = df_merge['pct_change'].values\n",
    "ols = sm.OLS(Y, X)\n",
    "ols_results = ols.fit()\n",
    "res = ols_results.summary()\n",
    "res.as_latex() # print to latex format\n",
    "print(res)"
   ]
  },
  {
   "cell_type": "markdown",
   "metadata": {},
   "source": [
    "**CREATING PIPELINES**"
   ]
  },
  {
   "cell_type": "code",
   "execution_count": 176,
   "metadata": {},
   "outputs": [],
   "source": [
    "pipe_preproc = make_pipeline(PolynomialFeatures(), StandardScaler())\n",
    "\n",
    "# Fitting and transforming data \n",
    "pipe_preproc.fit(X_train)\n",
    "X_train_prep = pipe_preproc.transform(X_train)\n",
    "X_test_prep = pipe_preproc.transform(X_test)\n"
   ]
  },
  {
   "cell_type": "markdown",
   "metadata": {},
   "source": [
    "**Pipeline for linear regression**"
   ]
  },
  {
   "cell_type": "code",
   "execution_count": 177,
   "metadata": {},
   "outputs": [
    {
     "data": {
      "text/plain": [
       "Pipeline(memory=None,\n",
       "     steps=[('polynomialfeatures', PolynomialFeatures(degree=3, include_bias=False, interaction_only=False)), ('standardscaler', StandardScaler(copy=True, with_mean=True, with_std=True)), ('linearregression', LinearRegression(copy_X=True, fit_intercept=True, n_jobs=None,\n",
       "         normalize=False))])"
      ]
     },
     "execution_count": 177,
     "metadata": {},
     "output_type": "execute_result"
    }
   ],
   "source": [
    "#PIPELINE LINEAR REGRESSION\n",
    "pipe_lr = make_pipeline(PolynomialFeatures(degree=3,include_bias=False), \n",
    "                        StandardScaler(),\n",
    "                        LinearRegression()\n",
    "                       )\n",
    "\n",
    "pipe_lr.fit(X_train, y_train)"
   ]
  },
  {
   "cell_type": "markdown",
   "metadata": {},
   "source": [
    "**Pipeline for LASSO**"
   ]
  },
  {
   "cell_type": "code",
   "execution_count": 178,
   "metadata": {},
   "outputs": [
    {
     "name": "stdout",
     "output_type": "stream",
     "text": [
      "Optimal hyperparameter (lambda) value for LASSO: 0.0001    0.008367\n",
      "dtype: float64\n"
     ]
    }
   ],
   "source": [
    "#PIPELINE LASSO\n",
    "lassolist = []\n",
    "lambdas = np.logspace(-4, 4, 33) # Defining the lambda space wherein to test\n",
    "# Testing different hyperparameter\n",
    "for lambda_ in lambdas:\n",
    "    pipe_lasso = make_pipeline(PolynomialFeatures(degree=3,include_bias=False), \n",
    "                               StandardScaler(),\n",
    "                               Lasso(alpha=lambda_, random_state=1)\n",
    "                              )\n",
    "    pipe_lasso.fit(X_train, y_train)\n",
    "    y_pred = pipe_lasso.predict(X_train)\n",
    "    mse_lasso = mse(y_pred, y_train)\n",
    "    lassolist.append(sqrt(mse_lasso))\n",
    "\n",
    "# Selecting the optimal hyperparameter\n",
    "hyperparam_lasso = pd.Series(lassolist,index=lambdas)\n",
    "optimal_lasso = hyperparam_lasso.nsmallest(1)    \n",
    "\n",
    "# Updating pipeline with optimal parameter\n",
    "pipe_lasso = make_pipeline(PolynomialFeatures(degree=3,include_bias=False), \n",
    "                               StandardScaler(),\n",
    "                               Lasso(alpha=optimal_lasso.index[0]))\n",
    "pipe_lasso.fit(X_train,y_train)\n",
    "\n",
    "# Print optimal hyperparameter\n",
    "print('Optimal hyperparameter (lambda) value for LASSO:', optimal_lasso)"
   ]
  },
  {
   "cell_type": "code",
   "execution_count": 179,
   "metadata": {},
   "outputs": [
    {
     "data": {
      "text/plain": [
       "array([ 0.00000000e+00,  6.75170552e-07,  0.00000000e+00, -1.85242091e-12,\n",
       "       -7.33832039e-06])"
      ]
     },
     "execution_count": 179,
     "metadata": {},
     "output_type": "execute_result"
    }
   ],
   "source": [
    "# LASSO: Fitting the model and printing coefficients\n",
    "LASSO = linear_model.Lasso(alpha=optimal_lasso.index[0])\n",
    "LASSO.fit(X_train, y_train)\n",
    "LASSO.coef_"
   ]
  },
  {
   "cell_type": "markdown",
   "metadata": {},
   "source": [
    "**Pipeline for Ridge**"
   ]
  },
  {
   "cell_type": "code",
   "execution_count": 180,
   "metadata": {},
   "outputs": [
    {
     "name": "stdout",
     "output_type": "stream",
     "text": [
      "Optimal hyperparameter (lambda) value for Ridge: 0.0001    0.008016\n",
      "dtype: float64\n"
     ]
    }
   ],
   "source": [
    "#PIPELINE RIDGE\n",
    "ridgelist = []\n",
    "lambdas = np.logspace(-4, 4, 33) # Defining the lambda space wherein to test\n",
    "# Testing different hyperparameter\n",
    "for lambda_ in lambdas:\n",
    "    pipe_ridge = make_pipeline(PolynomialFeatures(degree=3,include_bias=False), \n",
    "                               StandardScaler(),\n",
    "                               Ridge(alpha=lambda_, random_state=1)\n",
    "                              )\n",
    "    pipe_ridge.fit(X_train, y_train)\n",
    "    y_pred = pipe_ridge.predict(X_train)\n",
    "    mse_ridge = mse(y_pred, y_train)\n",
    "    ridgelist.append(sqrt(mse_ridge))\n",
    "\n",
    "# Selecting the optimal hyperparameter\n",
    "hyperparam_ridge = pd.Series(ridgelist,index=lambdas)\n",
    "optimal_ridge = hyperparam_ridge.nsmallest(1)\n",
    "\n",
    "# Updating pipeline with optimal parameter\n",
    "pipe_ridge = make_pipeline(PolynomialFeatures(degree=3,include_bias=False), \n",
    "                               StandardScaler(),\n",
    "                               Ridge(alpha=optimal_ridge.index[0]))\n",
    "pipe_ridge.fit(X_train,y_train)\n",
    "\n",
    "# Print optimal hyperparameter\n",
    "print('Optimal hyperparameter (lambda) value for Ridge:', optimal_ridge)"
   ]
  },
  {
   "cell_type": "code",
   "execution_count": 181,
   "metadata": {},
   "outputs": [
    {
     "name": "stderr",
     "output_type": "stream",
     "text": [
      "C:\\Users\\bjorn\\Anaconda3\\lib\\site-packages\\sklearn\\linear_model\\ridge.py:125: LinAlgWarning: Ill-conditioned matrix (rcond=2.01243e-26): result may not be accurate.\n",
      "  overwrite_a=True).T\n"
     ]
    },
    {
     "data": {
      "text/plain": [
       "array([ 0.00000000e+00,  6.76050659e-07,  2.55477066e-05, -1.85339092e-12,\n",
       "       -7.34901296e-06])"
      ]
     },
     "execution_count": 181,
     "metadata": {},
     "output_type": "execute_result"
    }
   ],
   "source": [
    "# Ridge: Fitting the model and printing coefficients\n",
    "ridge = linear_model.Ridge(alpha=optimal_ridge.index[0])\n",
    "ridge.fit(X_train, y_train)\n",
    "ridge.coef_"
   ]
  },
  {
   "cell_type": "markdown",
   "metadata": {},
   "source": [
    "**Print RMSE for each regularization**"
   ]
  },
  {
   "cell_type": "code",
   "execution_count": 182,
   "metadata": {},
   "outputs": [
    {
     "name": "stdout",
     "output_type": "stream",
     "text": [
      "Linear Regression 0.013\n",
      "Ridge 0.013\n",
      "Lasso 0.01\n",
      "Smallest RMSE obtained using pipe_lasso\n"
     ]
    }
   ],
   "source": [
    "#def RMSE():\n",
    "# Printing the RMSE: root mean squared error\n",
    "print('Linear Regression', round(sqrt(mse(pipe_lr.predict(X_test),y_test)), 3))\n",
    "print('Ridge', round(sqrt(mse(pipe_ridge.predict(X_test),y_test)), 3))\n",
    "print('Lasso', round(sqrt(mse(pipe_lasso.predict(X_test),y_test)), 3))\n",
    "# Dictionary \n",
    "pipe_dict = {'pipe_lr':sqrt(mse(pipe_lr.predict(X_test),y_test))\n",
    "            , 'pipe_ridge':sqrt(mse(pipe_ridge.predict(X_test),y_test))\n",
    "            , 'pipe_lasso':sqrt(mse(pipe_lasso.predict(X_test),y_test))\n",
    "            }\n",
    "print('Smallest RMSE obtained using', min(pipe_dict, key=pipe_dict.get))\n",
    "    #return "
   ]
  },
  {
   "cell_type": "markdown",
   "metadata": {},
   "source": [
    "Choosing LASSO as the preferred choice. Next, we construct the learning curve."
   ]
  },
  {
   "cell_type": "code",
   "execution_count": 184,
   "metadata": {},
   "outputs": [
    {
     "name": "stderr",
     "output_type": "stream",
     "text": [
      "C:\\Users\\bjorn\\Anaconda3\\lib\\site-packages\\sklearn\\linear_model\\coordinate_descent.py:492: ConvergenceWarning: Objective did not converge. You might want to increase the number of iterations. Fitting data with very small alpha may cause precision problems.\n",
      "  ConvergenceWarning)\n",
      "C:\\Users\\bjorn\\Anaconda3\\lib\\site-packages\\sklearn\\linear_model\\coordinate_descent.py:492: ConvergenceWarning: Objective did not converge. You might want to increase the number of iterations. Fitting data with very small alpha may cause precision problems.\n",
      "  ConvergenceWarning)\n",
      "C:\\Users\\bjorn\\Anaconda3\\lib\\site-packages\\sklearn\\linear_model\\coordinate_descent.py:492: ConvergenceWarning: Objective did not converge. You might want to increase the number of iterations. Fitting data with very small alpha may cause precision problems.\n",
      "  ConvergenceWarning)\n",
      "C:\\Users\\bjorn\\Anaconda3\\lib\\site-packages\\sklearn\\linear_model\\coordinate_descent.py:492: ConvergenceWarning: Objective did not converge. You might want to increase the number of iterations. Fitting data with very small alpha may cause precision problems.\n",
      "  ConvergenceWarning)\n",
      "C:\\Users\\bjorn\\Anaconda3\\lib\\site-packages\\sklearn\\linear_model\\coordinate_descent.py:492: ConvergenceWarning: Objective did not converge. You might want to increase the number of iterations. Fitting data with very small alpha may cause precision problems.\n",
      "  ConvergenceWarning)\n",
      "C:\\Users\\bjorn\\Anaconda3\\lib\\site-packages\\sklearn\\linear_model\\coordinate_descent.py:492: ConvergenceWarning: Objective did not converge. You might want to increase the number of iterations. Fitting data with very small alpha may cause precision problems.\n",
      "  ConvergenceWarning)\n",
      "C:\\Users\\bjorn\\Anaconda3\\lib\\site-packages\\sklearn\\linear_model\\coordinate_descent.py:492: ConvergenceWarning: Objective did not converge. You might want to increase the number of iterations. Fitting data with very small alpha may cause precision problems.\n",
      "  ConvergenceWarning)\n",
      "C:\\Users\\bjorn\\Anaconda3\\lib\\site-packages\\sklearn\\linear_model\\coordinate_descent.py:492: ConvergenceWarning: Objective did not converge. You might want to increase the number of iterations. Fitting data with very small alpha may cause precision problems.\n",
      "  ConvergenceWarning)\n"
     ]
    }
   ],
   "source": [
    "#def LC_data(pipe_type):\n",
    "train_sizes, train_scores, test_scores = learning_curve(estimator=pipe_lasso,\n",
    "                   X=X_train,\n",
    "                   y=y_train,\n",
    "                   train_sizes=np.linspace(0.1, 1.0, 10),\n",
    "                   scoring='neg_mean_squared_error',                 \n",
    "                   cv=5)\n",
    "\n",
    "mse_ = pd.DataFrame({'Train':-train_scores.mean(axis=1),\n",
    "                     'Test':-test_scores.mean(axis=1)})\\\n",
    "        .set_index(pd.Index(train_sizes,name='sample size'))    \n",
    "    #return print(mse_.head())"
   ]
  },
  {
   "cell_type": "markdown",
   "metadata": {},
   "source": [
    "**Plotting the learning curve**"
   ]
  },
  {
   "cell_type": "code",
   "execution_count": 185,
   "metadata": {},
   "outputs": [
    {
     "data": {
      "image/png": "[encoded data removed]",
      "text/plain": [
       "<Figure size 720x288 with 1 Axes>"
      ]
     },
     "metadata": {
      "needs_background": "light"
     },
     "output_type": "display_data"
    }
   ],
   "source": [
    "#def LearningCurve():\n",
    "f_learn, ax = plt.subplots(figsize=(10,4))\n",
    "mse_.plot(ax=ax, logy=True)\n",
    "\n",
    "# Plotting 95% confidence band\n",
    "ax.fill_between(train_sizes,\n",
    "                -train_scores.mean(1) + train_scores.std(1)*1.96,\n",
    "                -train_scores.mean(1) - train_scores.std(1)*1.96, \n",
    "                alpha=0.1, \n",
    "                color='green')\n",
    "ax.set_ylabel('Mean squared error')\n",
    "\n",
    "f_learn.savefig(\"LearningCurve.png\")\n",
    "    #return plt.show()\n"
   ]
  },
  {
   "cell_type": "markdown",
   "metadata": {},
   "source": [
    "**CALLING THE FUNCTIONS**"
   ]
  },
  {
   "cell_type": "code",
   "execution_count": 186,
   "metadata": {},
   "outputs": [],
   "source": [
    "# # Bloomberg tweets\n",
    "# RMSE()\n",
    "# LC_data(pipe_lasso)\n",
    "# # Plotting learning curve\n",
    "# LearningCurve()\n"
   ]
  },
  {
   "cell_type": "markdown",
   "metadata": {},
   "source": [
    "### Classification"
   ]
  },
  {
   "cell_type": "markdown",
   "metadata": {},
   "source": [
    "Splitting while not disrupting the chronological order."
   ]
  },
  {
   "cell_type": "code",
   "execution_count": 190,
   "metadata": {},
   "outputs": [
    {
     "data": {
      "text/plain": [
       "<Figure size 432x288 with 0 Axes>"
      ]
     },
     "metadata": {},
     "output_type": "display_data"
    }
   ],
   "source": [
    "#def ClassificationSplit(dataframe, features):\n",
    "X = df_merge[features].values\n",
    "splits = TimeSeriesSplit(n_splits=10)\n",
    "pyplot.figure(1)\n",
    "index = 1\n",
    "for train_index, test_index in splits.split(X):\n",
    "    X_train = X[train_index]\n",
    "    X_test = X[test_index]\n",
    "\n",
    "Y = df_merge['bool'].values\n",
    "splits = TimeSeriesSplit(n_splits=10)\n",
    "# pyplot.figure(1)\n",
    "index = 1\n",
    "for train_index, test_index in splits.split(Y):\n",
    "    y_train = Y[train_index]\n",
    "    y_test = Y[test_index]\n",
    "#     print('Observations: %d' % (len(y_train) + len(y_test)))\n",
    "#     print('Training Observations: %d' % (len(y_train)))\n",
    "#     print('Testing Observations: %d' % (len(y_test)))\n",
    "#     pyplot.subplot(510 + index)\n",
    "#     pyplot.plot(y_train)\n",
    "#     pyplot.plot([None for i in y_train] + [x for x in y_test])\n",
    "#     index += 1\n",
    "# plt.show()\n",
    "# plt.savefig('Classification.png')\n",
    "    #return Classification(X_train, y_train, X_test, y_test)\n",
    "    "
   ]
  },
  {
   "cell_type": "code",
   "execution_count": 191,
   "metadata": {},
   "outputs": [
    {
     "name": "stdout",
     "output_type": "stream",
     "text": [
      "Prediction accuracy: 0.479\n",
      "Share of observations where the daily change is positive: 0.5001\n"
     ]
    }
   ],
   "source": [
    "#def Classification(X_train, y_train, X_test, y_test):\n",
    "#Classification tree: k-fold cross validation\n",
    "kfolds = TimeSeriesSplit(n_splits=10)\n",
    "est = np.unique(np.logspace(0,2,20).astype(np.int64))\n",
    "acc_tot=[]\n",
    "for n in est:\n",
    "\n",
    "    ran_clf=DecisionTreeClassifier(random_state=1)  \n",
    "    accuracy_ = []\n",
    "\n",
    "    for train_i, validation_i in kfolds.split(X_train, y_train):\n",
    "\n",
    "        X_train, y_train, = X_train, y_train\n",
    "        X_val, y_val = X_test, y_test \n",
    "\n",
    "        ran_clf.fit(X_train, y_train)\n",
    "\n",
    "        y_hat = ran_clf.predict(X_val)\n",
    "\n",
    "        accuracy_.append((accuracy_score(y_val, y_hat, normalize=True, sample_weight=None)))\n",
    "\n",
    "    acc_tot.append(accuracy_)\n",
    "\n",
    "# Calculating the mean of the MSE from the splits    \n",
    "meanACC_tot= pd.DataFrame(acc_tot, index=est).mean(axis=1)\n",
    "optimalACC_tot=meanACC_tot.nsmallest(1)\n",
    "print('Prediction accuracy:', round(optimalACC_tot[1],4))\n",
    "print('Share of observations where the daily change is positive:', \n",
    "      round(df_merge['bool'].sum()/df_merge['bool'].count(),4))"
   ]
  },
  {
   "cell_type": "code",
   "execution_count": null,
   "metadata": {},
   "outputs": [],
   "source": [
    "# Calling classification solver for all tweets\n",
    "#ClassificationSplit(FetchAll())"
   ]
  },
  {
   "cell_type": "code",
   "execution_count": null,
   "metadata": {},
   "outputs": [],
   "source": [
    "# Calling classification solver for bloomberg\n",
    "\n",
    "#ClassificationSplit(FetchBloom())"
   ]
  },
  {
   "cell_type": "markdown",
   "metadata": {},
   "source": [
    "### LOG FILE\n",
    "\n",
    "Visualizing our log file. "
   ]
  },
  {
   "cell_type": "code",
   "execution_count": 35,
   "metadata": {
    "scrolled": false
   },
   "outputs": [
    {
     "data": {
      "text/html": [
       "<div>\n",
       "<style scoped>\n",
       "    .dataframe tbody tr th:only-of-type {\n",
       "        vertical-align: middle;\n",
       "    }\n",
       "\n",
       "    .dataframe tbody tr th {\n",
       "        vertical-align: top;\n",
       "    }\n",
       "\n",
       "    .dataframe thead th {\n",
       "        text-align: right;\n",
       "    }\n",
       "</style>\n",
       "<table border=\"1\" class=\"dataframe\">\n",
       "  <thead>\n",
       "    <tr style=\"text-align: right;\">\n",
       "      <th></th>\n",
       "      <th>id</th>\n",
       "      <th>project</th>\n",
       "      <th>connector_type</th>\n",
       "      <th>t</th>\n",
       "      <th>delta_t</th>\n",
       "      <th>url</th>\n",
       "      <th>redirect_url</th>\n",
       "      <th>response_size</th>\n",
       "      <th>response_code</th>\n",
       "      <th>success</th>\n",
       "      <th>error</th>\n",
       "    </tr>\n",
       "  </thead>\n",
       "  <tbody>\n",
       "    <tr>\n",
       "      <th>0</th>\n",
       "      <td>0</td>\n",
       "      <td>Tweets</td>\n",
       "      <td>requests</td>\n",
       "      <td>1.566393e+09</td>\n",
       "      <td>-0.932110</td>\n",
       "      <td>http://www.trumptwitterarchive.com/data/realdo...</td>\n",
       "      <td>http://www.trumptwitterarchive.com/data/realdo...</td>\n",
       "      <td>949464.0</td>\n",
       "      <td>200.0</td>\n",
       "      <td>True</td>\n",
       "      <td>NaN</td>\n",
       "    </tr>\n",
       "    <tr>\n",
       "      <th>1</th>\n",
       "      <td>1</td>\n",
       "      <td>Tweets</td>\n",
       "      <td>requests</td>\n",
       "      <td>1.566393e+09</td>\n",
       "      <td>-1.141220</td>\n",
       "      <td>http://www.trumptwitterarchive.com/data/realdo...</td>\n",
       "      <td>http://www.trumptwitterarchive.com/data/realdo...</td>\n",
       "      <td>949464.0</td>\n",
       "      <td>200.0</td>\n",
       "      <td>True</td>\n",
       "      <td>NaN</td>\n",
       "    </tr>\n",
       "    <tr>\n",
       "      <th>2</th>\n",
       "      <td>2</td>\n",
       "      <td>Tweets</td>\n",
       "      <td>requests</td>\n",
       "      <td>1.566393e+09</td>\n",
       "      <td>-1.049747</td>\n",
       "      <td>http://www.trumptwitterarchive.com/data/realdo...</td>\n",
       "      <td>http://www.trumptwitterarchive.com/data/realdo...</td>\n",
       "      <td>949464.0</td>\n",
       "      <td>200.0</td>\n",
       "      <td>True</td>\n",
       "      <td>NaN</td>\n",
       "    </tr>\n",
       "    <tr>\n",
       "      <th>3</th>\n",
       "      <td>3</td>\n",
       "      <td>Tweets</td>\n",
       "      <td>requests</td>\n",
       "      <td>1.566393e+09</td>\n",
       "      <td>-0.901495</td>\n",
       "      <td>http://www.trumptwitterarchive.com/data/realdo...</td>\n",
       "      <td>http://www.trumptwitterarchive.com/data/realdo...</td>\n",
       "      <td>949464.0</td>\n",
       "      <td>200.0</td>\n",
       "      <td>True</td>\n",
       "      <td>NaN</td>\n",
       "    </tr>\n",
       "    <tr>\n",
       "      <th>4</th>\n",
       "      <td>4</td>\n",
       "      <td>Tweets</td>\n",
       "      <td>requests</td>\n",
       "      <td>1.566393e+09</td>\n",
       "      <td>-2.185984</td>\n",
       "      <td>http://www.trumptwitterarchive.com/data/realdo...</td>\n",
       "      <td>http://www.trumptwitterarchive.com/data/realdo...</td>\n",
       "      <td>949464.0</td>\n",
       "      <td>200.0</td>\n",
       "      <td>True</td>\n",
       "      <td>NaN</td>\n",
       "    </tr>\n",
       "    <tr>\n",
       "      <th>5</th>\n",
       "      <td>5</td>\n",
       "      <td>Tweets</td>\n",
       "      <td>requests</td>\n",
       "      <td>1.566393e+09</td>\n",
       "      <td>-0.992326</td>\n",
       "      <td>http://www.trumptwitterarchive.com/data/realdo...</td>\n",
       "      <td>http://www.trumptwitterarchive.com/data/realdo...</td>\n",
       "      <td>949464.0</td>\n",
       "      <td>200.0</td>\n",
       "      <td>True</td>\n",
       "      <td>NaN</td>\n",
       "    </tr>\n",
       "    <tr>\n",
       "      <th>6</th>\n",
       "      <td>6</td>\n",
       "      <td>Tweets</td>\n",
       "      <td>requests</td>\n",
       "      <td>1.566393e+09</td>\n",
       "      <td>-0.983876</td>\n",
       "      <td>http://www.trumptwitterarchive.com/data/realdo...</td>\n",
       "      <td>http://www.trumptwitterarchive.com/data/realdo...</td>\n",
       "      <td>949464.0</td>\n",
       "      <td>200.0</td>\n",
       "      <td>True</td>\n",
       "      <td>NaN</td>\n",
       "    </tr>\n",
       "    <tr>\n",
       "      <th>7</th>\n",
       "      <td>7</td>\n",
       "      <td>Tweets</td>\n",
       "      <td>requests</td>\n",
       "      <td>1.566393e+09</td>\n",
       "      <td>-0.850696</td>\n",
       "      <td>http://www.trumptwitterarchive.com/data/realdo...</td>\n",
       "      <td>http://www.trumptwitterarchive.com/data/realdo...</td>\n",
       "      <td>1482466.0</td>\n",
       "      <td>200.0</td>\n",
       "      <td>True</td>\n",
       "      <td>NaN</td>\n",
       "    </tr>\n",
       "    <tr>\n",
       "      <th>8</th>\n",
       "      <td>8</td>\n",
       "      <td>Tweets</td>\n",
       "      <td>requests</td>\n",
       "      <td>1.566393e+09</td>\n",
       "      <td>-1.265802</td>\n",
       "      <td>http://www.trumptwitterarchive.com/data/realdo...</td>\n",
       "      <td>http://www.trumptwitterarchive.com/data/realdo...</td>\n",
       "      <td>949464.0</td>\n",
       "      <td>200.0</td>\n",
       "      <td>True</td>\n",
       "      <td>NaN</td>\n",
       "    </tr>\n",
       "    <tr>\n",
       "      <th>9</th>\n",
       "      <td>9</td>\n",
       "      <td>Tweets</td>\n",
       "      <td>requests</td>\n",
       "      <td>1.566393e+09</td>\n",
       "      <td>-1.270099</td>\n",
       "      <td>http://www.trumptwitterarchive.com/data/realdo...</td>\n",
       "      <td>http://www.trumptwitterarchive.com/data/realdo...</td>\n",
       "      <td>949464.0</td>\n",
       "      <td>200.0</td>\n",
       "      <td>True</td>\n",
       "      <td>NaN</td>\n",
       "    </tr>\n",
       "  </tbody>\n",
       "</table>\n",
       "</div>"
      ],
      "text/plain": [
       "  id project connector_type             t   delta_t  \\\n",
       "0  0  Tweets       requests  1.566393e+09 -0.932110   \n",
       "1  1  Tweets       requests  1.566393e+09 -1.141220   \n",
       "2  2  Tweets       requests  1.566393e+09 -1.049747   \n",
       "3  3  Tweets       requests  1.566393e+09 -0.901495   \n",
       "4  4  Tweets       requests  1.566393e+09 -2.185984   \n",
       "5  5  Tweets       requests  1.566393e+09 -0.992326   \n",
       "6  6  Tweets       requests  1.566393e+09 -0.983876   \n",
       "7  7  Tweets       requests  1.566393e+09 -0.850696   \n",
       "8  8  Tweets       requests  1.566393e+09 -1.265802   \n",
       "9  9  Tweets       requests  1.566393e+09 -1.270099   \n",
       "\n",
       "                                                 url  \\\n",
       "0  http://www.trumptwitterarchive.com/data/realdo...   \n",
       "1  http://www.trumptwitterarchive.com/data/realdo...   \n",
       "2  http://www.trumptwitterarchive.com/data/realdo...   \n",
       "3  http://www.trumptwitterarchive.com/data/realdo...   \n",
       "4  http://www.trumptwitterarchive.com/data/realdo...   \n",
       "5  http://www.trumptwitterarchive.com/data/realdo...   \n",
       "6  http://www.trumptwitterarchive.com/data/realdo...   \n",
       "7  http://www.trumptwitterarchive.com/data/realdo...   \n",
       "8  http://www.trumptwitterarchive.com/data/realdo...   \n",
       "9  http://www.trumptwitterarchive.com/data/realdo...   \n",
       "\n",
       "                                        redirect_url  response_size  \\\n",
       "0  http://www.trumptwitterarchive.com/data/realdo...       949464.0   \n",
       "1  http://www.trumptwitterarchive.com/data/realdo...       949464.0   \n",
       "2  http://www.trumptwitterarchive.com/data/realdo...       949464.0   \n",
       "3  http://www.trumptwitterarchive.com/data/realdo...       949464.0   \n",
       "4  http://www.trumptwitterarchive.com/data/realdo...       949464.0   \n",
       "5  http://www.trumptwitterarchive.com/data/realdo...       949464.0   \n",
       "6  http://www.trumptwitterarchive.com/data/realdo...       949464.0   \n",
       "7  http://www.trumptwitterarchive.com/data/realdo...      1482466.0   \n",
       "8  http://www.trumptwitterarchive.com/data/realdo...       949464.0   \n",
       "9  http://www.trumptwitterarchive.com/data/realdo...       949464.0   \n",
       "\n",
       "   response_code success  error  \n",
       "0          200.0    True    NaN  \n",
       "1          200.0    True    NaN  \n",
       "2          200.0    True    NaN  \n",
       "3          200.0    True    NaN  \n",
       "4          200.0    True    NaN  \n",
       "5          200.0    True    NaN  \n",
       "6          200.0    True    NaN  \n",
       "7          200.0    True    NaN  \n",
       "8          200.0    True    NaN  \n",
       "9          200.0    True    NaN  "
      ]
     },
     "metadata": {},
     "output_type": "display_data"
    },
    {
     "data": {
      "image/png": "[encoded data removed]",
      "text/plain": [
       "<Figure size 1080x288 with 1 Axes>"
      ]
     },
     "metadata": {
      "needs_background": "light"
     },
     "output_type": "display_data"
    },
    {
     "data": {
      "image/png": "[encoded data removed]",
      "text/plain": [
       "<Figure size 1080x288 with 1 Axes>"
      ]
     },
     "metadata": {
      "needs_background": "light"
     },
     "output_type": "display_data"
    }
   ],
   "source": [
    "import datetime\n",
    "log_df = pd.read_csv('my_log.csv',sep=';') # loading the log, separated by \";\"\n",
    "log_df = log_df[0:10].copy()\n",
    "display(log_df)\n",
    "#dt = log_df.dt.values[0] # get datetime values\n",
    "\n",
    "log_df['dt'] = log_df.t.apply(datetime.datetime.fromtimestamp)\n",
    "log_df['dt'] = pd.to_datetime(log_df.t,unit='s') # Convert the time column 't' to datetime \n",
    "\n",
    "plt.figure(figsize=(15,4))\n",
    "plt.plot(log_df.dt,log_df.delta_t)\n",
    "plt.ylabel('Delta t')\n",
    "plt.xlabel('Scraping progress')\n",
    "plt.savefig('LogGraphTime.png')\n",
    "\n",
    "# Plot the response size over time.\n",
    "plt.figure(figsize=(15,4))\n",
    "plt.ylabel('Size of response')\n",
    "plt.xlabel('Scraping progress')\n",
    "plt.plot(log_df.dt,log_df.response_size)\n",
    "\n",
    "## Investigate errors\n",
    "log_df.success.value_counts() ## Count errors\n",
    "## Groupby time\n",
    "# round the time for aggregation\n",
    "log_df['dt_minute'] = log_df.dt.apply(lambda x: x-datetime.timedelta(seconds=x.second,microseconds=x.microsecond))\n",
    "#log_df['dt_hour'] = log_df.dt.apply(lambda x: x-datetime.timedelta(minutes=x.minute,seconds=x.second,microseconds=x.microsecond))\n",
    "#log_df.groupby('dt_hour').success.mean()\n",
    "plt.savefig('LogGraph.png')"
   ]
  },
  {
   "cell_type": "markdown",
   "metadata": {},
   "source": [
    "THE END"
   ]
  }
 ],
 "metadata": {
  "kernelspec": {
   "display_name": "Python 3",
   "language": "python",
   "name": "python3"
  },
  "language_info": {
   "codemirror_mode": {
    "name": "ipython",
    "version": 3
   },
   "file_extension": ".py",
   "mimetype": "text/x-python",
   "name": "python",
   "nbconvert_exporter": "python",
   "pygments_lexer": "ipython3",
   "version": "3.7.3"
  }
 },
 "nbformat": 4,
 "nbformat_minor": 2
}
