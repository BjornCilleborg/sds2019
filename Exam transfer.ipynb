{
 "cells": [
  {
   "cell_type": "markdown",
   "metadata": {},
   "source": []
  },
  {
   "cell_type": "code",
   "execution_count": null,
   "metadata": {},
   "outputs": [],
   "source": [
    "#design the url so it contains the dates, the rates and the base\n",
    "url = 'https://api.exchangeratesapi.io/history?start_at=2017-01-20&end_at=2019-08-20&symbols=EUR,GBP,CNY,MXN&base=USD'\n",
    "connector = Connector('currency_log.csv')\n",
    "response, call_id = connector.get(url,'data_collection')\n",
    "r_json = response.json()\n",
    "df = pd.DataFrame(r_json)\n",
    "\n",
    "currency = r_json['rates'] #extract the dictionary called rates and store it in a new variable\n",
    "\n",
    "CNY = []\n",
    "EUR = []\n",
    "GBP = []\n",
    "MXN = []\n",
    "for i in dates_final: #Extract the exchange rate values\n",
    "    CNY.append(currency[i]['CNY'])\n",
    "    EUR.append(currency[i]['EUR'])\n",
    "    GBP.append(currency[i]['GBP'])\n",
    "    MXN.append(currency[i]['MXN'])\n",
    "\n",
    "dates = []\n",
    "for key, value in currency.items():\n",
    "    dates.append(key)\n",
    "final_dates = sorted(dates,reverse=False) #sort the dates \n",
    "\n",
    "currency_df = pd.DataFrame({'Dates':dates_final,'EUR':EUR,'GBP':GBP,'CNY':CNY,'MXN':MXN}) #store the data in a DataFrame\n",
    "currency_df.head()\n",
    "currency_df.to_csv(r'/path/filename.csv')"
   ]
  },
  {
   "cell_type": "code",
   "execution_count": null,
   "metadata": {},
   "outputs": [],
   "source": [
    "import matplotlib.pyplot as plt\n",
    "import pandas as pd\n",
    "fig, ax = plt.subplots(figsize=(10,4))\n",
    "ax.set_xlim([0,60])\n",
    "ax.set_ylim([0.6,1])\n",
    "\n",
    "plt.title('EUR & GBP exchange rates with regards to the Euro from 2017 to 2019')\n",
    "plt.tight_layout() #prevents cutting off labels\n",
    "#plt.axvline(x='2018-03-02')\n",
    "#ax.xaxis.set_ticks_position('none') #remove ticks from axis\n",
    "#ax.xaxis.label.set_visible(False) #remove axis label\n",
    "\n",
    "currency_df.plot(kind='line',x='Dates',y='EUR', color='green', ax=ax)\n",
    "currency_df.plot(kind='line',x='Dates',y='GBP', color='blue', ax=ax)"
   ]
  },
  {
   "cell_type": "markdown",
   "metadata": {},
   "source": [
    "# Dow Jones and S&P 500"
   ]
  },
  {
   "cell_type": "code",
   "execution_count": null,
   "metadata": {},
   "outputs": [],
   "source": [
    "url1 = 'https://www.alphavantage.co/query?function=TIME_SERIES_DAILY&symbol=^DJI&outputsize=full&apikey='\n",
    "url2 = 'https://www.alphavantage.co/query?function=TIME_SERIES_DAILY&symbol=SPX&outputsize=full&apikey='\n",
    "api_key = 'Z6OIONR9OK9RAHMX'\n",
    "response_dji = requests.get(url1+api_key)\n",
    "dji_json = response_dji.json()\n",
    "sp_json = response_sp.json()\n",
    "\n",
    "dji_daily = dji_json['Time Series (Daily)']\n",
    "sp_daily = sp_json['Time Series (Daily)']\n",
    "dates = []\n",
    "dji_open_value = []\n",
    "dji_close_value = []\n",
    "sp_open_value = []\n",
    "sp_close_value = []\n",
    "for key, value in dji_daily.items():\n",
    "    dates.append(key)\n",
    "for i in dates:\n",
    "    dji_open_value.append(dji_daily[i]['1. open'])\n",
    "    dji_close_value.append(dji_daily[i]['4. close'])\n",
    "    sp_open_value.append(sp_daily[i]['1. open'])\n",
    "    sp_close_value.append(sp_daily[i]['4. close'])\n",
    "\n",
    "stock_index = pd.DataFrame({'Dates':dates,'Dow Jones opening value':dji_open_value,'Dow Jones closing value':dji_close_value,'S&P 500 opening value':sp_open_value,'S&P 500 closing value':sp_close_value})"
   ]
  }
 ],
 "metadata": {
  "kernelspec": {
   "display_name": "Python 3",
   "language": "python",
   "name": "python3"
  },
  "language_info": {
   "codemirror_mode": {
    "name": "ipython",
    "version": 3
   },
   "file_extension": ".py",
   "mimetype": "text/x-python",
   "name": "python",
   "nbconvert_exporter": "python",
   "pygments_lexer": "ipython3",
   "version": "3.7.3"
  }
 },
 "nbformat": 4,
 "nbformat_minor": 2
}
